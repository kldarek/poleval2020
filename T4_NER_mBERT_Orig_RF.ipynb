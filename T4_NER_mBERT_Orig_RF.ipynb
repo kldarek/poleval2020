{
  "nbformat": 4,
  "nbformat_minor": 0,
  "metadata": {
    "colab": {
      "name": "T4-NER-mBERT-Orig-RF.ipynb",
      "provenance": [],
      "collapsed_sections": [
        "Bwnm7iOXg-0A",
        "4aoBT_ta6wJv",
        "JN1Y9Tc1f38r",
        "UnPxMrvNgYKC",
        "e7rau7nSCTr1",
        "nl6rWqD4gk6e",
        "mbrgsGlRgq0n",
        "RFodMKw8I9Fg",
        "hzRSM2eoJR_p",
        "TYvwR7TA88Rg",
        "kTupVHEZTS2Z"
      ],
      "machine_shape": "hm"
    },
    "kernelspec": {
      "name": "python3",
      "display_name": "Python 3"
    },
    "widgets": {
      "application/vnd.jupyter.widget-state+json": {
        "3963cf4895594d8ea7bf464fadd87f28": {
          "model_module": "@jupyter-widgets/controls",
          "model_name": "HBoxModel",
          "state": {
            "_view_name": "HBoxView",
            "_dom_classes": [],
            "_model_name": "HBoxModel",
            "_view_module": "@jupyter-widgets/controls",
            "_model_module_version": "1.5.0",
            "_view_count": null,
            "_view_module_version": "1.5.0",
            "box_style": "",
            "layout": "IPY_MODEL_8be7bdb6ab7343318118105e6b1a1324",
            "_model_module": "@jupyter-widgets/controls",
            "children": [
              "IPY_MODEL_2e2e37c5d92d4e9492c9d2d04f462696",
              "IPY_MODEL_5b688a7b7e8741d9986b5ddc2e94d73a"
            ]
          }
        },
        "8be7bdb6ab7343318118105e6b1a1324": {
          "model_module": "@jupyter-widgets/base",
          "model_name": "LayoutModel",
          "state": {
            "_view_name": "LayoutView",
            "grid_template_rows": null,
            "right": null,
            "justify_content": null,
            "_view_module": "@jupyter-widgets/base",
            "overflow": null,
            "_model_module_version": "1.2.0",
            "_view_count": null,
            "flex_flow": null,
            "width": null,
            "min_width": null,
            "border": null,
            "align_items": null,
            "bottom": null,
            "_model_module": "@jupyter-widgets/base",
            "top": null,
            "grid_column": null,
            "overflow_y": null,
            "overflow_x": null,
            "grid_auto_flow": null,
            "grid_area": null,
            "grid_template_columns": null,
            "flex": null,
            "_model_name": "LayoutModel",
            "justify_items": null,
            "grid_row": null,
            "max_height": null,
            "align_content": null,
            "visibility": null,
            "align_self": null,
            "height": null,
            "min_height": null,
            "padding": null,
            "grid_auto_rows": null,
            "grid_gap": null,
            "max_width": null,
            "order": null,
            "_view_module_version": "1.2.0",
            "grid_template_areas": null,
            "object_position": null,
            "object_fit": null,
            "grid_auto_columns": null,
            "margin": null,
            "display": null,
            "left": null
          }
        },
        "2e2e37c5d92d4e9492c9d2d04f462696": {
          "model_module": "@jupyter-widgets/controls",
          "model_name": "FloatProgressModel",
          "state": {
            "_view_name": "ProgressView",
            "style": "IPY_MODEL_7a8f3673127d4c4dafe1344fbcf9665e",
            "_dom_classes": [],
            "description": "Downloading: 100%",
            "_model_name": "FloatProgressModel",
            "bar_style": "success",
            "max": 995526,
            "_view_module": "@jupyter-widgets/controls",
            "_model_module_version": "1.5.0",
            "value": 995526,
            "_view_count": null,
            "_view_module_version": "1.5.0",
            "orientation": "horizontal",
            "min": 0,
            "description_tooltip": null,
            "_model_module": "@jupyter-widgets/controls",
            "layout": "IPY_MODEL_498e976ba3314f538671d0853ff08463"
          }
        },
        "5b688a7b7e8741d9986b5ddc2e94d73a": {
          "model_module": "@jupyter-widgets/controls",
          "model_name": "HTMLModel",
          "state": {
            "_view_name": "HTMLView",
            "style": "IPY_MODEL_aede5005bd6c417c87b4d7bac19c44e7",
            "_dom_classes": [],
            "description": "",
            "_model_name": "HTMLModel",
            "placeholder": "​",
            "_view_module": "@jupyter-widgets/controls",
            "_model_module_version": "1.5.0",
            "value": " 996k/996k [00:00&lt;00:00, 5.52MB/s]",
            "_view_count": null,
            "_view_module_version": "1.5.0",
            "description_tooltip": null,
            "_model_module": "@jupyter-widgets/controls",
            "layout": "IPY_MODEL_4d74a4e6b5174bab9616b4a32c517c21"
          }
        },
        "7a8f3673127d4c4dafe1344fbcf9665e": {
          "model_module": "@jupyter-widgets/controls",
          "model_name": "ProgressStyleModel",
          "state": {
            "_view_name": "StyleView",
            "_model_name": "ProgressStyleModel",
            "description_width": "initial",
            "_view_module": "@jupyter-widgets/base",
            "_model_module_version": "1.5.0",
            "_view_count": null,
            "_view_module_version": "1.2.0",
            "bar_color": null,
            "_model_module": "@jupyter-widgets/controls"
          }
        },
        "498e976ba3314f538671d0853ff08463": {
          "model_module": "@jupyter-widgets/base",
          "model_name": "LayoutModel",
          "state": {
            "_view_name": "LayoutView",
            "grid_template_rows": null,
            "right": null,
            "justify_content": null,
            "_view_module": "@jupyter-widgets/base",
            "overflow": null,
            "_model_module_version": "1.2.0",
            "_view_count": null,
            "flex_flow": null,
            "width": null,
            "min_width": null,
            "border": null,
            "align_items": null,
            "bottom": null,
            "_model_module": "@jupyter-widgets/base",
            "top": null,
            "grid_column": null,
            "overflow_y": null,
            "overflow_x": null,
            "grid_auto_flow": null,
            "grid_area": null,
            "grid_template_columns": null,
            "flex": null,
            "_model_name": "LayoutModel",
            "justify_items": null,
            "grid_row": null,
            "max_height": null,
            "align_content": null,
            "visibility": null,
            "align_self": null,
            "height": null,
            "min_height": null,
            "padding": null,
            "grid_auto_rows": null,
            "grid_gap": null,
            "max_width": null,
            "order": null,
            "_view_module_version": "1.2.0",
            "grid_template_areas": null,
            "object_position": null,
            "object_fit": null,
            "grid_auto_columns": null,
            "margin": null,
            "display": null,
            "left": null
          }
        },
        "aede5005bd6c417c87b4d7bac19c44e7": {
          "model_module": "@jupyter-widgets/controls",
          "model_name": "DescriptionStyleModel",
          "state": {
            "_view_name": "StyleView",
            "_model_name": "DescriptionStyleModel",
            "description_width": "",
            "_view_module": "@jupyter-widgets/base",
            "_model_module_version": "1.5.0",
            "_view_count": null,
            "_view_module_version": "1.2.0",
            "_model_module": "@jupyter-widgets/controls"
          }
        },
        "4d74a4e6b5174bab9616b4a32c517c21": {
          "model_module": "@jupyter-widgets/base",
          "model_name": "LayoutModel",
          "state": {
            "_view_name": "LayoutView",
            "grid_template_rows": null,
            "right": null,
            "justify_content": null,
            "_view_module": "@jupyter-widgets/base",
            "overflow": null,
            "_model_module_version": "1.2.0",
            "_view_count": null,
            "flex_flow": null,
            "width": null,
            "min_width": null,
            "border": null,
            "align_items": null,
            "bottom": null,
            "_model_module": "@jupyter-widgets/base",
            "top": null,
            "grid_column": null,
            "overflow_y": null,
            "overflow_x": null,
            "grid_auto_flow": null,
            "grid_area": null,
            "grid_template_columns": null,
            "flex": null,
            "_model_name": "LayoutModel",
            "justify_items": null,
            "grid_row": null,
            "max_height": null,
            "align_content": null,
            "visibility": null,
            "align_self": null,
            "height": null,
            "min_height": null,
            "padding": null,
            "grid_auto_rows": null,
            "grid_gap": null,
            "max_width": null,
            "order": null,
            "_view_module_version": "1.2.0",
            "grid_template_areas": null,
            "object_position": null,
            "object_fit": null,
            "grid_auto_columns": null,
            "margin": null,
            "display": null,
            "left": null
          }
        },
        "999d3718d1594f58978e4c0eebf581fb": {
          "model_module": "@jupyter-widgets/controls",
          "model_name": "HBoxModel",
          "state": {
            "_view_name": "HBoxView",
            "_dom_classes": [],
            "_model_name": "HBoxModel",
            "_view_module": "@jupyter-widgets/controls",
            "_model_module_version": "1.5.0",
            "_view_count": null,
            "_view_module_version": "1.5.0",
            "box_style": "",
            "layout": "IPY_MODEL_e58c4a99089b48f59b09aaa19da68ed7",
            "_model_module": "@jupyter-widgets/controls",
            "children": [
              "IPY_MODEL_561a8d9c21e7408aad5a205e9a5fde93",
              "IPY_MODEL_db875eaedb4849f39a1f01e9128c39b3"
            ]
          }
        },
        "e58c4a99089b48f59b09aaa19da68ed7": {
          "model_module": "@jupyter-widgets/base",
          "model_name": "LayoutModel",
          "state": {
            "_view_name": "LayoutView",
            "grid_template_rows": null,
            "right": null,
            "justify_content": null,
            "_view_module": "@jupyter-widgets/base",
            "overflow": null,
            "_model_module_version": "1.2.0",
            "_view_count": null,
            "flex_flow": null,
            "width": null,
            "min_width": null,
            "border": null,
            "align_items": null,
            "bottom": null,
            "_model_module": "@jupyter-widgets/base",
            "top": null,
            "grid_column": null,
            "overflow_y": null,
            "overflow_x": null,
            "grid_auto_flow": null,
            "grid_area": null,
            "grid_template_columns": null,
            "flex": null,
            "_model_name": "LayoutModel",
            "justify_items": null,
            "grid_row": null,
            "max_height": null,
            "align_content": null,
            "visibility": null,
            "align_self": null,
            "height": null,
            "min_height": null,
            "padding": null,
            "grid_auto_rows": null,
            "grid_gap": null,
            "max_width": null,
            "order": null,
            "_view_module_version": "1.2.0",
            "grid_template_areas": null,
            "object_position": null,
            "object_fit": null,
            "grid_auto_columns": null,
            "margin": null,
            "display": null,
            "left": null
          }
        },
        "561a8d9c21e7408aad5a205e9a5fde93": {
          "model_module": "@jupyter-widgets/controls",
          "model_name": "FloatProgressModel",
          "state": {
            "_view_name": "ProgressView",
            "style": "IPY_MODEL_d28f5d8bd4a84f5f8dd044eda7a66093",
            "_dom_classes": [],
            "description": "100%",
            "_model_name": "FloatProgressModel",
            "bar_style": "success",
            "max": 555,
            "_view_module": "@jupyter-widgets/controls",
            "_model_module_version": "1.5.0",
            "value": 555,
            "_view_count": null,
            "_view_module_version": "1.5.0",
            "orientation": "horizontal",
            "min": 0,
            "description_tooltip": null,
            "_model_module": "@jupyter-widgets/controls",
            "layout": "IPY_MODEL_98d59e54414248039cdaacca51230bca"
          }
        },
        "db875eaedb4849f39a1f01e9128c39b3": {
          "model_module": "@jupyter-widgets/controls",
          "model_name": "HTMLModel",
          "state": {
            "_view_name": "HTMLView",
            "style": "IPY_MODEL_bed950a43e8e4560ac5e2529e216b0ea",
            "_dom_classes": [],
            "description": "",
            "_model_name": "HTMLModel",
            "placeholder": "​",
            "_view_module": "@jupyter-widgets/controls",
            "_model_module_version": "1.5.0",
            "value": " 555/555 [18:30&lt;00:00,  2.00s/it]",
            "_view_count": null,
            "_view_module_version": "1.5.0",
            "description_tooltip": null,
            "_model_module": "@jupyter-widgets/controls",
            "layout": "IPY_MODEL_bb6c01f8506f40c3b1cadf6bdeeb2e82"
          }
        },
        "d28f5d8bd4a84f5f8dd044eda7a66093": {
          "model_module": "@jupyter-widgets/controls",
          "model_name": "ProgressStyleModel",
          "state": {
            "_view_name": "StyleView",
            "_model_name": "ProgressStyleModel",
            "description_width": "initial",
            "_view_module": "@jupyter-widgets/base",
            "_model_module_version": "1.5.0",
            "_view_count": null,
            "_view_module_version": "1.2.0",
            "bar_color": null,
            "_model_module": "@jupyter-widgets/controls"
          }
        },
        "98d59e54414248039cdaacca51230bca": {
          "model_module": "@jupyter-widgets/base",
          "model_name": "LayoutModel",
          "state": {
            "_view_name": "LayoutView",
            "grid_template_rows": null,
            "right": null,
            "justify_content": null,
            "_view_module": "@jupyter-widgets/base",
            "overflow": null,
            "_model_module_version": "1.2.0",
            "_view_count": null,
            "flex_flow": null,
            "width": null,
            "min_width": null,
            "border": null,
            "align_items": null,
            "bottom": null,
            "_model_module": "@jupyter-widgets/base",
            "top": null,
            "grid_column": null,
            "overflow_y": null,
            "overflow_x": null,
            "grid_auto_flow": null,
            "grid_area": null,
            "grid_template_columns": null,
            "flex": null,
            "_model_name": "LayoutModel",
            "justify_items": null,
            "grid_row": null,
            "max_height": null,
            "align_content": null,
            "visibility": null,
            "align_self": null,
            "height": null,
            "min_height": null,
            "padding": null,
            "grid_auto_rows": null,
            "grid_gap": null,
            "max_width": null,
            "order": null,
            "_view_module_version": "1.2.0",
            "grid_template_areas": null,
            "object_position": null,
            "object_fit": null,
            "grid_auto_columns": null,
            "margin": null,
            "display": null,
            "left": null
          }
        },
        "bed950a43e8e4560ac5e2529e216b0ea": {
          "model_module": "@jupyter-widgets/controls",
          "model_name": "DescriptionStyleModel",
          "state": {
            "_view_name": "StyleView",
            "_model_name": "DescriptionStyleModel",
            "description_width": "",
            "_view_module": "@jupyter-widgets/base",
            "_model_module_version": "1.5.0",
            "_view_count": null,
            "_view_module_version": "1.2.0",
            "_model_module": "@jupyter-widgets/controls"
          }
        },
        "bb6c01f8506f40c3b1cadf6bdeeb2e82": {
          "model_module": "@jupyter-widgets/base",
          "model_name": "LayoutModel",
          "state": {
            "_view_name": "LayoutView",
            "grid_template_rows": null,
            "right": null,
            "justify_content": null,
            "_view_module": "@jupyter-widgets/base",
            "overflow": null,
            "_model_module_version": "1.2.0",
            "_view_count": null,
            "flex_flow": null,
            "width": null,
            "min_width": null,
            "border": null,
            "align_items": null,
            "bottom": null,
            "_model_module": "@jupyter-widgets/base",
            "top": null,
            "grid_column": null,
            "overflow_y": null,
            "overflow_x": null,
            "grid_auto_flow": null,
            "grid_area": null,
            "grid_template_columns": null,
            "flex": null,
            "_model_name": "LayoutModel",
            "justify_items": null,
            "grid_row": null,
            "max_height": null,
            "align_content": null,
            "visibility": null,
            "align_self": null,
            "height": null,
            "min_height": null,
            "padding": null,
            "grid_auto_rows": null,
            "grid_gap": null,
            "max_width": null,
            "order": null,
            "_view_module_version": "1.2.0",
            "grid_template_areas": null,
            "object_position": null,
            "object_fit": null,
            "grid_auto_columns": null,
            "margin": null,
            "display": null,
            "left": null
          }
        },
        "1eeefdfcd62042a9af5237c65c1b8782": {
          "model_module": "@jupyter-widgets/controls",
          "model_name": "HBoxModel",
          "state": {
            "_view_name": "HBoxView",
            "_dom_classes": [],
            "_model_name": "HBoxModel",
            "_view_module": "@jupyter-widgets/controls",
            "_model_module_version": "1.5.0",
            "_view_count": null,
            "_view_module_version": "1.5.0",
            "box_style": "",
            "layout": "IPY_MODEL_07c975c40a0f412fa442b05b78efb702",
            "_model_module": "@jupyter-widgets/controls",
            "children": [
              "IPY_MODEL_9b249d1e2bbb4187b85223ddd9e339ae",
              "IPY_MODEL_9f5e06721eb14815932a09e7158b1a0c"
            ]
          }
        },
        "07c975c40a0f412fa442b05b78efb702": {
          "model_module": "@jupyter-widgets/base",
          "model_name": "LayoutModel",
          "state": {
            "_view_name": "LayoutView",
            "grid_template_rows": null,
            "right": null,
            "justify_content": null,
            "_view_module": "@jupyter-widgets/base",
            "overflow": null,
            "_model_module_version": "1.2.0",
            "_view_count": null,
            "flex_flow": null,
            "width": null,
            "min_width": null,
            "border": null,
            "align_items": null,
            "bottom": null,
            "_model_module": "@jupyter-widgets/base",
            "top": null,
            "grid_column": null,
            "overflow_y": null,
            "overflow_x": null,
            "grid_auto_flow": null,
            "grid_area": null,
            "grid_template_columns": null,
            "flex": null,
            "_model_name": "LayoutModel",
            "justify_items": null,
            "grid_row": null,
            "max_height": null,
            "align_content": null,
            "visibility": null,
            "align_self": null,
            "height": null,
            "min_height": null,
            "padding": null,
            "grid_auto_rows": null,
            "grid_gap": null,
            "max_width": null,
            "order": null,
            "_view_module_version": "1.2.0",
            "grid_template_areas": null,
            "object_position": null,
            "object_fit": null,
            "grid_auto_columns": null,
            "margin": null,
            "display": null,
            "left": null
          }
        },
        "9b249d1e2bbb4187b85223ddd9e339ae": {
          "model_module": "@jupyter-widgets/controls",
          "model_name": "FloatProgressModel",
          "state": {
            "_view_name": "ProgressView",
            "style": "IPY_MODEL_93627ee4b7e242dfbad4c90c79d83837",
            "_dom_classes": [],
            "description": "100%",
            "_model_name": "FloatProgressModel",
            "bar_style": "success",
            "max": 555,
            "_view_module": "@jupyter-widgets/controls",
            "_model_module_version": "1.5.0",
            "value": 555,
            "_view_count": null,
            "_view_module_version": "1.5.0",
            "orientation": "horizontal",
            "min": 0,
            "description_tooltip": null,
            "_model_module": "@jupyter-widgets/controls",
            "layout": "IPY_MODEL_1ecf62eb0953410183b78d673e0de017"
          }
        },
        "9f5e06721eb14815932a09e7158b1a0c": {
          "model_module": "@jupyter-widgets/controls",
          "model_name": "HTMLModel",
          "state": {
            "_view_name": "HTMLView",
            "style": "IPY_MODEL_b5a87768f8a4444886d7e2222740a4e3",
            "_dom_classes": [],
            "description": "",
            "_model_name": "HTMLModel",
            "placeholder": "​",
            "_view_module": "@jupyter-widgets/controls",
            "_model_module_version": "1.5.0",
            "value": " 555/555 [00:05&lt;00:00, 109.77it/s]",
            "_view_count": null,
            "_view_module_version": "1.5.0",
            "description_tooltip": null,
            "_model_module": "@jupyter-widgets/controls",
            "layout": "IPY_MODEL_9db61ef13d2c40f29ec6f6953fd32a3d"
          }
        },
        "93627ee4b7e242dfbad4c90c79d83837": {
          "model_module": "@jupyter-widgets/controls",
          "model_name": "ProgressStyleModel",
          "state": {
            "_view_name": "StyleView",
            "_model_name": "ProgressStyleModel",
            "description_width": "initial",
            "_view_module": "@jupyter-widgets/base",
            "_model_module_version": "1.5.0",
            "_view_count": null,
            "_view_module_version": "1.2.0",
            "bar_color": null,
            "_model_module": "@jupyter-widgets/controls"
          }
        },
        "1ecf62eb0953410183b78d673e0de017": {
          "model_module": "@jupyter-widgets/base",
          "model_name": "LayoutModel",
          "state": {
            "_view_name": "LayoutView",
            "grid_template_rows": null,
            "right": null,
            "justify_content": null,
            "_view_module": "@jupyter-widgets/base",
            "overflow": null,
            "_model_module_version": "1.2.0",
            "_view_count": null,
            "flex_flow": null,
            "width": null,
            "min_width": null,
            "border": null,
            "align_items": null,
            "bottom": null,
            "_model_module": "@jupyter-widgets/base",
            "top": null,
            "grid_column": null,
            "overflow_y": null,
            "overflow_x": null,
            "grid_auto_flow": null,
            "grid_area": null,
            "grid_template_columns": null,
            "flex": null,
            "_model_name": "LayoutModel",
            "justify_items": null,
            "grid_row": null,
            "max_height": null,
            "align_content": null,
            "visibility": null,
            "align_self": null,
            "height": null,
            "min_height": null,
            "padding": null,
            "grid_auto_rows": null,
            "grid_gap": null,
            "max_width": null,
            "order": null,
            "_view_module_version": "1.2.0",
            "grid_template_areas": null,
            "object_position": null,
            "object_fit": null,
            "grid_auto_columns": null,
            "margin": null,
            "display": null,
            "left": null
          }
        },
        "b5a87768f8a4444886d7e2222740a4e3": {
          "model_module": "@jupyter-widgets/controls",
          "model_name": "DescriptionStyleModel",
          "state": {
            "_view_name": "StyleView",
            "_model_name": "DescriptionStyleModel",
            "description_width": "",
            "_view_module": "@jupyter-widgets/base",
            "_model_module_version": "1.5.0",
            "_view_count": null,
            "_view_module_version": "1.2.0",
            "_model_module": "@jupyter-widgets/controls"
          }
        },
        "9db61ef13d2c40f29ec6f6953fd32a3d": {
          "model_module": "@jupyter-widgets/base",
          "model_name": "LayoutModel",
          "state": {
            "_view_name": "LayoutView",
            "grid_template_rows": null,
            "right": null,
            "justify_content": null,
            "_view_module": "@jupyter-widgets/base",
            "overflow": null,
            "_model_module_version": "1.2.0",
            "_view_count": null,
            "flex_flow": null,
            "width": null,
            "min_width": null,
            "border": null,
            "align_items": null,
            "bottom": null,
            "_model_module": "@jupyter-widgets/base",
            "top": null,
            "grid_column": null,
            "overflow_y": null,
            "overflow_x": null,
            "grid_auto_flow": null,
            "grid_area": null,
            "grid_template_columns": null,
            "flex": null,
            "_model_name": "LayoutModel",
            "justify_items": null,
            "grid_row": null,
            "max_height": null,
            "align_content": null,
            "visibility": null,
            "align_self": null,
            "height": null,
            "min_height": null,
            "padding": null,
            "grid_auto_rows": null,
            "grid_gap": null,
            "max_width": null,
            "order": null,
            "_view_module_version": "1.2.0",
            "grid_template_areas": null,
            "object_position": null,
            "object_fit": null,
            "grid_auto_columns": null,
            "margin": null,
            "display": null,
            "left": null
          }
        },
        "200e671542b546588e872845cd7e9097": {
          "model_module": "@jupyter-widgets/controls",
          "model_name": "HBoxModel",
          "state": {
            "_view_name": "HBoxView",
            "_dom_classes": [],
            "_model_name": "HBoxModel",
            "_view_module": "@jupyter-widgets/controls",
            "_model_module_version": "1.5.0",
            "_view_count": null,
            "_view_module_version": "1.5.0",
            "box_style": "",
            "layout": "IPY_MODEL_830da85787a44c02b8d223f9c5590b1d",
            "_model_module": "@jupyter-widgets/controls",
            "children": [
              "IPY_MODEL_ab7710136d1c47fb9462edf556f98de3",
              "IPY_MODEL_d2c7c1813df44f9492a82863d9fc28c7"
            ]
          }
        },
        "830da85787a44c02b8d223f9c5590b1d": {
          "model_module": "@jupyter-widgets/base",
          "model_name": "LayoutModel",
          "state": {
            "_view_name": "LayoutView",
            "grid_template_rows": null,
            "right": null,
            "justify_content": null,
            "_view_module": "@jupyter-widgets/base",
            "overflow": null,
            "_model_module_version": "1.2.0",
            "_view_count": null,
            "flex_flow": null,
            "width": null,
            "min_width": null,
            "border": null,
            "align_items": null,
            "bottom": null,
            "_model_module": "@jupyter-widgets/base",
            "top": null,
            "grid_column": null,
            "overflow_y": null,
            "overflow_x": null,
            "grid_auto_flow": null,
            "grid_area": null,
            "grid_template_columns": null,
            "flex": null,
            "_model_name": "LayoutModel",
            "justify_items": null,
            "grid_row": null,
            "max_height": null,
            "align_content": null,
            "visibility": null,
            "align_self": null,
            "height": null,
            "min_height": null,
            "padding": null,
            "grid_auto_rows": null,
            "grid_gap": null,
            "max_width": null,
            "order": null,
            "_view_module_version": "1.2.0",
            "grid_template_areas": null,
            "object_position": null,
            "object_fit": null,
            "grid_auto_columns": null,
            "margin": null,
            "display": null,
            "left": null
          }
        },
        "ab7710136d1c47fb9462edf556f98de3": {
          "model_module": "@jupyter-widgets/controls",
          "model_name": "FloatProgressModel",
          "state": {
            "_view_name": "ProgressView",
            "style": "IPY_MODEL_f3cef683e94b4322be03324b2cce3cef",
            "_dom_classes": [],
            "description": "Downloading: 100%",
            "_model_name": "FloatProgressModel",
            "bar_style": "success",
            "max": 625,
            "_view_module": "@jupyter-widgets/controls",
            "_model_module_version": "1.5.0",
            "value": 625,
            "_view_count": null,
            "_view_module_version": "1.5.0",
            "orientation": "horizontal",
            "min": 0,
            "description_tooltip": null,
            "_model_module": "@jupyter-widgets/controls",
            "layout": "IPY_MODEL_b8672e7abbab4a388b0c6b8023757c90"
          }
        },
        "d2c7c1813df44f9492a82863d9fc28c7": {
          "model_module": "@jupyter-widgets/controls",
          "model_name": "HTMLModel",
          "state": {
            "_view_name": "HTMLView",
            "style": "IPY_MODEL_a5979e456b844ccd99c2f93eda4de397",
            "_dom_classes": [],
            "description": "",
            "_model_name": "HTMLModel",
            "placeholder": "​",
            "_view_module": "@jupyter-widgets/controls",
            "_model_module_version": "1.5.0",
            "value": " 625/625 [01:14&lt;00:00, 8.35B/s]",
            "_view_count": null,
            "_view_module_version": "1.5.0",
            "description_tooltip": null,
            "_model_module": "@jupyter-widgets/controls",
            "layout": "IPY_MODEL_0f58f7c6e3fb40b780a15cc4cdaba454"
          }
        },
        "f3cef683e94b4322be03324b2cce3cef": {
          "model_module": "@jupyter-widgets/controls",
          "model_name": "ProgressStyleModel",
          "state": {
            "_view_name": "StyleView",
            "_model_name": "ProgressStyleModel",
            "description_width": "initial",
            "_view_module": "@jupyter-widgets/base",
            "_model_module_version": "1.5.0",
            "_view_count": null,
            "_view_module_version": "1.2.0",
            "bar_color": null,
            "_model_module": "@jupyter-widgets/controls"
          }
        },
        "b8672e7abbab4a388b0c6b8023757c90": {
          "model_module": "@jupyter-widgets/base",
          "model_name": "LayoutModel",
          "state": {
            "_view_name": "LayoutView",
            "grid_template_rows": null,
            "right": null,
            "justify_content": null,
            "_view_module": "@jupyter-widgets/base",
            "overflow": null,
            "_model_module_version": "1.2.0",
            "_view_count": null,
            "flex_flow": null,
            "width": null,
            "min_width": null,
            "border": null,
            "align_items": null,
            "bottom": null,
            "_model_module": "@jupyter-widgets/base",
            "top": null,
            "grid_column": null,
            "overflow_y": null,
            "overflow_x": null,
            "grid_auto_flow": null,
            "grid_area": null,
            "grid_template_columns": null,
            "flex": null,
            "_model_name": "LayoutModel",
            "justify_items": null,
            "grid_row": null,
            "max_height": null,
            "align_content": null,
            "visibility": null,
            "align_self": null,
            "height": null,
            "min_height": null,
            "padding": null,
            "grid_auto_rows": null,
            "grid_gap": null,
            "max_width": null,
            "order": null,
            "_view_module_version": "1.2.0",
            "grid_template_areas": null,
            "object_position": null,
            "object_fit": null,
            "grid_auto_columns": null,
            "margin": null,
            "display": null,
            "left": null
          }
        },
        "a5979e456b844ccd99c2f93eda4de397": {
          "model_module": "@jupyter-widgets/controls",
          "model_name": "DescriptionStyleModel",
          "state": {
            "_view_name": "StyleView",
            "_model_name": "DescriptionStyleModel",
            "description_width": "",
            "_view_module": "@jupyter-widgets/base",
            "_model_module_version": "1.5.0",
            "_view_count": null,
            "_view_module_version": "1.2.0",
            "_model_module": "@jupyter-widgets/controls"
          }
        },
        "0f58f7c6e3fb40b780a15cc4cdaba454": {
          "model_module": "@jupyter-widgets/base",
          "model_name": "LayoutModel",
          "state": {
            "_view_name": "LayoutView",
            "grid_template_rows": null,
            "right": null,
            "justify_content": null,
            "_view_module": "@jupyter-widgets/base",
            "overflow": null,
            "_model_module_version": "1.2.0",
            "_view_count": null,
            "flex_flow": null,
            "width": null,
            "min_width": null,
            "border": null,
            "align_items": null,
            "bottom": null,
            "_model_module": "@jupyter-widgets/base",
            "top": null,
            "grid_column": null,
            "overflow_y": null,
            "overflow_x": null,
            "grid_auto_flow": null,
            "grid_area": null,
            "grid_template_columns": null,
            "flex": null,
            "_model_name": "LayoutModel",
            "justify_items": null,
            "grid_row": null,
            "max_height": null,
            "align_content": null,
            "visibility": null,
            "align_self": null,
            "height": null,
            "min_height": null,
            "padding": null,
            "grid_auto_rows": null,
            "grid_gap": null,
            "max_width": null,
            "order": null,
            "_view_module_version": "1.2.0",
            "grid_template_areas": null,
            "object_position": null,
            "object_fit": null,
            "grid_auto_columns": null,
            "margin": null,
            "display": null,
            "left": null
          }
        },
        "f91b7ae8c4064ca7aa0d6589e16e3bf5": {
          "model_module": "@jupyter-widgets/controls",
          "model_name": "HBoxModel",
          "state": {
            "_view_name": "HBoxView",
            "_dom_classes": [],
            "_model_name": "HBoxModel",
            "_view_module": "@jupyter-widgets/controls",
            "_model_module_version": "1.5.0",
            "_view_count": null,
            "_view_module_version": "1.5.0",
            "box_style": "",
            "layout": "IPY_MODEL_5accb67c1e0549e3b1c2f016d80f3187",
            "_model_module": "@jupyter-widgets/controls",
            "children": [
              "IPY_MODEL_53279b04e9ca47968d9514822c346d5e",
              "IPY_MODEL_256036fd8d45477289c7c4494d6e49a0"
            ]
          }
        },
        "5accb67c1e0549e3b1c2f016d80f3187": {
          "model_module": "@jupyter-widgets/base",
          "model_name": "LayoutModel",
          "state": {
            "_view_name": "LayoutView",
            "grid_template_rows": null,
            "right": null,
            "justify_content": null,
            "_view_module": "@jupyter-widgets/base",
            "overflow": null,
            "_model_module_version": "1.2.0",
            "_view_count": null,
            "flex_flow": null,
            "width": null,
            "min_width": null,
            "border": null,
            "align_items": null,
            "bottom": null,
            "_model_module": "@jupyter-widgets/base",
            "top": null,
            "grid_column": null,
            "overflow_y": null,
            "overflow_x": null,
            "grid_auto_flow": null,
            "grid_area": null,
            "grid_template_columns": null,
            "flex": null,
            "_model_name": "LayoutModel",
            "justify_items": null,
            "grid_row": null,
            "max_height": null,
            "align_content": null,
            "visibility": null,
            "align_self": null,
            "height": null,
            "min_height": null,
            "padding": null,
            "grid_auto_rows": null,
            "grid_gap": null,
            "max_width": null,
            "order": null,
            "_view_module_version": "1.2.0",
            "grid_template_areas": null,
            "object_position": null,
            "object_fit": null,
            "grid_auto_columns": null,
            "margin": null,
            "display": null,
            "left": null
          }
        },
        "53279b04e9ca47968d9514822c346d5e": {
          "model_module": "@jupyter-widgets/controls",
          "model_name": "FloatProgressModel",
          "state": {
            "_view_name": "ProgressView",
            "style": "IPY_MODEL_65831653133640368ae8556f73b2c4ea",
            "_dom_classes": [],
            "description": "Downloading: 100%",
            "_model_name": "FloatProgressModel",
            "bar_style": "success",
            "max": 714314041,
            "_view_module": "@jupyter-widgets/controls",
            "_model_module_version": "1.5.0",
            "value": 714314041,
            "_view_count": null,
            "_view_module_version": "1.5.0",
            "orientation": "horizontal",
            "min": 0,
            "description_tooltip": null,
            "_model_module": "@jupyter-widgets/controls",
            "layout": "IPY_MODEL_dff524b4e5d3405888b75e0659b1cfa9"
          }
        },
        "256036fd8d45477289c7c4494d6e49a0": {
          "model_module": "@jupyter-widgets/controls",
          "model_name": "HTMLModel",
          "state": {
            "_view_name": "HTMLView",
            "style": "IPY_MODEL_4bb825ad69e84a1f8b015097da2b9a54",
            "_dom_classes": [],
            "description": "",
            "_model_name": "HTMLModel",
            "placeholder": "​",
            "_view_module": "@jupyter-widgets/controls",
            "_model_module_version": "1.5.0",
            "value": " 714M/714M [00:15&lt;00:00, 46.7MB/s]",
            "_view_count": null,
            "_view_module_version": "1.5.0",
            "description_tooltip": null,
            "_model_module": "@jupyter-widgets/controls",
            "layout": "IPY_MODEL_6d04cb36c4c348a19c1124a85374891d"
          }
        },
        "65831653133640368ae8556f73b2c4ea": {
          "model_module": "@jupyter-widgets/controls",
          "model_name": "ProgressStyleModel",
          "state": {
            "_view_name": "StyleView",
            "_model_name": "ProgressStyleModel",
            "description_width": "initial",
            "_view_module": "@jupyter-widgets/base",
            "_model_module_version": "1.5.0",
            "_view_count": null,
            "_view_module_version": "1.2.0",
            "bar_color": null,
            "_model_module": "@jupyter-widgets/controls"
          }
        },
        "dff524b4e5d3405888b75e0659b1cfa9": {
          "model_module": "@jupyter-widgets/base",
          "model_name": "LayoutModel",
          "state": {
            "_view_name": "LayoutView",
            "grid_template_rows": null,
            "right": null,
            "justify_content": null,
            "_view_module": "@jupyter-widgets/base",
            "overflow": null,
            "_model_module_version": "1.2.0",
            "_view_count": null,
            "flex_flow": null,
            "width": null,
            "min_width": null,
            "border": null,
            "align_items": null,
            "bottom": null,
            "_model_module": "@jupyter-widgets/base",
            "top": null,
            "grid_column": null,
            "overflow_y": null,
            "overflow_x": null,
            "grid_auto_flow": null,
            "grid_area": null,
            "grid_template_columns": null,
            "flex": null,
            "_model_name": "LayoutModel",
            "justify_items": null,
            "grid_row": null,
            "max_height": null,
            "align_content": null,
            "visibility": null,
            "align_self": null,
            "height": null,
            "min_height": null,
            "padding": null,
            "grid_auto_rows": null,
            "grid_gap": null,
            "max_width": null,
            "order": null,
            "_view_module_version": "1.2.0",
            "grid_template_areas": null,
            "object_position": null,
            "object_fit": null,
            "grid_auto_columns": null,
            "margin": null,
            "display": null,
            "left": null
          }
        },
        "4bb825ad69e84a1f8b015097da2b9a54": {
          "model_module": "@jupyter-widgets/controls",
          "model_name": "DescriptionStyleModel",
          "state": {
            "_view_name": "StyleView",
            "_model_name": "DescriptionStyleModel",
            "description_width": "",
            "_view_module": "@jupyter-widgets/base",
            "_model_module_version": "1.5.0",
            "_view_count": null,
            "_view_module_version": "1.2.0",
            "_model_module": "@jupyter-widgets/controls"
          }
        },
        "6d04cb36c4c348a19c1124a85374891d": {
          "model_module": "@jupyter-widgets/base",
          "model_name": "LayoutModel",
          "state": {
            "_view_name": "LayoutView",
            "grid_template_rows": null,
            "right": null,
            "justify_content": null,
            "_view_module": "@jupyter-widgets/base",
            "overflow": null,
            "_model_module_version": "1.2.0",
            "_view_count": null,
            "flex_flow": null,
            "width": null,
            "min_width": null,
            "border": null,
            "align_items": null,
            "bottom": null,
            "_model_module": "@jupyter-widgets/base",
            "top": null,
            "grid_column": null,
            "overflow_y": null,
            "overflow_x": null,
            "grid_auto_flow": null,
            "grid_area": null,
            "grid_template_columns": null,
            "flex": null,
            "_model_name": "LayoutModel",
            "justify_items": null,
            "grid_row": null,
            "max_height": null,
            "align_content": null,
            "visibility": null,
            "align_self": null,
            "height": null,
            "min_height": null,
            "padding": null,
            "grid_auto_rows": null,
            "grid_gap": null,
            "max_width": null,
            "order": null,
            "_view_module_version": "1.2.0",
            "grid_template_areas": null,
            "object_position": null,
            "object_fit": null,
            "grid_auto_columns": null,
            "margin": null,
            "display": null,
            "left": null
          }
        },
        "428e91c0e32a4a86a4253d46d48ee800": {
          "model_module": "@jupyter-widgets/controls",
          "model_name": "HBoxModel",
          "state": {
            "_view_name": "HBoxView",
            "_dom_classes": [],
            "_model_name": "HBoxModel",
            "_view_module": "@jupyter-widgets/controls",
            "_model_module_version": "1.5.0",
            "_view_count": null,
            "_view_module_version": "1.5.0",
            "box_style": "",
            "layout": "IPY_MODEL_5d44fb4221d54063a1e8a8351d1de9e7",
            "_model_module": "@jupyter-widgets/controls",
            "children": [
              "IPY_MODEL_aa41312eb0864fd889faeca4d0e16d4f",
              "IPY_MODEL_e29944480bd145e19643d562f9a6713a"
            ]
          }
        },
        "5d44fb4221d54063a1e8a8351d1de9e7": {
          "model_module": "@jupyter-widgets/base",
          "model_name": "LayoutModel",
          "state": {
            "_view_name": "LayoutView",
            "grid_template_rows": null,
            "right": null,
            "justify_content": null,
            "_view_module": "@jupyter-widgets/base",
            "overflow": null,
            "_model_module_version": "1.2.0",
            "_view_count": null,
            "flex_flow": null,
            "width": null,
            "min_width": null,
            "border": null,
            "align_items": null,
            "bottom": null,
            "_model_module": "@jupyter-widgets/base",
            "top": null,
            "grid_column": null,
            "overflow_y": null,
            "overflow_x": null,
            "grid_auto_flow": null,
            "grid_area": null,
            "grid_template_columns": null,
            "flex": null,
            "_model_name": "LayoutModel",
            "justify_items": null,
            "grid_row": null,
            "max_height": null,
            "align_content": null,
            "visibility": null,
            "align_self": null,
            "height": null,
            "min_height": null,
            "padding": null,
            "grid_auto_rows": null,
            "grid_gap": null,
            "max_width": null,
            "order": null,
            "_view_module_version": "1.2.0",
            "grid_template_areas": null,
            "object_position": null,
            "object_fit": null,
            "grid_auto_columns": null,
            "margin": null,
            "display": null,
            "left": null
          }
        },
        "aa41312eb0864fd889faeca4d0e16d4f": {
          "model_module": "@jupyter-widgets/controls",
          "model_name": "FloatProgressModel",
          "state": {
            "_view_name": "ProgressView",
            "style": "IPY_MODEL_6080c48c837f4379a5fc1de189644f72",
            "_dom_classes": [],
            "description": "100%",
            "_model_name": "FloatProgressModel",
            "bar_style": "success",
            "max": 6463,
            "_view_module": "@jupyter-widgets/controls",
            "_model_module_version": "1.5.0",
            "value": 6463,
            "_view_count": null,
            "_view_module_version": "1.5.0",
            "orientation": "horizontal",
            "min": 0,
            "description_tooltip": null,
            "_model_module": "@jupyter-widgets/controls",
            "layout": "IPY_MODEL_619f2107b208415d90bc3ecb1f0d29e5"
          }
        },
        "e29944480bd145e19643d562f9a6713a": {
          "model_module": "@jupyter-widgets/controls",
          "model_name": "HTMLModel",
          "state": {
            "_view_name": "HTMLView",
            "style": "IPY_MODEL_fa22a3f7cb6d4c709f30f2386cc760ea",
            "_dom_classes": [],
            "description": "",
            "_model_name": "HTMLModel",
            "placeholder": "​",
            "_view_module": "@jupyter-widgets/controls",
            "_model_module_version": "1.5.0",
            "value": " 6463/6463 [2:16:04&lt;00:00,  1.26s/it, loss=0.0375]",
            "_view_count": null,
            "_view_module_version": "1.5.0",
            "description_tooltip": null,
            "_model_module": "@jupyter-widgets/controls",
            "layout": "IPY_MODEL_37aaedb992ce42dea98cfa32b66dd5f3"
          }
        },
        "6080c48c837f4379a5fc1de189644f72": {
          "model_module": "@jupyter-widgets/controls",
          "model_name": "ProgressStyleModel",
          "state": {
            "_view_name": "StyleView",
            "_model_name": "ProgressStyleModel",
            "description_width": "initial",
            "_view_module": "@jupyter-widgets/base",
            "_model_module_version": "1.5.0",
            "_view_count": null,
            "_view_module_version": "1.2.0",
            "bar_color": null,
            "_model_module": "@jupyter-widgets/controls"
          }
        },
        "619f2107b208415d90bc3ecb1f0d29e5": {
          "model_module": "@jupyter-widgets/base",
          "model_name": "LayoutModel",
          "state": {
            "_view_name": "LayoutView",
            "grid_template_rows": null,
            "right": null,
            "justify_content": null,
            "_view_module": "@jupyter-widgets/base",
            "overflow": null,
            "_model_module_version": "1.2.0",
            "_view_count": null,
            "flex_flow": null,
            "width": null,
            "min_width": null,
            "border": null,
            "align_items": null,
            "bottom": null,
            "_model_module": "@jupyter-widgets/base",
            "top": null,
            "grid_column": null,
            "overflow_y": null,
            "overflow_x": null,
            "grid_auto_flow": null,
            "grid_area": null,
            "grid_template_columns": null,
            "flex": null,
            "_model_name": "LayoutModel",
            "justify_items": null,
            "grid_row": null,
            "max_height": null,
            "align_content": null,
            "visibility": null,
            "align_self": null,
            "height": null,
            "min_height": null,
            "padding": null,
            "grid_auto_rows": null,
            "grid_gap": null,
            "max_width": null,
            "order": null,
            "_view_module_version": "1.2.0",
            "grid_template_areas": null,
            "object_position": null,
            "object_fit": null,
            "grid_auto_columns": null,
            "margin": null,
            "display": null,
            "left": null
          }
        },
        "fa22a3f7cb6d4c709f30f2386cc760ea": {
          "model_module": "@jupyter-widgets/controls",
          "model_name": "DescriptionStyleModel",
          "state": {
            "_view_name": "StyleView",
            "_model_name": "DescriptionStyleModel",
            "description_width": "",
            "_view_module": "@jupyter-widgets/base",
            "_model_module_version": "1.5.0",
            "_view_count": null,
            "_view_module_version": "1.2.0",
            "_model_module": "@jupyter-widgets/controls"
          }
        },
        "37aaedb992ce42dea98cfa32b66dd5f3": {
          "model_module": "@jupyter-widgets/base",
          "model_name": "LayoutModel",
          "state": {
            "_view_name": "LayoutView",
            "grid_template_rows": null,
            "right": null,
            "justify_content": null,
            "_view_module": "@jupyter-widgets/base",
            "overflow": null,
            "_model_module_version": "1.2.0",
            "_view_count": null,
            "flex_flow": null,
            "width": null,
            "min_width": null,
            "border": null,
            "align_items": null,
            "bottom": null,
            "_model_module": "@jupyter-widgets/base",
            "top": null,
            "grid_column": null,
            "overflow_y": null,
            "overflow_x": null,
            "grid_auto_flow": null,
            "grid_area": null,
            "grid_template_columns": null,
            "flex": null,
            "_model_name": "LayoutModel",
            "justify_items": null,
            "grid_row": null,
            "max_height": null,
            "align_content": null,
            "visibility": null,
            "align_self": null,
            "height": null,
            "min_height": null,
            "padding": null,
            "grid_auto_rows": null,
            "grid_gap": null,
            "max_width": null,
            "order": null,
            "_view_module_version": "1.2.0",
            "grid_template_areas": null,
            "object_position": null,
            "object_fit": null,
            "grid_auto_columns": null,
            "margin": null,
            "display": null,
            "left": null
          }
        },
        "ab3552ff8f324594a941246e8267b4f7": {
          "model_module": "@jupyter-widgets/controls",
          "model_name": "HBoxModel",
          "state": {
            "_view_name": "HBoxView",
            "_dom_classes": [],
            "_model_name": "HBoxModel",
            "_view_module": "@jupyter-widgets/controls",
            "_model_module_version": "1.5.0",
            "_view_count": null,
            "_view_module_version": "1.5.0",
            "box_style": "",
            "layout": "IPY_MODEL_8d9bd9f97f9f4e8eb740918338177f8e",
            "_model_module": "@jupyter-widgets/controls",
            "children": [
              "IPY_MODEL_39b6815f2ae14797b96ea796a1795dbb",
              "IPY_MODEL_d31d88cf38a14973983dc946c0b8ad06"
            ]
          }
        },
        "8d9bd9f97f9f4e8eb740918338177f8e": {
          "model_module": "@jupyter-widgets/base",
          "model_name": "LayoutModel",
          "state": {
            "_view_name": "LayoutView",
            "grid_template_rows": null,
            "right": null,
            "justify_content": null,
            "_view_module": "@jupyter-widgets/base",
            "overflow": null,
            "_model_module_version": "1.2.0",
            "_view_count": null,
            "flex_flow": null,
            "width": null,
            "min_width": null,
            "border": null,
            "align_items": null,
            "bottom": null,
            "_model_module": "@jupyter-widgets/base",
            "top": null,
            "grid_column": null,
            "overflow_y": null,
            "overflow_x": null,
            "grid_auto_flow": null,
            "grid_area": null,
            "grid_template_columns": null,
            "flex": null,
            "_model_name": "LayoutModel",
            "justify_items": null,
            "grid_row": null,
            "max_height": null,
            "align_content": null,
            "visibility": null,
            "align_self": null,
            "height": null,
            "min_height": null,
            "padding": null,
            "grid_auto_rows": null,
            "grid_gap": null,
            "max_width": null,
            "order": null,
            "_view_module_version": "1.2.0",
            "grid_template_areas": null,
            "object_position": null,
            "object_fit": null,
            "grid_auto_columns": null,
            "margin": null,
            "display": null,
            "left": null
          }
        },
        "39b6815f2ae14797b96ea796a1795dbb": {
          "model_module": "@jupyter-widgets/controls",
          "model_name": "FloatProgressModel",
          "state": {
            "_view_name": "ProgressView",
            "style": "IPY_MODEL_e2db7ce126c64d48bf2dfc5041c75f53",
            "_dom_classes": [],
            "description": "100%",
            "_model_name": "FloatProgressModel",
            "bar_style": "success",
            "max": 2500,
            "_view_module": "@jupyter-widgets/controls",
            "_model_module_version": "1.5.0",
            "value": 2500,
            "_view_count": null,
            "_view_module_version": "1.5.0",
            "orientation": "horizontal",
            "min": 0,
            "description_tooltip": null,
            "_model_module": "@jupyter-widgets/controls",
            "layout": "IPY_MODEL_566d86ddc07240dcb73d17eb85ff00e0"
          }
        },
        "d31d88cf38a14973983dc946c0b8ad06": {
          "model_module": "@jupyter-widgets/controls",
          "model_name": "HTMLModel",
          "state": {
            "_view_name": "HTMLView",
            "style": "IPY_MODEL_c3fc05a2eb804b67becd5603924d9a2d",
            "_dom_classes": [],
            "description": "",
            "_model_name": "HTMLModel",
            "placeholder": "​",
            "_view_module": "@jupyter-widgets/controls",
            "_model_module_version": "1.5.0",
            "value": " 2500/2500 [1:52:11&lt;00:00,  2.69s/it]",
            "_view_count": null,
            "_view_module_version": "1.5.0",
            "description_tooltip": null,
            "_model_module": "@jupyter-widgets/controls",
            "layout": "IPY_MODEL_a05358759a09452298e3dd41211133f1"
          }
        },
        "e2db7ce126c64d48bf2dfc5041c75f53": {
          "model_module": "@jupyter-widgets/controls",
          "model_name": "ProgressStyleModel",
          "state": {
            "_view_name": "StyleView",
            "_model_name": "ProgressStyleModel",
            "description_width": "initial",
            "_view_module": "@jupyter-widgets/base",
            "_model_module_version": "1.5.0",
            "_view_count": null,
            "_view_module_version": "1.2.0",
            "bar_color": null,
            "_model_module": "@jupyter-widgets/controls"
          }
        },
        "566d86ddc07240dcb73d17eb85ff00e0": {
          "model_module": "@jupyter-widgets/base",
          "model_name": "LayoutModel",
          "state": {
            "_view_name": "LayoutView",
            "grid_template_rows": null,
            "right": null,
            "justify_content": null,
            "_view_module": "@jupyter-widgets/base",
            "overflow": null,
            "_model_module_version": "1.2.0",
            "_view_count": null,
            "flex_flow": null,
            "width": null,
            "min_width": null,
            "border": null,
            "align_items": null,
            "bottom": null,
            "_model_module": "@jupyter-widgets/base",
            "top": null,
            "grid_column": null,
            "overflow_y": null,
            "overflow_x": null,
            "grid_auto_flow": null,
            "grid_area": null,
            "grid_template_columns": null,
            "flex": null,
            "_model_name": "LayoutModel",
            "justify_items": null,
            "grid_row": null,
            "max_height": null,
            "align_content": null,
            "visibility": null,
            "align_self": null,
            "height": null,
            "min_height": null,
            "padding": null,
            "grid_auto_rows": null,
            "grid_gap": null,
            "max_width": null,
            "order": null,
            "_view_module_version": "1.2.0",
            "grid_template_areas": null,
            "object_position": null,
            "object_fit": null,
            "grid_auto_columns": null,
            "margin": null,
            "display": null,
            "left": null
          }
        },
        "c3fc05a2eb804b67becd5603924d9a2d": {
          "model_module": "@jupyter-widgets/controls",
          "model_name": "DescriptionStyleModel",
          "state": {
            "_view_name": "StyleView",
            "_model_name": "DescriptionStyleModel",
            "description_width": "",
            "_view_module": "@jupyter-widgets/base",
            "_model_module_version": "1.5.0",
            "_view_count": null,
            "_view_module_version": "1.2.0",
            "_model_module": "@jupyter-widgets/controls"
          }
        },
        "a05358759a09452298e3dd41211133f1": {
          "model_module": "@jupyter-widgets/base",
          "model_name": "LayoutModel",
          "state": {
            "_view_name": "LayoutView",
            "grid_template_rows": null,
            "right": null,
            "justify_content": null,
            "_view_module": "@jupyter-widgets/base",
            "overflow": null,
            "_model_module_version": "1.2.0",
            "_view_count": null,
            "flex_flow": null,
            "width": null,
            "min_width": null,
            "border": null,
            "align_items": null,
            "bottom": null,
            "_model_module": "@jupyter-widgets/base",
            "top": null,
            "grid_column": null,
            "overflow_y": null,
            "overflow_x": null,
            "grid_auto_flow": null,
            "grid_area": null,
            "grid_template_columns": null,
            "flex": null,
            "_model_name": "LayoutModel",
            "justify_items": null,
            "grid_row": null,
            "max_height": null,
            "align_content": null,
            "visibility": null,
            "align_self": null,
            "height": null,
            "min_height": null,
            "padding": null,
            "grid_auto_rows": null,
            "grid_gap": null,
            "max_width": null,
            "order": null,
            "_view_module_version": "1.2.0",
            "grid_template_areas": null,
            "object_position": null,
            "object_fit": null,
            "grid_auto_columns": null,
            "margin": null,
            "display": null,
            "left": null
          }
        },
        "acea248539444fc39a8e97a332153b1c": {
          "model_module": "@jupyter-widgets/controls",
          "model_name": "HBoxModel",
          "state": {
            "_view_name": "HBoxView",
            "_dom_classes": [],
            "_model_name": "HBoxModel",
            "_view_module": "@jupyter-widgets/controls",
            "_model_module_version": "1.5.0",
            "_view_count": null,
            "_view_module_version": "1.5.0",
            "box_style": "",
            "layout": "IPY_MODEL_04e5eacb34ea4664a15f0faa09397c81",
            "_model_module": "@jupyter-widgets/controls",
            "children": [
              "IPY_MODEL_79e0e370c9704077b8a53b68ece2cefe",
              "IPY_MODEL_381ce28e44e24793b3c6d02695bb25d4"
            ]
          }
        },
        "04e5eacb34ea4664a15f0faa09397c81": {
          "model_module": "@jupyter-widgets/base",
          "model_name": "LayoutModel",
          "state": {
            "_view_name": "LayoutView",
            "grid_template_rows": null,
            "right": null,
            "justify_content": null,
            "_view_module": "@jupyter-widgets/base",
            "overflow": null,
            "_model_module_version": "1.2.0",
            "_view_count": null,
            "flex_flow": null,
            "width": null,
            "min_width": null,
            "border": null,
            "align_items": null,
            "bottom": null,
            "_model_module": "@jupyter-widgets/base",
            "top": null,
            "grid_column": null,
            "overflow_y": null,
            "overflow_x": null,
            "grid_auto_flow": null,
            "grid_area": null,
            "grid_template_columns": null,
            "flex": null,
            "_model_name": "LayoutModel",
            "justify_items": null,
            "grid_row": null,
            "max_height": null,
            "align_content": null,
            "visibility": null,
            "align_self": null,
            "height": null,
            "min_height": null,
            "padding": null,
            "grid_auto_rows": null,
            "grid_gap": null,
            "max_width": null,
            "order": null,
            "_view_module_version": "1.2.0",
            "grid_template_areas": null,
            "object_position": null,
            "object_fit": null,
            "grid_auto_columns": null,
            "margin": null,
            "display": null,
            "left": null
          }
        },
        "79e0e370c9704077b8a53b68ece2cefe": {
          "model_module": "@jupyter-widgets/controls",
          "model_name": "FloatProgressModel",
          "state": {
            "_view_name": "ProgressView",
            "style": "IPY_MODEL_7583f51e08514940bf4da9ccd9eb7bb8",
            "_dom_classes": [],
            "description": "100%",
            "_model_name": "FloatProgressModel",
            "bar_style": "success",
            "max": 6463,
            "_view_module": "@jupyter-widgets/controls",
            "_model_module_version": "1.5.0",
            "value": 6463,
            "_view_count": null,
            "_view_module_version": "1.5.0",
            "orientation": "horizontal",
            "min": 0,
            "description_tooltip": null,
            "_model_module": "@jupyter-widgets/controls",
            "layout": "IPY_MODEL_372f7b560c2d41c7bbe0eb704a0c8143"
          }
        },
        "381ce28e44e24793b3c6d02695bb25d4": {
          "model_module": "@jupyter-widgets/controls",
          "model_name": "HTMLModel",
          "state": {
            "_view_name": "HTMLView",
            "style": "IPY_MODEL_e9e18aa45c564b73ad4c50324cb877ab",
            "_dom_classes": [],
            "description": "",
            "_model_name": "HTMLModel",
            "placeholder": "​",
            "_view_module": "@jupyter-widgets/controls",
            "_model_module_version": "1.5.0",
            "value": " 6463/6463 [1:48:50&lt;00:00,  1.01s/it, loss=0.017]",
            "_view_count": null,
            "_view_module_version": "1.5.0",
            "description_tooltip": null,
            "_model_module": "@jupyter-widgets/controls",
            "layout": "IPY_MODEL_0cddac9027ea4c548e1a80d71ceba072"
          }
        },
        "7583f51e08514940bf4da9ccd9eb7bb8": {
          "model_module": "@jupyter-widgets/controls",
          "model_name": "ProgressStyleModel",
          "state": {
            "_view_name": "StyleView",
            "_model_name": "ProgressStyleModel",
            "description_width": "initial",
            "_view_module": "@jupyter-widgets/base",
            "_model_module_version": "1.5.0",
            "_view_count": null,
            "_view_module_version": "1.2.0",
            "bar_color": null,
            "_model_module": "@jupyter-widgets/controls"
          }
        },
        "372f7b560c2d41c7bbe0eb704a0c8143": {
          "model_module": "@jupyter-widgets/base",
          "model_name": "LayoutModel",
          "state": {
            "_view_name": "LayoutView",
            "grid_template_rows": null,
            "right": null,
            "justify_content": null,
            "_view_module": "@jupyter-widgets/base",
            "overflow": null,
            "_model_module_version": "1.2.0",
            "_view_count": null,
            "flex_flow": null,
            "width": null,
            "min_width": null,
            "border": null,
            "align_items": null,
            "bottom": null,
            "_model_module": "@jupyter-widgets/base",
            "top": null,
            "grid_column": null,
            "overflow_y": null,
            "overflow_x": null,
            "grid_auto_flow": null,
            "grid_area": null,
            "grid_template_columns": null,
            "flex": null,
            "_model_name": "LayoutModel",
            "justify_items": null,
            "grid_row": null,
            "max_height": null,
            "align_content": null,
            "visibility": null,
            "align_self": null,
            "height": null,
            "min_height": null,
            "padding": null,
            "grid_auto_rows": null,
            "grid_gap": null,
            "max_width": null,
            "order": null,
            "_view_module_version": "1.2.0",
            "grid_template_areas": null,
            "object_position": null,
            "object_fit": null,
            "grid_auto_columns": null,
            "margin": null,
            "display": null,
            "left": null
          }
        },
        "e9e18aa45c564b73ad4c50324cb877ab": {
          "model_module": "@jupyter-widgets/controls",
          "model_name": "DescriptionStyleModel",
          "state": {
            "_view_name": "StyleView",
            "_model_name": "DescriptionStyleModel",
            "description_width": "",
            "_view_module": "@jupyter-widgets/base",
            "_model_module_version": "1.5.0",
            "_view_count": null,
            "_view_module_version": "1.2.0",
            "_model_module": "@jupyter-widgets/controls"
          }
        },
        "0cddac9027ea4c548e1a80d71ceba072": {
          "model_module": "@jupyter-widgets/base",
          "model_name": "LayoutModel",
          "state": {
            "_view_name": "LayoutView",
            "grid_template_rows": null,
            "right": null,
            "justify_content": null,
            "_view_module": "@jupyter-widgets/base",
            "overflow": null,
            "_model_module_version": "1.2.0",
            "_view_count": null,
            "flex_flow": null,
            "width": null,
            "min_width": null,
            "border": null,
            "align_items": null,
            "bottom": null,
            "_model_module": "@jupyter-widgets/base",
            "top": null,
            "grid_column": null,
            "overflow_y": null,
            "overflow_x": null,
            "grid_auto_flow": null,
            "grid_area": null,
            "grid_template_columns": null,
            "flex": null,
            "_model_name": "LayoutModel",
            "justify_items": null,
            "grid_row": null,
            "max_height": null,
            "align_content": null,
            "visibility": null,
            "align_self": null,
            "height": null,
            "min_height": null,
            "padding": null,
            "grid_auto_rows": null,
            "grid_gap": null,
            "max_width": null,
            "order": null,
            "_view_module_version": "1.2.0",
            "grid_template_areas": null,
            "object_position": null,
            "object_fit": null,
            "grid_auto_columns": null,
            "margin": null,
            "display": null,
            "left": null
          }
        },
        "a4f6bd76ab294720bf5933d311b6c793": {
          "model_module": "@jupyter-widgets/controls",
          "model_name": "HBoxModel",
          "state": {
            "_view_name": "HBoxView",
            "_dom_classes": [],
            "_model_name": "HBoxModel",
            "_view_module": "@jupyter-widgets/controls",
            "_model_module_version": "1.5.0",
            "_view_count": null,
            "_view_module_version": "1.5.0",
            "box_style": "",
            "layout": "IPY_MODEL_63b412815a5d4ab5858e4c41e5eed24e",
            "_model_module": "@jupyter-widgets/controls",
            "children": [
              "IPY_MODEL_813fa68c1dd644c6a6f8001e91ccce54",
              "IPY_MODEL_b2cbe1b8939a42ce8795ae361cb406a2"
            ]
          }
        },
        "63b412815a5d4ab5858e4c41e5eed24e": {
          "model_module": "@jupyter-widgets/base",
          "model_name": "LayoutModel",
          "state": {
            "_view_name": "LayoutView",
            "grid_template_rows": null,
            "right": null,
            "justify_content": null,
            "_view_module": "@jupyter-widgets/base",
            "overflow": null,
            "_model_module_version": "1.2.0",
            "_view_count": null,
            "flex_flow": null,
            "width": null,
            "min_width": null,
            "border": null,
            "align_items": null,
            "bottom": null,
            "_model_module": "@jupyter-widgets/base",
            "top": null,
            "grid_column": null,
            "overflow_y": null,
            "overflow_x": null,
            "grid_auto_flow": null,
            "grid_area": null,
            "grid_template_columns": null,
            "flex": null,
            "_model_name": "LayoutModel",
            "justify_items": null,
            "grid_row": null,
            "max_height": null,
            "align_content": null,
            "visibility": null,
            "align_self": null,
            "height": null,
            "min_height": null,
            "padding": null,
            "grid_auto_rows": null,
            "grid_gap": null,
            "max_width": null,
            "order": null,
            "_view_module_version": "1.2.0",
            "grid_template_areas": null,
            "object_position": null,
            "object_fit": null,
            "grid_auto_columns": null,
            "margin": null,
            "display": null,
            "left": null
          }
        },
        "813fa68c1dd644c6a6f8001e91ccce54": {
          "model_module": "@jupyter-widgets/controls",
          "model_name": "FloatProgressModel",
          "state": {
            "_view_name": "ProgressView",
            "style": "IPY_MODEL_90f2189fb26c45f79aeaa3dbe905590f",
            "_dom_classes": [],
            "description": "100%",
            "_model_name": "FloatProgressModel",
            "bar_style": "success",
            "max": 2500,
            "_view_module": "@jupyter-widgets/controls",
            "_model_module_version": "1.5.0",
            "value": 2500,
            "_view_count": null,
            "_view_module_version": "1.5.0",
            "orientation": "horizontal",
            "min": 0,
            "description_tooltip": null,
            "_model_module": "@jupyter-widgets/controls",
            "layout": "IPY_MODEL_c9b7ebab289d48f4803b3fb0421e8a42"
          }
        },
        "b2cbe1b8939a42ce8795ae361cb406a2": {
          "model_module": "@jupyter-widgets/controls",
          "model_name": "HTMLModel",
          "state": {
            "_view_name": "HTMLView",
            "style": "IPY_MODEL_e136413d8fed4ad5a2b5068ddd315a53",
            "_dom_classes": [],
            "description": "",
            "_model_name": "HTMLModel",
            "placeholder": "​",
            "_view_module": "@jupyter-widgets/controls",
            "_model_module_version": "1.5.0",
            "value": " 2500/2500 [1:24:57&lt;00:00,  2.04s/it]",
            "_view_count": null,
            "_view_module_version": "1.5.0",
            "description_tooltip": null,
            "_model_module": "@jupyter-widgets/controls",
            "layout": "IPY_MODEL_5affbe8fb23d42248cbb89cab3f0c1d2"
          }
        },
        "90f2189fb26c45f79aeaa3dbe905590f": {
          "model_module": "@jupyter-widgets/controls",
          "model_name": "ProgressStyleModel",
          "state": {
            "_view_name": "StyleView",
            "_model_name": "ProgressStyleModel",
            "description_width": "initial",
            "_view_module": "@jupyter-widgets/base",
            "_model_module_version": "1.5.0",
            "_view_count": null,
            "_view_module_version": "1.2.0",
            "bar_color": null,
            "_model_module": "@jupyter-widgets/controls"
          }
        },
        "c9b7ebab289d48f4803b3fb0421e8a42": {
          "model_module": "@jupyter-widgets/base",
          "model_name": "LayoutModel",
          "state": {
            "_view_name": "LayoutView",
            "grid_template_rows": null,
            "right": null,
            "justify_content": null,
            "_view_module": "@jupyter-widgets/base",
            "overflow": null,
            "_model_module_version": "1.2.0",
            "_view_count": null,
            "flex_flow": null,
            "width": null,
            "min_width": null,
            "border": null,
            "align_items": null,
            "bottom": null,
            "_model_module": "@jupyter-widgets/base",
            "top": null,
            "grid_column": null,
            "overflow_y": null,
            "overflow_x": null,
            "grid_auto_flow": null,
            "grid_area": null,
            "grid_template_columns": null,
            "flex": null,
            "_model_name": "LayoutModel",
            "justify_items": null,
            "grid_row": null,
            "max_height": null,
            "align_content": null,
            "visibility": null,
            "align_self": null,
            "height": null,
            "min_height": null,
            "padding": null,
            "grid_auto_rows": null,
            "grid_gap": null,
            "max_width": null,
            "order": null,
            "_view_module_version": "1.2.0",
            "grid_template_areas": null,
            "object_position": null,
            "object_fit": null,
            "grid_auto_columns": null,
            "margin": null,
            "display": null,
            "left": null
          }
        },
        "e136413d8fed4ad5a2b5068ddd315a53": {
          "model_module": "@jupyter-widgets/controls",
          "model_name": "DescriptionStyleModel",
          "state": {
            "_view_name": "StyleView",
            "_model_name": "DescriptionStyleModel",
            "description_width": "",
            "_view_module": "@jupyter-widgets/base",
            "_model_module_version": "1.5.0",
            "_view_count": null,
            "_view_module_version": "1.2.0",
            "_model_module": "@jupyter-widgets/controls"
          }
        },
        "5affbe8fb23d42248cbb89cab3f0c1d2": {
          "model_module": "@jupyter-widgets/base",
          "model_name": "LayoutModel",
          "state": {
            "_view_name": "LayoutView",
            "grid_template_rows": null,
            "right": null,
            "justify_content": null,
            "_view_module": "@jupyter-widgets/base",
            "overflow": null,
            "_model_module_version": "1.2.0",
            "_view_count": null,
            "flex_flow": null,
            "width": null,
            "min_width": null,
            "border": null,
            "align_items": null,
            "bottom": null,
            "_model_module": "@jupyter-widgets/base",
            "top": null,
            "grid_column": null,
            "overflow_y": null,
            "overflow_x": null,
            "grid_auto_flow": null,
            "grid_area": null,
            "grid_template_columns": null,
            "flex": null,
            "_model_name": "LayoutModel",
            "justify_items": null,
            "grid_row": null,
            "max_height": null,
            "align_content": null,
            "visibility": null,
            "align_self": null,
            "height": null,
            "min_height": null,
            "padding": null,
            "grid_auto_rows": null,
            "grid_gap": null,
            "max_width": null,
            "order": null,
            "_view_module_version": "1.2.0",
            "grid_template_areas": null,
            "object_position": null,
            "object_fit": null,
            "grid_auto_columns": null,
            "margin": null,
            "display": null,
            "left": null
          }
        },
        "1a2003aadc7e4935b121fa7f78dcc78a": {
          "model_module": "@jupyter-widgets/controls",
          "model_name": "HBoxModel",
          "state": {
            "_view_name": "HBoxView",
            "_dom_classes": [],
            "_model_name": "HBoxModel",
            "_view_module": "@jupyter-widgets/controls",
            "_model_module_version": "1.5.0",
            "_view_count": null,
            "_view_module_version": "1.5.0",
            "box_style": "",
            "layout": "IPY_MODEL_a61e5f09eb8c4cb9bbbfff02e4bda7f3",
            "_model_module": "@jupyter-widgets/controls",
            "children": [
              "IPY_MODEL_ebbbf77e84354d92bdaf3d0f698117fc",
              "IPY_MODEL_b2cc1a43a80f42c684befa3623e5fb90"
            ]
          }
        },
        "a61e5f09eb8c4cb9bbbfff02e4bda7f3": {
          "model_module": "@jupyter-widgets/base",
          "model_name": "LayoutModel",
          "state": {
            "_view_name": "LayoutView",
            "grid_template_rows": null,
            "right": null,
            "justify_content": null,
            "_view_module": "@jupyter-widgets/base",
            "overflow": null,
            "_model_module_version": "1.2.0",
            "_view_count": null,
            "flex_flow": null,
            "width": null,
            "min_width": null,
            "border": null,
            "align_items": null,
            "bottom": null,
            "_model_module": "@jupyter-widgets/base",
            "top": null,
            "grid_column": null,
            "overflow_y": null,
            "overflow_x": null,
            "grid_auto_flow": null,
            "grid_area": null,
            "grid_template_columns": null,
            "flex": null,
            "_model_name": "LayoutModel",
            "justify_items": null,
            "grid_row": null,
            "max_height": null,
            "align_content": null,
            "visibility": null,
            "align_self": null,
            "height": null,
            "min_height": null,
            "padding": null,
            "grid_auto_rows": null,
            "grid_gap": null,
            "max_width": null,
            "order": null,
            "_view_module_version": "1.2.0",
            "grid_template_areas": null,
            "object_position": null,
            "object_fit": null,
            "grid_auto_columns": null,
            "margin": null,
            "display": null,
            "left": null
          }
        },
        "ebbbf77e84354d92bdaf3d0f698117fc": {
          "model_module": "@jupyter-widgets/controls",
          "model_name": "FloatProgressModel",
          "state": {
            "_view_name": "ProgressView",
            "style": "IPY_MODEL_ee69dec3e1a347f69a6941959b260da0",
            "_dom_classes": [],
            "description": "100%",
            "_model_name": "FloatProgressModel",
            "bar_style": "success",
            "max": 6463,
            "_view_module": "@jupyter-widgets/controls",
            "_model_module_version": "1.5.0",
            "value": 6463,
            "_view_count": null,
            "_view_module_version": "1.5.0",
            "orientation": "horizontal",
            "min": 0,
            "description_tooltip": null,
            "_model_module": "@jupyter-widgets/controls",
            "layout": "IPY_MODEL_36267a75424644d29ed55204cdc09d18"
          }
        },
        "b2cc1a43a80f42c684befa3623e5fb90": {
          "model_module": "@jupyter-widgets/controls",
          "model_name": "HTMLModel",
          "state": {
            "_view_name": "HTMLView",
            "style": "IPY_MODEL_9c690c076406429f8944567e38866cba",
            "_dom_classes": [],
            "description": "",
            "_model_name": "HTMLModel",
            "placeholder": "​",
            "_view_module": "@jupyter-widgets/controls",
            "_model_module_version": "1.5.0",
            "value": " 6463/6463 [1:21:36&lt;00:00,  1.32it/s, loss=0.0123]",
            "_view_count": null,
            "_view_module_version": "1.5.0",
            "description_tooltip": null,
            "_model_module": "@jupyter-widgets/controls",
            "layout": "IPY_MODEL_a900dfd8ef1249c7bf2b2318bd282f65"
          }
        },
        "ee69dec3e1a347f69a6941959b260da0": {
          "model_module": "@jupyter-widgets/controls",
          "model_name": "ProgressStyleModel",
          "state": {
            "_view_name": "StyleView",
            "_model_name": "ProgressStyleModel",
            "description_width": "initial",
            "_view_module": "@jupyter-widgets/base",
            "_model_module_version": "1.5.0",
            "_view_count": null,
            "_view_module_version": "1.2.0",
            "bar_color": null,
            "_model_module": "@jupyter-widgets/controls"
          }
        },
        "36267a75424644d29ed55204cdc09d18": {
          "model_module": "@jupyter-widgets/base",
          "model_name": "LayoutModel",
          "state": {
            "_view_name": "LayoutView",
            "grid_template_rows": null,
            "right": null,
            "justify_content": null,
            "_view_module": "@jupyter-widgets/base",
            "overflow": null,
            "_model_module_version": "1.2.0",
            "_view_count": null,
            "flex_flow": null,
            "width": null,
            "min_width": null,
            "border": null,
            "align_items": null,
            "bottom": null,
            "_model_module": "@jupyter-widgets/base",
            "top": null,
            "grid_column": null,
            "overflow_y": null,
            "overflow_x": null,
            "grid_auto_flow": null,
            "grid_area": null,
            "grid_template_columns": null,
            "flex": null,
            "_model_name": "LayoutModel",
            "justify_items": null,
            "grid_row": null,
            "max_height": null,
            "align_content": null,
            "visibility": null,
            "align_self": null,
            "height": null,
            "min_height": null,
            "padding": null,
            "grid_auto_rows": null,
            "grid_gap": null,
            "max_width": null,
            "order": null,
            "_view_module_version": "1.2.0",
            "grid_template_areas": null,
            "object_position": null,
            "object_fit": null,
            "grid_auto_columns": null,
            "margin": null,
            "display": null,
            "left": null
          }
        },
        "9c690c076406429f8944567e38866cba": {
          "model_module": "@jupyter-widgets/controls",
          "model_name": "DescriptionStyleModel",
          "state": {
            "_view_name": "StyleView",
            "_model_name": "DescriptionStyleModel",
            "description_width": "",
            "_view_module": "@jupyter-widgets/base",
            "_model_module_version": "1.5.0",
            "_view_count": null,
            "_view_module_version": "1.2.0",
            "_model_module": "@jupyter-widgets/controls"
          }
        },
        "a900dfd8ef1249c7bf2b2318bd282f65": {
          "model_module": "@jupyter-widgets/base",
          "model_name": "LayoutModel",
          "state": {
            "_view_name": "LayoutView",
            "grid_template_rows": null,
            "right": null,
            "justify_content": null,
            "_view_module": "@jupyter-widgets/base",
            "overflow": null,
            "_model_module_version": "1.2.0",
            "_view_count": null,
            "flex_flow": null,
            "width": null,
            "min_width": null,
            "border": null,
            "align_items": null,
            "bottom": null,
            "_model_module": "@jupyter-widgets/base",
            "top": null,
            "grid_column": null,
            "overflow_y": null,
            "overflow_x": null,
            "grid_auto_flow": null,
            "grid_area": null,
            "grid_template_columns": null,
            "flex": null,
            "_model_name": "LayoutModel",
            "justify_items": null,
            "grid_row": null,
            "max_height": null,
            "align_content": null,
            "visibility": null,
            "align_self": null,
            "height": null,
            "min_height": null,
            "padding": null,
            "grid_auto_rows": null,
            "grid_gap": null,
            "max_width": null,
            "order": null,
            "_view_module_version": "1.2.0",
            "grid_template_areas": null,
            "object_position": null,
            "object_fit": null,
            "grid_auto_columns": null,
            "margin": null,
            "display": null,
            "left": null
          }
        },
        "6ac4894931654407b6e003fd48f3dd9e": {
          "model_module": "@jupyter-widgets/controls",
          "model_name": "HBoxModel",
          "state": {
            "_view_name": "HBoxView",
            "_dom_classes": [],
            "_model_name": "HBoxModel",
            "_view_module": "@jupyter-widgets/controls",
            "_model_module_version": "1.5.0",
            "_view_count": null,
            "_view_module_version": "1.5.0",
            "box_style": "",
            "layout": "IPY_MODEL_30bbdc8430e9481f8daa48d303614bfc",
            "_model_module": "@jupyter-widgets/controls",
            "children": [
              "IPY_MODEL_3072aa917b6e453a920e9344e5a348ea",
              "IPY_MODEL_3dfd64a3d5c94e83a54f2b983e810d55"
            ]
          }
        },
        "30bbdc8430e9481f8daa48d303614bfc": {
          "model_module": "@jupyter-widgets/base",
          "model_name": "LayoutModel",
          "state": {
            "_view_name": "LayoutView",
            "grid_template_rows": null,
            "right": null,
            "justify_content": null,
            "_view_module": "@jupyter-widgets/base",
            "overflow": null,
            "_model_module_version": "1.2.0",
            "_view_count": null,
            "flex_flow": null,
            "width": null,
            "min_width": null,
            "border": null,
            "align_items": null,
            "bottom": null,
            "_model_module": "@jupyter-widgets/base",
            "top": null,
            "grid_column": null,
            "overflow_y": null,
            "overflow_x": null,
            "grid_auto_flow": null,
            "grid_area": null,
            "grid_template_columns": null,
            "flex": null,
            "_model_name": "LayoutModel",
            "justify_items": null,
            "grid_row": null,
            "max_height": null,
            "align_content": null,
            "visibility": null,
            "align_self": null,
            "height": null,
            "min_height": null,
            "padding": null,
            "grid_auto_rows": null,
            "grid_gap": null,
            "max_width": null,
            "order": null,
            "_view_module_version": "1.2.0",
            "grid_template_areas": null,
            "object_position": null,
            "object_fit": null,
            "grid_auto_columns": null,
            "margin": null,
            "display": null,
            "left": null
          }
        },
        "3072aa917b6e453a920e9344e5a348ea": {
          "model_module": "@jupyter-widgets/controls",
          "model_name": "FloatProgressModel",
          "state": {
            "_view_name": "ProgressView",
            "style": "IPY_MODEL_bb41593db45c4c19912d9d7571f4e90c",
            "_dom_classes": [],
            "description": "100%",
            "_model_name": "FloatProgressModel",
            "bar_style": "success",
            "max": 2500,
            "_view_module": "@jupyter-widgets/controls",
            "_model_module_version": "1.5.0",
            "value": 2500,
            "_view_count": null,
            "_view_module_version": "1.5.0",
            "orientation": "horizontal",
            "min": 0,
            "description_tooltip": null,
            "_model_module": "@jupyter-widgets/controls",
            "layout": "IPY_MODEL_6ed2a5f0f89f4a478e0719b90cc91b04"
          }
        },
        "3dfd64a3d5c94e83a54f2b983e810d55": {
          "model_module": "@jupyter-widgets/controls",
          "model_name": "HTMLModel",
          "state": {
            "_view_name": "HTMLView",
            "style": "IPY_MODEL_1b9ae09c8df340be92ef4bbbd36861ca",
            "_dom_classes": [],
            "description": "",
            "_model_name": "HTMLModel",
            "placeholder": "​",
            "_view_module": "@jupyter-widgets/controls",
            "_model_module_version": "1.5.0",
            "value": " 2500/2500 [57:45&lt;00:00,  1.39s/it]",
            "_view_count": null,
            "_view_module_version": "1.5.0",
            "description_tooltip": null,
            "_model_module": "@jupyter-widgets/controls",
            "layout": "IPY_MODEL_1d50e26235ab49cb90e831c7b87286aa"
          }
        },
        "bb41593db45c4c19912d9d7571f4e90c": {
          "model_module": "@jupyter-widgets/controls",
          "model_name": "ProgressStyleModel",
          "state": {
            "_view_name": "StyleView",
            "_model_name": "ProgressStyleModel",
            "description_width": "initial",
            "_view_module": "@jupyter-widgets/base",
            "_model_module_version": "1.5.0",
            "_view_count": null,
            "_view_module_version": "1.2.0",
            "bar_color": null,
            "_model_module": "@jupyter-widgets/controls"
          }
        },
        "6ed2a5f0f89f4a478e0719b90cc91b04": {
          "model_module": "@jupyter-widgets/base",
          "model_name": "LayoutModel",
          "state": {
            "_view_name": "LayoutView",
            "grid_template_rows": null,
            "right": null,
            "justify_content": null,
            "_view_module": "@jupyter-widgets/base",
            "overflow": null,
            "_model_module_version": "1.2.0",
            "_view_count": null,
            "flex_flow": null,
            "width": null,
            "min_width": null,
            "border": null,
            "align_items": null,
            "bottom": null,
            "_model_module": "@jupyter-widgets/base",
            "top": null,
            "grid_column": null,
            "overflow_y": null,
            "overflow_x": null,
            "grid_auto_flow": null,
            "grid_area": null,
            "grid_template_columns": null,
            "flex": null,
            "_model_name": "LayoutModel",
            "justify_items": null,
            "grid_row": null,
            "max_height": null,
            "align_content": null,
            "visibility": null,
            "align_self": null,
            "height": null,
            "min_height": null,
            "padding": null,
            "grid_auto_rows": null,
            "grid_gap": null,
            "max_width": null,
            "order": null,
            "_view_module_version": "1.2.0",
            "grid_template_areas": null,
            "object_position": null,
            "object_fit": null,
            "grid_auto_columns": null,
            "margin": null,
            "display": null,
            "left": null
          }
        },
        "1b9ae09c8df340be92ef4bbbd36861ca": {
          "model_module": "@jupyter-widgets/controls",
          "model_name": "DescriptionStyleModel",
          "state": {
            "_view_name": "StyleView",
            "_model_name": "DescriptionStyleModel",
            "description_width": "",
            "_view_module": "@jupyter-widgets/base",
            "_model_module_version": "1.5.0",
            "_view_count": null,
            "_view_module_version": "1.2.0",
            "_model_module": "@jupyter-widgets/controls"
          }
        },
        "1d50e26235ab49cb90e831c7b87286aa": {
          "model_module": "@jupyter-widgets/base",
          "model_name": "LayoutModel",
          "state": {
            "_view_name": "LayoutView",
            "grid_template_rows": null,
            "right": null,
            "justify_content": null,
            "_view_module": "@jupyter-widgets/base",
            "overflow": null,
            "_model_module_version": "1.2.0",
            "_view_count": null,
            "flex_flow": null,
            "width": null,
            "min_width": null,
            "border": null,
            "align_items": null,
            "bottom": null,
            "_model_module": "@jupyter-widgets/base",
            "top": null,
            "grid_column": null,
            "overflow_y": null,
            "overflow_x": null,
            "grid_auto_flow": null,
            "grid_area": null,
            "grid_template_columns": null,
            "flex": null,
            "_model_name": "LayoutModel",
            "justify_items": null,
            "grid_row": null,
            "max_height": null,
            "align_content": null,
            "visibility": null,
            "align_self": null,
            "height": null,
            "min_height": null,
            "padding": null,
            "grid_auto_rows": null,
            "grid_gap": null,
            "max_width": null,
            "order": null,
            "_view_module_version": "1.2.0",
            "grid_template_areas": null,
            "object_position": null,
            "object_fit": null,
            "grid_auto_columns": null,
            "margin": null,
            "display": null,
            "left": null
          }
        },
        "3d03cb3431ac43c0a7d654c16c028a90": {
          "model_module": "@jupyter-widgets/controls",
          "model_name": "HBoxModel",
          "state": {
            "_view_name": "HBoxView",
            "_dom_classes": [],
            "_model_name": "HBoxModel",
            "_view_module": "@jupyter-widgets/controls",
            "_model_module_version": "1.5.0",
            "_view_count": null,
            "_view_module_version": "1.5.0",
            "box_style": "",
            "layout": "IPY_MODEL_d50fca8300eb4237a495d6ebdd29612a",
            "_model_module": "@jupyter-widgets/controls",
            "children": [
              "IPY_MODEL_701d77b5bb174580aceac1d0cf3f1484",
              "IPY_MODEL_82bde9c435f34e6b991ff9a7c8dfbfd5"
            ]
          }
        },
        "d50fca8300eb4237a495d6ebdd29612a": {
          "model_module": "@jupyter-widgets/base",
          "model_name": "LayoutModel",
          "state": {
            "_view_name": "LayoutView",
            "grid_template_rows": null,
            "right": null,
            "justify_content": null,
            "_view_module": "@jupyter-widgets/base",
            "overflow": null,
            "_model_module_version": "1.2.0",
            "_view_count": null,
            "flex_flow": null,
            "width": null,
            "min_width": null,
            "border": null,
            "align_items": null,
            "bottom": null,
            "_model_module": "@jupyter-widgets/base",
            "top": null,
            "grid_column": null,
            "overflow_y": null,
            "overflow_x": null,
            "grid_auto_flow": null,
            "grid_area": null,
            "grid_template_columns": null,
            "flex": null,
            "_model_name": "LayoutModel",
            "justify_items": null,
            "grid_row": null,
            "max_height": null,
            "align_content": null,
            "visibility": null,
            "align_self": null,
            "height": null,
            "min_height": null,
            "padding": null,
            "grid_auto_rows": null,
            "grid_gap": null,
            "max_width": null,
            "order": null,
            "_view_module_version": "1.2.0",
            "grid_template_areas": null,
            "object_position": null,
            "object_fit": null,
            "grid_auto_columns": null,
            "margin": null,
            "display": null,
            "left": null
          }
        },
        "701d77b5bb174580aceac1d0cf3f1484": {
          "model_module": "@jupyter-widgets/controls",
          "model_name": "FloatProgressModel",
          "state": {
            "_view_name": "ProgressView",
            "style": "IPY_MODEL_24c5cde69bb641cd88a1ef15beed51c2",
            "_dom_classes": [],
            "description": "100%",
            "_model_name": "FloatProgressModel",
            "bar_style": "success",
            "max": 6463,
            "_view_module": "@jupyter-widgets/controls",
            "_model_module_version": "1.5.0",
            "value": 6463,
            "_view_count": null,
            "_view_module_version": "1.5.0",
            "orientation": "horizontal",
            "min": 0,
            "description_tooltip": null,
            "_model_module": "@jupyter-widgets/controls",
            "layout": "IPY_MODEL_783c0de28ccd471eb01bbb8acb748479"
          }
        },
        "82bde9c435f34e6b991ff9a7c8dfbfd5": {
          "model_module": "@jupyter-widgets/controls",
          "model_name": "HTMLModel",
          "state": {
            "_view_name": "HTMLView",
            "style": "IPY_MODEL_4728c33a422241a5877e186aae554624",
            "_dom_classes": [],
            "description": "",
            "_model_name": "HTMLModel",
            "placeholder": "​",
            "_view_module": "@jupyter-widgets/controls",
            "_model_module_version": "1.5.0",
            "value": " 6463/6463 [54:28&lt;00:00,  1.98it/s, loss=0.0095]",
            "_view_count": null,
            "_view_module_version": "1.5.0",
            "description_tooltip": null,
            "_model_module": "@jupyter-widgets/controls",
            "layout": "IPY_MODEL_c94d0629644642e7a307cc378b5a75c3"
          }
        },
        "24c5cde69bb641cd88a1ef15beed51c2": {
          "model_module": "@jupyter-widgets/controls",
          "model_name": "ProgressStyleModel",
          "state": {
            "_view_name": "StyleView",
            "_model_name": "ProgressStyleModel",
            "description_width": "initial",
            "_view_module": "@jupyter-widgets/base",
            "_model_module_version": "1.5.0",
            "_view_count": null,
            "_view_module_version": "1.2.0",
            "bar_color": null,
            "_model_module": "@jupyter-widgets/controls"
          }
        },
        "783c0de28ccd471eb01bbb8acb748479": {
          "model_module": "@jupyter-widgets/base",
          "model_name": "LayoutModel",
          "state": {
            "_view_name": "LayoutView",
            "grid_template_rows": null,
            "right": null,
            "justify_content": null,
            "_view_module": "@jupyter-widgets/base",
            "overflow": null,
            "_model_module_version": "1.2.0",
            "_view_count": null,
            "flex_flow": null,
            "width": null,
            "min_width": null,
            "border": null,
            "align_items": null,
            "bottom": null,
            "_model_module": "@jupyter-widgets/base",
            "top": null,
            "grid_column": null,
            "overflow_y": null,
            "overflow_x": null,
            "grid_auto_flow": null,
            "grid_area": null,
            "grid_template_columns": null,
            "flex": null,
            "_model_name": "LayoutModel",
            "justify_items": null,
            "grid_row": null,
            "max_height": null,
            "align_content": null,
            "visibility": null,
            "align_self": null,
            "height": null,
            "min_height": null,
            "padding": null,
            "grid_auto_rows": null,
            "grid_gap": null,
            "max_width": null,
            "order": null,
            "_view_module_version": "1.2.0",
            "grid_template_areas": null,
            "object_position": null,
            "object_fit": null,
            "grid_auto_columns": null,
            "margin": null,
            "display": null,
            "left": null
          }
        },
        "4728c33a422241a5877e186aae554624": {
          "model_module": "@jupyter-widgets/controls",
          "model_name": "DescriptionStyleModel",
          "state": {
            "_view_name": "StyleView",
            "_model_name": "DescriptionStyleModel",
            "description_width": "",
            "_view_module": "@jupyter-widgets/base",
            "_model_module_version": "1.5.0",
            "_view_count": null,
            "_view_module_version": "1.2.0",
            "_model_module": "@jupyter-widgets/controls"
          }
        },
        "c94d0629644642e7a307cc378b5a75c3": {
          "model_module": "@jupyter-widgets/base",
          "model_name": "LayoutModel",
          "state": {
            "_view_name": "LayoutView",
            "grid_template_rows": null,
            "right": null,
            "justify_content": null,
            "_view_module": "@jupyter-widgets/base",
            "overflow": null,
            "_model_module_version": "1.2.0",
            "_view_count": null,
            "flex_flow": null,
            "width": null,
            "min_width": null,
            "border": null,
            "align_items": null,
            "bottom": null,
            "_model_module": "@jupyter-widgets/base",
            "top": null,
            "grid_column": null,
            "overflow_y": null,
            "overflow_x": null,
            "grid_auto_flow": null,
            "grid_area": null,
            "grid_template_columns": null,
            "flex": null,
            "_model_name": "LayoutModel",
            "justify_items": null,
            "grid_row": null,
            "max_height": null,
            "align_content": null,
            "visibility": null,
            "align_self": null,
            "height": null,
            "min_height": null,
            "padding": null,
            "grid_auto_rows": null,
            "grid_gap": null,
            "max_width": null,
            "order": null,
            "_view_module_version": "1.2.0",
            "grid_template_areas": null,
            "object_position": null,
            "object_fit": null,
            "grid_auto_columns": null,
            "margin": null,
            "display": null,
            "left": null
          }
        },
        "2438b4cb1c754504a7bd6b125b6382bd": {
          "model_module": "@jupyter-widgets/controls",
          "model_name": "HBoxModel",
          "state": {
            "_view_name": "HBoxView",
            "_dom_classes": [],
            "_model_name": "HBoxModel",
            "_view_module": "@jupyter-widgets/controls",
            "_model_module_version": "1.5.0",
            "_view_count": null,
            "_view_module_version": "1.5.0",
            "box_style": "",
            "layout": "IPY_MODEL_541ce6b48da048b684adce7c26c9144a",
            "_model_module": "@jupyter-widgets/controls",
            "children": [
              "IPY_MODEL_1196c9c0ada34a24b12257aa7b4708a6",
              "IPY_MODEL_45b743628ca243f4bce46da233b6a7db"
            ]
          }
        },
        "541ce6b48da048b684adce7c26c9144a": {
          "model_module": "@jupyter-widgets/base",
          "model_name": "LayoutModel",
          "state": {
            "_view_name": "LayoutView",
            "grid_template_rows": null,
            "right": null,
            "justify_content": null,
            "_view_module": "@jupyter-widgets/base",
            "overflow": null,
            "_model_module_version": "1.2.0",
            "_view_count": null,
            "flex_flow": null,
            "width": null,
            "min_width": null,
            "border": null,
            "align_items": null,
            "bottom": null,
            "_model_module": "@jupyter-widgets/base",
            "top": null,
            "grid_column": null,
            "overflow_y": null,
            "overflow_x": null,
            "grid_auto_flow": null,
            "grid_area": null,
            "grid_template_columns": null,
            "flex": null,
            "_model_name": "LayoutModel",
            "justify_items": null,
            "grid_row": null,
            "max_height": null,
            "align_content": null,
            "visibility": null,
            "align_self": null,
            "height": null,
            "min_height": null,
            "padding": null,
            "grid_auto_rows": null,
            "grid_gap": null,
            "max_width": null,
            "order": null,
            "_view_module_version": "1.2.0",
            "grid_template_areas": null,
            "object_position": null,
            "object_fit": null,
            "grid_auto_columns": null,
            "margin": null,
            "display": null,
            "left": null
          }
        },
        "1196c9c0ada34a24b12257aa7b4708a6": {
          "model_module": "@jupyter-widgets/controls",
          "model_name": "FloatProgressModel",
          "state": {
            "_view_name": "ProgressView",
            "style": "IPY_MODEL_2a8ea09791a24eaeabdef6af32d0f17a",
            "_dom_classes": [],
            "description": "100%",
            "_model_name": "FloatProgressModel",
            "bar_style": "success",
            "max": 2500,
            "_view_module": "@jupyter-widgets/controls",
            "_model_module_version": "1.5.0",
            "value": 2500,
            "_view_count": null,
            "_view_module_version": "1.5.0",
            "orientation": "horizontal",
            "min": 0,
            "description_tooltip": null,
            "_model_module": "@jupyter-widgets/controls",
            "layout": "IPY_MODEL_2d8469b4d7e54340b509e8b7f0af7a2d"
          }
        },
        "45b743628ca243f4bce46da233b6a7db": {
          "model_module": "@jupyter-widgets/controls",
          "model_name": "HTMLModel",
          "state": {
            "_view_name": "HTMLView",
            "style": "IPY_MODEL_40e87e51115d44619754b6c9714007c0",
            "_dom_classes": [],
            "description": "",
            "_model_name": "HTMLModel",
            "placeholder": "​",
            "_view_module": "@jupyter-widgets/controls",
            "_model_module_version": "1.5.0",
            "value": " 2500/2500 [30:36&lt;00:00,  1.36it/s]",
            "_view_count": null,
            "_view_module_version": "1.5.0",
            "description_tooltip": null,
            "_model_module": "@jupyter-widgets/controls",
            "layout": "IPY_MODEL_92b456dc9b194069be33b5d034dccdb6"
          }
        },
        "2a8ea09791a24eaeabdef6af32d0f17a": {
          "model_module": "@jupyter-widgets/controls",
          "model_name": "ProgressStyleModel",
          "state": {
            "_view_name": "StyleView",
            "_model_name": "ProgressStyleModel",
            "description_width": "initial",
            "_view_module": "@jupyter-widgets/base",
            "_model_module_version": "1.5.0",
            "_view_count": null,
            "_view_module_version": "1.2.0",
            "bar_color": null,
            "_model_module": "@jupyter-widgets/controls"
          }
        },
        "2d8469b4d7e54340b509e8b7f0af7a2d": {
          "model_module": "@jupyter-widgets/base",
          "model_name": "LayoutModel",
          "state": {
            "_view_name": "LayoutView",
            "grid_template_rows": null,
            "right": null,
            "justify_content": null,
            "_view_module": "@jupyter-widgets/base",
            "overflow": null,
            "_model_module_version": "1.2.0",
            "_view_count": null,
            "flex_flow": null,
            "width": null,
            "min_width": null,
            "border": null,
            "align_items": null,
            "bottom": null,
            "_model_module": "@jupyter-widgets/base",
            "top": null,
            "grid_column": null,
            "overflow_y": null,
            "overflow_x": null,
            "grid_auto_flow": null,
            "grid_area": null,
            "grid_template_columns": null,
            "flex": null,
            "_model_name": "LayoutModel",
            "justify_items": null,
            "grid_row": null,
            "max_height": null,
            "align_content": null,
            "visibility": null,
            "align_self": null,
            "height": null,
            "min_height": null,
            "padding": null,
            "grid_auto_rows": null,
            "grid_gap": null,
            "max_width": null,
            "order": null,
            "_view_module_version": "1.2.0",
            "grid_template_areas": null,
            "object_position": null,
            "object_fit": null,
            "grid_auto_columns": null,
            "margin": null,
            "display": null,
            "left": null
          }
        },
        "40e87e51115d44619754b6c9714007c0": {
          "model_module": "@jupyter-widgets/controls",
          "model_name": "DescriptionStyleModel",
          "state": {
            "_view_name": "StyleView",
            "_model_name": "DescriptionStyleModel",
            "description_width": "",
            "_view_module": "@jupyter-widgets/base",
            "_model_module_version": "1.5.0",
            "_view_count": null,
            "_view_module_version": "1.2.0",
            "_model_module": "@jupyter-widgets/controls"
          }
        },
        "92b456dc9b194069be33b5d034dccdb6": {
          "model_module": "@jupyter-widgets/base",
          "model_name": "LayoutModel",
          "state": {
            "_view_name": "LayoutView",
            "grid_template_rows": null,
            "right": null,
            "justify_content": null,
            "_view_module": "@jupyter-widgets/base",
            "overflow": null,
            "_model_module_version": "1.2.0",
            "_view_count": null,
            "flex_flow": null,
            "width": null,
            "min_width": null,
            "border": null,
            "align_items": null,
            "bottom": null,
            "_model_module": "@jupyter-widgets/base",
            "top": null,
            "grid_column": null,
            "overflow_y": null,
            "overflow_x": null,
            "grid_auto_flow": null,
            "grid_area": null,
            "grid_template_columns": null,
            "flex": null,
            "_model_name": "LayoutModel",
            "justify_items": null,
            "grid_row": null,
            "max_height": null,
            "align_content": null,
            "visibility": null,
            "align_self": null,
            "height": null,
            "min_height": null,
            "padding": null,
            "grid_auto_rows": null,
            "grid_gap": null,
            "max_width": null,
            "order": null,
            "_view_module_version": "1.2.0",
            "grid_template_areas": null,
            "object_position": null,
            "object_fit": null,
            "grid_auto_columns": null,
            "margin": null,
            "display": null,
            "left": null
          }
        },
        "6e93024e5b2a4cbababbeffe76b6c166": {
          "model_module": "@jupyter-widgets/controls",
          "model_name": "HBoxModel",
          "state": {
            "_view_name": "HBoxView",
            "_dom_classes": [],
            "_model_name": "HBoxModel",
            "_view_module": "@jupyter-widgets/controls",
            "_model_module_version": "1.5.0",
            "_view_count": null,
            "_view_module_version": "1.5.0",
            "box_style": "",
            "layout": "IPY_MODEL_898dd2fb542643d6b8be52b600ee7d17",
            "_model_module": "@jupyter-widgets/controls",
            "children": [
              "IPY_MODEL_4b09d94fe71148b2839e0ebcac5ca08c",
              "IPY_MODEL_1d5a4533cddb49bb823d3bfed014635d"
            ]
          }
        },
        "898dd2fb542643d6b8be52b600ee7d17": {
          "model_module": "@jupyter-widgets/base",
          "model_name": "LayoutModel",
          "state": {
            "_view_name": "LayoutView",
            "grid_template_rows": null,
            "right": null,
            "justify_content": null,
            "_view_module": "@jupyter-widgets/base",
            "overflow": null,
            "_model_module_version": "1.2.0",
            "_view_count": null,
            "flex_flow": null,
            "width": null,
            "min_width": null,
            "border": null,
            "align_items": null,
            "bottom": null,
            "_model_module": "@jupyter-widgets/base",
            "top": null,
            "grid_column": null,
            "overflow_y": null,
            "overflow_x": null,
            "grid_auto_flow": null,
            "grid_area": null,
            "grid_template_columns": null,
            "flex": null,
            "_model_name": "LayoutModel",
            "justify_items": null,
            "grid_row": null,
            "max_height": null,
            "align_content": null,
            "visibility": null,
            "align_self": null,
            "height": null,
            "min_height": null,
            "padding": null,
            "grid_auto_rows": null,
            "grid_gap": null,
            "max_width": null,
            "order": null,
            "_view_module_version": "1.2.0",
            "grid_template_areas": null,
            "object_position": null,
            "object_fit": null,
            "grid_auto_columns": null,
            "margin": null,
            "display": null,
            "left": null
          }
        },
        "4b09d94fe71148b2839e0ebcac5ca08c": {
          "model_module": "@jupyter-widgets/controls",
          "model_name": "FloatProgressModel",
          "state": {
            "_view_name": "ProgressView",
            "style": "IPY_MODEL_bc0ec3e8eeb24873a1b41f0958e06208",
            "_dom_classes": [],
            "description": "100%",
            "_model_name": "FloatProgressModel",
            "bar_style": "success",
            "max": 6463,
            "_view_module": "@jupyter-widgets/controls",
            "_model_module_version": "1.5.0",
            "value": 6463,
            "_view_count": null,
            "_view_module_version": "1.5.0",
            "orientation": "horizontal",
            "min": 0,
            "description_tooltip": null,
            "_model_module": "@jupyter-widgets/controls",
            "layout": "IPY_MODEL_8b451d7b0fb947c59477fb7bb1d0c9da"
          }
        },
        "1d5a4533cddb49bb823d3bfed014635d": {
          "model_module": "@jupyter-widgets/controls",
          "model_name": "HTMLModel",
          "state": {
            "_view_name": "HTMLView",
            "style": "IPY_MODEL_0a35f9a47abe48caad66b1614d5a5938",
            "_dom_classes": [],
            "description": "",
            "_model_name": "HTMLModel",
            "placeholder": "​",
            "_view_module": "@jupyter-widgets/controls",
            "_model_module_version": "1.5.0",
            "value": " 6463/6463 [27:18&lt;00:00,  3.94it/s, loss=0.00777]",
            "_view_count": null,
            "_view_module_version": "1.5.0",
            "description_tooltip": null,
            "_model_module": "@jupyter-widgets/controls",
            "layout": "IPY_MODEL_f54797c7edef4e10885598915bf73eb6"
          }
        },
        "bc0ec3e8eeb24873a1b41f0958e06208": {
          "model_module": "@jupyter-widgets/controls",
          "model_name": "ProgressStyleModel",
          "state": {
            "_view_name": "StyleView",
            "_model_name": "ProgressStyleModel",
            "description_width": "initial",
            "_view_module": "@jupyter-widgets/base",
            "_model_module_version": "1.5.0",
            "_view_count": null,
            "_view_module_version": "1.2.0",
            "bar_color": null,
            "_model_module": "@jupyter-widgets/controls"
          }
        },
        "8b451d7b0fb947c59477fb7bb1d0c9da": {
          "model_module": "@jupyter-widgets/base",
          "model_name": "LayoutModel",
          "state": {
            "_view_name": "LayoutView",
            "grid_template_rows": null,
            "right": null,
            "justify_content": null,
            "_view_module": "@jupyter-widgets/base",
            "overflow": null,
            "_model_module_version": "1.2.0",
            "_view_count": null,
            "flex_flow": null,
            "width": null,
            "min_width": null,
            "border": null,
            "align_items": null,
            "bottom": null,
            "_model_module": "@jupyter-widgets/base",
            "top": null,
            "grid_column": null,
            "overflow_y": null,
            "overflow_x": null,
            "grid_auto_flow": null,
            "grid_area": null,
            "grid_template_columns": null,
            "flex": null,
            "_model_name": "LayoutModel",
            "justify_items": null,
            "grid_row": null,
            "max_height": null,
            "align_content": null,
            "visibility": null,
            "align_self": null,
            "height": null,
            "min_height": null,
            "padding": null,
            "grid_auto_rows": null,
            "grid_gap": null,
            "max_width": null,
            "order": null,
            "_view_module_version": "1.2.0",
            "grid_template_areas": null,
            "object_position": null,
            "object_fit": null,
            "grid_auto_columns": null,
            "margin": null,
            "display": null,
            "left": null
          }
        },
        "0a35f9a47abe48caad66b1614d5a5938": {
          "model_module": "@jupyter-widgets/controls",
          "model_name": "DescriptionStyleModel",
          "state": {
            "_view_name": "StyleView",
            "_model_name": "DescriptionStyleModel",
            "description_width": "",
            "_view_module": "@jupyter-widgets/base",
            "_model_module_version": "1.5.0",
            "_view_count": null,
            "_view_module_version": "1.2.0",
            "_model_module": "@jupyter-widgets/controls"
          }
        },
        "f54797c7edef4e10885598915bf73eb6": {
          "model_module": "@jupyter-widgets/base",
          "model_name": "LayoutModel",
          "state": {
            "_view_name": "LayoutView",
            "grid_template_rows": null,
            "right": null,
            "justify_content": null,
            "_view_module": "@jupyter-widgets/base",
            "overflow": null,
            "_model_module_version": "1.2.0",
            "_view_count": null,
            "flex_flow": null,
            "width": null,
            "min_width": null,
            "border": null,
            "align_items": null,
            "bottom": null,
            "_model_module": "@jupyter-widgets/base",
            "top": null,
            "grid_column": null,
            "overflow_y": null,
            "overflow_x": null,
            "grid_auto_flow": null,
            "grid_area": null,
            "grid_template_columns": null,
            "flex": null,
            "_model_name": "LayoutModel",
            "justify_items": null,
            "grid_row": null,
            "max_height": null,
            "align_content": null,
            "visibility": null,
            "align_self": null,
            "height": null,
            "min_height": null,
            "padding": null,
            "grid_auto_rows": null,
            "grid_gap": null,
            "max_width": null,
            "order": null,
            "_view_module_version": "1.2.0",
            "grid_template_areas": null,
            "object_position": null,
            "object_fit": null,
            "grid_auto_columns": null,
            "margin": null,
            "display": null,
            "left": null
          }
        },
        "d61eb3953d2040cf8243f87d35ce1e42": {
          "model_module": "@jupyter-widgets/controls",
          "model_name": "HBoxModel",
          "state": {
            "_view_name": "HBoxView",
            "_dom_classes": [],
            "_model_name": "HBoxModel",
            "_view_module": "@jupyter-widgets/controls",
            "_model_module_version": "1.5.0",
            "_view_count": null,
            "_view_module_version": "1.5.0",
            "box_style": "",
            "layout": "IPY_MODEL_49743c76a70643939fe45404bfeb6e33",
            "_model_module": "@jupyter-widgets/controls",
            "children": [
              "IPY_MODEL_375b4b77fb6b43e48f7bc433a63fc483",
              "IPY_MODEL_f80b583172754e16a42b642caf6ef7d6"
            ]
          }
        },
        "49743c76a70643939fe45404bfeb6e33": {
          "model_module": "@jupyter-widgets/base",
          "model_name": "LayoutModel",
          "state": {
            "_view_name": "LayoutView",
            "grid_template_rows": null,
            "right": null,
            "justify_content": null,
            "_view_module": "@jupyter-widgets/base",
            "overflow": null,
            "_model_module_version": "1.2.0",
            "_view_count": null,
            "flex_flow": null,
            "width": null,
            "min_width": null,
            "border": null,
            "align_items": null,
            "bottom": null,
            "_model_module": "@jupyter-widgets/base",
            "top": null,
            "grid_column": null,
            "overflow_y": null,
            "overflow_x": null,
            "grid_auto_flow": null,
            "grid_area": null,
            "grid_template_columns": null,
            "flex": null,
            "_model_name": "LayoutModel",
            "justify_items": null,
            "grid_row": null,
            "max_height": null,
            "align_content": null,
            "visibility": null,
            "align_self": null,
            "height": null,
            "min_height": null,
            "padding": null,
            "grid_auto_rows": null,
            "grid_gap": null,
            "max_width": null,
            "order": null,
            "_view_module_version": "1.2.0",
            "grid_template_areas": null,
            "object_position": null,
            "object_fit": null,
            "grid_auto_columns": null,
            "margin": null,
            "display": null,
            "left": null
          }
        },
        "375b4b77fb6b43e48f7bc433a63fc483": {
          "model_module": "@jupyter-widgets/controls",
          "model_name": "FloatProgressModel",
          "state": {
            "_view_name": "ProgressView",
            "style": "IPY_MODEL_02f04d7c10704d9893fdd70fb78c9df6",
            "_dom_classes": [],
            "description": "100%",
            "_model_name": "FloatProgressModel",
            "bar_style": "success",
            "max": 2500,
            "_view_module": "@jupyter-widgets/controls",
            "_model_module_version": "1.5.0",
            "value": 2500,
            "_view_count": null,
            "_view_module_version": "1.5.0",
            "orientation": "horizontal",
            "min": 0,
            "description_tooltip": null,
            "_model_module": "@jupyter-widgets/controls",
            "layout": "IPY_MODEL_50f130fc88f04759aeab52c92abfd54d"
          }
        },
        "f80b583172754e16a42b642caf6ef7d6": {
          "model_module": "@jupyter-widgets/controls",
          "model_name": "HTMLModel",
          "state": {
            "_view_name": "HTMLView",
            "style": "IPY_MODEL_17537e5c343646528b90922dae2cc42a",
            "_dom_classes": [],
            "description": "",
            "_model_name": "HTMLModel",
            "placeholder": "​",
            "_view_module": "@jupyter-widgets/controls",
            "_model_module_version": "1.5.0",
            "value": " 2500/2500 [03:28&lt;00:00, 11.97it/s]",
            "_view_count": null,
            "_view_module_version": "1.5.0",
            "description_tooltip": null,
            "_model_module": "@jupyter-widgets/controls",
            "layout": "IPY_MODEL_6d9616a65a4d421eb6e928f48a7b7d8e"
          }
        },
        "02f04d7c10704d9893fdd70fb78c9df6": {
          "model_module": "@jupyter-widgets/controls",
          "model_name": "ProgressStyleModel",
          "state": {
            "_view_name": "StyleView",
            "_model_name": "ProgressStyleModel",
            "description_width": "initial",
            "_view_module": "@jupyter-widgets/base",
            "_model_module_version": "1.5.0",
            "_view_count": null,
            "_view_module_version": "1.2.0",
            "bar_color": null,
            "_model_module": "@jupyter-widgets/controls"
          }
        },
        "50f130fc88f04759aeab52c92abfd54d": {
          "model_module": "@jupyter-widgets/base",
          "model_name": "LayoutModel",
          "state": {
            "_view_name": "LayoutView",
            "grid_template_rows": null,
            "right": null,
            "justify_content": null,
            "_view_module": "@jupyter-widgets/base",
            "overflow": null,
            "_model_module_version": "1.2.0",
            "_view_count": null,
            "flex_flow": null,
            "width": null,
            "min_width": null,
            "border": null,
            "align_items": null,
            "bottom": null,
            "_model_module": "@jupyter-widgets/base",
            "top": null,
            "grid_column": null,
            "overflow_y": null,
            "overflow_x": null,
            "grid_auto_flow": null,
            "grid_area": null,
            "grid_template_columns": null,
            "flex": null,
            "_model_name": "LayoutModel",
            "justify_items": null,
            "grid_row": null,
            "max_height": null,
            "align_content": null,
            "visibility": null,
            "align_self": null,
            "height": null,
            "min_height": null,
            "padding": null,
            "grid_auto_rows": null,
            "grid_gap": null,
            "max_width": null,
            "order": null,
            "_view_module_version": "1.2.0",
            "grid_template_areas": null,
            "object_position": null,
            "object_fit": null,
            "grid_auto_columns": null,
            "margin": null,
            "display": null,
            "left": null
          }
        },
        "17537e5c343646528b90922dae2cc42a": {
          "model_module": "@jupyter-widgets/controls",
          "model_name": "DescriptionStyleModel",
          "state": {
            "_view_name": "StyleView",
            "_model_name": "DescriptionStyleModel",
            "description_width": "",
            "_view_module": "@jupyter-widgets/base",
            "_model_module_version": "1.5.0",
            "_view_count": null,
            "_view_module_version": "1.2.0",
            "_model_module": "@jupyter-widgets/controls"
          }
        },
        "6d9616a65a4d421eb6e928f48a7b7d8e": {
          "model_module": "@jupyter-widgets/base",
          "model_name": "LayoutModel",
          "state": {
            "_view_name": "LayoutView",
            "grid_template_rows": null,
            "right": null,
            "justify_content": null,
            "_view_module": "@jupyter-widgets/base",
            "overflow": null,
            "_model_module_version": "1.2.0",
            "_view_count": null,
            "flex_flow": null,
            "width": null,
            "min_width": null,
            "border": null,
            "align_items": null,
            "bottom": null,
            "_model_module": "@jupyter-widgets/base",
            "top": null,
            "grid_column": null,
            "overflow_y": null,
            "overflow_x": null,
            "grid_auto_flow": null,
            "grid_area": null,
            "grid_template_columns": null,
            "flex": null,
            "_model_name": "LayoutModel",
            "justify_items": null,
            "grid_row": null,
            "max_height": null,
            "align_content": null,
            "visibility": null,
            "align_self": null,
            "height": null,
            "min_height": null,
            "padding": null,
            "grid_auto_rows": null,
            "grid_gap": null,
            "max_width": null,
            "order": null,
            "_view_module_version": "1.2.0",
            "grid_template_areas": null,
            "object_position": null,
            "object_fit": null,
            "grid_auto_columns": null,
            "margin": null,
            "display": null,
            "left": null
          }
        },
        "acf0dbcdd82b4519b94aa0c85940cdfa": {
          "model_module": "@jupyter-widgets/controls",
          "model_name": "HBoxModel",
          "state": {
            "_view_name": "HBoxView",
            "_dom_classes": [],
            "_model_name": "HBoxModel",
            "_view_module": "@jupyter-widgets/controls",
            "_model_module_version": "1.5.0",
            "_view_count": null,
            "_view_module_version": "1.5.0",
            "box_style": "",
            "layout": "IPY_MODEL_db72439f1caa4f1297d2fe94d84fa2cf",
            "_model_module": "@jupyter-widgets/controls",
            "children": [
              "IPY_MODEL_c7535b6f77004f07bc8267b41fb69b28",
              "IPY_MODEL_a47ef85e39594333a0caae799df28a41"
            ]
          }
        },
        "db72439f1caa4f1297d2fe94d84fa2cf": {
          "model_module": "@jupyter-widgets/base",
          "model_name": "LayoutModel",
          "state": {
            "_view_name": "LayoutView",
            "grid_template_rows": null,
            "right": null,
            "justify_content": null,
            "_view_module": "@jupyter-widgets/base",
            "overflow": null,
            "_model_module_version": "1.2.0",
            "_view_count": null,
            "flex_flow": null,
            "width": null,
            "min_width": null,
            "border": null,
            "align_items": null,
            "bottom": null,
            "_model_module": "@jupyter-widgets/base",
            "top": null,
            "grid_column": null,
            "overflow_y": null,
            "overflow_x": null,
            "grid_auto_flow": null,
            "grid_area": null,
            "grid_template_columns": null,
            "flex": null,
            "_model_name": "LayoutModel",
            "justify_items": null,
            "grid_row": null,
            "max_height": null,
            "align_content": null,
            "visibility": null,
            "align_self": null,
            "height": null,
            "min_height": null,
            "padding": null,
            "grid_auto_rows": null,
            "grid_gap": null,
            "max_width": null,
            "order": null,
            "_view_module_version": "1.2.0",
            "grid_template_areas": null,
            "object_position": null,
            "object_fit": null,
            "grid_auto_columns": null,
            "margin": null,
            "display": null,
            "left": null
          }
        },
        "c7535b6f77004f07bc8267b41fb69b28": {
          "model_module": "@jupyter-widgets/controls",
          "model_name": "FloatProgressModel",
          "state": {
            "_view_name": "ProgressView",
            "style": "IPY_MODEL_590753a45c80434684c0c49e02e3e707",
            "_dom_classes": [],
            "description": "100%",
            "_model_name": "FloatProgressModel",
            "bar_style": "success",
            "max": 6463,
            "_view_module": "@jupyter-widgets/controls",
            "_model_module_version": "1.5.0",
            "value": 6463,
            "_view_count": null,
            "_view_module_version": "1.5.0",
            "orientation": "horizontal",
            "min": 0,
            "description_tooltip": null,
            "_model_module": "@jupyter-widgets/controls",
            "layout": "IPY_MODEL_04763a6bed13451281f4e5429bb9df88"
          }
        },
        "a47ef85e39594333a0caae799df28a41": {
          "model_module": "@jupyter-widgets/controls",
          "model_name": "HTMLModel",
          "state": {
            "_view_name": "HTMLView",
            "style": "IPY_MODEL_a9f7fbee2de84e69a0236102fdcfaec1",
            "_dom_classes": [],
            "description": "",
            "_model_name": "HTMLModel",
            "placeholder": "​",
            "_view_module": "@jupyter-widgets/controls",
            "_model_module_version": "1.5.0",
            "value": " 6463/6463 [23:54&lt;00:00,  4.50it/s, loss=0.00646]",
            "_view_count": null,
            "_view_module_version": "1.5.0",
            "description_tooltip": null,
            "_model_module": "@jupyter-widgets/controls",
            "layout": "IPY_MODEL_f5793333d0ee49f39e3aa2bd45b4eebb"
          }
        },
        "590753a45c80434684c0c49e02e3e707": {
          "model_module": "@jupyter-widgets/controls",
          "model_name": "ProgressStyleModel",
          "state": {
            "_view_name": "StyleView",
            "_model_name": "ProgressStyleModel",
            "description_width": "initial",
            "_view_module": "@jupyter-widgets/base",
            "_model_module_version": "1.5.0",
            "_view_count": null,
            "_view_module_version": "1.2.0",
            "bar_color": null,
            "_model_module": "@jupyter-widgets/controls"
          }
        },
        "04763a6bed13451281f4e5429bb9df88": {
          "model_module": "@jupyter-widgets/base",
          "model_name": "LayoutModel",
          "state": {
            "_view_name": "LayoutView",
            "grid_template_rows": null,
            "right": null,
            "justify_content": null,
            "_view_module": "@jupyter-widgets/base",
            "overflow": null,
            "_model_module_version": "1.2.0",
            "_view_count": null,
            "flex_flow": null,
            "width": null,
            "min_width": null,
            "border": null,
            "align_items": null,
            "bottom": null,
            "_model_module": "@jupyter-widgets/base",
            "top": null,
            "grid_column": null,
            "overflow_y": null,
            "overflow_x": null,
            "grid_auto_flow": null,
            "grid_area": null,
            "grid_template_columns": null,
            "flex": null,
            "_model_name": "LayoutModel",
            "justify_items": null,
            "grid_row": null,
            "max_height": null,
            "align_content": null,
            "visibility": null,
            "align_self": null,
            "height": null,
            "min_height": null,
            "padding": null,
            "grid_auto_rows": null,
            "grid_gap": null,
            "max_width": null,
            "order": null,
            "_view_module_version": "1.2.0",
            "grid_template_areas": null,
            "object_position": null,
            "object_fit": null,
            "grid_auto_columns": null,
            "margin": null,
            "display": null,
            "left": null
          }
        },
        "a9f7fbee2de84e69a0236102fdcfaec1": {
          "model_module": "@jupyter-widgets/controls",
          "model_name": "DescriptionStyleModel",
          "state": {
            "_view_name": "StyleView",
            "_model_name": "DescriptionStyleModel",
            "description_width": "",
            "_view_module": "@jupyter-widgets/base",
            "_model_module_version": "1.5.0",
            "_view_count": null,
            "_view_module_version": "1.2.0",
            "_model_module": "@jupyter-widgets/controls"
          }
        },
        "f5793333d0ee49f39e3aa2bd45b4eebb": {
          "model_module": "@jupyter-widgets/base",
          "model_name": "LayoutModel",
          "state": {
            "_view_name": "LayoutView",
            "grid_template_rows": null,
            "right": null,
            "justify_content": null,
            "_view_module": "@jupyter-widgets/base",
            "overflow": null,
            "_model_module_version": "1.2.0",
            "_view_count": null,
            "flex_flow": null,
            "width": null,
            "min_width": null,
            "border": null,
            "align_items": null,
            "bottom": null,
            "_model_module": "@jupyter-widgets/base",
            "top": null,
            "grid_column": null,
            "overflow_y": null,
            "overflow_x": null,
            "grid_auto_flow": null,
            "grid_area": null,
            "grid_template_columns": null,
            "flex": null,
            "_model_name": "LayoutModel",
            "justify_items": null,
            "grid_row": null,
            "max_height": null,
            "align_content": null,
            "visibility": null,
            "align_self": null,
            "height": null,
            "min_height": null,
            "padding": null,
            "grid_auto_rows": null,
            "grid_gap": null,
            "max_width": null,
            "order": null,
            "_view_module_version": "1.2.0",
            "grid_template_areas": null,
            "object_position": null,
            "object_fit": null,
            "grid_auto_columns": null,
            "margin": null,
            "display": null,
            "left": null
          }
        },
        "38ee3efda8914473ab6bfcc692176928": {
          "model_module": "@jupyter-widgets/controls",
          "model_name": "HBoxModel",
          "state": {
            "_view_name": "HBoxView",
            "_dom_classes": [],
            "_model_name": "HBoxModel",
            "_view_module": "@jupyter-widgets/controls",
            "_model_module_version": "1.5.0",
            "_view_count": null,
            "_view_module_version": "1.5.0",
            "box_style": "",
            "layout": "IPY_MODEL_7a8867aa400d41d89c938e1cd753c364",
            "_model_module": "@jupyter-widgets/controls",
            "children": [
              "IPY_MODEL_cdf087a915354bc78c8fd058ec584d50",
              "IPY_MODEL_6998bb3a537c4a628b65304c00197ebe"
            ]
          }
        },
        "7a8867aa400d41d89c938e1cd753c364": {
          "model_module": "@jupyter-widgets/base",
          "model_name": "LayoutModel",
          "state": {
            "_view_name": "LayoutView",
            "grid_template_rows": null,
            "right": null,
            "justify_content": null,
            "_view_module": "@jupyter-widgets/base",
            "overflow": null,
            "_model_module_version": "1.2.0",
            "_view_count": null,
            "flex_flow": null,
            "width": null,
            "min_width": null,
            "border": null,
            "align_items": null,
            "bottom": null,
            "_model_module": "@jupyter-widgets/base",
            "top": null,
            "grid_column": null,
            "overflow_y": null,
            "overflow_x": null,
            "grid_auto_flow": null,
            "grid_area": null,
            "grid_template_columns": null,
            "flex": null,
            "_model_name": "LayoutModel",
            "justify_items": null,
            "grid_row": null,
            "max_height": null,
            "align_content": null,
            "visibility": null,
            "align_self": null,
            "height": null,
            "min_height": null,
            "padding": null,
            "grid_auto_rows": null,
            "grid_gap": null,
            "max_width": null,
            "order": null,
            "_view_module_version": "1.2.0",
            "grid_template_areas": null,
            "object_position": null,
            "object_fit": null,
            "grid_auto_columns": null,
            "margin": null,
            "display": null,
            "left": null
          }
        },
        "cdf087a915354bc78c8fd058ec584d50": {
          "model_module": "@jupyter-widgets/controls",
          "model_name": "FloatProgressModel",
          "state": {
            "_view_name": "ProgressView",
            "style": "IPY_MODEL_b75741c132844056863d625dd063e994",
            "_dom_classes": [],
            "description": "100%",
            "_model_name": "FloatProgressModel",
            "bar_style": "success",
            "max": 2500,
            "_view_module": "@jupyter-widgets/controls",
            "_model_module_version": "1.5.0",
            "value": 2500,
            "_view_count": null,
            "_view_module_version": "1.5.0",
            "orientation": "horizontal",
            "min": 0,
            "description_tooltip": null,
            "_model_module": "@jupyter-widgets/controls",
            "layout": "IPY_MODEL_3b342a2b42764911b4e7c1e40974f8ae"
          }
        },
        "6998bb3a537c4a628b65304c00197ebe": {
          "model_module": "@jupyter-widgets/controls",
          "model_name": "HTMLModel",
          "state": {
            "_view_name": "HTMLView",
            "style": "IPY_MODEL_21a71ccc905248a3a4eeb116c71d553a",
            "_dom_classes": [],
            "description": "",
            "_model_name": "HTMLModel",
            "placeholder": "​",
            "_view_module": "@jupyter-widgets/controls",
            "_model_module_version": "1.5.0",
            "value": " 2500/2500 [03:17&lt;00:00, 12.64it/s]",
            "_view_count": null,
            "_view_module_version": "1.5.0",
            "description_tooltip": null,
            "_model_module": "@jupyter-widgets/controls",
            "layout": "IPY_MODEL_8ab0789ee88b4ea1943abf9fa068d514"
          }
        },
        "b75741c132844056863d625dd063e994": {
          "model_module": "@jupyter-widgets/controls",
          "model_name": "ProgressStyleModel",
          "state": {
            "_view_name": "StyleView",
            "_model_name": "ProgressStyleModel",
            "description_width": "initial",
            "_view_module": "@jupyter-widgets/base",
            "_model_module_version": "1.5.0",
            "_view_count": null,
            "_view_module_version": "1.2.0",
            "bar_color": null,
            "_model_module": "@jupyter-widgets/controls"
          }
        },
        "3b342a2b42764911b4e7c1e40974f8ae": {
          "model_module": "@jupyter-widgets/base",
          "model_name": "LayoutModel",
          "state": {
            "_view_name": "LayoutView",
            "grid_template_rows": null,
            "right": null,
            "justify_content": null,
            "_view_module": "@jupyter-widgets/base",
            "overflow": null,
            "_model_module_version": "1.2.0",
            "_view_count": null,
            "flex_flow": null,
            "width": null,
            "min_width": null,
            "border": null,
            "align_items": null,
            "bottom": null,
            "_model_module": "@jupyter-widgets/base",
            "top": null,
            "grid_column": null,
            "overflow_y": null,
            "overflow_x": null,
            "grid_auto_flow": null,
            "grid_area": null,
            "grid_template_columns": null,
            "flex": null,
            "_model_name": "LayoutModel",
            "justify_items": null,
            "grid_row": null,
            "max_height": null,
            "align_content": null,
            "visibility": null,
            "align_self": null,
            "height": null,
            "min_height": null,
            "padding": null,
            "grid_auto_rows": null,
            "grid_gap": null,
            "max_width": null,
            "order": null,
            "_view_module_version": "1.2.0",
            "grid_template_areas": null,
            "object_position": null,
            "object_fit": null,
            "grid_auto_columns": null,
            "margin": null,
            "display": null,
            "left": null
          }
        },
        "21a71ccc905248a3a4eeb116c71d553a": {
          "model_module": "@jupyter-widgets/controls",
          "model_name": "DescriptionStyleModel",
          "state": {
            "_view_name": "StyleView",
            "_model_name": "DescriptionStyleModel",
            "description_width": "",
            "_view_module": "@jupyter-widgets/base",
            "_model_module_version": "1.5.0",
            "_view_count": null,
            "_view_module_version": "1.2.0",
            "_model_module": "@jupyter-widgets/controls"
          }
        },
        "8ab0789ee88b4ea1943abf9fa068d514": {
          "model_module": "@jupyter-widgets/base",
          "model_name": "LayoutModel",
          "state": {
            "_view_name": "LayoutView",
            "grid_template_rows": null,
            "right": null,
            "justify_content": null,
            "_view_module": "@jupyter-widgets/base",
            "overflow": null,
            "_model_module_version": "1.2.0",
            "_view_count": null,
            "flex_flow": null,
            "width": null,
            "min_width": null,
            "border": null,
            "align_items": null,
            "bottom": null,
            "_model_module": "@jupyter-widgets/base",
            "top": null,
            "grid_column": null,
            "overflow_y": null,
            "overflow_x": null,
            "grid_auto_flow": null,
            "grid_area": null,
            "grid_template_columns": null,
            "flex": null,
            "_model_name": "LayoutModel",
            "justify_items": null,
            "grid_row": null,
            "max_height": null,
            "align_content": null,
            "visibility": null,
            "align_self": null,
            "height": null,
            "min_height": null,
            "padding": null,
            "grid_auto_rows": null,
            "grid_gap": null,
            "max_width": null,
            "order": null,
            "_view_module_version": "1.2.0",
            "grid_template_areas": null,
            "object_position": null,
            "object_fit": null,
            "grid_auto_columns": null,
            "margin": null,
            "display": null,
            "left": null
          }
        },
        "2a9d75445c2b4f20831f77200a4e6324": {
          "model_module": "@jupyter-widgets/controls",
          "model_name": "HBoxModel",
          "state": {
            "_view_name": "HBoxView",
            "_dom_classes": [],
            "_model_name": "HBoxModel",
            "_view_module": "@jupyter-widgets/controls",
            "_model_module_version": "1.5.0",
            "_view_count": null,
            "_view_module_version": "1.5.0",
            "box_style": "",
            "layout": "IPY_MODEL_d7c537b5f99c4b26939e9c2500b612c9",
            "_model_module": "@jupyter-widgets/controls",
            "children": [
              "IPY_MODEL_47d11631211640caac52d9055ab2ae30",
              "IPY_MODEL_2f19cce6a5c0456982b7b6887ce6198c"
            ]
          }
        },
        "d7c537b5f99c4b26939e9c2500b612c9": {
          "model_module": "@jupyter-widgets/base",
          "model_name": "LayoutModel",
          "state": {
            "_view_name": "LayoutView",
            "grid_template_rows": null,
            "right": null,
            "justify_content": null,
            "_view_module": "@jupyter-widgets/base",
            "overflow": null,
            "_model_module_version": "1.2.0",
            "_view_count": null,
            "flex_flow": null,
            "width": null,
            "min_width": null,
            "border": null,
            "align_items": null,
            "bottom": null,
            "_model_module": "@jupyter-widgets/base",
            "top": null,
            "grid_column": null,
            "overflow_y": null,
            "overflow_x": null,
            "grid_auto_flow": null,
            "grid_area": null,
            "grid_template_columns": null,
            "flex": null,
            "_model_name": "LayoutModel",
            "justify_items": null,
            "grid_row": null,
            "max_height": null,
            "align_content": null,
            "visibility": null,
            "align_self": null,
            "height": null,
            "min_height": null,
            "padding": null,
            "grid_auto_rows": null,
            "grid_gap": null,
            "max_width": null,
            "order": null,
            "_view_module_version": "1.2.0",
            "grid_template_areas": null,
            "object_position": null,
            "object_fit": null,
            "grid_auto_columns": null,
            "margin": null,
            "display": null,
            "left": null
          }
        },
        "47d11631211640caac52d9055ab2ae30": {
          "model_module": "@jupyter-widgets/controls",
          "model_name": "FloatProgressModel",
          "state": {
            "_view_name": "ProgressView",
            "style": "IPY_MODEL_2d03f84262574c55ab331195bc455a37",
            "_dom_classes": [],
            "description": "100%",
            "_model_name": "FloatProgressModel",
            "bar_style": "success",
            "max": 6463,
            "_view_module": "@jupyter-widgets/controls",
            "_model_module_version": "1.5.0",
            "value": 6463,
            "_view_count": null,
            "_view_module_version": "1.5.0",
            "orientation": "horizontal",
            "min": 0,
            "description_tooltip": null,
            "_model_module": "@jupyter-widgets/controls",
            "layout": "IPY_MODEL_b0434f016c3a41d499753e60219517fc"
          }
        },
        "2f19cce6a5c0456982b7b6887ce6198c": {
          "model_module": "@jupyter-widgets/controls",
          "model_name": "HTMLModel",
          "state": {
            "_view_name": "HTMLView",
            "style": "IPY_MODEL_f27d8912ad5945f6816103129ac32417",
            "_dom_classes": [],
            "description": "",
            "_model_name": "HTMLModel",
            "placeholder": "​",
            "_view_module": "@jupyter-widgets/controls",
            "_model_module_version": "1.5.0",
            "value": " 6463/6463 [23:51&lt;00:00,  4.51it/s, loss=0.00547]",
            "_view_count": null,
            "_view_module_version": "1.5.0",
            "description_tooltip": null,
            "_model_module": "@jupyter-widgets/controls",
            "layout": "IPY_MODEL_cb3d8fa2a81642cea353eabd25bacc62"
          }
        },
        "2d03f84262574c55ab331195bc455a37": {
          "model_module": "@jupyter-widgets/controls",
          "model_name": "ProgressStyleModel",
          "state": {
            "_view_name": "StyleView",
            "_model_name": "ProgressStyleModel",
            "description_width": "initial",
            "_view_module": "@jupyter-widgets/base",
            "_model_module_version": "1.5.0",
            "_view_count": null,
            "_view_module_version": "1.2.0",
            "bar_color": null,
            "_model_module": "@jupyter-widgets/controls"
          }
        },
        "b0434f016c3a41d499753e60219517fc": {
          "model_module": "@jupyter-widgets/base",
          "model_name": "LayoutModel",
          "state": {
            "_view_name": "LayoutView",
            "grid_template_rows": null,
            "right": null,
            "justify_content": null,
            "_view_module": "@jupyter-widgets/base",
            "overflow": null,
            "_model_module_version": "1.2.0",
            "_view_count": null,
            "flex_flow": null,
            "width": null,
            "min_width": null,
            "border": null,
            "align_items": null,
            "bottom": null,
            "_model_module": "@jupyter-widgets/base",
            "top": null,
            "grid_column": null,
            "overflow_y": null,
            "overflow_x": null,
            "grid_auto_flow": null,
            "grid_area": null,
            "grid_template_columns": null,
            "flex": null,
            "_model_name": "LayoutModel",
            "justify_items": null,
            "grid_row": null,
            "max_height": null,
            "align_content": null,
            "visibility": null,
            "align_self": null,
            "height": null,
            "min_height": null,
            "padding": null,
            "grid_auto_rows": null,
            "grid_gap": null,
            "max_width": null,
            "order": null,
            "_view_module_version": "1.2.0",
            "grid_template_areas": null,
            "object_position": null,
            "object_fit": null,
            "grid_auto_columns": null,
            "margin": null,
            "display": null,
            "left": null
          }
        },
        "f27d8912ad5945f6816103129ac32417": {
          "model_module": "@jupyter-widgets/controls",
          "model_name": "DescriptionStyleModel",
          "state": {
            "_view_name": "StyleView",
            "_model_name": "DescriptionStyleModel",
            "description_width": "",
            "_view_module": "@jupyter-widgets/base",
            "_model_module_version": "1.5.0",
            "_view_count": null,
            "_view_module_version": "1.2.0",
            "_model_module": "@jupyter-widgets/controls"
          }
        },
        "cb3d8fa2a81642cea353eabd25bacc62": {
          "model_module": "@jupyter-widgets/base",
          "model_name": "LayoutModel",
          "state": {
            "_view_name": "LayoutView",
            "grid_template_rows": null,
            "right": null,
            "justify_content": null,
            "_view_module": "@jupyter-widgets/base",
            "overflow": null,
            "_model_module_version": "1.2.0",
            "_view_count": null,
            "flex_flow": null,
            "width": null,
            "min_width": null,
            "border": null,
            "align_items": null,
            "bottom": null,
            "_model_module": "@jupyter-widgets/base",
            "top": null,
            "grid_column": null,
            "overflow_y": null,
            "overflow_x": null,
            "grid_auto_flow": null,
            "grid_area": null,
            "grid_template_columns": null,
            "flex": null,
            "_model_name": "LayoutModel",
            "justify_items": null,
            "grid_row": null,
            "max_height": null,
            "align_content": null,
            "visibility": null,
            "align_self": null,
            "height": null,
            "min_height": null,
            "padding": null,
            "grid_auto_rows": null,
            "grid_gap": null,
            "max_width": null,
            "order": null,
            "_view_module_version": "1.2.0",
            "grid_template_areas": null,
            "object_position": null,
            "object_fit": null,
            "grid_auto_columns": null,
            "margin": null,
            "display": null,
            "left": null
          }
        },
        "0e24d476b0a94ce7b0c0fb422086b9da": {
          "model_module": "@jupyter-widgets/controls",
          "model_name": "HBoxModel",
          "state": {
            "_view_name": "HBoxView",
            "_dom_classes": [],
            "_model_name": "HBoxModel",
            "_view_module": "@jupyter-widgets/controls",
            "_model_module_version": "1.5.0",
            "_view_count": null,
            "_view_module_version": "1.5.0",
            "box_style": "",
            "layout": "IPY_MODEL_de23137bffc844acbf7b41ec2f042697",
            "_model_module": "@jupyter-widgets/controls",
            "children": [
              "IPY_MODEL_e27b56914e584860a219947348d18831",
              "IPY_MODEL_a2077e22caf5406bb6daec49d0b75c3c"
            ]
          }
        },
        "de23137bffc844acbf7b41ec2f042697": {
          "model_module": "@jupyter-widgets/base",
          "model_name": "LayoutModel",
          "state": {
            "_view_name": "LayoutView",
            "grid_template_rows": null,
            "right": null,
            "justify_content": null,
            "_view_module": "@jupyter-widgets/base",
            "overflow": null,
            "_model_module_version": "1.2.0",
            "_view_count": null,
            "flex_flow": null,
            "width": null,
            "min_width": null,
            "border": null,
            "align_items": null,
            "bottom": null,
            "_model_module": "@jupyter-widgets/base",
            "top": null,
            "grid_column": null,
            "overflow_y": null,
            "overflow_x": null,
            "grid_auto_flow": null,
            "grid_area": null,
            "grid_template_columns": null,
            "flex": null,
            "_model_name": "LayoutModel",
            "justify_items": null,
            "grid_row": null,
            "max_height": null,
            "align_content": null,
            "visibility": null,
            "align_self": null,
            "height": null,
            "min_height": null,
            "padding": null,
            "grid_auto_rows": null,
            "grid_gap": null,
            "max_width": null,
            "order": null,
            "_view_module_version": "1.2.0",
            "grid_template_areas": null,
            "object_position": null,
            "object_fit": null,
            "grid_auto_columns": null,
            "margin": null,
            "display": null,
            "left": null
          }
        },
        "e27b56914e584860a219947348d18831": {
          "model_module": "@jupyter-widgets/controls",
          "model_name": "FloatProgressModel",
          "state": {
            "_view_name": "ProgressView",
            "style": "IPY_MODEL_6776f6c7e61c4595a2fba180ff0cba7b",
            "_dom_classes": [],
            "description": "100%",
            "_model_name": "FloatProgressModel",
            "bar_style": "success",
            "max": 2500,
            "_view_module": "@jupyter-widgets/controls",
            "_model_module_version": "1.5.0",
            "value": 2500,
            "_view_count": null,
            "_view_module_version": "1.5.0",
            "orientation": "horizontal",
            "min": 0,
            "description_tooltip": null,
            "_model_module": "@jupyter-widgets/controls",
            "layout": "IPY_MODEL_1305f1a2a76145bca8e91c5496f374a9"
          }
        },
        "a2077e22caf5406bb6daec49d0b75c3c": {
          "model_module": "@jupyter-widgets/controls",
          "model_name": "HTMLModel",
          "state": {
            "_view_name": "HTMLView",
            "style": "IPY_MODEL_2d770374aab64eb6850bdcfba8afe05a",
            "_dom_classes": [],
            "description": "",
            "_model_name": "HTMLModel",
            "placeholder": "​",
            "_view_module": "@jupyter-widgets/controls",
            "_model_module_version": "1.5.0",
            "value": " 2500/2500 [03:17&lt;00:00, 12.65it/s]",
            "_view_count": null,
            "_view_module_version": "1.5.0",
            "description_tooltip": null,
            "_model_module": "@jupyter-widgets/controls",
            "layout": "IPY_MODEL_5166eb6621474a7d8a81022c853f379f"
          }
        },
        "6776f6c7e61c4595a2fba180ff0cba7b": {
          "model_module": "@jupyter-widgets/controls",
          "model_name": "ProgressStyleModel",
          "state": {
            "_view_name": "StyleView",
            "_model_name": "ProgressStyleModel",
            "description_width": "initial",
            "_view_module": "@jupyter-widgets/base",
            "_model_module_version": "1.5.0",
            "_view_count": null,
            "_view_module_version": "1.2.0",
            "bar_color": null,
            "_model_module": "@jupyter-widgets/controls"
          }
        },
        "1305f1a2a76145bca8e91c5496f374a9": {
          "model_module": "@jupyter-widgets/base",
          "model_name": "LayoutModel",
          "state": {
            "_view_name": "LayoutView",
            "grid_template_rows": null,
            "right": null,
            "justify_content": null,
            "_view_module": "@jupyter-widgets/base",
            "overflow": null,
            "_model_module_version": "1.2.0",
            "_view_count": null,
            "flex_flow": null,
            "width": null,
            "min_width": null,
            "border": null,
            "align_items": null,
            "bottom": null,
            "_model_module": "@jupyter-widgets/base",
            "top": null,
            "grid_column": null,
            "overflow_y": null,
            "overflow_x": null,
            "grid_auto_flow": null,
            "grid_area": null,
            "grid_template_columns": null,
            "flex": null,
            "_model_name": "LayoutModel",
            "justify_items": null,
            "grid_row": null,
            "max_height": null,
            "align_content": null,
            "visibility": null,
            "align_self": null,
            "height": null,
            "min_height": null,
            "padding": null,
            "grid_auto_rows": null,
            "grid_gap": null,
            "max_width": null,
            "order": null,
            "_view_module_version": "1.2.0",
            "grid_template_areas": null,
            "object_position": null,
            "object_fit": null,
            "grid_auto_columns": null,
            "margin": null,
            "display": null,
            "left": null
          }
        },
        "2d770374aab64eb6850bdcfba8afe05a": {
          "model_module": "@jupyter-widgets/controls",
          "model_name": "DescriptionStyleModel",
          "state": {
            "_view_name": "StyleView",
            "_model_name": "DescriptionStyleModel",
            "description_width": "",
            "_view_module": "@jupyter-widgets/base",
            "_model_module_version": "1.5.0",
            "_view_count": null,
            "_view_module_version": "1.2.0",
            "_model_module": "@jupyter-widgets/controls"
          }
        },
        "5166eb6621474a7d8a81022c853f379f": {
          "model_module": "@jupyter-widgets/base",
          "model_name": "LayoutModel",
          "state": {
            "_view_name": "LayoutView",
            "grid_template_rows": null,
            "right": null,
            "justify_content": null,
            "_view_module": "@jupyter-widgets/base",
            "overflow": null,
            "_model_module_version": "1.2.0",
            "_view_count": null,
            "flex_flow": null,
            "width": null,
            "min_width": null,
            "border": null,
            "align_items": null,
            "bottom": null,
            "_model_module": "@jupyter-widgets/base",
            "top": null,
            "grid_column": null,
            "overflow_y": null,
            "overflow_x": null,
            "grid_auto_flow": null,
            "grid_area": null,
            "grid_template_columns": null,
            "flex": null,
            "_model_name": "LayoutModel",
            "justify_items": null,
            "grid_row": null,
            "max_height": null,
            "align_content": null,
            "visibility": null,
            "align_self": null,
            "height": null,
            "min_height": null,
            "padding": null,
            "grid_auto_rows": null,
            "grid_gap": null,
            "max_width": null,
            "order": null,
            "_view_module_version": "1.2.0",
            "grid_template_areas": null,
            "object_position": null,
            "object_fit": null,
            "grid_auto_columns": null,
            "margin": null,
            "display": null,
            "left": null
          }
        },
        "428c8c7e556c4256b93aecbc43c456f6": {
          "model_module": "@jupyter-widgets/controls",
          "model_name": "HBoxModel",
          "state": {
            "_view_name": "HBoxView",
            "_dom_classes": [],
            "_model_name": "HBoxModel",
            "_view_module": "@jupyter-widgets/controls",
            "_model_module_version": "1.5.0",
            "_view_count": null,
            "_view_module_version": "1.5.0",
            "box_style": "",
            "layout": "IPY_MODEL_d2d5a632267a476fafa12e752b0cfec3",
            "_model_module": "@jupyter-widgets/controls",
            "children": [
              "IPY_MODEL_553e9b4c649e42fa8da2dc72e2c182a4",
              "IPY_MODEL_16020c50daff44dab3eeeaca15fe53ba"
            ]
          }
        },
        "d2d5a632267a476fafa12e752b0cfec3": {
          "model_module": "@jupyter-widgets/base",
          "model_name": "LayoutModel",
          "state": {
            "_view_name": "LayoutView",
            "grid_template_rows": null,
            "right": null,
            "justify_content": null,
            "_view_module": "@jupyter-widgets/base",
            "overflow": null,
            "_model_module_version": "1.2.0",
            "_view_count": null,
            "flex_flow": null,
            "width": null,
            "min_width": null,
            "border": null,
            "align_items": null,
            "bottom": null,
            "_model_module": "@jupyter-widgets/base",
            "top": null,
            "grid_column": null,
            "overflow_y": null,
            "overflow_x": null,
            "grid_auto_flow": null,
            "grid_area": null,
            "grid_template_columns": null,
            "flex": null,
            "_model_name": "LayoutModel",
            "justify_items": null,
            "grid_row": null,
            "max_height": null,
            "align_content": null,
            "visibility": null,
            "align_self": null,
            "height": null,
            "min_height": null,
            "padding": null,
            "grid_auto_rows": null,
            "grid_gap": null,
            "max_width": null,
            "order": null,
            "_view_module_version": "1.2.0",
            "grid_template_areas": null,
            "object_position": null,
            "object_fit": null,
            "grid_auto_columns": null,
            "margin": null,
            "display": null,
            "left": null
          }
        },
        "553e9b4c649e42fa8da2dc72e2c182a4": {
          "model_module": "@jupyter-widgets/controls",
          "model_name": "FloatProgressModel",
          "state": {
            "_view_name": "ProgressView",
            "style": "IPY_MODEL_023cb7f59c414b47bb98ae14141e8921",
            "_dom_classes": [],
            "description": "100%",
            "_model_name": "FloatProgressModel",
            "bar_style": "success",
            "max": 6463,
            "_view_module": "@jupyter-widgets/controls",
            "_model_module_version": "1.5.0",
            "value": 6463,
            "_view_count": null,
            "_view_module_version": "1.5.0",
            "orientation": "horizontal",
            "min": 0,
            "description_tooltip": null,
            "_model_module": "@jupyter-widgets/controls",
            "layout": "IPY_MODEL_af85a790075d4deb82eb89aafbd4fe48"
          }
        },
        "16020c50daff44dab3eeeaca15fe53ba": {
          "model_module": "@jupyter-widgets/controls",
          "model_name": "HTMLModel",
          "state": {
            "_view_name": "HTMLView",
            "style": "IPY_MODEL_2d167f2aa350475d82544982d1edebc0",
            "_dom_classes": [],
            "description": "",
            "_model_name": "HTMLModel",
            "placeholder": "​",
            "_view_module": "@jupyter-widgets/controls",
            "_model_module_version": "1.5.0",
            "value": " 6463/6463 [23:55&lt;00:00,  4.50it/s, loss=0.00464]",
            "_view_count": null,
            "_view_module_version": "1.5.0",
            "description_tooltip": null,
            "_model_module": "@jupyter-widgets/controls",
            "layout": "IPY_MODEL_d33a7d77574c4488818ef0cf9fcf8fcd"
          }
        },
        "023cb7f59c414b47bb98ae14141e8921": {
          "model_module": "@jupyter-widgets/controls",
          "model_name": "ProgressStyleModel",
          "state": {
            "_view_name": "StyleView",
            "_model_name": "ProgressStyleModel",
            "description_width": "initial",
            "_view_module": "@jupyter-widgets/base",
            "_model_module_version": "1.5.0",
            "_view_count": null,
            "_view_module_version": "1.2.0",
            "bar_color": null,
            "_model_module": "@jupyter-widgets/controls"
          }
        },
        "af85a790075d4deb82eb89aafbd4fe48": {
          "model_module": "@jupyter-widgets/base",
          "model_name": "LayoutModel",
          "state": {
            "_view_name": "LayoutView",
            "grid_template_rows": null,
            "right": null,
            "justify_content": null,
            "_view_module": "@jupyter-widgets/base",
            "overflow": null,
            "_model_module_version": "1.2.0",
            "_view_count": null,
            "flex_flow": null,
            "width": null,
            "min_width": null,
            "border": null,
            "align_items": null,
            "bottom": null,
            "_model_module": "@jupyter-widgets/base",
            "top": null,
            "grid_column": null,
            "overflow_y": null,
            "overflow_x": null,
            "grid_auto_flow": null,
            "grid_area": null,
            "grid_template_columns": null,
            "flex": null,
            "_model_name": "LayoutModel",
            "justify_items": null,
            "grid_row": null,
            "max_height": null,
            "align_content": null,
            "visibility": null,
            "align_self": null,
            "height": null,
            "min_height": null,
            "padding": null,
            "grid_auto_rows": null,
            "grid_gap": null,
            "max_width": null,
            "order": null,
            "_view_module_version": "1.2.0",
            "grid_template_areas": null,
            "object_position": null,
            "object_fit": null,
            "grid_auto_columns": null,
            "margin": null,
            "display": null,
            "left": null
          }
        },
        "2d167f2aa350475d82544982d1edebc0": {
          "model_module": "@jupyter-widgets/controls",
          "model_name": "DescriptionStyleModel",
          "state": {
            "_view_name": "StyleView",
            "_model_name": "DescriptionStyleModel",
            "description_width": "",
            "_view_module": "@jupyter-widgets/base",
            "_model_module_version": "1.5.0",
            "_view_count": null,
            "_view_module_version": "1.2.0",
            "_model_module": "@jupyter-widgets/controls"
          }
        },
        "d33a7d77574c4488818ef0cf9fcf8fcd": {
          "model_module": "@jupyter-widgets/base",
          "model_name": "LayoutModel",
          "state": {
            "_view_name": "LayoutView",
            "grid_template_rows": null,
            "right": null,
            "justify_content": null,
            "_view_module": "@jupyter-widgets/base",
            "overflow": null,
            "_model_module_version": "1.2.0",
            "_view_count": null,
            "flex_flow": null,
            "width": null,
            "min_width": null,
            "border": null,
            "align_items": null,
            "bottom": null,
            "_model_module": "@jupyter-widgets/base",
            "top": null,
            "grid_column": null,
            "overflow_y": null,
            "overflow_x": null,
            "grid_auto_flow": null,
            "grid_area": null,
            "grid_template_columns": null,
            "flex": null,
            "_model_name": "LayoutModel",
            "justify_items": null,
            "grid_row": null,
            "max_height": null,
            "align_content": null,
            "visibility": null,
            "align_self": null,
            "height": null,
            "min_height": null,
            "padding": null,
            "grid_auto_rows": null,
            "grid_gap": null,
            "max_width": null,
            "order": null,
            "_view_module_version": "1.2.0",
            "grid_template_areas": null,
            "object_position": null,
            "object_fit": null,
            "grid_auto_columns": null,
            "margin": null,
            "display": null,
            "left": null
          }
        },
        "de2dbb18c91c458b98abde8981844ee1": {
          "model_module": "@jupyter-widgets/controls",
          "model_name": "HBoxModel",
          "state": {
            "_view_name": "HBoxView",
            "_dom_classes": [],
            "_model_name": "HBoxModel",
            "_view_module": "@jupyter-widgets/controls",
            "_model_module_version": "1.5.0",
            "_view_count": null,
            "_view_module_version": "1.5.0",
            "box_style": "",
            "layout": "IPY_MODEL_4101846a8b6d4e32a68299be7dd9667e",
            "_model_module": "@jupyter-widgets/controls",
            "children": [
              "IPY_MODEL_5b3ed252bf724b25b2d0a1a1917581ed",
              "IPY_MODEL_d7bd489f6d014fac866aa2698af01b0b"
            ]
          }
        },
        "4101846a8b6d4e32a68299be7dd9667e": {
          "model_module": "@jupyter-widgets/base",
          "model_name": "LayoutModel",
          "state": {
            "_view_name": "LayoutView",
            "grid_template_rows": null,
            "right": null,
            "justify_content": null,
            "_view_module": "@jupyter-widgets/base",
            "overflow": null,
            "_model_module_version": "1.2.0",
            "_view_count": null,
            "flex_flow": null,
            "width": null,
            "min_width": null,
            "border": null,
            "align_items": null,
            "bottom": null,
            "_model_module": "@jupyter-widgets/base",
            "top": null,
            "grid_column": null,
            "overflow_y": null,
            "overflow_x": null,
            "grid_auto_flow": null,
            "grid_area": null,
            "grid_template_columns": null,
            "flex": null,
            "_model_name": "LayoutModel",
            "justify_items": null,
            "grid_row": null,
            "max_height": null,
            "align_content": null,
            "visibility": null,
            "align_self": null,
            "height": null,
            "min_height": null,
            "padding": null,
            "grid_auto_rows": null,
            "grid_gap": null,
            "max_width": null,
            "order": null,
            "_view_module_version": "1.2.0",
            "grid_template_areas": null,
            "object_position": null,
            "object_fit": null,
            "grid_auto_columns": null,
            "margin": null,
            "display": null,
            "left": null
          }
        },
        "5b3ed252bf724b25b2d0a1a1917581ed": {
          "model_module": "@jupyter-widgets/controls",
          "model_name": "FloatProgressModel",
          "state": {
            "_view_name": "ProgressView",
            "style": "IPY_MODEL_09845757f2a74f868e1097d8d78537cc",
            "_dom_classes": [],
            "description": "100%",
            "_model_name": "FloatProgressModel",
            "bar_style": "success",
            "max": 2500,
            "_view_module": "@jupyter-widgets/controls",
            "_model_module_version": "1.5.0",
            "value": 2500,
            "_view_count": null,
            "_view_module_version": "1.5.0",
            "orientation": "horizontal",
            "min": 0,
            "description_tooltip": null,
            "_model_module": "@jupyter-widgets/controls",
            "layout": "IPY_MODEL_412bf5cb1d6c416498bc0e8bb1dc5950"
          }
        },
        "d7bd489f6d014fac866aa2698af01b0b": {
          "model_module": "@jupyter-widgets/controls",
          "model_name": "HTMLModel",
          "state": {
            "_view_name": "HTMLView",
            "style": "IPY_MODEL_257afdd09fdf4322b0898cf042b29831",
            "_dom_classes": [],
            "description": "",
            "_model_name": "HTMLModel",
            "placeholder": "​",
            "_view_module": "@jupyter-widgets/controls",
            "_model_module_version": "1.5.0",
            "value": " 2500/2500 [03:17&lt;00:00, 12.64it/s]",
            "_view_count": null,
            "_view_module_version": "1.5.0",
            "description_tooltip": null,
            "_model_module": "@jupyter-widgets/controls",
            "layout": "IPY_MODEL_bc59b3a4b7fe4bacbc7885d5ccb1e6b6"
          }
        },
        "09845757f2a74f868e1097d8d78537cc": {
          "model_module": "@jupyter-widgets/controls",
          "model_name": "ProgressStyleModel",
          "state": {
            "_view_name": "StyleView",
            "_model_name": "ProgressStyleModel",
            "description_width": "initial",
            "_view_module": "@jupyter-widgets/base",
            "_model_module_version": "1.5.0",
            "_view_count": null,
            "_view_module_version": "1.2.0",
            "bar_color": null,
            "_model_module": "@jupyter-widgets/controls"
          }
        },
        "412bf5cb1d6c416498bc0e8bb1dc5950": {
          "model_module": "@jupyter-widgets/base",
          "model_name": "LayoutModel",
          "state": {
            "_view_name": "LayoutView",
            "grid_template_rows": null,
            "right": null,
            "justify_content": null,
            "_view_module": "@jupyter-widgets/base",
            "overflow": null,
            "_model_module_version": "1.2.0",
            "_view_count": null,
            "flex_flow": null,
            "width": null,
            "min_width": null,
            "border": null,
            "align_items": null,
            "bottom": null,
            "_model_module": "@jupyter-widgets/base",
            "top": null,
            "grid_column": null,
            "overflow_y": null,
            "overflow_x": null,
            "grid_auto_flow": null,
            "grid_area": null,
            "grid_template_columns": null,
            "flex": null,
            "_model_name": "LayoutModel",
            "justify_items": null,
            "grid_row": null,
            "max_height": null,
            "align_content": null,
            "visibility": null,
            "align_self": null,
            "height": null,
            "min_height": null,
            "padding": null,
            "grid_auto_rows": null,
            "grid_gap": null,
            "max_width": null,
            "order": null,
            "_view_module_version": "1.2.0",
            "grid_template_areas": null,
            "object_position": null,
            "object_fit": null,
            "grid_auto_columns": null,
            "margin": null,
            "display": null,
            "left": null
          }
        },
        "257afdd09fdf4322b0898cf042b29831": {
          "model_module": "@jupyter-widgets/controls",
          "model_name": "DescriptionStyleModel",
          "state": {
            "_view_name": "StyleView",
            "_model_name": "DescriptionStyleModel",
            "description_width": "",
            "_view_module": "@jupyter-widgets/base",
            "_model_module_version": "1.5.0",
            "_view_count": null,
            "_view_module_version": "1.2.0",
            "_model_module": "@jupyter-widgets/controls"
          }
        },
        "bc59b3a4b7fe4bacbc7885d5ccb1e6b6": {
          "model_module": "@jupyter-widgets/base",
          "model_name": "LayoutModel",
          "state": {
            "_view_name": "LayoutView",
            "grid_template_rows": null,
            "right": null,
            "justify_content": null,
            "_view_module": "@jupyter-widgets/base",
            "overflow": null,
            "_model_module_version": "1.2.0",
            "_view_count": null,
            "flex_flow": null,
            "width": null,
            "min_width": null,
            "border": null,
            "align_items": null,
            "bottom": null,
            "_model_module": "@jupyter-widgets/base",
            "top": null,
            "grid_column": null,
            "overflow_y": null,
            "overflow_x": null,
            "grid_auto_flow": null,
            "grid_area": null,
            "grid_template_columns": null,
            "flex": null,
            "_model_name": "LayoutModel",
            "justify_items": null,
            "grid_row": null,
            "max_height": null,
            "align_content": null,
            "visibility": null,
            "align_self": null,
            "height": null,
            "min_height": null,
            "padding": null,
            "grid_auto_rows": null,
            "grid_gap": null,
            "max_width": null,
            "order": null,
            "_view_module_version": "1.2.0",
            "grid_template_areas": null,
            "object_position": null,
            "object_fit": null,
            "grid_auto_columns": null,
            "margin": null,
            "display": null,
            "left": null
          }
        },
        "28a6f3e461ce4b81bb75bc0ec4010ff8": {
          "model_module": "@jupyter-widgets/controls",
          "model_name": "HBoxModel",
          "state": {
            "_view_name": "HBoxView",
            "_dom_classes": [],
            "_model_name": "HBoxModel",
            "_view_module": "@jupyter-widgets/controls",
            "_model_module_version": "1.5.0",
            "_view_count": null,
            "_view_module_version": "1.5.0",
            "box_style": "",
            "layout": "IPY_MODEL_ea15b8925e83456dabfb9375ca7aa365",
            "_model_module": "@jupyter-widgets/controls",
            "children": [
              "IPY_MODEL_d5da280a63654b38b46ae0f56213f175",
              "IPY_MODEL_87cd38860e2f43d5a9dc7a94d7c331f7"
            ]
          }
        },
        "ea15b8925e83456dabfb9375ca7aa365": {
          "model_module": "@jupyter-widgets/base",
          "model_name": "LayoutModel",
          "state": {
            "_view_name": "LayoutView",
            "grid_template_rows": null,
            "right": null,
            "justify_content": null,
            "_view_module": "@jupyter-widgets/base",
            "overflow": null,
            "_model_module_version": "1.2.0",
            "_view_count": null,
            "flex_flow": null,
            "width": null,
            "min_width": null,
            "border": null,
            "align_items": null,
            "bottom": null,
            "_model_module": "@jupyter-widgets/base",
            "top": null,
            "grid_column": null,
            "overflow_y": null,
            "overflow_x": null,
            "grid_auto_flow": null,
            "grid_area": null,
            "grid_template_columns": null,
            "flex": null,
            "_model_name": "LayoutModel",
            "justify_items": null,
            "grid_row": null,
            "max_height": null,
            "align_content": null,
            "visibility": null,
            "align_self": null,
            "height": null,
            "min_height": null,
            "padding": null,
            "grid_auto_rows": null,
            "grid_gap": null,
            "max_width": null,
            "order": null,
            "_view_module_version": "1.2.0",
            "grid_template_areas": null,
            "object_position": null,
            "object_fit": null,
            "grid_auto_columns": null,
            "margin": null,
            "display": null,
            "left": null
          }
        },
        "d5da280a63654b38b46ae0f56213f175": {
          "model_module": "@jupyter-widgets/controls",
          "model_name": "FloatProgressModel",
          "state": {
            "_view_name": "ProgressView",
            "style": "IPY_MODEL_f11af1ff4ac146e4a5f2a9bc6940636d",
            "_dom_classes": [],
            "description": "100%",
            "_model_name": "FloatProgressModel",
            "bar_style": "success",
            "max": 6463,
            "_view_module": "@jupyter-widgets/controls",
            "_model_module_version": "1.5.0",
            "value": 6463,
            "_view_count": null,
            "_view_module_version": "1.5.0",
            "orientation": "horizontal",
            "min": 0,
            "description_tooltip": null,
            "_model_module": "@jupyter-widgets/controls",
            "layout": "IPY_MODEL_5db3ecd6640244f8b473acb70fd3d4a7"
          }
        },
        "87cd38860e2f43d5a9dc7a94d7c331f7": {
          "model_module": "@jupyter-widgets/controls",
          "model_name": "HTMLModel",
          "state": {
            "_view_name": "HTMLView",
            "style": "IPY_MODEL_27439c3cef554eeea17ea880a43d81e8",
            "_dom_classes": [],
            "description": "",
            "_model_name": "HTMLModel",
            "placeholder": "​",
            "_view_module": "@jupyter-widgets/controls",
            "_model_module_version": "1.5.0",
            "value": " 6463/6463 [23:56&lt;00:00,  4.50it/s, loss=0.00404]",
            "_view_count": null,
            "_view_module_version": "1.5.0",
            "description_tooltip": null,
            "_model_module": "@jupyter-widgets/controls",
            "layout": "IPY_MODEL_b33bf53eb6814707945f0243dc1cfbc6"
          }
        },
        "f11af1ff4ac146e4a5f2a9bc6940636d": {
          "model_module": "@jupyter-widgets/controls",
          "model_name": "ProgressStyleModel",
          "state": {
            "_view_name": "StyleView",
            "_model_name": "ProgressStyleModel",
            "description_width": "initial",
            "_view_module": "@jupyter-widgets/base",
            "_model_module_version": "1.5.0",
            "_view_count": null,
            "_view_module_version": "1.2.0",
            "bar_color": null,
            "_model_module": "@jupyter-widgets/controls"
          }
        },
        "5db3ecd6640244f8b473acb70fd3d4a7": {
          "model_module": "@jupyter-widgets/base",
          "model_name": "LayoutModel",
          "state": {
            "_view_name": "LayoutView",
            "grid_template_rows": null,
            "right": null,
            "justify_content": null,
            "_view_module": "@jupyter-widgets/base",
            "overflow": null,
            "_model_module_version": "1.2.0",
            "_view_count": null,
            "flex_flow": null,
            "width": null,
            "min_width": null,
            "border": null,
            "align_items": null,
            "bottom": null,
            "_model_module": "@jupyter-widgets/base",
            "top": null,
            "grid_column": null,
            "overflow_y": null,
            "overflow_x": null,
            "grid_auto_flow": null,
            "grid_area": null,
            "grid_template_columns": null,
            "flex": null,
            "_model_name": "LayoutModel",
            "justify_items": null,
            "grid_row": null,
            "max_height": null,
            "align_content": null,
            "visibility": null,
            "align_self": null,
            "height": null,
            "min_height": null,
            "padding": null,
            "grid_auto_rows": null,
            "grid_gap": null,
            "max_width": null,
            "order": null,
            "_view_module_version": "1.2.0",
            "grid_template_areas": null,
            "object_position": null,
            "object_fit": null,
            "grid_auto_columns": null,
            "margin": null,
            "display": null,
            "left": null
          }
        },
        "27439c3cef554eeea17ea880a43d81e8": {
          "model_module": "@jupyter-widgets/controls",
          "model_name": "DescriptionStyleModel",
          "state": {
            "_view_name": "StyleView",
            "_model_name": "DescriptionStyleModel",
            "description_width": "",
            "_view_module": "@jupyter-widgets/base",
            "_model_module_version": "1.5.0",
            "_view_count": null,
            "_view_module_version": "1.2.0",
            "_model_module": "@jupyter-widgets/controls"
          }
        },
        "b33bf53eb6814707945f0243dc1cfbc6": {
          "model_module": "@jupyter-widgets/base",
          "model_name": "LayoutModel",
          "state": {
            "_view_name": "LayoutView",
            "grid_template_rows": null,
            "right": null,
            "justify_content": null,
            "_view_module": "@jupyter-widgets/base",
            "overflow": null,
            "_model_module_version": "1.2.0",
            "_view_count": null,
            "flex_flow": null,
            "width": null,
            "min_width": null,
            "border": null,
            "align_items": null,
            "bottom": null,
            "_model_module": "@jupyter-widgets/base",
            "top": null,
            "grid_column": null,
            "overflow_y": null,
            "overflow_x": null,
            "grid_auto_flow": null,
            "grid_area": null,
            "grid_template_columns": null,
            "flex": null,
            "_model_name": "LayoutModel",
            "justify_items": null,
            "grid_row": null,
            "max_height": null,
            "align_content": null,
            "visibility": null,
            "align_self": null,
            "height": null,
            "min_height": null,
            "padding": null,
            "grid_auto_rows": null,
            "grid_gap": null,
            "max_width": null,
            "order": null,
            "_view_module_version": "1.2.0",
            "grid_template_areas": null,
            "object_position": null,
            "object_fit": null,
            "grid_auto_columns": null,
            "margin": null,
            "display": null,
            "left": null
          }
        },
        "35bcde5e6fde494ea3169b46ef4509fc": {
          "model_module": "@jupyter-widgets/controls",
          "model_name": "HBoxModel",
          "state": {
            "_view_name": "HBoxView",
            "_dom_classes": [],
            "_model_name": "HBoxModel",
            "_view_module": "@jupyter-widgets/controls",
            "_model_module_version": "1.5.0",
            "_view_count": null,
            "_view_module_version": "1.5.0",
            "box_style": "",
            "layout": "IPY_MODEL_47aa1ddbcb784cd9bb59a2b567afd2e0",
            "_model_module": "@jupyter-widgets/controls",
            "children": [
              "IPY_MODEL_c0557cb368a24c24b4e64298e29948e9",
              "IPY_MODEL_f170b733570f4b3abad4f7c72087b5ec"
            ]
          }
        },
        "47aa1ddbcb784cd9bb59a2b567afd2e0": {
          "model_module": "@jupyter-widgets/base",
          "model_name": "LayoutModel",
          "state": {
            "_view_name": "LayoutView",
            "grid_template_rows": null,
            "right": null,
            "justify_content": null,
            "_view_module": "@jupyter-widgets/base",
            "overflow": null,
            "_model_module_version": "1.2.0",
            "_view_count": null,
            "flex_flow": null,
            "width": null,
            "min_width": null,
            "border": null,
            "align_items": null,
            "bottom": null,
            "_model_module": "@jupyter-widgets/base",
            "top": null,
            "grid_column": null,
            "overflow_y": null,
            "overflow_x": null,
            "grid_auto_flow": null,
            "grid_area": null,
            "grid_template_columns": null,
            "flex": null,
            "_model_name": "LayoutModel",
            "justify_items": null,
            "grid_row": null,
            "max_height": null,
            "align_content": null,
            "visibility": null,
            "align_self": null,
            "height": null,
            "min_height": null,
            "padding": null,
            "grid_auto_rows": null,
            "grid_gap": null,
            "max_width": null,
            "order": null,
            "_view_module_version": "1.2.0",
            "grid_template_areas": null,
            "object_position": null,
            "object_fit": null,
            "grid_auto_columns": null,
            "margin": null,
            "display": null,
            "left": null
          }
        },
        "c0557cb368a24c24b4e64298e29948e9": {
          "model_module": "@jupyter-widgets/controls",
          "model_name": "FloatProgressModel",
          "state": {
            "_view_name": "ProgressView",
            "style": "IPY_MODEL_2d39e08061ff4bf6ab0a73239c9378cc",
            "_dom_classes": [],
            "description": "100%",
            "_model_name": "FloatProgressModel",
            "bar_style": "success",
            "max": 2500,
            "_view_module": "@jupyter-widgets/controls",
            "_model_module_version": "1.5.0",
            "value": 2500,
            "_view_count": null,
            "_view_module_version": "1.5.0",
            "orientation": "horizontal",
            "min": 0,
            "description_tooltip": null,
            "_model_module": "@jupyter-widgets/controls",
            "layout": "IPY_MODEL_66ff1ea47d8846e0b6a3e2e4c073a500"
          }
        },
        "f170b733570f4b3abad4f7c72087b5ec": {
          "model_module": "@jupyter-widgets/controls",
          "model_name": "HTMLModel",
          "state": {
            "_view_name": "HTMLView",
            "style": "IPY_MODEL_31ff4cd258a4495c9ba756e51b248c12",
            "_dom_classes": [],
            "description": "",
            "_model_name": "HTMLModel",
            "placeholder": "​",
            "_view_module": "@jupyter-widgets/controls",
            "_model_module_version": "1.5.0",
            "value": " 2500/2500 [03:18&lt;00:00, 12.61it/s]",
            "_view_count": null,
            "_view_module_version": "1.5.0",
            "description_tooltip": null,
            "_model_module": "@jupyter-widgets/controls",
            "layout": "IPY_MODEL_7666a6b7c8d64f39b3b06c8e4a80b0a4"
          }
        },
        "2d39e08061ff4bf6ab0a73239c9378cc": {
          "model_module": "@jupyter-widgets/controls",
          "model_name": "ProgressStyleModel",
          "state": {
            "_view_name": "StyleView",
            "_model_name": "ProgressStyleModel",
            "description_width": "initial",
            "_view_module": "@jupyter-widgets/base",
            "_model_module_version": "1.5.0",
            "_view_count": null,
            "_view_module_version": "1.2.0",
            "bar_color": null,
            "_model_module": "@jupyter-widgets/controls"
          }
        },
        "66ff1ea47d8846e0b6a3e2e4c073a500": {
          "model_module": "@jupyter-widgets/base",
          "model_name": "LayoutModel",
          "state": {
            "_view_name": "LayoutView",
            "grid_template_rows": null,
            "right": null,
            "justify_content": null,
            "_view_module": "@jupyter-widgets/base",
            "overflow": null,
            "_model_module_version": "1.2.0",
            "_view_count": null,
            "flex_flow": null,
            "width": null,
            "min_width": null,
            "border": null,
            "align_items": null,
            "bottom": null,
            "_model_module": "@jupyter-widgets/base",
            "top": null,
            "grid_column": null,
            "overflow_y": null,
            "overflow_x": null,
            "grid_auto_flow": null,
            "grid_area": null,
            "grid_template_columns": null,
            "flex": null,
            "_model_name": "LayoutModel",
            "justify_items": null,
            "grid_row": null,
            "max_height": null,
            "align_content": null,
            "visibility": null,
            "align_self": null,
            "height": null,
            "min_height": null,
            "padding": null,
            "grid_auto_rows": null,
            "grid_gap": null,
            "max_width": null,
            "order": null,
            "_view_module_version": "1.2.0",
            "grid_template_areas": null,
            "object_position": null,
            "object_fit": null,
            "grid_auto_columns": null,
            "margin": null,
            "display": null,
            "left": null
          }
        },
        "31ff4cd258a4495c9ba756e51b248c12": {
          "model_module": "@jupyter-widgets/controls",
          "model_name": "DescriptionStyleModel",
          "state": {
            "_view_name": "StyleView",
            "_model_name": "DescriptionStyleModel",
            "description_width": "",
            "_view_module": "@jupyter-widgets/base",
            "_model_module_version": "1.5.0",
            "_view_count": null,
            "_view_module_version": "1.2.0",
            "_model_module": "@jupyter-widgets/controls"
          }
        },
        "7666a6b7c8d64f39b3b06c8e4a80b0a4": {
          "model_module": "@jupyter-widgets/base",
          "model_name": "LayoutModel",
          "state": {
            "_view_name": "LayoutView",
            "grid_template_rows": null,
            "right": null,
            "justify_content": null,
            "_view_module": "@jupyter-widgets/base",
            "overflow": null,
            "_model_module_version": "1.2.0",
            "_view_count": null,
            "flex_flow": null,
            "width": null,
            "min_width": null,
            "border": null,
            "align_items": null,
            "bottom": null,
            "_model_module": "@jupyter-widgets/base",
            "top": null,
            "grid_column": null,
            "overflow_y": null,
            "overflow_x": null,
            "grid_auto_flow": null,
            "grid_area": null,
            "grid_template_columns": null,
            "flex": null,
            "_model_name": "LayoutModel",
            "justify_items": null,
            "grid_row": null,
            "max_height": null,
            "align_content": null,
            "visibility": null,
            "align_self": null,
            "height": null,
            "min_height": null,
            "padding": null,
            "grid_auto_rows": null,
            "grid_gap": null,
            "max_width": null,
            "order": null,
            "_view_module_version": "1.2.0",
            "grid_template_areas": null,
            "object_position": null,
            "object_fit": null,
            "grid_auto_columns": null,
            "margin": null,
            "display": null,
            "left": null
          }
        },
        "d0adcd43cdee4847acf3563d2c24321c": {
          "model_module": "@jupyter-widgets/controls",
          "model_name": "HBoxModel",
          "state": {
            "_view_name": "HBoxView",
            "_dom_classes": [],
            "_model_name": "HBoxModel",
            "_view_module": "@jupyter-widgets/controls",
            "_model_module_version": "1.5.0",
            "_view_count": null,
            "_view_module_version": "1.5.0",
            "box_style": "",
            "layout": "IPY_MODEL_8ff2893bb73045349c5216f540b3d6d6",
            "_model_module": "@jupyter-widgets/controls",
            "children": [
              "IPY_MODEL_b12919797b364e28b1deae70c8e2a4b1",
              "IPY_MODEL_f43aedbdeebf48af97bb6eb8374f0a52"
            ]
          }
        },
        "8ff2893bb73045349c5216f540b3d6d6": {
          "model_module": "@jupyter-widgets/base",
          "model_name": "LayoutModel",
          "state": {
            "_view_name": "LayoutView",
            "grid_template_rows": null,
            "right": null,
            "justify_content": null,
            "_view_module": "@jupyter-widgets/base",
            "overflow": null,
            "_model_module_version": "1.2.0",
            "_view_count": null,
            "flex_flow": null,
            "width": null,
            "min_width": null,
            "border": null,
            "align_items": null,
            "bottom": null,
            "_model_module": "@jupyter-widgets/base",
            "top": null,
            "grid_column": null,
            "overflow_y": null,
            "overflow_x": null,
            "grid_auto_flow": null,
            "grid_area": null,
            "grid_template_columns": null,
            "flex": null,
            "_model_name": "LayoutModel",
            "justify_items": null,
            "grid_row": null,
            "max_height": null,
            "align_content": null,
            "visibility": null,
            "align_self": null,
            "height": null,
            "min_height": null,
            "padding": null,
            "grid_auto_rows": null,
            "grid_gap": null,
            "max_width": null,
            "order": null,
            "_view_module_version": "1.2.0",
            "grid_template_areas": null,
            "object_position": null,
            "object_fit": null,
            "grid_auto_columns": null,
            "margin": null,
            "display": null,
            "left": null
          }
        },
        "b12919797b364e28b1deae70c8e2a4b1": {
          "model_module": "@jupyter-widgets/controls",
          "model_name": "FloatProgressModel",
          "state": {
            "_view_name": "ProgressView",
            "style": "IPY_MODEL_d4a96272ef834674a93a32c8308c1093",
            "_dom_classes": [],
            "description": "100%",
            "_model_name": "FloatProgressModel",
            "bar_style": "success",
            "max": 6463,
            "_view_module": "@jupyter-widgets/controls",
            "_model_module_version": "1.5.0",
            "value": 6463,
            "_view_count": null,
            "_view_module_version": "1.5.0",
            "orientation": "horizontal",
            "min": 0,
            "description_tooltip": null,
            "_model_module": "@jupyter-widgets/controls",
            "layout": "IPY_MODEL_bb43a7a56a66490e93fa79f29cffbab3"
          }
        },
        "f43aedbdeebf48af97bb6eb8374f0a52": {
          "model_module": "@jupyter-widgets/controls",
          "model_name": "HTMLModel",
          "state": {
            "_view_name": "HTMLView",
            "style": "IPY_MODEL_f53a8d79db474e0aa7ef3941cf2efcca",
            "_dom_classes": [],
            "description": "",
            "_model_name": "HTMLModel",
            "placeholder": "​",
            "_view_module": "@jupyter-widgets/controls",
            "_model_module_version": "1.5.0",
            "value": " 6463/6463 [23:53&lt;00:00,  4.51it/s, loss=0.00351]",
            "_view_count": null,
            "_view_module_version": "1.5.0",
            "description_tooltip": null,
            "_model_module": "@jupyter-widgets/controls",
            "layout": "IPY_MODEL_29083133a3af4bd28b200e3a1d802c4b"
          }
        },
        "d4a96272ef834674a93a32c8308c1093": {
          "model_module": "@jupyter-widgets/controls",
          "model_name": "ProgressStyleModel",
          "state": {
            "_view_name": "StyleView",
            "_model_name": "ProgressStyleModel",
            "description_width": "initial",
            "_view_module": "@jupyter-widgets/base",
            "_model_module_version": "1.5.0",
            "_view_count": null,
            "_view_module_version": "1.2.0",
            "bar_color": null,
            "_model_module": "@jupyter-widgets/controls"
          }
        },
        "bb43a7a56a66490e93fa79f29cffbab3": {
          "model_module": "@jupyter-widgets/base",
          "model_name": "LayoutModel",
          "state": {
            "_view_name": "LayoutView",
            "grid_template_rows": null,
            "right": null,
            "justify_content": null,
            "_view_module": "@jupyter-widgets/base",
            "overflow": null,
            "_model_module_version": "1.2.0",
            "_view_count": null,
            "flex_flow": null,
            "width": null,
            "min_width": null,
            "border": null,
            "align_items": null,
            "bottom": null,
            "_model_module": "@jupyter-widgets/base",
            "top": null,
            "grid_column": null,
            "overflow_y": null,
            "overflow_x": null,
            "grid_auto_flow": null,
            "grid_area": null,
            "grid_template_columns": null,
            "flex": null,
            "_model_name": "LayoutModel",
            "justify_items": null,
            "grid_row": null,
            "max_height": null,
            "align_content": null,
            "visibility": null,
            "align_self": null,
            "height": null,
            "min_height": null,
            "padding": null,
            "grid_auto_rows": null,
            "grid_gap": null,
            "max_width": null,
            "order": null,
            "_view_module_version": "1.2.0",
            "grid_template_areas": null,
            "object_position": null,
            "object_fit": null,
            "grid_auto_columns": null,
            "margin": null,
            "display": null,
            "left": null
          }
        },
        "f53a8d79db474e0aa7ef3941cf2efcca": {
          "model_module": "@jupyter-widgets/controls",
          "model_name": "DescriptionStyleModel",
          "state": {
            "_view_name": "StyleView",
            "_model_name": "DescriptionStyleModel",
            "description_width": "",
            "_view_module": "@jupyter-widgets/base",
            "_model_module_version": "1.5.0",
            "_view_count": null,
            "_view_module_version": "1.2.0",
            "_model_module": "@jupyter-widgets/controls"
          }
        },
        "29083133a3af4bd28b200e3a1d802c4b": {
          "model_module": "@jupyter-widgets/base",
          "model_name": "LayoutModel",
          "state": {
            "_view_name": "LayoutView",
            "grid_template_rows": null,
            "right": null,
            "justify_content": null,
            "_view_module": "@jupyter-widgets/base",
            "overflow": null,
            "_model_module_version": "1.2.0",
            "_view_count": null,
            "flex_flow": null,
            "width": null,
            "min_width": null,
            "border": null,
            "align_items": null,
            "bottom": null,
            "_model_module": "@jupyter-widgets/base",
            "top": null,
            "grid_column": null,
            "overflow_y": null,
            "overflow_x": null,
            "grid_auto_flow": null,
            "grid_area": null,
            "grid_template_columns": null,
            "flex": null,
            "_model_name": "LayoutModel",
            "justify_items": null,
            "grid_row": null,
            "max_height": null,
            "align_content": null,
            "visibility": null,
            "align_self": null,
            "height": null,
            "min_height": null,
            "padding": null,
            "grid_auto_rows": null,
            "grid_gap": null,
            "max_width": null,
            "order": null,
            "_view_module_version": "1.2.0",
            "grid_template_areas": null,
            "object_position": null,
            "object_fit": null,
            "grid_auto_columns": null,
            "margin": null,
            "display": null,
            "left": null
          }
        },
        "862ba790f79547658e6459fed844b99d": {
          "model_module": "@jupyter-widgets/controls",
          "model_name": "HBoxModel",
          "state": {
            "_view_name": "HBoxView",
            "_dom_classes": [],
            "_model_name": "HBoxModel",
            "_view_module": "@jupyter-widgets/controls",
            "_model_module_version": "1.5.0",
            "_view_count": null,
            "_view_module_version": "1.5.0",
            "box_style": "",
            "layout": "IPY_MODEL_4b652e8c9f0041e0950361741b7b7aee",
            "_model_module": "@jupyter-widgets/controls",
            "children": [
              "IPY_MODEL_1b6abc85602e489fb7afdf3db22e223e",
              "IPY_MODEL_d825817dd68a4f3c97bdd43f4b5bb8a2"
            ]
          }
        },
        "4b652e8c9f0041e0950361741b7b7aee": {
          "model_module": "@jupyter-widgets/base",
          "model_name": "LayoutModel",
          "state": {
            "_view_name": "LayoutView",
            "grid_template_rows": null,
            "right": null,
            "justify_content": null,
            "_view_module": "@jupyter-widgets/base",
            "overflow": null,
            "_model_module_version": "1.2.0",
            "_view_count": null,
            "flex_flow": null,
            "width": null,
            "min_width": null,
            "border": null,
            "align_items": null,
            "bottom": null,
            "_model_module": "@jupyter-widgets/base",
            "top": null,
            "grid_column": null,
            "overflow_y": null,
            "overflow_x": null,
            "grid_auto_flow": null,
            "grid_area": null,
            "grid_template_columns": null,
            "flex": null,
            "_model_name": "LayoutModel",
            "justify_items": null,
            "grid_row": null,
            "max_height": null,
            "align_content": null,
            "visibility": null,
            "align_self": null,
            "height": null,
            "min_height": null,
            "padding": null,
            "grid_auto_rows": null,
            "grid_gap": null,
            "max_width": null,
            "order": null,
            "_view_module_version": "1.2.0",
            "grid_template_areas": null,
            "object_position": null,
            "object_fit": null,
            "grid_auto_columns": null,
            "margin": null,
            "display": null,
            "left": null
          }
        },
        "1b6abc85602e489fb7afdf3db22e223e": {
          "model_module": "@jupyter-widgets/controls",
          "model_name": "FloatProgressModel",
          "state": {
            "_view_name": "ProgressView",
            "style": "IPY_MODEL_fa4ce7be15014ac79998adabc9232d0d",
            "_dom_classes": [],
            "description": "100%",
            "_model_name": "FloatProgressModel",
            "bar_style": "success",
            "max": 2500,
            "_view_module": "@jupyter-widgets/controls",
            "_model_module_version": "1.5.0",
            "value": 2500,
            "_view_count": null,
            "_view_module_version": "1.5.0",
            "orientation": "horizontal",
            "min": 0,
            "description_tooltip": null,
            "_model_module": "@jupyter-widgets/controls",
            "layout": "IPY_MODEL_26fabf937abd442a8358a93acaf185b8"
          }
        },
        "d825817dd68a4f3c97bdd43f4b5bb8a2": {
          "model_module": "@jupyter-widgets/controls",
          "model_name": "HTMLModel",
          "state": {
            "_view_name": "HTMLView",
            "style": "IPY_MODEL_4dd85dee216c4b76b9823f3292653cf2",
            "_dom_classes": [],
            "description": "",
            "_model_name": "HTMLModel",
            "placeholder": "​",
            "_view_module": "@jupyter-widgets/controls",
            "_model_module_version": "1.5.0",
            "value": " 2500/2500 [03:17&lt;00:00, 12.64it/s]",
            "_view_count": null,
            "_view_module_version": "1.5.0",
            "description_tooltip": null,
            "_model_module": "@jupyter-widgets/controls",
            "layout": "IPY_MODEL_87de021819034958ba759895afbbf9ce"
          }
        },
        "fa4ce7be15014ac79998adabc9232d0d": {
          "model_module": "@jupyter-widgets/controls",
          "model_name": "ProgressStyleModel",
          "state": {
            "_view_name": "StyleView",
            "_model_name": "ProgressStyleModel",
            "description_width": "initial",
            "_view_module": "@jupyter-widgets/base",
            "_model_module_version": "1.5.0",
            "_view_count": null,
            "_view_module_version": "1.2.0",
            "bar_color": null,
            "_model_module": "@jupyter-widgets/controls"
          }
        },
        "26fabf937abd442a8358a93acaf185b8": {
          "model_module": "@jupyter-widgets/base",
          "model_name": "LayoutModel",
          "state": {
            "_view_name": "LayoutView",
            "grid_template_rows": null,
            "right": null,
            "justify_content": null,
            "_view_module": "@jupyter-widgets/base",
            "overflow": null,
            "_model_module_version": "1.2.0",
            "_view_count": null,
            "flex_flow": null,
            "width": null,
            "min_width": null,
            "border": null,
            "align_items": null,
            "bottom": null,
            "_model_module": "@jupyter-widgets/base",
            "top": null,
            "grid_column": null,
            "overflow_y": null,
            "overflow_x": null,
            "grid_auto_flow": null,
            "grid_area": null,
            "grid_template_columns": null,
            "flex": null,
            "_model_name": "LayoutModel",
            "justify_items": null,
            "grid_row": null,
            "max_height": null,
            "align_content": null,
            "visibility": null,
            "align_self": null,
            "height": null,
            "min_height": null,
            "padding": null,
            "grid_auto_rows": null,
            "grid_gap": null,
            "max_width": null,
            "order": null,
            "_view_module_version": "1.2.0",
            "grid_template_areas": null,
            "object_position": null,
            "object_fit": null,
            "grid_auto_columns": null,
            "margin": null,
            "display": null,
            "left": null
          }
        },
        "4dd85dee216c4b76b9823f3292653cf2": {
          "model_module": "@jupyter-widgets/controls",
          "model_name": "DescriptionStyleModel",
          "state": {
            "_view_name": "StyleView",
            "_model_name": "DescriptionStyleModel",
            "description_width": "",
            "_view_module": "@jupyter-widgets/base",
            "_model_module_version": "1.5.0",
            "_view_count": null,
            "_view_module_version": "1.2.0",
            "_model_module": "@jupyter-widgets/controls"
          }
        },
        "87de021819034958ba759895afbbf9ce": {
          "model_module": "@jupyter-widgets/base",
          "model_name": "LayoutModel",
          "state": {
            "_view_name": "LayoutView",
            "grid_template_rows": null,
            "right": null,
            "justify_content": null,
            "_view_module": "@jupyter-widgets/base",
            "overflow": null,
            "_model_module_version": "1.2.0",
            "_view_count": null,
            "flex_flow": null,
            "width": null,
            "min_width": null,
            "border": null,
            "align_items": null,
            "bottom": null,
            "_model_module": "@jupyter-widgets/base",
            "top": null,
            "grid_column": null,
            "overflow_y": null,
            "overflow_x": null,
            "grid_auto_flow": null,
            "grid_area": null,
            "grid_template_columns": null,
            "flex": null,
            "_model_name": "LayoutModel",
            "justify_items": null,
            "grid_row": null,
            "max_height": null,
            "align_content": null,
            "visibility": null,
            "align_self": null,
            "height": null,
            "min_height": null,
            "padding": null,
            "grid_auto_rows": null,
            "grid_gap": null,
            "max_width": null,
            "order": null,
            "_view_module_version": "1.2.0",
            "grid_template_areas": null,
            "object_position": null,
            "object_fit": null,
            "grid_auto_columns": null,
            "margin": null,
            "display": null,
            "left": null
          }
        },
        "fc9a6cea8caa477a8bc350a502a691ab": {
          "model_module": "@jupyter-widgets/controls",
          "model_name": "HBoxModel",
          "state": {
            "_view_name": "HBoxView",
            "_dom_classes": [],
            "_model_name": "HBoxModel",
            "_view_module": "@jupyter-widgets/controls",
            "_model_module_version": "1.5.0",
            "_view_count": null,
            "_view_module_version": "1.5.0",
            "box_style": "",
            "layout": "IPY_MODEL_0ba047445d8943b0b37b0f7dc2dd286e",
            "_model_module": "@jupyter-widgets/controls",
            "children": [
              "IPY_MODEL_ab28b9896c604455a5a6951698480455",
              "IPY_MODEL_089b89d04c4244f48fa034a65f542464"
            ]
          }
        },
        "0ba047445d8943b0b37b0f7dc2dd286e": {
          "model_module": "@jupyter-widgets/base",
          "model_name": "LayoutModel",
          "state": {
            "_view_name": "LayoutView",
            "grid_template_rows": null,
            "right": null,
            "justify_content": null,
            "_view_module": "@jupyter-widgets/base",
            "overflow": null,
            "_model_module_version": "1.2.0",
            "_view_count": null,
            "flex_flow": null,
            "width": null,
            "min_width": null,
            "border": null,
            "align_items": null,
            "bottom": null,
            "_model_module": "@jupyter-widgets/base",
            "top": null,
            "grid_column": null,
            "overflow_y": null,
            "overflow_x": null,
            "grid_auto_flow": null,
            "grid_area": null,
            "grid_template_columns": null,
            "flex": null,
            "_model_name": "LayoutModel",
            "justify_items": null,
            "grid_row": null,
            "max_height": null,
            "align_content": null,
            "visibility": null,
            "align_self": null,
            "height": null,
            "min_height": null,
            "padding": null,
            "grid_auto_rows": null,
            "grid_gap": null,
            "max_width": null,
            "order": null,
            "_view_module_version": "1.2.0",
            "grid_template_areas": null,
            "object_position": null,
            "object_fit": null,
            "grid_auto_columns": null,
            "margin": null,
            "display": null,
            "left": null
          }
        },
        "ab28b9896c604455a5a6951698480455": {
          "model_module": "@jupyter-widgets/controls",
          "model_name": "FloatProgressModel",
          "state": {
            "_view_name": "ProgressView",
            "style": "IPY_MODEL_f91b033b1cd4410ca591ed8ee7496326",
            "_dom_classes": [],
            "description": "100%",
            "_model_name": "FloatProgressModel",
            "bar_style": "success",
            "max": 52554,
            "_view_module": "@jupyter-widgets/controls",
            "_model_module_version": "1.5.0",
            "value": 52554,
            "_view_count": null,
            "_view_module_version": "1.5.0",
            "orientation": "horizontal",
            "min": 0,
            "description_tooltip": null,
            "_model_module": "@jupyter-widgets/controls",
            "layout": "IPY_MODEL_9d44ab1d5105495e9d6e3d487358baf2"
          }
        },
        "089b89d04c4244f48fa034a65f542464": {
          "model_module": "@jupyter-widgets/controls",
          "model_name": "HTMLModel",
          "state": {
            "_view_name": "HTMLView",
            "style": "IPY_MODEL_a443a9701c9f4dc8984c3e17e6cbafcc",
            "_dom_classes": [],
            "description": "",
            "_model_name": "HTMLModel",
            "placeholder": "​",
            "_view_module": "@jupyter-widgets/controls",
            "_model_module_version": "1.5.0",
            "value": " 52554/52554 [1:09:36&lt;00:00, 12.58it/s]",
            "_view_count": null,
            "_view_module_version": "1.5.0",
            "description_tooltip": null,
            "_model_module": "@jupyter-widgets/controls",
            "layout": "IPY_MODEL_3f87bc4d7a1a4ca49fe84e45f056cfa5"
          }
        },
        "f91b033b1cd4410ca591ed8ee7496326": {
          "model_module": "@jupyter-widgets/controls",
          "model_name": "ProgressStyleModel",
          "state": {
            "_view_name": "StyleView",
            "_model_name": "ProgressStyleModel",
            "description_width": "initial",
            "_view_module": "@jupyter-widgets/base",
            "_model_module_version": "1.5.0",
            "_view_count": null,
            "_view_module_version": "1.2.0",
            "bar_color": null,
            "_model_module": "@jupyter-widgets/controls"
          }
        },
        "9d44ab1d5105495e9d6e3d487358baf2": {
          "model_module": "@jupyter-widgets/base",
          "model_name": "LayoutModel",
          "state": {
            "_view_name": "LayoutView",
            "grid_template_rows": null,
            "right": null,
            "justify_content": null,
            "_view_module": "@jupyter-widgets/base",
            "overflow": null,
            "_model_module_version": "1.2.0",
            "_view_count": null,
            "flex_flow": null,
            "width": null,
            "min_width": null,
            "border": null,
            "align_items": null,
            "bottom": null,
            "_model_module": "@jupyter-widgets/base",
            "top": null,
            "grid_column": null,
            "overflow_y": null,
            "overflow_x": null,
            "grid_auto_flow": null,
            "grid_area": null,
            "grid_template_columns": null,
            "flex": null,
            "_model_name": "LayoutModel",
            "justify_items": null,
            "grid_row": null,
            "max_height": null,
            "align_content": null,
            "visibility": null,
            "align_self": null,
            "height": null,
            "min_height": null,
            "padding": null,
            "grid_auto_rows": null,
            "grid_gap": null,
            "max_width": null,
            "order": null,
            "_view_module_version": "1.2.0",
            "grid_template_areas": null,
            "object_position": null,
            "object_fit": null,
            "grid_auto_columns": null,
            "margin": null,
            "display": null,
            "left": null
          }
        },
        "a443a9701c9f4dc8984c3e17e6cbafcc": {
          "model_module": "@jupyter-widgets/controls",
          "model_name": "DescriptionStyleModel",
          "state": {
            "_view_name": "StyleView",
            "_model_name": "DescriptionStyleModel",
            "description_width": "",
            "_view_module": "@jupyter-widgets/base",
            "_model_module_version": "1.5.0",
            "_view_count": null,
            "_view_module_version": "1.2.0",
            "_model_module": "@jupyter-widgets/controls"
          }
        },
        "3f87bc4d7a1a4ca49fe84e45f056cfa5": {
          "model_module": "@jupyter-widgets/base",
          "model_name": "LayoutModel",
          "state": {
            "_view_name": "LayoutView",
            "grid_template_rows": null,
            "right": null,
            "justify_content": null,
            "_view_module": "@jupyter-widgets/base",
            "overflow": null,
            "_model_module_version": "1.2.0",
            "_view_count": null,
            "flex_flow": null,
            "width": null,
            "min_width": null,
            "border": null,
            "align_items": null,
            "bottom": null,
            "_model_module": "@jupyter-widgets/base",
            "top": null,
            "grid_column": null,
            "overflow_y": null,
            "overflow_x": null,
            "grid_auto_flow": null,
            "grid_area": null,
            "grid_template_columns": null,
            "flex": null,
            "_model_name": "LayoutModel",
            "justify_items": null,
            "grid_row": null,
            "max_height": null,
            "align_content": null,
            "visibility": null,
            "align_self": null,
            "height": null,
            "min_height": null,
            "padding": null,
            "grid_auto_rows": null,
            "grid_gap": null,
            "max_width": null,
            "order": null,
            "_view_module_version": "1.2.0",
            "grid_template_areas": null,
            "object_position": null,
            "object_fit": null,
            "grid_auto_columns": null,
            "margin": null,
            "display": null,
            "left": null
          }
        },
        "51c24be864eb48fdb5d7b9af21fd1716": {
          "model_module": "@jupyter-widgets/controls",
          "model_name": "HBoxModel",
          "state": {
            "_view_name": "HBoxView",
            "_dom_classes": [],
            "_model_name": "HBoxModel",
            "_view_module": "@jupyter-widgets/controls",
            "_model_module_version": "1.5.0",
            "_view_count": null,
            "_view_module_version": "1.5.0",
            "box_style": "",
            "layout": "IPY_MODEL_3ea40f80e5e34baba5b4cfaea2be18ee",
            "_model_module": "@jupyter-widgets/controls",
            "children": [
              "IPY_MODEL_30540a90e2464167b8ddc5b00b547afc",
              "IPY_MODEL_fb7cfbf0b70a4459af721ba67ca80223"
            ]
          }
        },
        "3ea40f80e5e34baba5b4cfaea2be18ee": {
          "model_module": "@jupyter-widgets/base",
          "model_name": "LayoutModel",
          "state": {
            "_view_name": "LayoutView",
            "grid_template_rows": null,
            "right": null,
            "justify_content": null,
            "_view_module": "@jupyter-widgets/base",
            "overflow": null,
            "_model_module_version": "1.2.0",
            "_view_count": null,
            "flex_flow": null,
            "width": null,
            "min_width": null,
            "border": null,
            "align_items": null,
            "bottom": null,
            "_model_module": "@jupyter-widgets/base",
            "top": null,
            "grid_column": null,
            "overflow_y": null,
            "overflow_x": null,
            "grid_auto_flow": null,
            "grid_area": null,
            "grid_template_columns": null,
            "flex": null,
            "_model_name": "LayoutModel",
            "justify_items": null,
            "grid_row": null,
            "max_height": null,
            "align_content": null,
            "visibility": null,
            "align_self": null,
            "height": null,
            "min_height": null,
            "padding": null,
            "grid_auto_rows": null,
            "grid_gap": null,
            "max_width": null,
            "order": null,
            "_view_module_version": "1.2.0",
            "grid_template_areas": null,
            "object_position": null,
            "object_fit": null,
            "grid_auto_columns": null,
            "margin": null,
            "display": null,
            "left": null
          }
        },
        "30540a90e2464167b8ddc5b00b547afc": {
          "model_module": "@jupyter-widgets/controls",
          "model_name": "FloatProgressModel",
          "state": {
            "_view_name": "ProgressView",
            "style": "IPY_MODEL_b597f0f0984e48c4a0f6fc0906f89172",
            "_dom_classes": [],
            "description": "100%",
            "_model_name": "FloatProgressModel",
            "bar_style": "success",
            "max": 210215,
            "_view_module": "@jupyter-widgets/controls",
            "_model_module_version": "1.5.0",
            "value": 210215,
            "_view_count": null,
            "_view_module_version": "1.5.0",
            "orientation": "horizontal",
            "min": 0,
            "description_tooltip": null,
            "_model_module": "@jupyter-widgets/controls",
            "layout": "IPY_MODEL_46309c87553e43b2a5bf1bb73896ba80"
          }
        },
        "fb7cfbf0b70a4459af721ba67ca80223": {
          "model_module": "@jupyter-widgets/controls",
          "model_name": "HTMLModel",
          "state": {
            "_view_name": "HTMLView",
            "style": "IPY_MODEL_6ecc6b13190748b7989e8822c86e2163",
            "_dom_classes": [],
            "description": "",
            "_model_name": "HTMLModel",
            "placeholder": "​",
            "_view_module": "@jupyter-widgets/controls",
            "_model_module_version": "1.5.0",
            "value": " 210215/210215 [16:15&lt;00:00, 215.49it/s]",
            "_view_count": null,
            "_view_module_version": "1.5.0",
            "description_tooltip": null,
            "_model_module": "@jupyter-widgets/controls",
            "layout": "IPY_MODEL_abc936d84c374cdca6bda0cc3e2f2df9"
          }
        },
        "b597f0f0984e48c4a0f6fc0906f89172": {
          "model_module": "@jupyter-widgets/controls",
          "model_name": "ProgressStyleModel",
          "state": {
            "_view_name": "StyleView",
            "_model_name": "ProgressStyleModel",
            "description_width": "initial",
            "_view_module": "@jupyter-widgets/base",
            "_model_module_version": "1.5.0",
            "_view_count": null,
            "_view_module_version": "1.2.0",
            "bar_color": null,
            "_model_module": "@jupyter-widgets/controls"
          }
        },
        "46309c87553e43b2a5bf1bb73896ba80": {
          "model_module": "@jupyter-widgets/base",
          "model_name": "LayoutModel",
          "state": {
            "_view_name": "LayoutView",
            "grid_template_rows": null,
            "right": null,
            "justify_content": null,
            "_view_module": "@jupyter-widgets/base",
            "overflow": null,
            "_model_module_version": "1.2.0",
            "_view_count": null,
            "flex_flow": null,
            "width": null,
            "min_width": null,
            "border": null,
            "align_items": null,
            "bottom": null,
            "_model_module": "@jupyter-widgets/base",
            "top": null,
            "grid_column": null,
            "overflow_y": null,
            "overflow_x": null,
            "grid_auto_flow": null,
            "grid_area": null,
            "grid_template_columns": null,
            "flex": null,
            "_model_name": "LayoutModel",
            "justify_items": null,
            "grid_row": null,
            "max_height": null,
            "align_content": null,
            "visibility": null,
            "align_self": null,
            "height": null,
            "min_height": null,
            "padding": null,
            "grid_auto_rows": null,
            "grid_gap": null,
            "max_width": null,
            "order": null,
            "_view_module_version": "1.2.0",
            "grid_template_areas": null,
            "object_position": null,
            "object_fit": null,
            "grid_auto_columns": null,
            "margin": null,
            "display": null,
            "left": null
          }
        },
        "6ecc6b13190748b7989e8822c86e2163": {
          "model_module": "@jupyter-widgets/controls",
          "model_name": "DescriptionStyleModel",
          "state": {
            "_view_name": "StyleView",
            "_model_name": "DescriptionStyleModel",
            "description_width": "",
            "_view_module": "@jupyter-widgets/base",
            "_model_module_version": "1.5.0",
            "_view_count": null,
            "_view_module_version": "1.2.0",
            "_model_module": "@jupyter-widgets/controls"
          }
        },
        "abc936d84c374cdca6bda0cc3e2f2df9": {
          "model_module": "@jupyter-widgets/base",
          "model_name": "LayoutModel",
          "state": {
            "_view_name": "LayoutView",
            "grid_template_rows": null,
            "right": null,
            "justify_content": null,
            "_view_module": "@jupyter-widgets/base",
            "overflow": null,
            "_model_module_version": "1.2.0",
            "_view_count": null,
            "flex_flow": null,
            "width": null,
            "min_width": null,
            "border": null,
            "align_items": null,
            "bottom": null,
            "_model_module": "@jupyter-widgets/base",
            "top": null,
            "grid_column": null,
            "overflow_y": null,
            "overflow_x": null,
            "grid_auto_flow": null,
            "grid_area": null,
            "grid_template_columns": null,
            "flex": null,
            "_model_name": "LayoutModel",
            "justify_items": null,
            "grid_row": null,
            "max_height": null,
            "align_content": null,
            "visibility": null,
            "align_self": null,
            "height": null,
            "min_height": null,
            "padding": null,
            "grid_auto_rows": null,
            "grid_gap": null,
            "max_width": null,
            "order": null,
            "_view_module_version": "1.2.0",
            "grid_template_areas": null,
            "object_position": null,
            "object_fit": null,
            "grid_auto_columns": null,
            "margin": null,
            "display": null,
            "left": null
          }
        },
        "2c7c636118834bc49a2cc217cb85f76c": {
          "model_module": "@jupyter-widgets/controls",
          "model_name": "HBoxModel",
          "state": {
            "_view_name": "HBoxView",
            "_dom_classes": [],
            "_model_name": "HBoxModel",
            "_view_module": "@jupyter-widgets/controls",
            "_model_module_version": "1.5.0",
            "_view_count": null,
            "_view_module_version": "1.5.0",
            "box_style": "",
            "layout": "IPY_MODEL_7943d2eb85cc4609b1dac5c96894e486",
            "_model_module": "@jupyter-widgets/controls",
            "children": [
              "IPY_MODEL_981a851e12954c278d3f2eff90addd50",
              "IPY_MODEL_c8fcd7db9de746968416217693667743"
            ]
          }
        },
        "7943d2eb85cc4609b1dac5c96894e486": {
          "model_module": "@jupyter-widgets/base",
          "model_name": "LayoutModel",
          "state": {
            "_view_name": "LayoutView",
            "grid_template_rows": null,
            "right": null,
            "justify_content": null,
            "_view_module": "@jupyter-widgets/base",
            "overflow": null,
            "_model_module_version": "1.2.0",
            "_view_count": null,
            "flex_flow": null,
            "width": null,
            "min_width": null,
            "border": null,
            "align_items": null,
            "bottom": null,
            "_model_module": "@jupyter-widgets/base",
            "top": null,
            "grid_column": null,
            "overflow_y": null,
            "overflow_x": null,
            "grid_auto_flow": null,
            "grid_area": null,
            "grid_template_columns": null,
            "flex": null,
            "_model_name": "LayoutModel",
            "justify_items": null,
            "grid_row": null,
            "max_height": null,
            "align_content": null,
            "visibility": null,
            "align_self": null,
            "height": null,
            "min_height": null,
            "padding": null,
            "grid_auto_rows": null,
            "grid_gap": null,
            "max_width": null,
            "order": null,
            "_view_module_version": "1.2.0",
            "grid_template_areas": null,
            "object_position": null,
            "object_fit": null,
            "grid_auto_columns": null,
            "margin": null,
            "display": null,
            "left": null
          }
        },
        "981a851e12954c278d3f2eff90addd50": {
          "model_module": "@jupyter-widgets/controls",
          "model_name": "FloatProgressModel",
          "state": {
            "_view_name": "ProgressView",
            "style": "IPY_MODEL_83fd8725ba5344c7b02ee7a193ad43f2",
            "_dom_classes": [],
            "description": "100%",
            "_model_name": "FloatProgressModel",
            "bar_style": "success",
            "max": 55907,
            "_view_module": "@jupyter-widgets/controls",
            "_model_module_version": "1.5.0",
            "value": 55907,
            "_view_count": null,
            "_view_module_version": "1.5.0",
            "orientation": "horizontal",
            "min": 0,
            "description_tooltip": null,
            "_model_module": "@jupyter-widgets/controls",
            "layout": "IPY_MODEL_2be3734e2d4b45df9acd4cd19dcce448"
          }
        },
        "c8fcd7db9de746968416217693667743": {
          "model_module": "@jupyter-widgets/controls",
          "model_name": "HTMLModel",
          "state": {
            "_view_name": "HTMLView",
            "style": "IPY_MODEL_b4f3c53a96d347ff898d0abb26545eff",
            "_dom_classes": [],
            "description": "",
            "_model_name": "HTMLModel",
            "placeholder": "​",
            "_view_module": "@jupyter-widgets/controls",
            "_model_module_version": "1.5.0",
            "value": " 55907/55907 [1:14:23&lt;00:00, 12.53it/s]",
            "_view_count": null,
            "_view_module_version": "1.5.0",
            "description_tooltip": null,
            "_model_module": "@jupyter-widgets/controls",
            "layout": "IPY_MODEL_ab786c43b9e84b25a5a138e73a0a4ec1"
          }
        },
        "83fd8725ba5344c7b02ee7a193ad43f2": {
          "model_module": "@jupyter-widgets/controls",
          "model_name": "ProgressStyleModel",
          "state": {
            "_view_name": "StyleView",
            "_model_name": "ProgressStyleModel",
            "description_width": "initial",
            "_view_module": "@jupyter-widgets/base",
            "_model_module_version": "1.5.0",
            "_view_count": null,
            "_view_module_version": "1.2.0",
            "bar_color": null,
            "_model_module": "@jupyter-widgets/controls"
          }
        },
        "2be3734e2d4b45df9acd4cd19dcce448": {
          "model_module": "@jupyter-widgets/base",
          "model_name": "LayoutModel",
          "state": {
            "_view_name": "LayoutView",
            "grid_template_rows": null,
            "right": null,
            "justify_content": null,
            "_view_module": "@jupyter-widgets/base",
            "overflow": null,
            "_model_module_version": "1.2.0",
            "_view_count": null,
            "flex_flow": null,
            "width": null,
            "min_width": null,
            "border": null,
            "align_items": null,
            "bottom": null,
            "_model_module": "@jupyter-widgets/base",
            "top": null,
            "grid_column": null,
            "overflow_y": null,
            "overflow_x": null,
            "grid_auto_flow": null,
            "grid_area": null,
            "grid_template_columns": null,
            "flex": null,
            "_model_name": "LayoutModel",
            "justify_items": null,
            "grid_row": null,
            "max_height": null,
            "align_content": null,
            "visibility": null,
            "align_self": null,
            "height": null,
            "min_height": null,
            "padding": null,
            "grid_auto_rows": null,
            "grid_gap": null,
            "max_width": null,
            "order": null,
            "_view_module_version": "1.2.0",
            "grid_template_areas": null,
            "object_position": null,
            "object_fit": null,
            "grid_auto_columns": null,
            "margin": null,
            "display": null,
            "left": null
          }
        },
        "b4f3c53a96d347ff898d0abb26545eff": {
          "model_module": "@jupyter-widgets/controls",
          "model_name": "DescriptionStyleModel",
          "state": {
            "_view_name": "StyleView",
            "_model_name": "DescriptionStyleModel",
            "description_width": "",
            "_view_module": "@jupyter-widgets/base",
            "_model_module_version": "1.5.0",
            "_view_count": null,
            "_view_module_version": "1.2.0",
            "_model_module": "@jupyter-widgets/controls"
          }
        },
        "ab786c43b9e84b25a5a138e73a0a4ec1": {
          "model_module": "@jupyter-widgets/base",
          "model_name": "LayoutModel",
          "state": {
            "_view_name": "LayoutView",
            "grid_template_rows": null,
            "right": null,
            "justify_content": null,
            "_view_module": "@jupyter-widgets/base",
            "overflow": null,
            "_model_module_version": "1.2.0",
            "_view_count": null,
            "flex_flow": null,
            "width": null,
            "min_width": null,
            "border": null,
            "align_items": null,
            "bottom": null,
            "_model_module": "@jupyter-widgets/base",
            "top": null,
            "grid_column": null,
            "overflow_y": null,
            "overflow_x": null,
            "grid_auto_flow": null,
            "grid_area": null,
            "grid_template_columns": null,
            "flex": null,
            "_model_name": "LayoutModel",
            "justify_items": null,
            "grid_row": null,
            "max_height": null,
            "align_content": null,
            "visibility": null,
            "align_self": null,
            "height": null,
            "min_height": null,
            "padding": null,
            "grid_auto_rows": null,
            "grid_gap": null,
            "max_width": null,
            "order": null,
            "_view_module_version": "1.2.0",
            "grid_template_areas": null,
            "object_position": null,
            "object_fit": null,
            "grid_auto_columns": null,
            "margin": null,
            "display": null,
            "left": null
          }
        },
        "0832f7da73d5458a83b796f5872532f3": {
          "model_module": "@jupyter-widgets/controls",
          "model_name": "HBoxModel",
          "state": {
            "_view_name": "HBoxView",
            "_dom_classes": [],
            "_model_name": "HBoxModel",
            "_view_module": "@jupyter-widgets/controls",
            "_model_module_version": "1.5.0",
            "_view_count": null,
            "_view_module_version": "1.5.0",
            "box_style": "",
            "layout": "IPY_MODEL_cfd392060b684dd5a217f48ec7bd4ae8",
            "_model_module": "@jupyter-widgets/controls",
            "children": [
              "IPY_MODEL_1acaf0a7f3b24406b1601214553bf58a",
              "IPY_MODEL_310e11d23112442dbd8d8e72ff255e00"
            ]
          }
        },
        "cfd392060b684dd5a217f48ec7bd4ae8": {
          "model_module": "@jupyter-widgets/base",
          "model_name": "LayoutModel",
          "state": {
            "_view_name": "LayoutView",
            "grid_template_rows": null,
            "right": null,
            "justify_content": null,
            "_view_module": "@jupyter-widgets/base",
            "overflow": null,
            "_model_module_version": "1.2.0",
            "_view_count": null,
            "flex_flow": null,
            "width": null,
            "min_width": null,
            "border": null,
            "align_items": null,
            "bottom": null,
            "_model_module": "@jupyter-widgets/base",
            "top": null,
            "grid_column": null,
            "overflow_y": null,
            "overflow_x": null,
            "grid_auto_flow": null,
            "grid_area": null,
            "grid_template_columns": null,
            "flex": null,
            "_model_name": "LayoutModel",
            "justify_items": null,
            "grid_row": null,
            "max_height": null,
            "align_content": null,
            "visibility": null,
            "align_self": null,
            "height": null,
            "min_height": null,
            "padding": null,
            "grid_auto_rows": null,
            "grid_gap": null,
            "max_width": null,
            "order": null,
            "_view_module_version": "1.2.0",
            "grid_template_areas": null,
            "object_position": null,
            "object_fit": null,
            "grid_auto_columns": null,
            "margin": null,
            "display": null,
            "left": null
          }
        },
        "1acaf0a7f3b24406b1601214553bf58a": {
          "model_module": "@jupyter-widgets/controls",
          "model_name": "FloatProgressModel",
          "state": {
            "_view_name": "ProgressView",
            "style": "IPY_MODEL_d6edca3be4da402d80a3d250f761fd37",
            "_dom_classes": [],
            "description": "100%",
            "_model_name": "FloatProgressModel",
            "bar_style": "success",
            "max": 223626,
            "_view_module": "@jupyter-widgets/controls",
            "_model_module_version": "1.5.0",
            "value": 223626,
            "_view_count": null,
            "_view_module_version": "1.5.0",
            "orientation": "horizontal",
            "min": 0,
            "description_tooltip": null,
            "_model_module": "@jupyter-widgets/controls",
            "layout": "IPY_MODEL_f493ba6886624319b4742925870c9548"
          }
        },
        "310e11d23112442dbd8d8e72ff255e00": {
          "model_module": "@jupyter-widgets/controls",
          "model_name": "HTMLModel",
          "state": {
            "_view_name": "HTMLView",
            "style": "IPY_MODEL_b87c8c81389a436ab19af30a757b349c",
            "_dom_classes": [],
            "description": "",
            "_model_name": "HTMLModel",
            "placeholder": "​",
            "_view_module": "@jupyter-widgets/controls",
            "_model_module_version": "1.5.0",
            "value": " 223626/223626 [04:31&lt;00:00, 822.94it/s]",
            "_view_count": null,
            "_view_module_version": "1.5.0",
            "description_tooltip": null,
            "_model_module": "@jupyter-widgets/controls",
            "layout": "IPY_MODEL_63ae3930ddf7405b923c36de65d66d10"
          }
        },
        "d6edca3be4da402d80a3d250f761fd37": {
          "model_module": "@jupyter-widgets/controls",
          "model_name": "ProgressStyleModel",
          "state": {
            "_view_name": "StyleView",
            "_model_name": "ProgressStyleModel",
            "description_width": "initial",
            "_view_module": "@jupyter-widgets/base",
            "_model_module_version": "1.5.0",
            "_view_count": null,
            "_view_module_version": "1.2.0",
            "bar_color": null,
            "_model_module": "@jupyter-widgets/controls"
          }
        },
        "f493ba6886624319b4742925870c9548": {
          "model_module": "@jupyter-widgets/base",
          "model_name": "LayoutModel",
          "state": {
            "_view_name": "LayoutView",
            "grid_template_rows": null,
            "right": null,
            "justify_content": null,
            "_view_module": "@jupyter-widgets/base",
            "overflow": null,
            "_model_module_version": "1.2.0",
            "_view_count": null,
            "flex_flow": null,
            "width": null,
            "min_width": null,
            "border": null,
            "align_items": null,
            "bottom": null,
            "_model_module": "@jupyter-widgets/base",
            "top": null,
            "grid_column": null,
            "overflow_y": null,
            "overflow_x": null,
            "grid_auto_flow": null,
            "grid_area": null,
            "grid_template_columns": null,
            "flex": null,
            "_model_name": "LayoutModel",
            "justify_items": null,
            "grid_row": null,
            "max_height": null,
            "align_content": null,
            "visibility": null,
            "align_self": null,
            "height": null,
            "min_height": null,
            "padding": null,
            "grid_auto_rows": null,
            "grid_gap": null,
            "max_width": null,
            "order": null,
            "_view_module_version": "1.2.0",
            "grid_template_areas": null,
            "object_position": null,
            "object_fit": null,
            "grid_auto_columns": null,
            "margin": null,
            "display": null,
            "left": null
          }
        },
        "b87c8c81389a436ab19af30a757b349c": {
          "model_module": "@jupyter-widgets/controls",
          "model_name": "DescriptionStyleModel",
          "state": {
            "_view_name": "StyleView",
            "_model_name": "DescriptionStyleModel",
            "description_width": "",
            "_view_module": "@jupyter-widgets/base",
            "_model_module_version": "1.5.0",
            "_view_count": null,
            "_view_module_version": "1.2.0",
            "_model_module": "@jupyter-widgets/controls"
          }
        },
        "63ae3930ddf7405b923c36de65d66d10": {
          "model_module": "@jupyter-widgets/base",
          "model_name": "LayoutModel",
          "state": {
            "_view_name": "LayoutView",
            "grid_template_rows": null,
            "right": null,
            "justify_content": null,
            "_view_module": "@jupyter-widgets/base",
            "overflow": null,
            "_model_module_version": "1.2.0",
            "_view_count": null,
            "flex_flow": null,
            "width": null,
            "min_width": null,
            "border": null,
            "align_items": null,
            "bottom": null,
            "_model_module": "@jupyter-widgets/base",
            "top": null,
            "grid_column": null,
            "overflow_y": null,
            "overflow_x": null,
            "grid_auto_flow": null,
            "grid_area": null,
            "grid_template_columns": null,
            "flex": null,
            "_model_name": "LayoutModel",
            "justify_items": null,
            "grid_row": null,
            "max_height": null,
            "align_content": null,
            "visibility": null,
            "align_self": null,
            "height": null,
            "min_height": null,
            "padding": null,
            "grid_auto_rows": null,
            "grid_gap": null,
            "max_width": null,
            "order": null,
            "_view_module_version": "1.2.0",
            "grid_template_areas": null,
            "object_position": null,
            "object_fit": null,
            "grid_auto_columns": null,
            "margin": null,
            "display": null,
            "left": null
          }
        }
      }
    }
  },
  "cells": [
    {
      "cell_type": "markdown",
      "metadata": {
        "id": "Bwnm7iOXg-0A",
        "colab_type": "text"
      },
      "source": [
        "# Setup, installs, imports"
      ]
    },
    {
      "cell_type": "code",
      "metadata": {
        "id": "_ZglNk-gg9qI",
        "colab_type": "code",
        "colab": {
          "base_uri": "https://localhost:8080/",
          "height": 0
        },
        "outputId": "32fab639-ea08-44f0-9fd0-6dfaa24b4e3c"
      },
      "source": [
        "from google.colab import drive\n",
        "drive.mount('/content/drive')"
      ],
      "execution_count": 1,
      "outputs": [
        {
          "output_type": "stream",
          "text": [
            "Go to this URL in a browser: https://accounts.google.com/o/oauth2/auth?client_id=947318989803-6bn6qk8qdgf4n4g3pfee6491hc0brc4i.apps.googleusercontent.com&redirect_uri=urn%3aietf%3awg%3aoauth%3a2.0%3aoob&scope=email%20https%3a%2f%2fwww.googleapis.com%2fauth%2fdocs.test%20https%3a%2f%2fwww.googleapis.com%2fauth%2fdrive%20https%3a%2f%2fwww.googleapis.com%2fauth%2fdrive.photos.readonly%20https%3a%2f%2fwww.googleapis.com%2fauth%2fpeopleapi.readonly&response_type=code\n",
            "\n",
            "Enter your authorization code:\n",
            "··········\n",
            "Mounted at /content/drive\n"
          ],
          "name": "stdout"
        }
      ]
    },
    {
      "cell_type": "code",
      "metadata": {
        "id": "qXX0weRuYOQe",
        "colab_type": "code",
        "colab": {
          "base_uri": "https://localhost:8080/",
          "height": 105
        },
        "outputId": "4daa5ba8-7c74-4b4d-b4a6-c3f9d4a6f7a9"
      },
      "source": [
        "!pip install transformers -q"
      ],
      "execution_count": null,
      "outputs": [
        {
          "output_type": "stream",
          "text": [
            "\u001b[K     |████████████████████████████████| 778kB 2.9MB/s \n",
            "\u001b[K     |████████████████████████████████| 890kB 14.1MB/s \n",
            "\u001b[K     |████████████████████████████████| 1.1MB 12.3MB/s \n",
            "\u001b[K     |████████████████████████████████| 3.0MB 25.6MB/s \n",
            "\u001b[?25h  Building wheel for sacremoses (setup.py) ... \u001b[?25l\u001b[?25hdone\n"
          ],
          "name": "stdout"
        }
      ]
    },
    {
      "cell_type": "code",
      "metadata": {
        "id": "AAFQThg9OZ7G",
        "colab_type": "code",
        "colab": {}
      },
      "source": [
        "import transformers\n",
        "from google.colab import files\n",
        "from transformers import BertTokenizer\n",
        "import json\n",
        "import pandas as pd\n",
        "import numpy as np\n",
        "import os\n",
        "import pickle\n",
        "import ast\n",
        "from tqdm.autonotebook import tqdm\n",
        "import babel.dates\n",
        "import datetime\n",
        "from __future__ import generators\n",
        "import glob\n",
        "import random\n",
        "from transformers import BertModel, AdamW, get_linear_schedule_with_warmup\n",
        "import torch\n",
        "import torch.nn as nn\n",
        "import torch.nn.functional as F\n",
        "from torch.optim import lr_scheduler\n",
        "from sklearn.ensemble import RandomForestClassifier\n",
        "from sklearn.ensemble import RandomForestRegressor\n",
        "import matplotlib.pyplot as plt\n",
        "from joblib import dump, load\n"
      ],
      "execution_count": null,
      "outputs": []
    },
    {
      "cell_type": "code",
      "metadata": {
        "id": "NyBPpK3Y6C5Y",
        "colab_type": "code",
        "colab": {
          "base_uri": "https://localhost:8080/",
          "height": 66,
          "referenced_widgets": [
            "3963cf4895594d8ea7bf464fadd87f28",
            "8be7bdb6ab7343318118105e6b1a1324",
            "2e2e37c5d92d4e9492c9d2d04f462696",
            "5b688a7b7e8741d9986b5ddc2e94d73a",
            "7a8f3673127d4c4dafe1344fbcf9665e",
            "498e976ba3314f538671d0853ff08463",
            "aede5005bd6c417c87b4d7bac19c44e7",
            "4d74a4e6b5174bab9616b4a32c517c21"
          ]
        },
        "outputId": "c07d1d33-5e77-464d-8a18-b304db479569"
      },
      "source": [
        "tokenizer = BertTokenizer.from_pretrained('bert-base-multilingual-cased')"
      ],
      "execution_count": null,
      "outputs": [
        {
          "output_type": "display_data",
          "data": {
            "application/vnd.jupyter.widget-view+json": {
              "model_id": "3963cf4895594d8ea7bf464fadd87f28",
              "version_minor": 0,
              "version_major": 2
            },
            "text/plain": [
              "HBox(children=(FloatProgress(value=0.0, description='Downloading', max=995526.0, style=ProgressStyle(descripti…"
            ]
          },
          "metadata": {
            "tags": []
          }
        },
        {
          "output_type": "stream",
          "text": [
            "\n"
          ],
          "name": "stdout"
        }
      ]
    },
    {
      "cell_type": "code",
      "metadata": {
        "id": "tceJJlCK27Ve",
        "colab_type": "code",
        "colab": {}
      },
      "source": [
        "pd.options.mode.chained_assignment = None  # default='warn'"
      ],
      "execution_count": null,
      "outputs": []
    },
    {
      "cell_type": "markdown",
      "metadata": {
        "id": "4aoBT_ta6wJv",
        "colab_type": "text"
      },
      "source": [
        "# Helper functions and variables"
      ]
    },
    {
      "cell_type": "code",
      "metadata": {
        "id": "o3H_TRUzJVmW",
        "colab_type": "code",
        "colab": {}
      },
      "source": [
        "id2label = {\n",
        "    0: 'O',\n",
        "    1: 'Company',\n",
        "    2: 'City',\n",
        "    3: 'Code',\n",
        "    4: 'Street',\n",
        "    5: 'Date',\n",
        "    6: 'Period',\n",
        "    7: 'Person',\n",
        "    8: 'Role'\n",
        "}"
      ],
      "execution_count": null,
      "outputs": []
    },
    {
      "cell_type": "code",
      "metadata": {
        "id": "vbbi-aC8X3ds",
        "colab_type": "code",
        "colab": {}
      },
      "source": [
        "def display_all(df):\n",
        "    with pd.option_context(\"display.max_rows\", 1000, \"display.max_columns\", 1000): \n",
        "        display(df)"
      ],
      "execution_count": null,
      "outputs": []
    },
    {
      "cell_type": "code",
      "metadata": {
        "id": "i1IRXEmK6_rz",
        "colab_type": "code",
        "colab": {}
      },
      "source": [
        "def convert_date(str0):\n",
        "\n",
        "  dt = datetime.datetime.strptime(str0, '%Y-%m-%d')\n",
        "\n",
        "  str1 = babel.dates.format_date(dt, 'd MMMM yyyy', locale='pl_PL')\n",
        "  str2 = babel.dates.format_date(dt, 'd.M.Y', locale='pl_PL')\n",
        "  str4 = babel.dates.format_date(dt, 'd. M. Y', locale='pl_PL')\n",
        "  str5 = babel.dates.format_date(dt, 'd-M-Y', locale='pl_PL')\n",
        "  str6 = babel.dates.format_date(dt, 'dd-MM-Y', locale='pl_PL')\n",
        "  str7 = babel.dates.format_date(dt, 'dd.MM.Y', locale='pl_PL')\n",
        "\n",
        "  i_to_month = {\n",
        "      '1': 'styczeń',\n",
        "      '2': 'luty',\n",
        "      '3': 'marzec',\n",
        "      '4': 'kwiecień',\n",
        "      '5': 'maj',\n",
        "      '6': 'czerwiec',\n",
        "      '7': 'lipiec',\n",
        "      '8': 'sierpień',\n",
        "      '9': 'wrzesień',\n",
        "      '10': 'październik',\n",
        "      '11': 'listopad',\n",
        "      '12': 'grudzień'\n",
        "  }\n",
        "\n",
        "  str3 = babel.dates.format_date(dt, 'd', locale='pl_PL') + ' ' + i_to_month[babel.dates.format_date(dt, 'M', locale='pl_PL')] + ' ' + babel.dates.format_date(dt, 'Y', locale='pl_PL')\n",
        "  str8 = babel.dates.format_date(dt, 'd', locale='pl_PL') + ' ' + babel.dates.format_date(dt, 'MMMM', locale='pl_PL') + ', ' + babel.dates.format_date(dt, 'Y', locale='pl_PL')\n",
        "\n",
        "  return (str0, str1, str2, str3, str4, str5, str6, str7, str8)"
      ],
      "execution_count": null,
      "outputs": []
    },
    {
      "cell_type": "code",
      "metadata": {
        "id": "q81O2EUJ7iZi",
        "colab_type": "code",
        "colab": {}
      },
      "source": [
        "def convert_period(period_from, period_to):\n",
        "  res = []\n",
        "  fr = datetime.datetime.strptime(period_from, '%Y-%m-%d')\n",
        "  to = datetime.datetime.strptime(period_to, '%Y-%m-%d')\n",
        "  year_fr = babel.dates.format_date(fr, 'Y', locale='pl_PL')\n",
        "  year_to = babel.dates.format_date(to, 'Y', locale='pl_PL')\n",
        "  dm_fr = babel.dates.format_date(fr, 'd.M', locale='pl_PL')\n",
        "  dm_to = babel.dates.format_date(to, 'd.M', locale='pl_PL')\n",
        "\n",
        "  if dm_fr == '1.1' and dm_to == '30.6':\n",
        "    res.append(f'I półrocze {year_to}')\n",
        "    res.append(f'I PÓŁROCZE {year_to}')\n",
        "  if dm_fr == '1.7' and dm_to == '31.12':\n",
        "    res.append(f'II półrocze {year_to}')\n",
        "    res.append(f'II PÓŁROCZE {year_to}')\n",
        "  froms = convert_date(period_from)\n",
        "  tos = convert_date(period_to)\n",
        "\n",
        "  for i in range(len(froms)):\n",
        "    res.append(f'od {froms[i]} do {tos[i]}')\n",
        "    res.append(f'{froms[i]} - {tos[i]}')\n",
        "\n",
        "  return res"
      ],
      "execution_count": null,
      "outputs": []
    },
    {
      "cell_type": "code",
      "metadata": {
        "id": "remaAS4O6_1L",
        "colab_type": "code",
        "colab": {}
      },
      "source": [
        "# Knuth-Morris-Pratt string matching\n",
        "# David Eppstein, UC Irvine, 1 Mar 2002\n",
        "\n",
        "def KnuthMorrisPratt(text, pattern):\n",
        "\n",
        "    '''Yields all starting positions of copies of the pattern in the text.\n",
        "Calling conventions are similar to string.find, but its arguments can be\n",
        "lists or iterators, not just strings, it returns all matches, not just\n",
        "the first one, and it does not need the whole text in memory at once.\n",
        "Whenever it yields, it will have read the text exactly up to and including\n",
        "the match that caused the yield.'''\n",
        "\n",
        "    # allow indexing into pattern and protect against change during yield\n",
        "    pattern = list(pattern)\n",
        "\n",
        "    # build table of shift amounts\n",
        "    shifts = [1] * (len(pattern) + 1)\n",
        "    shift = 1\n",
        "    for pos in range(len(pattern)):\n",
        "        while shift <= pos and pattern[pos] != pattern[pos-shift]:\n",
        "            shift += shifts[pos-shift]\n",
        "        shifts[pos+1] = shift\n",
        "\n",
        "    # do the actual search\n",
        "    startPos = 0\n",
        "    matchLen = 0\n",
        "    for c in text:\n",
        "        while matchLen == len(pattern) or \\\n",
        "              matchLen >= 0 and pattern[matchLen] != c:\n",
        "            startPos += shifts[matchLen]\n",
        "            matchLen -= shifts[matchLen]\n",
        "        matchLen += 1\n",
        "        if matchLen == len(pattern):\n",
        "            yield startPos"
      ],
      "execution_count": null,
      "outputs": []
    },
    {
      "cell_type": "code",
      "metadata": {
        "id": "qhfvLH2_7A0N",
        "colab_type": "code",
        "colab": {}
      },
      "source": [
        "def tokenize(path):\n",
        "  doc_tokens = []\n",
        "  with open(path, 'r') as f:\n",
        "    for l in f.readlines():\n",
        "      tkns = tokenizer.encode(l, add_special_tokens=False)\n",
        "      doc_tokens.extend(tkns)\n",
        "  return doc_tokens\n",
        "\n",
        "def chunk(doc_tokens, max_seq_len=512, stride=128):\n",
        "  max_seq_len = max_seq_len - 2 # [CLS], [SEP]\n",
        "  examples = []\n",
        "  start_index = 0\n",
        "  end_index = max_seq_len\n",
        "  while True:\n",
        "    example = [101] + doc_tokens[start_index:end_index] + [102]\n",
        "    examples.append(example)\n",
        "    start_index += stride\n",
        "    end_index += stride\n",
        "    if end_index >= len(doc_tokens): break\n",
        "  return examples"
      ],
      "execution_count": null,
      "outputs": []
    },
    {
      "cell_type": "code",
      "metadata": {
        "id": "i0yCR-Eq7Atl",
        "colab_type": "code",
        "colab": {}
      },
      "source": [
        "def get_ners(df_row):\n",
        "  d = { 'city': df_row.city,\n",
        "        'code': df_row.postal_code,\n",
        "        'company': df_row.company,\n",
        "        'date': df_row.drawing_date,\n",
        "        'period_from': df_row.period_from,\n",
        "        'period_to': df_row.period_to,\n",
        "        'street': df_row.street,\n",
        "        'number': df_row.street_no,\n",
        "        'people': []\n",
        "  }\n",
        "  people = ast.literal_eval(df_row.people)\n",
        "  for p in people:\n",
        "    d['people'].append({\n",
        "        'person': p[1],\n",
        "        'role': p[2]\n",
        "    })\n",
        "  return d"
      ],
      "execution_count": null,
      "outputs": []
    },
    {
      "cell_type": "code",
      "metadata": {
        "id": "jCFxw7xC7Aqh",
        "colab_type": "code",
        "colab": {}
      },
      "source": [
        "def convert_dict(d, tokenizer):\n",
        "  res = []\n",
        "  res.append([1, tokenizer.encode(d['company'], add_special_tokens=False)])\n",
        "  res.append([2, tokenizer.encode(d['city'], add_special_tokens=False)])\n",
        "  res.append([3, tokenizer.encode(d['code'], add_special_tokens=False)])\n",
        "  res.append([4, tokenizer.encode(d['street'], add_special_tokens=False)])\n",
        "  res.append([4, tokenizer.encode((d['street'] + ' ' + d['number']), add_special_tokens=False)])\n",
        "  for e in d['people']:\n",
        "    res.append([7, tokenizer.encode(e['person'], add_special_tokens=False)])\n",
        "    res.append([8, tokenizer.encode(e['role'], add_special_tokens=False)])\n",
        "  for dt in convert_date(d['date']):\n",
        "    res.append([5, tokenizer.encode(dt, add_special_tokens=False)])\n",
        "  for period in convert_period(d['period_from'], d['period_to']):\n",
        "    res.append([6, tokenizer.encode(period, add_special_tokens=False)])\n",
        "  return np.vstack(res)\n"
      ],
      "execution_count": null,
      "outputs": []
    },
    {
      "cell_type": "code",
      "metadata": {
        "id": "BuXXHkSe7Am-",
        "colab_type": "code",
        "colab": {}
      },
      "source": [
        "def convert_chunk(t, tokenizer, tners):\n",
        "  tgt = [0] * len(t)\n",
        "  for n in tners:\n",
        "    ner_tokens, ner_label = n[1], n[0]\n",
        "    for start in KnuthMorrisPratt(t, ner_tokens):\n",
        "      for i in range(len(ner_tokens)): tgt[start+i] = ner_label\n",
        "  return tgt"
      ],
      "execution_count": null,
      "outputs": []
    },
    {
      "cell_type": "code",
      "metadata": {
        "id": "Ojnhqj6w7Ajx",
        "colab_type": "code",
        "colab": {}
      },
      "source": [
        "class AverageMeter:\n",
        "    \"\"\"\n",
        "    Computes and stores the average and current value\n",
        "    \"\"\"\n",
        "\n",
        "    def __init__(self):\n",
        "        self.val = 0\n",
        "        self.avg = 0\n",
        "        self.sum = 0\n",
        "        self.count = 0\n",
        "\n",
        "    def reset(self):\n",
        "        self.val = 0\n",
        "        self.avg = 0\n",
        "        self.sum = 0\n",
        "        self.count = 0\n",
        "\n",
        "    def update(self, val, n=1):\n",
        "        self.val = val\n",
        "        self.sum += val * n\n",
        "        self.count += n\n",
        "        self.avg = self.sum / self.count"
      ],
      "execution_count": null,
      "outputs": []
    },
    {
      "cell_type": "code",
      "metadata": {
        "id": "su3yHUg57AgK",
        "colab_type": "code",
        "colab": {}
      },
      "source": [
        "class EarlyStopping:\n",
        "    def __init__(self, patience=7, mode=\"max\", delta=0.0001):\n",
        "        self.patience = patience\n",
        "        self.counter = 0\n",
        "        self.mode = mode\n",
        "        self.best_score = None\n",
        "        self.early_stop = False\n",
        "        self.delta = delta\n",
        "        if self.mode == \"min\":\n",
        "            self.val_score = np.Inf\n",
        "        else:\n",
        "            self.val_score = -np.Inf\n",
        "\n",
        "    def __call__(self, epoch_score, model, model_path):\n",
        "        if self.mode == \"min\":\n",
        "            score = -1.0 * epoch_score\n",
        "        else:\n",
        "            score = np.copy(epoch_score)\n",
        "\n",
        "        if self.best_score is None:\n",
        "            self.best_score = score\n",
        "            self.save_checkpoint(epoch_score, model, model_path)\n",
        "        elif score < self.best_score + self.delta:\n",
        "            self.counter += 1\n",
        "            print(\n",
        "                \"EarlyStopping counter: {} out of {}\".format(\n",
        "                    self.counter, self.patience\n",
        "                )\n",
        "            )\n",
        "            if self.counter >= self.patience:\n",
        "                self.early_stop = True\n",
        "        else:\n",
        "            self.best_score = score\n",
        "            self.save_checkpoint(epoch_score, model, model_path)\n",
        "            self.counter = 0\n",
        "\n",
        "    def save_checkpoint(self, epoch_score, model, model_path):\n",
        "        if epoch_score not in [-np.inf, np.inf, -np.nan, np.nan]:\n",
        "            print(\n",
        "                \"Validation score improved ({} --> {}). Saving model!\".format(\n",
        "                    self.val_score, epoch_score\n",
        "                )\n",
        "            )\n",
        "            torch.save(model.state_dict(), model_path)\n",
        "        self.val_score = epoch_score"
      ],
      "execution_count": null,
      "outputs": []
    },
    {
      "cell_type": "code",
      "metadata": {
        "id": "ODZMbXyX7Acg",
        "colab_type": "code",
        "colab": {}
      },
      "source": [
        "ignore_labels = ['O']"
      ],
      "execution_count": null,
      "outputs": []
    },
    {
      "cell_type": "code",
      "metadata": {
        "id": "RPpgG9zi7AZI",
        "colab_type": "code",
        "colab": {}
      },
      "source": [
        "def model_outputs_to_df(model_outputs, chunk_examples, chunk_ids, tokenizer):\n",
        "    res = []\n",
        "\n",
        "    for chunk in tqdm(range(len(chunk_ids))):\n",
        "\n",
        "      cid = chunk_ids[chunk]\n",
        "      tokens = chunk_examples[chunk]\n",
        "      input_ids = tokens\n",
        "      sentence = tokenizer.decode(tokens)\n",
        "      outputs = model_outputs[chunk] # will this work? or [0,:,:]?\n",
        "      scores = np.exp(outputs) / np.exp(outputs).sum(-1, keepdims=True)\n",
        "      labels_idx = scores.argmax(axis=-1)\n",
        "\n",
        "      results = []\n",
        "      token_indices = []\n",
        "      token_logits = []\n",
        "      entity_type = None\n",
        "      last_idx = -2\n",
        "      last_label_idx = -1\n",
        "\n",
        "      for idx, label_idx in enumerate(labels_idx):\n",
        "        if id2label[label_idx] not in ignore_labels:\n",
        "          if idx - 1 > last_idx or label_idx != last_label_idx:  # new entity\n",
        "            if token_indices != []: # we need to add previous result to the list\n",
        "              results.append({\n",
        "                  'entity_type': entity_type,\n",
        "                  'avg_logit': np.average(token_logits),\n",
        "                  'text': tokenizer.decode(token_indices),\n",
        "                  'token_indices': token_indices,\n",
        "                  'token_logits': token_logits\n",
        "                  })\n",
        "              token_indices = []\n",
        "              token_logits = []\n",
        "            entity_type = id2label[label_idx]\n",
        "            last_label_idx = label_idx\n",
        "            token_indices.append(int(input_ids[idx]))\n",
        "            token_logits.append(outputs[idx][label_idx].item())\n",
        "            last_idx = idx\n",
        "\n",
        "          elif idx - 1 == last_idx and label_idx == last_label_idx: # continue same entity\n",
        "            last_idx = idx\n",
        "            token_indices.append(int(input_ids[idx]))\n",
        "            token_logits.append(outputs[idx][label_idx].item())\n",
        "          \n",
        "          else: raise Exception('I did not expect that value!')\n",
        "\n",
        "      if token_indices != []: \n",
        "        results.append({\n",
        "                  'entity_type': entity_type,\n",
        "                  'avg_logit': np.average(token_logits),\n",
        "                  'text': tokenizer.decode(token_indices),\n",
        "                  'token_indices': token_indices,\n",
        "                  'token_logits': token_logits\n",
        "                  })\n",
        "\n",
        "      result = [\n",
        "                cid,\n",
        "                sentence,\n",
        "                results\n",
        "      ]\n",
        "\n",
        "      res.append(result)\n",
        "    \n",
        "    df_results = pd.DataFrame(res, columns=['cid', 'sentence', 'results'])\n",
        "    print(f'Done processing {len(res)} chunks.')\n",
        "    return df_results"
      ],
      "execution_count": null,
      "outputs": []
    },
    {
      "cell_type": "code",
      "metadata": {
        "id": "IZsfo1CxGxGr",
        "colab_type": "code",
        "colab": {}
      },
      "source": [
        "def add_gt(cid, df_valid):\n",
        "  return {\n",
        "    'company': df_valid['company'].loc[df_valid['id'] == cid].values[0],\n",
        "    'drawing_date': df_valid['drawing_date'].loc[df_valid['id'] == cid].values[0],\n",
        "    'period_from': df_valid['period_from'].loc[df_valid['id'] == cid].values[0],\n",
        "    'period_to': df_valid['period_to'].loc[df_valid['id'] == cid].values[0],\n",
        "    'postal_code': df_valid['postal_code'].loc[df_valid['id'] == cid].values[0],\n",
        "    'city': df_valid['city'].loc[df_valid['id'] == cid].values[0],\n",
        "    'street': df_valid['street'].loc[df_valid['id'] == cid].values[0],\n",
        "    'street_no': df_valid['street_no'].loc[df_valid['id'] == cid].values[0],\n",
        "    'people': df_valid['people'].loc[df_valid['id'] == cid].values[0]\n",
        "    }"
      ],
      "execution_count": null,
      "outputs": []
    },
    {
      "cell_type": "code",
      "metadata": {
        "id": "AvbJiCTR-jaj",
        "colab_type": "code",
        "colab": {}
      },
      "source": [
        "m1_to_i = {\n",
        "  'styczeń'       :   '1',\n",
        "  'luty'          :   '2',\n",
        "  'marzec'        :   '3',\n",
        "  'kwiecień'      :   '4',\n",
        "  'maj'           :   '5',\n",
        "  'czerwiec'      :   '6',\n",
        "  'lipiec'        :   '7',\n",
        "  'sierpień'      :   '8',\n",
        "  'wrzesień'      :   '9',\n",
        "  'październik'  :  '10',\n",
        "  'listopad'     :  '11',\n",
        "  'grudzień'     :  '12'\n",
        "}\n",
        "\n",
        "m2_to_i = {\n",
        "  'stycznia'       :   '1',\n",
        "  'lutego'          :   '2',\n",
        "  'marca'        :   '3',\n",
        "  'kwietnia'      :   '4',\n",
        "  'maja'           :   '5',\n",
        "  'czerwca'      :   '6',\n",
        "  'lipca'        :   '7',\n",
        "  'sierpnia'      :   '8',\n",
        "  'września'      :   '9',\n",
        "  'października'  :  '10',\n",
        "  'listopada'     :  '11',\n",
        "  'grudnia'     :  '12'\n",
        "}"
      ],
      "execution_count": null,
      "outputs": []
    },
    {
      "cell_type": "code",
      "metadata": {
        "id": "2AY3Q6HGBeuc",
        "colab_type": "code",
        "colab": {}
      },
      "source": [
        "def date_format(date_string):\n",
        "  # DATE_FORMATS = ['d MMMM yyyy', 'd.M.Y', 'd. M. Y', 'd-M-Y', 'dd-MM-Y', 'dd.MM.Y']\n",
        "  unform = '[unparsed] ' + date_string\n",
        "  if any(word in date_string for word in m2_to_i.keys()):\n",
        "    elems = date_string.split()\n",
        "    if len(elems) == 3:\n",
        "      try: \n",
        "        day = int(elems[0])\n",
        "        month = int(m2_to_i[elems[1]])\n",
        "        year = int(elems[2])\n",
        "        return datetime.datetime(year, month, day).strftime('%Y-%m-%d')\n",
        "      except Exception as e:\n",
        "        # print(str(e)) \n",
        "        return unform\n",
        "    else: return unform\n",
        "  if any(word in date_string for word in m1_to_i.keys()):\n",
        "    elems = date_string.split()\n",
        "    if len(elems) == 3:\n",
        "      try: \n",
        "        day = int(elems[0])\n",
        "        month = int(m1_to_i[elems[1]])\n",
        "        year = int(elems[2])\n",
        "        return datetime.datetime(year, month, day).strftime('%Y-%m-%d')\n",
        "      except Exception as e:\n",
        "        # print(str(e)) \n",
        "        return unform\n",
        "    else: return unform\n",
        "\n",
        "  try:\n",
        "    date = babel.dates.parse_date(date_string, locale='pl_PL')\n",
        "    return babel.dates.format_date(date, 'Y-MM-dd', locale='pl_PL')\n",
        "  except Exception as e: \n",
        "    # print(str(e))\n",
        "    pass\n",
        "\n",
        "  return unform"
      ],
      "execution_count": null,
      "outputs": []
    },
    {
      "cell_type": "code",
      "metadata": {
        "id": "Z2CflNkxBerM",
        "colab_type": "code",
        "colab": {}
      },
      "source": [
        "def period_format(period_string):\n",
        "  period_from, period_to = None, None\n",
        "\n",
        "  if ('II półrocze' or 'II PÓŁROCZE') in period_string:\n",
        "    try:\n",
        "      year = int(period_string.rsplit(' ', 1)[1])\n",
        "      period_from = datetime.datetime(year, 7, 1).strftime('%Y-%m-%d')\n",
        "      period_to = datetime.datetime(year, 12, 31).strftime('%Y-%m-%d')\n",
        "      return period_from, period_to\n",
        "    except:\n",
        "      pass\n",
        "  elif ('I półrocze' or 'I PÓŁROCZE') in period_string:\n",
        "    try:\n",
        "      year = int(period_string.rsplit(' ', 1)[1])\n",
        "      period_from = datetime.datetime(year, 1, 1).strftime('%Y-%m-%d')\n",
        "      period_to = datetime.datetime(year, 6, 30).strftime('%Y-%m-%d')\n",
        "      return period_from, period_to\n",
        "    except:\n",
        "      pass\n",
        "\n",
        "  if 'do' in period_string:\n",
        "    try:\n",
        "      period_string = period_string.replace('od', '')\n",
        "      p1, p2 = period_string.rsplit('do', 1)\n",
        "      period_from = date_format(p1)\n",
        "      period_to = date_format(p2)\n",
        "      return period_from, period_to\n",
        "    except: \n",
        "      pass\n",
        "\n",
        "  return period_from, period_to"
      ],
      "execution_count": null,
      "outputs": []
    },
    {
      "cell_type": "code",
      "metadata": {
        "id": "FgoqQOZwBeob",
        "colab_type": "code",
        "colab": {}
      },
      "source": [
        "def city_pred(res):\n",
        "  avg_logit = 0\n",
        "  city = ''\n",
        "  res = ast.literal_eval(str(res))\n",
        "  for e in res:\n",
        "    if e['entity_type'] == 'City' and e['avg_logit'] > avg_logit:\n",
        "      city = e['text']\n",
        "      avg_logit = e['avg_logit']\n",
        "  return city, avg_logit\n",
        "\n",
        "def city_actual(gt):\n",
        "  return ast.literal_eval(str(gt))['city']\n",
        "\n",
        "def company_pred(res):\n",
        "  avg_logit = 0\n",
        "  company = ''\n",
        "  res = ast.literal_eval(str(res))\n",
        "  for e in res:\n",
        "    if e['entity_type'] == 'Company' and e['avg_logit'] > avg_logit:\n",
        "      company = e['text']\n",
        "      avg_logit = e['avg_logit']\n",
        "  return company, avg_logit\n",
        "\n",
        "def company_actual(gt):\n",
        "  return ast.literal_eval(str(gt))['company']\n",
        "\n",
        "def code_pred(res):\n",
        "  avg_logit = 0\n",
        "  code = ''\n",
        "  res = ast.literal_eval(str(res))\n",
        "  for e in res:\n",
        "    if e['entity_type'] == 'Code' and e['avg_logit'] > avg_logit:\n",
        "      code = e['text'].replace(' ', '')\n",
        "      avg_logit = e['avg_logit']\n",
        "  return code, avg_logit\n",
        "\n",
        "def code_actual(gt):\n",
        "  return ast.literal_eval(str(gt))['postal_code']\n",
        "\n",
        "def street_number_pred(res):\n",
        "  avg_logit = 0\n",
        "  street = ''\n",
        "  number = ''\n",
        "  res = ast.literal_eval(str(res))\n",
        "  for e in res:\n",
        "    if e['entity_type'] == 'Street' and e['avg_logit'] > avg_logit:\n",
        "      street_number = e['text']\n",
        "      try: \n",
        "        street, number = street_number.rsplit(' ', 1)\n",
        "      except:\n",
        "        street = street_number\n",
        "        number = ''\n",
        "      avg_logit = e['avg_logit']\n",
        "  return street, number, avg_logit\n",
        "\n",
        "def street_actual(gt):\n",
        "  return ast.literal_eval(str(gt))['street']\n",
        "\n",
        "def number_actual(gt):\n",
        "  return ast.literal_eval(str(gt))['street_no']\n",
        "\n",
        "def date_pred(res):\n",
        "  avg_logit = 0\n",
        "  date = ''\n",
        "  res = ast.literal_eval(str(res))\n",
        "  for e in res:\n",
        "    if e['entity_type'] == 'Date' and e['avg_logit'] > avg_logit:\n",
        "      date = e['text']\n",
        "      # postprocess date\n",
        "      avg_logit = e['avg_logit']\n",
        "  return date, avg_logit\n",
        "\n",
        "def date_actual(gt):\n",
        "  return ast.literal_eval(str(gt))['drawing_date']\n",
        "\n",
        "def period_pred(res):\n",
        "  avg_logit = 0\n",
        "  period = ''\n",
        "  res = ast.literal_eval(str(res))\n",
        "  for e in res:\n",
        "    if e['entity_type'] == 'Period' and e['avg_logit'] > avg_logit:\n",
        "      period = e['text']\n",
        "      avg_logit = e['avg_logit']\n",
        "  return period, avg_logit\n",
        "\n",
        "def period_from_actual(gt):\n",
        "  return ast.literal_eval(str(gt))['period_from']\n",
        "\n",
        "def period_to_actual(gt):\n",
        "  return ast.literal_eval(str(gt))['period_to']\n",
        "\n",
        "def person_pred(res):\n",
        "  person = []\n",
        "  res = ast.literal_eval(str(res))\n",
        "  for e in res:\n",
        "    if e['entity_type'] == 'Person':\n",
        "      person.append([e['text'], e['avg_logit']])\n",
        "  return person\n",
        "\n",
        "def role_pred(res):\n",
        "  role = []\n",
        "  res = ast.literal_eval(str(res))\n",
        "  for e in res:\n",
        "    if e['entity_type'] == 'Role':\n",
        "      role.append([e['text'], e['avg_logit']])\n",
        "  return role\n",
        "\n",
        "def people_actual(gt):\n",
        "  return ast.literal_eval(str(gt))['people']"
      ],
      "execution_count": null,
      "outputs": []
    },
    {
      "cell_type": "code",
      "metadata": {
        "id": "oC8Ke4zvBekD",
        "colab_type": "code",
        "colab": {}
      },
      "source": [
        "def people_format2(r):\n",
        "  person_string, role_string, date_result = r[0], r[1], r[2]\n",
        "  people = []\n",
        "  pres = ast.literal_eval(str(person_string))\n",
        "  rres = ast.literal_eval(str(role_string))\n",
        "  for i in range(min(len(pres), len(rres))):\n",
        "    people.append((str(date_result), pres[i][0], rres[i][0]))\n",
        "  return people\n",
        "\n",
        "\n",
        "def people_format(person_string, role_string, date_result):\n",
        "  people = []\n",
        "  pres = ast.literal_eval(str(person_string))\n",
        "  rres = ast.literal_eval(str(role_string))\n",
        "  for i in range(min(len(pres), len(rres))):\n",
        "    people.append((str(date_result), pres[i][0], rres[i][0]))\n",
        "  return people"
      ],
      "execution_count": null,
      "outputs": []
    },
    {
      "cell_type": "code",
      "metadata": {
        "id": "XcjSh6V_-jgK",
        "colab_type": "code",
        "colab": {}
      },
      "source": [
        "def people_score(row):\n",
        "  acts = []\n",
        "  pres = []\n",
        "  act = ast.literal_eval(row[0])\n",
        "  pre = ast.literal_eval(row[1])\n",
        "  for x in act:\n",
        "    acts.append(x[1])\n",
        "    acts.append(x[2])\n",
        "  for x in pre:\n",
        "    pres.append(x[1])\n",
        "    pres.append(x[2])\n",
        "\n",
        "  union = [ x for x in pres if x in acts ]\n",
        "  if len(acts) != 0: score = len(union) / len(acts)\n",
        "  if len(acts) == 0: score = 0\n",
        "\n",
        "  if score > 1: score = 1/score\n",
        "  return score"
      ],
      "execution_count": null,
      "outputs": []
    },
    {
      "cell_type": "code",
      "metadata": {
        "id": "K8Wqk_pF-j7f",
        "colab_type": "code",
        "colab": {}
      },
      "source": [
        "def normalize_company(txt):\n",
        "  txt = txt.upper()\n",
        "  txt = txt.replace('SPÓŁKA AKCYJNA', 'SA')\n",
        "  txt = txt.replace('S.A.', 'SA')\n",
        "  txt = txt.replace('S. A.', 'SA')\n",
        "  txt = txt.replace('SPÓŁKI AKCYJNEJ', 'SA')\n",
        "  txt = txt.replace('S. A', 'SA')\n",
        "  txt = txt.replace('„', '')\n",
        "  txt = txt.replace('”', '')\n",
        "  txt = txt.replace(';', '')\n",
        "  txt = txt.replace(',', '')\n",
        "  return txt"
      ],
      "execution_count": null,
      "outputs": []
    },
    {
      "cell_type": "markdown",
      "metadata": {
        "id": "JN1Y9Tc1f38r",
        "colab_type": "text"
      },
      "source": [
        "# Data preprocessing"
      ]
    },
    {
      "cell_type": "code",
      "metadata": {
        "id": "01UqXoe8N7lE",
        "colab_type": "code",
        "colab": {
          "base_uri": "https://localhost:8080/",
          "height": 141
        },
        "outputId": "2e055296-6b2c-4f25-9627-79aa6ec4c172"
      },
      "source": [
        "!git clone git://gonito.net/poleval-financial-reports-pl"
      ],
      "execution_count": null,
      "outputs": [
        {
          "output_type": "stream",
          "text": [
            "Cloning into 'poleval-financial-reports-pl'...\n",
            "remote: Enumerating objects: 2768, done.\u001b[K\n",
            "remote: Counting objects: 100% (2768/2768), done.\u001b[K\n",
            "remote: Compressing objects: 100% (2753/2753), done.\u001b[K\n",
            "remote: Total 2768 (delta 19), reused 2751 (delta 11), pack-reused 0\n",
            "Receiving objects: 100% (2768/2768), 74.14 MiB | 15.66 MiB/s, done.\n",
            "Resolving deltas: 100% (19/19), done.\n"
          ],
          "name": "stdout"
        }
      ]
    },
    {
      "cell_type": "code",
      "metadata": {
        "id": "eDQ190i-OeMr",
        "colab_type": "code",
        "colab": {}
      },
      "source": [
        "# !wget http://poleval.pl/task4/task4-test.zip\n",
        "# !unzip -q task4-test.zip"
      ],
      "execution_count": null,
      "outputs": []
    },
    {
      "cell_type": "code",
      "metadata": {
        "id": "9aPkMYgr_F_5",
        "colab_type": "code",
        "colab": {}
      },
      "source": [
        "# !wget http://poleval.pl/task4/task4-train.zip\n",
        "# !wget http://poleval.pl/task4/task4-validate.zip"
      ],
      "execution_count": null,
      "outputs": []
    },
    {
      "cell_type": "code",
      "metadata": {
        "id": "5zHfb3dpK0_O",
        "colab_type": "code",
        "colab": {}
      },
      "source": [
        "# !unzip -q task4-train.zip\n",
        "# !unzip -q task4-validate.zip"
      ],
      "execution_count": null,
      "outputs": []
    },
    {
      "cell_type": "code",
      "metadata": {
        "id": "WRP6_kIePNch",
        "colab_type": "code",
        "colab": {}
      },
      "source": [
        "# df_test = pd.DataFrame(os.listdir('reports'), columns=['id'])"
      ],
      "execution_count": null,
      "outputs": []
    },
    {
      "cell_type": "code",
      "metadata": {
        "id": "9pQwsGzLNYnH",
        "colab_type": "code",
        "colab": {}
      },
      "source": [
        "# df_train = pd.read_csv('ground_truth-train.csv', sep=';')"
      ],
      "execution_count": null,
      "outputs": []
    },
    {
      "cell_type": "code",
      "metadata": {
        "id": "fXO6sJT63rFI",
        "colab_type": "code",
        "colab": {}
      },
      "source": [
        "# df_valid = pd.read_csv('ground_truth-validate.csv', sep=';')"
      ],
      "execution_count": null,
      "outputs": []
    },
    {
      "cell_type": "code",
      "metadata": {
        "id": "A-FVRif9P_BA",
        "colab_type": "code",
        "colab": {
          "base_uri": "https://localhost:8080/",
          "height": 175,
          "referenced_widgets": [
            "999d3718d1594f58978e4c0eebf581fb",
            "e58c4a99089b48f59b09aaa19da68ed7",
            "561a8d9c21e7408aad5a205e9a5fde93",
            "db875eaedb4849f39a1f01e9128c39b3",
            "d28f5d8bd4a84f5f8dd044eda7a66093",
            "98d59e54414248039cdaacca51230bca",
            "bed950a43e8e4560ac5e2529e216b0ea",
            "bb6c01f8506f40c3b1cadf6bdeeb2e82"
          ]
        },
        "outputId": "df626289-8f1e-4b8b-981e-933c8868075c"
      },
      "source": [
        "chunks_ners_test = []\n",
        "for i in tqdm(range(len(df_test))):\n",
        "  docid = df_test.loc[i].id\n",
        "  path = 'reports/' + str(docid) + '/*.txt'\n",
        "  filePaths = glob.glob(path)\n",
        "  doc_tokens = tokenize(filePaths[0]) # just grab the first file, hoping there aren't any more\n",
        "  chunks = chunk(doc_tokens)\n",
        "  ners = None\n",
        "  chunks_ners_test.append([chunks, ners, docid])\n",
        "\n",
        "len(chunks_ners_test)"
      ],
      "execution_count": null,
      "outputs": [
        {
          "output_type": "display_data",
          "data": {
            "application/vnd.jupyter.widget-view+json": {
              "model_id": "999d3718d1594f58978e4c0eebf581fb",
              "version_minor": 0,
              "version_major": 2
            },
            "text/plain": [
              "HBox(children=(FloatProgress(value=0.0, max=555.0), HTML(value='')))"
            ]
          },
          "metadata": {
            "tags": []
          }
        },
        {
          "output_type": "stream",
          "text": [
            "Token indices sequence length is longer than the specified maximum sequence length for this model (3740 > 512). Running this sequence through the model will result in indexing errors\n",
            "Token indices sequence length is longer than the specified maximum sequence length for this model (1247 > 512). Running this sequence through the model will result in indexing errors\n",
            "Token indices sequence length is longer than the specified maximum sequence length for this model (3228 > 512). Running this sequence through the model will result in indexing errors\n",
            "Token indices sequence length is longer than the specified maximum sequence length for this model (2337 > 512). Running this sequence through the model will result in indexing errors\n"
          ],
          "name": "stderr"
        },
        {
          "output_type": "stream",
          "text": [
            "\n"
          ],
          "name": "stdout"
        },
        {
          "output_type": "execute_result",
          "data": {
            "text/plain": [
              "555"
            ]
          },
          "metadata": {
            "tags": []
          },
          "execution_count": 34
        }
      ]
    },
    {
      "cell_type": "code",
      "metadata": {
        "id": "nRp2UIzTOEIv",
        "colab_type": "code",
        "colab": {
          "base_uri": "https://localhost:8080/",
          "height": 52
        },
        "outputId": "f9ad390f-1c4d-4c44-f960-a8ca386c0374"
      },
      "source": [
        "chunks_ners_train = []\n",
        "for i in tqdm(range(len(df_train))):\n",
        "  docid = df_train.loc[i].id\n",
        "  path = 'reports/' + str(docid) + '/*.txt'\n",
        "  filePaths = glob.glob(path)\n",
        "  doc_tokens = tokenize(filePaths[0]) # just grab the first file, hoping there aren't any more\n",
        "  chunks = chunk(doc_tokens)\n",
        "  ners = get_ners(df_train.loc[i])\n",
        "  chunks_ners_train.append([chunks, ners, docid])\n",
        "\n",
        "len(chunks_ners_train)"
      ],
      "execution_count": null,
      "outputs": [
        {
          "output_type": "stream",
          "text": [
            "100%|██████████| 1662/1662 [17:04<00:00,  1.62it/s]\n"
          ],
          "name": "stderr"
        },
        {
          "output_type": "execute_result",
          "data": {
            "text/plain": [
              "1662"
            ]
          },
          "metadata": {
            "tags": []
          },
          "execution_count": 38
        }
      ]
    },
    {
      "cell_type": "code",
      "metadata": {
        "id": "tK_L9zHy34gC",
        "colab_type": "code",
        "colab": {
          "base_uri": "https://localhost:8080/",
          "height": 159
        },
        "outputId": "2a79bb0e-5d02-42ee-bbd0-b24da7d5ca8c"
      },
      "source": [
        "chunks_ners_valid = []\n",
        "for i in tqdm(range(len(df_valid))):\n",
        "  docid = df_valid.loc[i].id\n",
        "  path = 'reports/' + str(docid) + '/*.txt'\n",
        "  filePaths = glob.glob(path)\n",
        "  doc_tokens = tokenize(filePaths[0]) # just grab the first file, hoping there aren't any more\n",
        "  chunks = chunk(doc_tokens)\n",
        "  ners = get_ners(df_valid.loc[i])\n",
        "  chunks_ners_valid.append([chunks, ners, docid])\n",
        "\n",
        "len(chunks_ners_valid)"
      ],
      "execution_count": null,
      "outputs": [
        {
          "output_type": "stream",
          "text": [
            " 15%|█▍        | 82/554 [00:48<05:15,  1.50it/s]Token indices sequence length is longer than the specified maximum sequence length for this model (594 > 512). Running this sequence through the model will result in indexing errors\n",
            "Token indices sequence length is longer than the specified maximum sequence length for this model (2117 > 512). Running this sequence through the model will result in indexing errors\n",
            "Token indices sequence length is longer than the specified maximum sequence length for this model (1774 > 512). Running this sequence through the model will result in indexing errors\n",
            " 85%|████████▌ | 471/554 [04:51<01:47,  1.29s/it]Token indices sequence length is longer than the specified maximum sequence length for this model (1051 > 512). Running this sequence through the model will result in indexing errors\n",
            "Token indices sequence length is longer than the specified maximum sequence length for this model (5386 > 512). Running this sequence through the model will result in indexing errors\n",
            "100%|██████████| 554/554 [05:41<00:00,  1.62it/s]\n"
          ],
          "name": "stderr"
        },
        {
          "output_type": "execute_result",
          "data": {
            "text/plain": [
              "554"
            ]
          },
          "metadata": {
            "tags": []
          },
          "execution_count": 40
        }
      ]
    },
    {
      "cell_type": "code",
      "metadata": {
        "id": "CegV7oIe7w_i",
        "colab_type": "code",
        "colab": {}
      },
      "source": [
        "# l = [chunks_ners_train, chunks_ners_valid]\n",
        "# with open('/content/drive/My Drive/poleval/chunkdata.pkl', 'wb') as fp:\n",
        "#     pickle.dump(l, fp)"
      ],
      "execution_count": null,
      "outputs": []
    },
    {
      "cell_type": "code",
      "metadata": {
        "id": "k_0Q0PtyQlme",
        "colab_type": "code",
        "colab": {}
      },
      "source": [
        "# with open('/content/drive/My Drive/poleval/chunks_test_1.pkl', 'wb') as fp:\n",
        "#     pickle.dump(chunks_ners_test, fp)"
      ],
      "execution_count": null,
      "outputs": []
    },
    {
      "cell_type": "code",
      "metadata": {
        "id": "IIADxyXzRUgW",
        "colab_type": "code",
        "colab": {
          "base_uri": "https://localhost:8080/",
          "height": 52
        },
        "outputId": "61bfac9a-a91f-466c-bb91-04e513996b78"
      },
      "source": [
        "train_examples = []\n",
        "train_targets = []\n",
        "train_ids = []\n",
        "\n",
        "for cn in tqdm(chunks_ners_train):\n",
        "  ners = convert_dict(cn[1], tokenizer)\n",
        "  cid = cn[2]\n",
        "  for e in cn[0]:    \n",
        "    tgt = convert_chunk(e, tokenizer, ners)\n",
        "    train_examples.append(e)\n",
        "    train_targets.append(tgt)\n",
        "    train_ids.append(cid)\n",
        "\n",
        "assert(len(train_examples) == len(train_targets))\n",
        "assert(len(train_examples) == len(train_ids))\n",
        "\n",
        "len(train_examples)"
      ],
      "execution_count": null,
      "outputs": [
        {
          "output_type": "stream",
          "text": [
            "100%|██████████| 1662/1662 [1:09:25<00:00,  2.51s/it]\n"
          ],
          "name": "stderr"
        },
        {
          "output_type": "execute_result",
          "data": {
            "text/plain": [
              "642646"
            ]
          },
          "metadata": {
            "tags": []
          },
          "execution_count": 90
        }
      ]
    },
    {
      "cell_type": "code",
      "metadata": {
        "id": "G5s00o3SRIqs",
        "colab_type": "code",
        "colab": {
          "base_uri": "https://localhost:8080/",
          "height": 84,
          "referenced_widgets": [
            "1eeefdfcd62042a9af5237c65c1b8782",
            "07c975c40a0f412fa442b05b78efb702",
            "9b249d1e2bbb4187b85223ddd9e339ae",
            "9f5e06721eb14815932a09e7158b1a0c",
            "93627ee4b7e242dfbad4c90c79d83837",
            "1ecf62eb0953410183b78d673e0de017",
            "b5a87768f8a4444886d7e2222740a4e3",
            "9db61ef13d2c40f29ec6f6953fd32a3d"
          ]
        },
        "outputId": "e746c449-1abe-4f5b-b6ec-9debe6c870e7"
      },
      "source": [
        "test_examples = []\n",
        "test_ids = []\n",
        "\n",
        "for cn in tqdm(chunks_ners_test):\n",
        "  cid = cn[2]\n",
        "  for e in cn[0]:    \n",
        "    test_examples.append(e)\n",
        "    test_ids.append(cid)\n",
        "\n",
        "assert(len(test_examples) == len(test_ids))\n",
        "\n",
        "len(test_examples)"
      ],
      "execution_count": null,
      "outputs": [
        {
          "output_type": "display_data",
          "data": {
            "application/vnd.jupyter.widget-view+json": {
              "model_id": "1eeefdfcd62042a9af5237c65c1b8782",
              "version_minor": 0,
              "version_major": 2
            },
            "text/plain": [
              "HBox(children=(FloatProgress(value=0.0, max=555.0), HTML(value='')))"
            ]
          },
          "metadata": {
            "tags": []
          }
        },
        {
          "output_type": "stream",
          "text": [
            "\n"
          ],
          "name": "stdout"
        },
        {
          "output_type": "execute_result",
          "data": {
            "text/plain": [
              "223626"
            ]
          },
          "metadata": {
            "tags": []
          },
          "execution_count": 36
        }
      ]
    },
    {
      "cell_type": "code",
      "metadata": {
        "id": "yu7tZ_qg3kV3",
        "colab_type": "code",
        "colab": {
          "base_uri": "https://localhost:8080/",
          "height": 52
        },
        "outputId": "d12819c9-51d8-4dc6-a776-5375422e1160"
      },
      "source": [
        "valid_examples = []\n",
        "valid_targets = []\n",
        "valid_ids = []\n",
        "\n",
        "for cn in tqdm(chunks_ners_valid):\n",
        "  ners = convert_dict(cn[1], tokenizer)\n",
        "  cid = cn[2]\n",
        "  for e in cn[0]:    \n",
        "    tgt = convert_chunk(e, tokenizer, ners)\n",
        "    valid_examples.append(e)\n",
        "    valid_targets.append(tgt)\n",
        "    valid_ids.append(cid)\n",
        "\n",
        "assert(len(valid_examples) == len(valid_targets))\n",
        "assert(len(valid_examples) == len(valid_ids))\n",
        "\n",
        "len(valid_examples)"
      ],
      "execution_count": null,
      "outputs": [
        {
          "output_type": "stream",
          "text": [
            "100%|██████████| 554/554 [22:40<00:00,  2.46s/it]\n"
          ],
          "name": "stderr"
        },
        {
          "output_type": "execute_result",
          "data": {
            "text/plain": [
              "210215"
            ]
          },
          "metadata": {
            "tags": []
          },
          "execution_count": 91
        }
      ]
    },
    {
      "cell_type": "code",
      "metadata": {
        "id": "bAJb3ZIRhoy9",
        "colab_type": "code",
        "colab": {}
      },
      "source": [
        "# l = [train_examples, train_targets, train_ids, valid_examples, valid_targets, valid_ids]\n",
        "# with open('/content/drive/My Drive/poleval/data2.pkl', 'wb') as fp:\n",
        "#     pickle.dump(l, fp)"
      ],
      "execution_count": null,
      "outputs": []
    },
    {
      "cell_type": "code",
      "metadata": {
        "id": "sKXnETR2N39d",
        "colab_type": "code",
        "colab": {}
      },
      "source": [
        "# l = [test_examples, test_ids]\n",
        "# with open('/content/drive/My Drive/poleval/test_data_1.pkl', 'wb') as fp:\n",
        "#     pickle.dump(l, fp)"
      ],
      "execution_count": null,
      "outputs": []
    },
    {
      "cell_type": "markdown",
      "metadata": {
        "id": "UnPxMrvNgYKC",
        "colab_type": "text"
      },
      "source": [
        "# Load data"
      ]
    },
    {
      "cell_type": "code",
      "metadata": {
        "id": "x6uT-tjD-Jgs",
        "colab_type": "code",
        "colab": {}
      },
      "source": [
        "with open('/content/drive/My Drive/poleval/data2.pkl', 'rb') as fp:\n",
        "    [train_examples, train_targets, train_ids, valid_examples, valid_targets, valid_ids] = pickle.load(fp)"
      ],
      "execution_count": null,
      "outputs": []
    },
    {
      "cell_type": "code",
      "metadata": {
        "id": "Z8xJmUPaoHxd",
        "colab_type": "code",
        "colab": {
          "base_uri": "https://localhost:8080/",
          "height": 34
        },
        "outputId": "f2cbc590-3bdc-4cd3-bc38-57fe822e3caf"
      },
      "source": [
        "len(train_examples)"
      ],
      "execution_count": null,
      "outputs": [
        {
          "output_type": "execute_result",
          "data": {
            "text/plain": [
              "642646"
            ]
          },
          "metadata": {
            "tags": []
          },
          "execution_count": 27
        }
      ]
    },
    {
      "cell_type": "code",
      "metadata": {
        "id": "RkUAyaTH_KtS",
        "colab_type": "code",
        "colab": {
          "base_uri": "https://localhost:8080/",
          "height": 34
        },
        "outputId": "78e81c6f-65d5-4240-8871-872f246ea036"
      },
      "source": [
        "train_ex_full = []\n",
        "train_tgt_full = []\n",
        "for i in range(len(train_examples)):\n",
        "  if sum(train_targets[i]) > 0:\n",
        "    train_ex_full.append(train_examples[i])\n",
        "    train_tgt_full.append(train_targets[i])\n",
        "len(train_ex_full)"
      ],
      "execution_count": null,
      "outputs": [
        {
          "output_type": "execute_result",
          "data": {
            "text/plain": [
              "206811"
            ]
          },
          "metadata": {
            "tags": []
          },
          "execution_count": 28
        }
      ]
    },
    {
      "cell_type": "code",
      "metadata": {
        "id": "_r21a-sp_ZhO",
        "colab_type": "code",
        "colab": {}
      },
      "source": [
        "train_examples, train_targets, train_ids = None, None, None"
      ],
      "execution_count": null,
      "outputs": []
    },
    {
      "cell_type": "code",
      "metadata": {
        "id": "w4iCxIxr_h28",
        "colab_type": "code",
        "colab": {
          "base_uri": "https://localhost:8080/",
          "height": 34
        },
        "outputId": "ed0a93d1-025c-4dc4-c4b5-152af91ea3d4"
      },
      "source": [
        "valid_ex_full = []\n",
        "valid_tgt_full = []\n",
        "valid_ids_full = []\n",
        "for i in range (len(valid_examples)):\n",
        "  if sum([1 for x in valid_targets[i] if x != 0]) > 0:\n",
        "    valid_ex_full.append(valid_examples[i])\n",
        "    valid_tgt_full.append(valid_targets[i])\n",
        "    valid_ids_full.append(valid_ids[i])\n",
        "len(valid_ex_full)"
      ],
      "execution_count": null,
      "outputs": [
        {
          "output_type": "execute_result",
          "data": {
            "text/plain": [
              "67724"
            ]
          },
          "metadata": {
            "tags": []
          },
          "execution_count": 30
        }
      ]
    },
    {
      "cell_type": "code",
      "metadata": {
        "id": "VPBl4UdJ_jHV",
        "colab_type": "code",
        "colab": {
          "base_uri": "https://localhost:8080/",
          "height": 34
        },
        "outputId": "e74d0cac-22ae-4e67-885d-9c82ba583c3b"
      },
      "source": [
        "random.seed(42)\n",
        "idxs = random.sample(range(len(valid_ex_full)), 10000)\n",
        "valid_examples_sample = [valid_ex_full[i] for i in idxs]\n",
        "valid_targets_sample = [valid_tgt_full[i] for i in idxs]\n",
        "valid_ids_sample = [valid_ids_full[i] for i in idxs]\n",
        "len(valid_examples_sample)"
      ],
      "execution_count": null,
      "outputs": [
        {
          "output_type": "execute_result",
          "data": {
            "text/plain": [
              "10000"
            ]
          },
          "metadata": {
            "tags": []
          },
          "execution_count": 31
        }
      ]
    },
    {
      "cell_type": "markdown",
      "metadata": {
        "id": "e7rau7nSCTr1",
        "colab_type": "text"
      },
      "source": [
        "# Config"
      ]
    },
    {
      "cell_type": "code",
      "metadata": {
        "id": "ZHyP-uf6CSSV",
        "colab_type": "code",
        "colab": {}
      },
      "source": [
        "pretrained_model = 'bert-base-multilingual-cased'\n",
        "LR = 2e-5\n",
        "WARMUP_STEPS = 10\n",
        "MODEL_PATH = \"model_ner_1.bin\"\n",
        "\n",
        "WINDOW_SIZE = 64\n",
        "MAX_LEN = 512\n",
        "TRAIN_BATCH_SIZE = 32\n",
        "VALID_BATCH_SIZE = 4\n",
        "EPOCHS = 10"
      ],
      "execution_count": null,
      "outputs": []
    },
    {
      "cell_type": "markdown",
      "metadata": {
        "id": "nl6rWqD4gk6e",
        "colab_type": "text"
      },
      "source": [
        "# Model"
      ]
    },
    {
      "cell_type": "code",
      "metadata": {
        "id": "Scdgp-dPu_1b",
        "colab_type": "code",
        "colab": {}
      },
      "source": [
        "class BERTForEntityExtraction(nn.Module):\n",
        "    def __init__(self, bert_path):\n",
        "        super(BERTForEntityExtraction, self).__init__()\n",
        "        self.bert_path = bert_path\n",
        "        self.bert = BertModel.from_pretrained(self.bert_path)\n",
        "        self.bert_drop = nn.Dropout(0.3)\n",
        "        self.ner_logits = nn.Linear(768, 9)\n",
        "\n",
        "    def forward(self, ids, mask, token_type_ids):\n",
        "        sequence_output, _ = self.bert(ids, attention_mask=mask, token_type_ids=token_type_ids)\n",
        "        do = self.bert_drop(sequence_output)\n",
        "        return self.ner_logits(do)"
      ],
      "execution_count": null,
      "outputs": []
    },
    {
      "cell_type": "code",
      "metadata": {
        "id": "Lwrv4o-gu_4e",
        "colab_type": "code",
        "colab": {}
      },
      "source": [
        "# here I have fixed tokens len of 512, so I replace max_len with win_size\n",
        "class BERTDatasetTraining:\n",
        "    def __init__(self, tokens, targets, win_size):\n",
        "        self.tokens = tokens\n",
        "        self.win_size = win_size\n",
        "        self.targets = targets\n",
        "\n",
        "    def __len__(self):\n",
        "        return len(self.tokens)\n",
        "\n",
        "    def __getitem__(self, item):\n",
        "        (ids, targets) = random_window(self.tokens[item], self.targets[item], win_size=self.win_size)\n",
        "        token_type_ids = [1] * len(ids)\n",
        "        mask = [0] * len(ids)\n",
        "\n",
        "        return {\n",
        "            \"ids\": torch.tensor(ids, dtype=torch.long),\n",
        "            \"mask\": torch.tensor(mask, dtype=torch.long),\n",
        "            \"token_type_ids\": torch.tensor(token_type_ids, dtype=torch.long),\n",
        "            \"targets\": torch.tensor(targets, dtype=torch.long) # should this be long or float?\n",
        "        }\n",
        "\n",
        "class BERTDatasetTest:\n",
        "    def __init__(self, tokens):\n",
        "        self.tokens = tokens\n",
        "\n",
        "    def __len__(self):\n",
        "        return len(self.tokens)\n",
        "\n",
        "    def __getitem__(self, item):\n",
        "        ids = self.tokens[item]\n",
        "        token_type_ids = [1] * len(ids)\n",
        "        mask = [0] * len(ids)\n",
        "\n",
        "        return {\n",
        "            \"ids\": torch.tensor(ids, dtype=torch.long),\n",
        "            \"mask\": torch.tensor(mask, dtype=torch.long),\n",
        "            \"token_type_ids\": torch.tensor(token_type_ids, dtype=torch.long),\n",
        "        }\n",
        "\n",
        "def loss_fn(ner_outputs, ner_targets):\n",
        "    ner_outputs = ner_outputs.permute(0,2,1)  \n",
        "    return nn.CrossEntropyLoss()(ner_outputs, ner_targets) "
      ],
      "execution_count": null,
      "outputs": []
    },
    {
      "cell_type": "code",
      "metadata": {
        "id": "7BlPJ6btOaEb",
        "colab_type": "code",
        "colab": {}
      },
      "source": [
        "def train_loop_fn(data_loader, model, optimizer, device, scheduler=None):\n",
        "    model.train()\n",
        "    losses = AverageMeter()\n",
        "\n",
        "    tk0 = tqdm(data_loader, total=len(data_loader), mininterval=1.)\n",
        "\n",
        "    for bi, d in enumerate(tk0):\n",
        "        ids = d[\"ids\"]\n",
        "        mask = d[\"mask\"]\n",
        "        token_type_ids = d[\"token_type_ids\"]\n",
        "        targets = d[\"targets\"]\n",
        "\n",
        "        ids = ids.to(device, dtype=torch.long)\n",
        "        mask = mask.to(device, dtype=torch.long)\n",
        "        token_type_ids = token_type_ids.to(device, dtype=torch.long)\n",
        "        targets = targets.to(device, dtype=torch.long)\n",
        "\n",
        "        optimizer.zero_grad()\n",
        "        outputs = model(ids=ids, mask=mask, token_type_ids=token_type_ids)\n",
        "        loss = loss_fn(outputs, targets)\n",
        "        loss.backward()\n",
        "        optimizer.step()\n",
        "        if scheduler is not None:\n",
        "            scheduler.step()\n",
        "        losses.update(loss.item(), ids.size(0))\n",
        "        tk0.set_postfix(loss=losses.avg)\n",
        "\n",
        "def eval_loop_fn(data_loader, model, device):\n",
        "    model.eval()\n",
        "    fin_targets = []\n",
        "    fin_outputs = []\n",
        "    fin_loss = []\n",
        "\n",
        "    with torch.no_grad():\n",
        "        tk0 = tqdm(data_loader, total=len(data_loader), mininterval=1.)\n",
        "        for bi, d in enumerate(tk0):\n",
        "            ids = d[\"ids\"]\n",
        "            mask = d[\"mask\"]\n",
        "            token_type_ids = d[\"token_type_ids\"]\n",
        "            targets = d[\"targets\"]\n",
        "\n",
        "            ids = ids.to(device, dtype=torch.long)\n",
        "            mask = mask.to(device, dtype=torch.long)\n",
        "            token_type_ids = token_type_ids.to(device, dtype=torch.long)\n",
        "            targets = targets.to(device, dtype=torch.long)\n",
        "\n",
        "            outputs = model(ids=ids, mask=mask, token_type_ids=token_type_ids)\n",
        "            loss = loss_fn(outputs, targets)\n",
        "\n",
        "            fin_targets.append(targets.cpu().detach().numpy())\n",
        "            fin_outputs.append(outputs.cpu().detach().numpy())\n",
        "            fin_loss.append(loss.cpu().detach().numpy())\n",
        "\n",
        "    return np.concatenate(fin_outputs, axis=0), np.concatenate(fin_targets, axis=0), np.average(fin_loss)\n",
        "\n",
        "def final_eval(data_loader, model, device):\n",
        "    model.eval()\n",
        "    fin_outputs = []\n",
        "\n",
        "    with torch.no_grad():\n",
        "        tk0 = tqdm(data_loader, total=len(data_loader), mininterval=1.)\n",
        "        for bi, d in enumerate(tk0):\n",
        "            ids = d[\"ids\"]\n",
        "            mask = d[\"mask\"]\n",
        "            token_type_ids = d[\"token_type_ids\"]\n",
        "\n",
        "            ids = ids.to(device, dtype=torch.long)\n",
        "            mask = mask.to(device, dtype=torch.long)\n",
        "            token_type_ids = token_type_ids.to(device, dtype=torch.long)\n",
        "\n",
        "            outputs = model(ids=ids, mask=mask, token_type_ids=token_type_ids)\n",
        "            fin_outputs.append(outputs.cpu().detach().numpy())\n",
        "\n",
        "    return np.concatenate(fin_outputs, axis=0)"
      ],
      "execution_count": null,
      "outputs": []
    },
    {
      "cell_type": "code",
      "metadata": {
        "colab_type": "code",
        "id": "z5LU1Lg7TZIl",
        "colab": {}
      },
      "source": [
        "def run(train_tokens, train_targets, dev_tokens, dev_targets, pretrained_model):\n",
        "\n",
        "    train_dataset = BERTDatasetTraining(\n",
        "        tokens=train_tokens,   \n",
        "        targets=train_targets,\n",
        "        win_size=WINDOW_SIZE\n",
        "    )\n",
        "    train_data_loader = torch.utils.data.DataLoader(\n",
        "        train_dataset,\n",
        "        batch_size=TRAIN_BATCH_SIZE,\n",
        "        shuffle=True,\n",
        "        num_workers=4\n",
        "    )\n",
        "    valid_dataset = BERTDatasetTraining(\n",
        "        tokens=dev_tokens,\n",
        "        targets=dev_targets,\n",
        "        win_size=MAX_LEN\n",
        "    )\n",
        "    valid_data_loader = torch.utils.data.DataLoader(\n",
        "        valid_dataset,\n",
        "        batch_size=VALID_BATCH_SIZE,\n",
        "        shuffle=False,\n",
        "        num_workers=2\n",
        "    )\n",
        "\n",
        "    device = 'cuda'\n",
        "    num_train_steps = int(len(train_dataset) / TRAIN_BATCH_SIZE * EPOCHS)\n",
        "    model = BERTForEntityExtraction(pretrained_model).to(device)\n",
        "\n",
        "    param_optimizer = list(model.named_parameters())\n",
        "    no_decay = [\"bias\", \"LayerNorm.bias\", \"LayerNorm.weight\"]\n",
        "    \n",
        "    optimizer_parameters = [\n",
        "        {'params': [p for n, p in param_optimizer if not any(nd in n for nd in no_decay)], 'weight_decay': 0.01},\n",
        "        {'params': [p for n, p in param_optimizer if (any(nd in n for nd in no_decay))], 'weight_decay': 0.0},\n",
        "    ]\n",
        "    optimizer = AdamW(optimizer_parameters, lr=LR)\n",
        "    scheduler = get_linear_schedule_with_warmup(\n",
        "        optimizer, \n",
        "        num_warmup_steps=WARMUP_STEPS, \n",
        "        num_training_steps=num_train_steps\n",
        "    )\n",
        "\n",
        "    es = EarlyStopping(patience=5, mode=\"max\")\n",
        "    print(f\"Training is Starting\")\n",
        "\n",
        "    for epoch in range(EPOCHS):\n",
        "        train_loop_fn(train_data_loader, model, optimizer, device, scheduler=scheduler)\n",
        "        o, targets, vloss = eval_loop_fn(valid_data_loader, model, device)\n",
        "        predictions = np.argmax(o, axis=2)\n",
        "        accuracy = np.average(predictions == targets)\n",
        "        print(f\"epoch = {epoch}, accuracy = {accuracy}, valid_loss = {vloss}\")\n",
        "        es(accuracy, model, model_path=MODEL_PATH)\n",
        "        if es.early_stop:\n",
        "            print(\"Early stopping\")\n",
        "            break\n",
        "        "
      ],
      "execution_count": null,
      "outputs": []
    },
    {
      "cell_type": "code",
      "metadata": {
        "id": "DtDnQPEZUuBf",
        "colab_type": "code",
        "colab": {}
      },
      "source": [
        "def run_eval(test_tokens, model):\n",
        "\n",
        "    model = model\n",
        "    MAX_LEN = 512\n",
        "    TEST_BATCH_SIZE = 4\n",
        "\n",
        "    #debug\n",
        "    # test_tokens = test_tokens[:64]\n",
        "\n",
        "    test_dataset = BERTDatasetTest(\n",
        "        tokens=test_tokens   \n",
        "    )\n",
        "    test_data_loader = torch.utils.data.DataLoader(\n",
        "        test_dataset,\n",
        "        batch_size=TEST_BATCH_SIZE,\n",
        "        shuffle=False,\n",
        "        num_workers=2\n",
        "    )\n",
        "\n",
        "    device = 'cuda'\n",
        "    outputs = final_eval(test_data_loader, model, device)\n",
        "\n",
        "    return outputs\n",
        "        "
      ],
      "execution_count": null,
      "outputs": []
    },
    {
      "cell_type": "code",
      "metadata": {
        "id": "F1lxlv0sv8kQ",
        "colab_type": "code",
        "colab": {}
      },
      "source": [
        "def random_window(tokens, targets, pad=3, win_size=64):\n",
        "  # need to consider adding pad as it was causing issues\n",
        "  seq_len = len(tokens)\n",
        "  if seq_len <= win_size: return (tokens, targets)\n",
        "  # search for the first and last occurence of non-zero targets\n",
        "  idxs = [i for i in range(seq_len) if targets[i] != 0]\n",
        "  if idxs == []: # empty list\n",
        "    start = random.randint(0, seq_len - win_size)\n",
        "  else:\n",
        "    start_index = idxs[0]\n",
        "    end_index = idxs[-1]\n",
        "    if end_index - start_index < win_size:\n",
        "      start = min(max(random.randint(end_index - win_size, start_index), 0), seq_len-win_size)\n",
        "    if end_index - start_index >= win_size:\n",
        "      start = min(max(random.randint(start_index, end_index - win_size), 0), seq_len-win_size)\n",
        "  win_tokens = tokens[start:start+win_size]\n",
        "  win_targets = targets[start:start+win_size]\n",
        "  win_tokens[0] = 101\n",
        "  win_tokens[-1] = 102\n",
        "  win_targets[0] = 0\n",
        "  win_targets[-1] = 0\n",
        "  assert(len(win_tokens) == len(win_targets))\n",
        "  assert(len(win_tokens) == win_size)\n",
        "\n",
        "  return (win_tokens, win_targets)"
      ],
      "execution_count": null,
      "outputs": []
    },
    {
      "cell_type": "markdown",
      "metadata": {
        "id": "mbrgsGlRgq0n",
        "colab_type": "text"
      },
      "source": [
        "# Run model and postprocess"
      ]
    },
    {
      "cell_type": "code",
      "metadata": {
        "id": "DkoJvHA5ZVwW",
        "colab_type": "code",
        "colab": {
          "base_uri": "https://localhost:8080/",
          "height": 1000,
          "referenced_widgets": [
            "200e671542b546588e872845cd7e9097",
            "830da85787a44c02b8d223f9c5590b1d",
            "ab7710136d1c47fb9462edf556f98de3",
            "d2c7c1813df44f9492a82863d9fc28c7",
            "f3cef683e94b4322be03324b2cce3cef",
            "b8672e7abbab4a388b0c6b8023757c90",
            "a5979e456b844ccd99c2f93eda4de397",
            "0f58f7c6e3fb40b780a15cc4cdaba454",
            "f91b7ae8c4064ca7aa0d6589e16e3bf5",
            "5accb67c1e0549e3b1c2f016d80f3187",
            "53279b04e9ca47968d9514822c346d5e",
            "256036fd8d45477289c7c4494d6e49a0",
            "65831653133640368ae8556f73b2c4ea",
            "dff524b4e5d3405888b75e0659b1cfa9",
            "4bb825ad69e84a1f8b015097da2b9a54",
            "6d04cb36c4c348a19c1124a85374891d",
            "428e91c0e32a4a86a4253d46d48ee800",
            "5d44fb4221d54063a1e8a8351d1de9e7",
            "aa41312eb0864fd889faeca4d0e16d4f",
            "e29944480bd145e19643d562f9a6713a",
            "6080c48c837f4379a5fc1de189644f72",
            "619f2107b208415d90bc3ecb1f0d29e5",
            "fa22a3f7cb6d4c709f30f2386cc760ea",
            "37aaedb992ce42dea98cfa32b66dd5f3",
            "ab3552ff8f324594a941246e8267b4f7",
            "8d9bd9f97f9f4e8eb740918338177f8e",
            "39b6815f2ae14797b96ea796a1795dbb",
            "d31d88cf38a14973983dc946c0b8ad06",
            "e2db7ce126c64d48bf2dfc5041c75f53",
            "566d86ddc07240dcb73d17eb85ff00e0",
            "c3fc05a2eb804b67becd5603924d9a2d",
            "a05358759a09452298e3dd41211133f1",
            "acea248539444fc39a8e97a332153b1c",
            "04e5eacb34ea4664a15f0faa09397c81",
            "79e0e370c9704077b8a53b68ece2cefe",
            "381ce28e44e24793b3c6d02695bb25d4",
            "7583f51e08514940bf4da9ccd9eb7bb8",
            "372f7b560c2d41c7bbe0eb704a0c8143",
            "e9e18aa45c564b73ad4c50324cb877ab",
            "0cddac9027ea4c548e1a80d71ceba072",
            "a4f6bd76ab294720bf5933d311b6c793",
            "63b412815a5d4ab5858e4c41e5eed24e",
            "813fa68c1dd644c6a6f8001e91ccce54",
            "b2cbe1b8939a42ce8795ae361cb406a2",
            "90f2189fb26c45f79aeaa3dbe905590f",
            "c9b7ebab289d48f4803b3fb0421e8a42",
            "e136413d8fed4ad5a2b5068ddd315a53",
            "5affbe8fb23d42248cbb89cab3f0c1d2",
            "1a2003aadc7e4935b121fa7f78dcc78a",
            "a61e5f09eb8c4cb9bbbfff02e4bda7f3",
            "ebbbf77e84354d92bdaf3d0f698117fc",
            "b2cc1a43a80f42c684befa3623e5fb90",
            "ee69dec3e1a347f69a6941959b260da0",
            "36267a75424644d29ed55204cdc09d18",
            "9c690c076406429f8944567e38866cba",
            "a900dfd8ef1249c7bf2b2318bd282f65",
            "6ac4894931654407b6e003fd48f3dd9e",
            "30bbdc8430e9481f8daa48d303614bfc",
            "3072aa917b6e453a920e9344e5a348ea",
            "3dfd64a3d5c94e83a54f2b983e810d55",
            "bb41593db45c4c19912d9d7571f4e90c",
            "6ed2a5f0f89f4a478e0719b90cc91b04",
            "1b9ae09c8df340be92ef4bbbd36861ca",
            "1d50e26235ab49cb90e831c7b87286aa",
            "3d03cb3431ac43c0a7d654c16c028a90",
            "d50fca8300eb4237a495d6ebdd29612a",
            "701d77b5bb174580aceac1d0cf3f1484",
            "82bde9c435f34e6b991ff9a7c8dfbfd5",
            "24c5cde69bb641cd88a1ef15beed51c2",
            "783c0de28ccd471eb01bbb8acb748479",
            "4728c33a422241a5877e186aae554624",
            "c94d0629644642e7a307cc378b5a75c3",
            "2438b4cb1c754504a7bd6b125b6382bd",
            "541ce6b48da048b684adce7c26c9144a",
            "1196c9c0ada34a24b12257aa7b4708a6",
            "45b743628ca243f4bce46da233b6a7db",
            "2a8ea09791a24eaeabdef6af32d0f17a",
            "2d8469b4d7e54340b509e8b7f0af7a2d",
            "40e87e51115d44619754b6c9714007c0",
            "92b456dc9b194069be33b5d034dccdb6",
            "6e93024e5b2a4cbababbeffe76b6c166",
            "898dd2fb542643d6b8be52b600ee7d17",
            "4b09d94fe71148b2839e0ebcac5ca08c",
            "1d5a4533cddb49bb823d3bfed014635d",
            "bc0ec3e8eeb24873a1b41f0958e06208",
            "8b451d7b0fb947c59477fb7bb1d0c9da",
            "0a35f9a47abe48caad66b1614d5a5938",
            "f54797c7edef4e10885598915bf73eb6",
            "d61eb3953d2040cf8243f87d35ce1e42",
            "49743c76a70643939fe45404bfeb6e33",
            "375b4b77fb6b43e48f7bc433a63fc483",
            "f80b583172754e16a42b642caf6ef7d6",
            "02f04d7c10704d9893fdd70fb78c9df6",
            "50f130fc88f04759aeab52c92abfd54d",
            "17537e5c343646528b90922dae2cc42a",
            "6d9616a65a4d421eb6e928f48a7b7d8e",
            "acf0dbcdd82b4519b94aa0c85940cdfa",
            "db72439f1caa4f1297d2fe94d84fa2cf",
            "c7535b6f77004f07bc8267b41fb69b28",
            "a47ef85e39594333a0caae799df28a41",
            "590753a45c80434684c0c49e02e3e707",
            "04763a6bed13451281f4e5429bb9df88",
            "a9f7fbee2de84e69a0236102fdcfaec1",
            "f5793333d0ee49f39e3aa2bd45b4eebb",
            "38ee3efda8914473ab6bfcc692176928",
            "7a8867aa400d41d89c938e1cd753c364",
            "cdf087a915354bc78c8fd058ec584d50",
            "6998bb3a537c4a628b65304c00197ebe",
            "b75741c132844056863d625dd063e994",
            "3b342a2b42764911b4e7c1e40974f8ae",
            "21a71ccc905248a3a4eeb116c71d553a",
            "8ab0789ee88b4ea1943abf9fa068d514",
            "2a9d75445c2b4f20831f77200a4e6324",
            "d7c537b5f99c4b26939e9c2500b612c9",
            "47d11631211640caac52d9055ab2ae30",
            "2f19cce6a5c0456982b7b6887ce6198c",
            "2d03f84262574c55ab331195bc455a37",
            "b0434f016c3a41d499753e60219517fc",
            "f27d8912ad5945f6816103129ac32417",
            "cb3d8fa2a81642cea353eabd25bacc62",
            "0e24d476b0a94ce7b0c0fb422086b9da",
            "de23137bffc844acbf7b41ec2f042697",
            "e27b56914e584860a219947348d18831",
            "a2077e22caf5406bb6daec49d0b75c3c",
            "6776f6c7e61c4595a2fba180ff0cba7b",
            "1305f1a2a76145bca8e91c5496f374a9",
            "2d770374aab64eb6850bdcfba8afe05a",
            "5166eb6621474a7d8a81022c853f379f",
            "428c8c7e556c4256b93aecbc43c456f6",
            "d2d5a632267a476fafa12e752b0cfec3",
            "553e9b4c649e42fa8da2dc72e2c182a4",
            "16020c50daff44dab3eeeaca15fe53ba",
            "023cb7f59c414b47bb98ae14141e8921",
            "af85a790075d4deb82eb89aafbd4fe48",
            "2d167f2aa350475d82544982d1edebc0",
            "d33a7d77574c4488818ef0cf9fcf8fcd",
            "de2dbb18c91c458b98abde8981844ee1",
            "4101846a8b6d4e32a68299be7dd9667e",
            "5b3ed252bf724b25b2d0a1a1917581ed",
            "d7bd489f6d014fac866aa2698af01b0b",
            "09845757f2a74f868e1097d8d78537cc",
            "412bf5cb1d6c416498bc0e8bb1dc5950",
            "257afdd09fdf4322b0898cf042b29831",
            "bc59b3a4b7fe4bacbc7885d5ccb1e6b6",
            "28a6f3e461ce4b81bb75bc0ec4010ff8",
            "ea15b8925e83456dabfb9375ca7aa365",
            "d5da280a63654b38b46ae0f56213f175",
            "87cd38860e2f43d5a9dc7a94d7c331f7",
            "f11af1ff4ac146e4a5f2a9bc6940636d",
            "5db3ecd6640244f8b473acb70fd3d4a7",
            "27439c3cef554eeea17ea880a43d81e8",
            "b33bf53eb6814707945f0243dc1cfbc6",
            "35bcde5e6fde494ea3169b46ef4509fc",
            "47aa1ddbcb784cd9bb59a2b567afd2e0",
            "c0557cb368a24c24b4e64298e29948e9",
            "f170b733570f4b3abad4f7c72087b5ec",
            "2d39e08061ff4bf6ab0a73239c9378cc",
            "66ff1ea47d8846e0b6a3e2e4c073a500",
            "31ff4cd258a4495c9ba756e51b248c12",
            "7666a6b7c8d64f39b3b06c8e4a80b0a4",
            "d0adcd43cdee4847acf3563d2c24321c",
            "8ff2893bb73045349c5216f540b3d6d6",
            "b12919797b364e28b1deae70c8e2a4b1",
            "f43aedbdeebf48af97bb6eb8374f0a52",
            "d4a96272ef834674a93a32c8308c1093",
            "bb43a7a56a66490e93fa79f29cffbab3",
            "f53a8d79db474e0aa7ef3941cf2efcca",
            "29083133a3af4bd28b200e3a1d802c4b",
            "862ba790f79547658e6459fed844b99d",
            "4b652e8c9f0041e0950361741b7b7aee",
            "1b6abc85602e489fb7afdf3db22e223e",
            "d825817dd68a4f3c97bdd43f4b5bb8a2",
            "fa4ce7be15014ac79998adabc9232d0d",
            "26fabf937abd442a8358a93acaf185b8",
            "4dd85dee216c4b76b9823f3292653cf2",
            "87de021819034958ba759895afbbf9ce"
          ]
        },
        "outputId": "55373870-b520-40e4-cfb4-85b202b3a557"
      },
      "source": [
        "run(train_ex_full, train_tgt_full, valid_examples_sample, valid_targets_sample, pretrained_model)"
      ],
      "execution_count": null,
      "outputs": [
        {
          "output_type": "display_data",
          "data": {
            "application/vnd.jupyter.widget-view+json": {
              "model_id": "200e671542b546588e872845cd7e9097",
              "version_minor": 0,
              "version_major": 2
            },
            "text/plain": [
              "HBox(children=(FloatProgress(value=0.0, description='Downloading', max=625.0, style=ProgressStyle(description_…"
            ]
          },
          "metadata": {
            "tags": []
          }
        },
        {
          "output_type": "stream",
          "text": [
            "\n"
          ],
          "name": "stdout"
        },
        {
          "output_type": "display_data",
          "data": {
            "application/vnd.jupyter.widget-view+json": {
              "model_id": "f91b7ae8c4064ca7aa0d6589e16e3bf5",
              "version_minor": 0,
              "version_major": 2
            },
            "text/plain": [
              "HBox(children=(FloatProgress(value=0.0, description='Downloading', max=714314041.0, style=ProgressStyle(descri…"
            ]
          },
          "metadata": {
            "tags": []
          }
        },
        {
          "output_type": "stream",
          "text": [
            "\n",
            "Training is Starting\n"
          ],
          "name": "stdout"
        },
        {
          "output_type": "display_data",
          "data": {
            "application/vnd.jupyter.widget-view+json": {
              "model_id": "428e91c0e32a4a86a4253d46d48ee800",
              "version_minor": 0,
              "version_major": 2
            },
            "text/plain": [
              "HBox(children=(FloatProgress(value=0.0, max=6463.0), HTML(value='')))"
            ]
          },
          "metadata": {
            "tags": []
          }
        },
        {
          "output_type": "stream",
          "text": [
            "\n"
          ],
          "name": "stdout"
        },
        {
          "output_type": "display_data",
          "data": {
            "application/vnd.jupyter.widget-view+json": {
              "model_id": "ab3552ff8f324594a941246e8267b4f7",
              "version_minor": 0,
              "version_major": 2
            },
            "text/plain": [
              "HBox(children=(FloatProgress(value=0.0, max=2500.0), HTML(value='')))"
            ]
          },
          "metadata": {
            "tags": []
          }
        },
        {
          "output_type": "stream",
          "text": [
            "\n",
            "epoch = 0, accuracy = 0.9956126953125, valid_loss = 0.013045000843703747\n",
            "Validation score improved (-inf --> 0.9956126953125). Saving model!\n"
          ],
          "name": "stdout"
        },
        {
          "output_type": "display_data",
          "data": {
            "application/vnd.jupyter.widget-view+json": {
              "model_id": "acea248539444fc39a8e97a332153b1c",
              "version_minor": 0,
              "version_major": 2
            },
            "text/plain": [
              "HBox(children=(FloatProgress(value=0.0, max=6463.0), HTML(value='')))"
            ]
          },
          "metadata": {
            "tags": []
          }
        },
        {
          "output_type": "stream",
          "text": [
            "\n"
          ],
          "name": "stdout"
        },
        {
          "output_type": "display_data",
          "data": {
            "application/vnd.jupyter.widget-view+json": {
              "model_id": "a4f6bd76ab294720bf5933d311b6c793",
              "version_minor": 0,
              "version_major": 2
            },
            "text/plain": [
              "HBox(children=(FloatProgress(value=0.0, max=2500.0), HTML(value='')))"
            ]
          },
          "metadata": {
            "tags": []
          }
        },
        {
          "output_type": "stream",
          "text": [
            "\n",
            "epoch = 1, accuracy = 0.9958875, valid_loss = 0.013335861265659332\n",
            "Validation score improved (0.9956126953125 --> 0.9958875). Saving model!\n"
          ],
          "name": "stdout"
        },
        {
          "output_type": "display_data",
          "data": {
            "application/vnd.jupyter.widget-view+json": {
              "model_id": "1a2003aadc7e4935b121fa7f78dcc78a",
              "version_minor": 0,
              "version_major": 2
            },
            "text/plain": [
              "HBox(children=(FloatProgress(value=0.0, max=6463.0), HTML(value='')))"
            ]
          },
          "metadata": {
            "tags": []
          }
        },
        {
          "output_type": "stream",
          "text": [
            "\n"
          ],
          "name": "stdout"
        },
        {
          "output_type": "display_data",
          "data": {
            "application/vnd.jupyter.widget-view+json": {
              "model_id": "6ac4894931654407b6e003fd48f3dd9e",
              "version_minor": 0,
              "version_major": 2
            },
            "text/plain": [
              "HBox(children=(FloatProgress(value=0.0, max=2500.0), HTML(value='')))"
            ]
          },
          "metadata": {
            "tags": []
          }
        },
        {
          "output_type": "stream",
          "text": [
            "\n",
            "epoch = 2, accuracy = 0.995641015625, valid_loss = 0.01481109019368887\n",
            "EarlyStopping counter: 1 out of 5\n"
          ],
          "name": "stdout"
        },
        {
          "output_type": "display_data",
          "data": {
            "application/vnd.jupyter.widget-view+json": {
              "model_id": "3d03cb3431ac43c0a7d654c16c028a90",
              "version_minor": 0,
              "version_major": 2
            },
            "text/plain": [
              "HBox(children=(FloatProgress(value=0.0, max=6463.0), HTML(value='')))"
            ]
          },
          "metadata": {
            "tags": []
          }
        },
        {
          "output_type": "stream",
          "text": [
            "\n"
          ],
          "name": "stdout"
        },
        {
          "output_type": "display_data",
          "data": {
            "application/vnd.jupyter.widget-view+json": {
              "model_id": "2438b4cb1c754504a7bd6b125b6382bd",
              "version_minor": 0,
              "version_major": 2
            },
            "text/plain": [
              "HBox(children=(FloatProgress(value=0.0, max=2500.0), HTML(value='')))"
            ]
          },
          "metadata": {
            "tags": []
          }
        },
        {
          "output_type": "stream",
          "text": [
            "\n",
            "epoch = 3, accuracy = 0.995672265625, valid_loss = 0.015336227603256702\n",
            "EarlyStopping counter: 2 out of 5\n"
          ],
          "name": "stdout"
        },
        {
          "output_type": "display_data",
          "data": {
            "application/vnd.jupyter.widget-view+json": {
              "model_id": "6e93024e5b2a4cbababbeffe76b6c166",
              "version_minor": 0,
              "version_major": 2
            },
            "text/plain": [
              "HBox(children=(FloatProgress(value=0.0, max=6463.0), HTML(value='')))"
            ]
          },
          "metadata": {
            "tags": []
          }
        },
        {
          "output_type": "stream",
          "text": [
            "\n"
          ],
          "name": "stdout"
        },
        {
          "output_type": "display_data",
          "data": {
            "application/vnd.jupyter.widget-view+json": {
              "model_id": "d61eb3953d2040cf8243f87d35ce1e42",
              "version_minor": 0,
              "version_major": 2
            },
            "text/plain": [
              "HBox(children=(FloatProgress(value=0.0, max=2500.0), HTML(value='')))"
            ]
          },
          "metadata": {
            "tags": []
          }
        },
        {
          "output_type": "stream",
          "text": [
            "\n",
            "epoch = 4, accuracy = 0.9958423828125, valid_loss = 0.015010279603302479\n",
            "EarlyStopping counter: 3 out of 5\n"
          ],
          "name": "stdout"
        },
        {
          "output_type": "display_data",
          "data": {
            "application/vnd.jupyter.widget-view+json": {
              "model_id": "acf0dbcdd82b4519b94aa0c85940cdfa",
              "version_minor": 0,
              "version_major": 2
            },
            "text/plain": [
              "HBox(children=(FloatProgress(value=0.0, max=6463.0), HTML(value='')))"
            ]
          },
          "metadata": {
            "tags": []
          }
        },
        {
          "output_type": "stream",
          "text": [
            "\n"
          ],
          "name": "stdout"
        },
        {
          "output_type": "display_data",
          "data": {
            "application/vnd.jupyter.widget-view+json": {
              "model_id": "38ee3efda8914473ab6bfcc692176928",
              "version_minor": 0,
              "version_major": 2
            },
            "text/plain": [
              "HBox(children=(FloatProgress(value=0.0, max=2500.0), HTML(value='')))"
            ]
          },
          "metadata": {
            "tags": []
          }
        },
        {
          "output_type": "stream",
          "text": [
            "\n",
            "epoch = 5, accuracy = 0.9960984375, valid_loss = 0.014394781552255154\n",
            "Validation score improved (0.9958875 --> 0.9960984375). Saving model!\n"
          ],
          "name": "stdout"
        },
        {
          "output_type": "display_data",
          "data": {
            "application/vnd.jupyter.widget-view+json": {
              "model_id": "2a9d75445c2b4f20831f77200a4e6324",
              "version_minor": 0,
              "version_major": 2
            },
            "text/plain": [
              "HBox(children=(FloatProgress(value=0.0, max=6463.0), HTML(value='')))"
            ]
          },
          "metadata": {
            "tags": []
          }
        },
        {
          "output_type": "stream",
          "text": [
            "\n"
          ],
          "name": "stdout"
        },
        {
          "output_type": "display_data",
          "data": {
            "application/vnd.jupyter.widget-view+json": {
              "model_id": "0e24d476b0a94ce7b0c0fb422086b9da",
              "version_minor": 0,
              "version_major": 2
            },
            "text/plain": [
              "HBox(children=(FloatProgress(value=0.0, max=2500.0), HTML(value='')))"
            ]
          },
          "metadata": {
            "tags": []
          }
        },
        {
          "output_type": "stream",
          "text": [
            "\n",
            "epoch = 6, accuracy = 0.9958953125, valid_loss = 0.016052495688199997\n",
            "EarlyStopping counter: 1 out of 5\n"
          ],
          "name": "stdout"
        },
        {
          "output_type": "display_data",
          "data": {
            "application/vnd.jupyter.widget-view+json": {
              "model_id": "428c8c7e556c4256b93aecbc43c456f6",
              "version_minor": 0,
              "version_major": 2
            },
            "text/plain": [
              "HBox(children=(FloatProgress(value=0.0, max=6463.0), HTML(value='')))"
            ]
          },
          "metadata": {
            "tags": []
          }
        },
        {
          "output_type": "stream",
          "text": [
            "\n"
          ],
          "name": "stdout"
        },
        {
          "output_type": "display_data",
          "data": {
            "application/vnd.jupyter.widget-view+json": {
              "model_id": "de2dbb18c91c458b98abde8981844ee1",
              "version_minor": 0,
              "version_major": 2
            },
            "text/plain": [
              "HBox(children=(FloatProgress(value=0.0, max=2500.0), HTML(value='')))"
            ]
          },
          "metadata": {
            "tags": []
          }
        },
        {
          "output_type": "stream",
          "text": [
            "\n",
            "epoch = 7, accuracy = 0.996210546875, valid_loss = 0.015840742737054825\n",
            "Validation score improved (0.9960984375 --> 0.996210546875). Saving model!\n"
          ],
          "name": "stdout"
        },
        {
          "output_type": "display_data",
          "data": {
            "application/vnd.jupyter.widget-view+json": {
              "model_id": "28a6f3e461ce4b81bb75bc0ec4010ff8",
              "version_minor": 0,
              "version_major": 2
            },
            "text/plain": [
              "HBox(children=(FloatProgress(value=0.0, max=6463.0), HTML(value='')))"
            ]
          },
          "metadata": {
            "tags": []
          }
        },
        {
          "output_type": "stream",
          "text": [
            "\n"
          ],
          "name": "stdout"
        },
        {
          "output_type": "display_data",
          "data": {
            "application/vnd.jupyter.widget-view+json": {
              "model_id": "35bcde5e6fde494ea3169b46ef4509fc",
              "version_minor": 0,
              "version_major": 2
            },
            "text/plain": [
              "HBox(children=(FloatProgress(value=0.0, max=2500.0), HTML(value='')))"
            ]
          },
          "metadata": {
            "tags": []
          }
        },
        {
          "output_type": "stream",
          "text": [
            "\n",
            "epoch = 8, accuracy = 0.9959693359375, valid_loss = 0.017191536724567413\n",
            "EarlyStopping counter: 1 out of 5\n"
          ],
          "name": "stdout"
        },
        {
          "output_type": "display_data",
          "data": {
            "application/vnd.jupyter.widget-view+json": {
              "model_id": "d0adcd43cdee4847acf3563d2c24321c",
              "version_minor": 0,
              "version_major": 2
            },
            "text/plain": [
              "HBox(children=(FloatProgress(value=0.0, max=6463.0), HTML(value='')))"
            ]
          },
          "metadata": {
            "tags": []
          }
        },
        {
          "output_type": "stream",
          "text": [
            "\n"
          ],
          "name": "stdout"
        },
        {
          "output_type": "display_data",
          "data": {
            "application/vnd.jupyter.widget-view+json": {
              "model_id": "862ba790f79547658e6459fed844b99d",
              "version_minor": 0,
              "version_major": 2
            },
            "text/plain": [
              "HBox(children=(FloatProgress(value=0.0, max=2500.0), HTML(value='')))"
            ]
          },
          "metadata": {
            "tags": []
          }
        },
        {
          "output_type": "stream",
          "text": [
            "\n",
            "epoch = 9, accuracy = 0.9960021484375, valid_loss = 0.017556093633174896\n",
            "EarlyStopping counter: 2 out of 5\n"
          ],
          "name": "stdout"
        }
      ]
    },
    {
      "cell_type": "code",
      "metadata": {
        "id": "mO4B9gtbndr2",
        "colab_type": "code",
        "colab": {}
      },
      "source": [
        "!cp ./model_ner_1.bin /content/drive/My\\ Drive/poleval/model_ner_2.bin"
      ],
      "execution_count": null,
      "outputs": []
    },
    {
      "cell_type": "markdown",
      "metadata": {
        "id": "dKk7lKzLLAex",
        "colab_type": "text"
      },
      "source": [
        "# Validation Eval"
      ]
    },
    {
      "cell_type": "markdown",
      "metadata": {
        "id": "RFodMKw8I9Fg",
        "colab_type": "text"
      },
      "source": [
        "## Postprocessing"
      ]
    },
    {
      "cell_type": "code",
      "metadata": {
        "id": "c5Mtd4jCUClJ",
        "colab_type": "code",
        "colab": {}
      },
      "source": [
        "model = BERTForEntityExtraction(pretrained_model)\n",
        "model.load_state_dict(torch.load('/content/drive/My Drive/poleval/model_ner_2.bin'))\n",
        "model.to('cuda')\n",
        "model.eval();"
      ],
      "execution_count": null,
      "outputs": []
    },
    {
      "cell_type": "code",
      "metadata": {
        "id": "RpDAQwba9DPE",
        "colab_type": "code",
        "colab": {
          "base_uri": "https://localhost:8080/",
          "height": 66,
          "referenced_widgets": [
            "fc9a6cea8caa477a8bc350a502a691ab",
            "0ba047445d8943b0b37b0f7dc2dd286e",
            "ab28b9896c604455a5a6951698480455",
            "089b89d04c4244f48fa034a65f542464",
            "f91b033b1cd4410ca591ed8ee7496326",
            "9d44ab1d5105495e9d6e3d487358baf2",
            "a443a9701c9f4dc8984c3e17e6cbafcc",
            "3f87bc4d7a1a4ca49fe84e45f056cfa5"
          ]
        },
        "outputId": "71c5c465-d56a-43f9-f948-31f0e044582e"
      },
      "source": [
        "valid_outputs = run_eval(valid_examples, model)"
      ],
      "execution_count": null,
      "outputs": [
        {
          "output_type": "display_data",
          "data": {
            "application/vnd.jupyter.widget-view+json": {
              "model_id": "fc9a6cea8caa477a8bc350a502a691ab",
              "version_minor": 0,
              "version_major": 2
            },
            "text/plain": [
              "HBox(children=(FloatProgress(value=0.0, max=52554.0), HTML(value='')))"
            ]
          },
          "metadata": {
            "tags": []
          }
        },
        {
          "output_type": "stream",
          "text": [
            "\n"
          ],
          "name": "stdout"
        }
      ]
    },
    {
      "cell_type": "code",
      "metadata": {
        "id": "Z_Fz1o6dONWg",
        "colab_type": "code",
        "colab": {}
      },
      "source": [
        "with open('/content/drive/My Drive/poleval/valid_outputs_model_ner_2.pkl', 'wb') as fp:\n",
        "    pickle.dump(valid_outputs, fp)"
      ],
      "execution_count": null,
      "outputs": []
    },
    {
      "cell_type": "code",
      "metadata": {
        "id": "UjL6dmMla2B4",
        "colab_type": "code",
        "colab": {}
      },
      "source": [
        "# with open('/content/drive/My Drive/poleval/valid_outputs_model_ner_2.pkl', 'rb') as fp:\n",
        "#     valid_outputs = pickle.load(fp)"
      ],
      "execution_count": null,
      "outputs": []
    },
    {
      "cell_type": "code",
      "metadata": {
        "id": "n5AvADCc9Ddr",
        "colab_type": "code",
        "colab": {
          "base_uri": "https://localhost:8080/",
          "height": 84,
          "referenced_widgets": [
            "51c24be864eb48fdb5d7b9af21fd1716",
            "3ea40f80e5e34baba5b4cfaea2be18ee",
            "30540a90e2464167b8ddc5b00b547afc",
            "fb7cfbf0b70a4459af721ba67ca80223",
            "b597f0f0984e48c4a0f6fc0906f89172",
            "46309c87553e43b2a5bf1bb73896ba80",
            "6ecc6b13190748b7989e8822c86e2163",
            "abc936d84c374cdca6bda0cc3e2f2df9"
          ]
        },
        "outputId": "de5ae224-51fd-4ca0-8dec-12e017cbc8aa"
      },
      "source": [
        "df_valid = pd.read_csv('/content/drive/My Drive/poleval/ground_truth-validate.csv', sep=';')\n",
        "df_results = model_outputs_to_df(valid_outputs, valid_examples, valid_ids, tokenizer)\n",
        "df_results['gt'] = df_results['cid'].apply(lambda cid: add_gt(cid, df_valid))\n",
        "df_results.to_csv('/content/drive/My Drive/poleval/model_ner_2_valid_res_allchunks.csv', index=False)"
      ],
      "execution_count": null,
      "outputs": [
        {
          "output_type": "display_data",
          "data": {
            "application/vnd.jupyter.widget-view+json": {
              "model_id": "51c24be864eb48fdb5d7b9af21fd1716",
              "version_minor": 0,
              "version_major": 2
            },
            "text/plain": [
              "HBox(children=(FloatProgress(value=0.0, max=210215.0), HTML(value='')))"
            ]
          },
          "metadata": {
            "tags": []
          }
        },
        {
          "output_type": "stream",
          "text": [
            "\n",
            "Done processing 210215 chunks.\n"
          ],
          "name": "stdout"
        }
      ]
    },
    {
      "cell_type": "code",
      "metadata": {
        "id": "x5gPLp4U9DjX",
        "colab_type": "code",
        "colab": {}
      },
      "source": [
        "# df_results = pd.read_csv('/content/drive/My Drive/poleval/model_ner_1_valid_res_allchunks.csv')"
      ],
      "execution_count": null,
      "outputs": []
    },
    {
      "cell_type": "code",
      "metadata": {
        "id": "KlHhjxy2Ajuf",
        "colab_type": "code",
        "colab": {}
      },
      "source": [
        "df_results = pd.read_csv('/content/drive/My Drive/poleval/results-fixed.csv')"
      ],
      "execution_count": null,
      "outputs": []
    },
    {
      "cell_type": "code",
      "metadata": {
        "id": "omaLHosD9Da6",
        "colab_type": "code",
        "colab": {}
      },
      "source": [
        "df_results['city_pred'], df_results['city_logits'] = zip(*df_results['results'].map(city_pred))\n",
        "df_results['company_pred'], df_results['company_logits'] = zip(*df_results['results'].map(company_pred))\n",
        "df_results['company_pred'] = df_results['company_pred'].apply(lambda t: normalize_company(t))\n",
        "df_results['code_pred'], df_results['code_logits'] = zip(*df_results['results'].map(code_pred))\n",
        "df_results['street_pred'], df_results['number_pred'], df_results['street_number_logits'] = zip(*df_results['results'].map(street_number_pred))\n",
        "df_results['date_pred'], df_results['date_logits'] = zip(*df_results['results'].map(date_pred))\n",
        "df_results['date_pred'] = df_results['date_pred'].apply(lambda r: date_format(r))\n",
        "df_results['period_pred'], df_results['period_logits'] = zip(*df_results['results'].map(period_pred))\n",
        "df_results['period_from_pred'], df_results['period_to_pred'] = zip(*df_results['period_pred'].map(period_format))\n",
        "df_results['person_pred'] = df_results['results'].apply(lambda r: person_pred(r))\n",
        "df_results['role_pred'] = df_results['results'].apply(lambda r: role_pred(r))\n",
        "df_results['people_pred'] = df_results.apply(lambda r: people_format(r.person_pred, r.role_pred, r.date_pred), axis=1)"
      ],
      "execution_count": null,
      "outputs": []
    },
    {
      "cell_type": "code",
      "metadata": {
        "id": "j3odImgqF4Bu",
        "colab_type": "code",
        "colab": {}
      },
      "source": [
        "df_results['city_act'] = df_results['gt'].apply(lambda r: city_actual(r))\n",
        "df_results['city_match'] = (df_results['city_pred']==df_results['city_act']).astype(int)\n",
        "df_results['company_act'] = df_results['gt'].apply(lambda r: company_actual(r))\n",
        "df_results['company_act'] = df_results['company_act'].apply(lambda t: normalize_company(t))\n",
        "df_results['company_match'] = (df_results['company_pred']==df_results['company_act']).astype(int)\n",
        "df_results['code_act'] = df_results['gt'].apply(lambda r: code_actual(r))\n",
        "df_results['code_match'] = (df_results['code_pred']==df_results['code_act']).astype(int)\n",
        "df_results['number_act'] = df_results['gt'].apply(lambda r: number_actual(r))\n",
        "df_results['street_act'] = df_results['gt'].apply(lambda r: street_actual(r))\n",
        "df_results['number_match'] = (df_results['number_pred']==df_results['number_act']).astype(int)\n",
        "df_results['street_match'] = (df_results['street_pred']==df_results['street_act']).astype(int)\n",
        "df_results['date_act'] = df_results['gt'].apply(lambda r: date_actual(r))\n",
        "df_results['date_match'] = (df_results['date_pred']==df_results['date_act']).astype(int)\n",
        "df_results['period_from_act'] = df_results['gt'].apply(lambda r: period_from_actual(r))\n",
        "df_results['period_to_act'] = df_results['gt'].apply(lambda r: period_to_actual(r))\n",
        "df_results['period_from_match'] = (df_results['period_from_pred']==df_results['period_from_act']).astype(int)\n",
        "df_results['period_to_match'] = (df_results['period_to_pred']==df_results['period_to_act']).astype(int)\n",
        "df_results['people_act'] = df_results['gt'].apply(lambda r: people_actual(r))\n",
        "df_results['people_match'] = (df_results['people_pred']==df_results['people_act']).astype(int)"
      ],
      "execution_count": null,
      "outputs": []
    },
    {
      "cell_type": "code",
      "metadata": {
        "id": "vxWzSxBP9DX3",
        "colab_type": "code",
        "colab": {
          "base_uri": "https://localhost:8080/",
          "height": 467
        },
        "outputId": "77fceb52-7b5e-469c-8681-9ea860dce96e"
      },
      "source": [
        "df_results.to_csv('/content/drive/My Drive/poleval/model_ner_orig_res_allchunks_pp.csv', index=False)\n",
        "df_results.head()"
      ],
      "execution_count": null,
      "outputs": [
        {
          "output_type": "execute_result",
          "data": {
            "text/html": [
              "<div>\n",
              "<style scoped>\n",
              "    .dataframe tbody tr th:only-of-type {\n",
              "        vertical-align: middle;\n",
              "    }\n",
              "\n",
              "    .dataframe tbody tr th {\n",
              "        vertical-align: top;\n",
              "    }\n",
              "\n",
              "    .dataframe thead th {\n",
              "        text-align: right;\n",
              "    }\n",
              "</style>\n",
              "<table border=\"1\" class=\"dataframe\">\n",
              "  <thead>\n",
              "    <tr style=\"text-align: right;\">\n",
              "      <th></th>\n",
              "      <th>cid</th>\n",
              "      <th>sentence</th>\n",
              "      <th>results</th>\n",
              "      <th>gt</th>\n",
              "      <th>city_pred</th>\n",
              "      <th>city_logits</th>\n",
              "      <th>company_pred</th>\n",
              "      <th>company_logits</th>\n",
              "      <th>code_pred</th>\n",
              "      <th>code_logits</th>\n",
              "      <th>street_pred</th>\n",
              "      <th>number_pred</th>\n",
              "      <th>street_number_logits</th>\n",
              "      <th>date_pred</th>\n",
              "      <th>date_logits</th>\n",
              "      <th>period_pred</th>\n",
              "      <th>period_logits</th>\n",
              "      <th>period_from_pred</th>\n",
              "      <th>period_to_pred</th>\n",
              "      <th>person_pred</th>\n",
              "      <th>role_pred</th>\n",
              "      <th>people_pred</th>\n",
              "      <th>city_act</th>\n",
              "      <th>city_match</th>\n",
              "      <th>company_act</th>\n",
              "      <th>company_match</th>\n",
              "      <th>code_act</th>\n",
              "      <th>code_match</th>\n",
              "      <th>number_act</th>\n",
              "      <th>street_act</th>\n",
              "      <th>number_match</th>\n",
              "      <th>street_match</th>\n",
              "      <th>date_act</th>\n",
              "      <th>date_match</th>\n",
              "      <th>period_from_act</th>\n",
              "      <th>period_to_act</th>\n",
              "      <th>period_from_match</th>\n",
              "      <th>period_to_match</th>\n",
              "      <th>people_act</th>\n",
              "      <th>people_match</th>\n",
              "    </tr>\n",
              "  </thead>\n",
              "  <tbody>\n",
              "    <tr>\n",
              "      <th>0</th>\n",
              "      <td>118820</td>\n",
              "      <td>[CLS] Raport półroczny PS - 2009 Półroczne sko...</td>\n",
              "      <td>[{'entity_type': 'City', 'avg_logit': 9.479804...</td>\n",
              "      <td>{'company': 'APATOR SA', 'drawing_date': '2009...</td>\n",
              "      <td>Toruń</td>\n",
              "      <td>9.479805</td>\n",
              "      <td></td>\n",
              "      <td>0.0</td>\n",
              "      <td></td>\n",
              "      <td>0.0</td>\n",
              "      <td></td>\n",
              "      <td></td>\n",
              "      <td>0.0</td>\n",
              "      <td>[unparsed] 2009 - 08 - 24</td>\n",
              "      <td>6.501159</td>\n",
              "      <td></td>\n",
              "      <td>0.0</td>\n",
              "      <td>None</td>\n",
              "      <td>None</td>\n",
              "      <td>[]</td>\n",
              "      <td>[]</td>\n",
              "      <td>[]</td>\n",
              "      <td>Toruń</td>\n",
              "      <td>1</td>\n",
              "      <td>APATOR SA</td>\n",
              "      <td>0</td>\n",
              "      <td>87-100</td>\n",
              "      <td>0</td>\n",
              "      <td>21/29</td>\n",
              "      <td>ul. Żółkiewskiego</td>\n",
              "      <td>0</td>\n",
              "      <td>0</td>\n",
              "      <td>2009-08-31</td>\n",
              "      <td>0</td>\n",
              "      <td>2009-01-01</td>\n",
              "      <td>2009-06-30</td>\n",
              "      <td>0</td>\n",
              "      <td>0</td>\n",
              "      <td>[('2009-08-31', 'Janusz Niedźwiecki', 'Prezes ...</td>\n",
              "      <td>0</td>\n",
              "    </tr>\n",
              "    <tr>\n",
              "      <th>1</th>\n",
              "      <td>118820</td>\n",
              "      <td>[CLS]............................................</td>\n",
              "      <td>[]</td>\n",
              "      <td>{'company': 'APATOR SA', 'drawing_date': '2009...</td>\n",
              "      <td></td>\n",
              "      <td>0.000000</td>\n",
              "      <td></td>\n",
              "      <td>0.0</td>\n",
              "      <td></td>\n",
              "      <td>0.0</td>\n",
              "      <td></td>\n",
              "      <td></td>\n",
              "      <td>0.0</td>\n",
              "      <td>[unparsed]</td>\n",
              "      <td>0.000000</td>\n",
              "      <td></td>\n",
              "      <td>0.0</td>\n",
              "      <td>None</td>\n",
              "      <td>None</td>\n",
              "      <td>[]</td>\n",
              "      <td>[]</td>\n",
              "      <td>[]</td>\n",
              "      <td>Toruń</td>\n",
              "      <td>0</td>\n",
              "      <td>APATOR SA</td>\n",
              "      <td>0</td>\n",
              "      <td>87-100</td>\n",
              "      <td>0</td>\n",
              "      <td>21/29</td>\n",
              "      <td>ul. Żółkiewskiego</td>\n",
              "      <td>0</td>\n",
              "      <td>0</td>\n",
              "      <td>2009-08-31</td>\n",
              "      <td>0</td>\n",
              "      <td>2009-01-01</td>\n",
              "      <td>2009-06-30</td>\n",
              "      <td>0</td>\n",
              "      <td>0</td>\n",
              "      <td>[('2009-08-31', 'Janusz Niedźwiecki', 'Prezes ...</td>\n",
              "      <td>0</td>\n",
              "    </tr>\n",
              "    <tr>\n",
              "      <th>2</th>\n",
              "      <td>118820</td>\n",
              "      <td>[CLS]............................................</td>\n",
              "      <td>[]</td>\n",
              "      <td>{'company': 'APATOR SA', 'drawing_date': '2009...</td>\n",
              "      <td></td>\n",
              "      <td>0.000000</td>\n",
              "      <td></td>\n",
              "      <td>0.0</td>\n",
              "      <td></td>\n",
              "      <td>0.0</td>\n",
              "      <td></td>\n",
              "      <td></td>\n",
              "      <td>0.0</td>\n",
              "      <td>[unparsed]</td>\n",
              "      <td>0.000000</td>\n",
              "      <td></td>\n",
              "      <td>0.0</td>\n",
              "      <td>None</td>\n",
              "      <td>None</td>\n",
              "      <td>[]</td>\n",
              "      <td>[]</td>\n",
              "      <td>[]</td>\n",
              "      <td>Toruń</td>\n",
              "      <td>0</td>\n",
              "      <td>APATOR SA</td>\n",
              "      <td>0</td>\n",
              "      <td>87-100</td>\n",
              "      <td>0</td>\n",
              "      <td>21/29</td>\n",
              "      <td>ul. Żółkiewskiego</td>\n",
              "      <td>0</td>\n",
              "      <td>0</td>\n",
              "      <td>2009-08-31</td>\n",
              "      <td>0</td>\n",
              "      <td>2009-01-01</td>\n",
              "      <td>2009-06-30</td>\n",
              "      <td>0</td>\n",
              "      <td>0</td>\n",
              "      <td>[('2009-08-31', 'Janusz Niedźwiecki', 'Prezes ...</td>\n",
              "      <td>0</td>\n",
              "    </tr>\n",
              "    <tr>\n",
              "      <th>3</th>\n",
              "      <td>118820</td>\n",
              "      <td>[CLS]............................................</td>\n",
              "      <td>[]</td>\n",
              "      <td>{'company': 'APATOR SA', 'drawing_date': '2009...</td>\n",
              "      <td></td>\n",
              "      <td>0.000000</td>\n",
              "      <td></td>\n",
              "      <td>0.0</td>\n",
              "      <td></td>\n",
              "      <td>0.0</td>\n",
              "      <td></td>\n",
              "      <td></td>\n",
              "      <td>0.0</td>\n",
              "      <td>[unparsed]</td>\n",
              "      <td>0.000000</td>\n",
              "      <td></td>\n",
              "      <td>0.0</td>\n",
              "      <td>None</td>\n",
              "      <td>None</td>\n",
              "      <td>[]</td>\n",
              "      <td>[]</td>\n",
              "      <td>[]</td>\n",
              "      <td>Toruń</td>\n",
              "      <td>0</td>\n",
              "      <td>APATOR SA</td>\n",
              "      <td>0</td>\n",
              "      <td>87-100</td>\n",
              "      <td>0</td>\n",
              "      <td>21/29</td>\n",
              "      <td>ul. Żółkiewskiego</td>\n",
              "      <td>0</td>\n",
              "      <td>0</td>\n",
              "      <td>2009-08-31</td>\n",
              "      <td>0</td>\n",
              "      <td>2009-01-01</td>\n",
              "      <td>2009-06-30</td>\n",
              "      <td>0</td>\n",
              "      <td>0</td>\n",
              "      <td>[('2009-08-31', 'Janusz Niedźwiecki', 'Prezes ...</td>\n",
              "      <td>0</td>\n",
              "    </tr>\n",
              "    <tr>\n",
              "      <th>4</th>\n",
              "      <td>118820</td>\n",
              "      <td>[CLS]...................... 5 Skład Zarządu i ...</td>\n",
              "      <td>[]</td>\n",
              "      <td>{'company': 'APATOR SA', 'drawing_date': '2009...</td>\n",
              "      <td></td>\n",
              "      <td>0.000000</td>\n",
              "      <td></td>\n",
              "      <td>0.0</td>\n",
              "      <td></td>\n",
              "      <td>0.0</td>\n",
              "      <td></td>\n",
              "      <td></td>\n",
              "      <td>0.0</td>\n",
              "      <td>[unparsed]</td>\n",
              "      <td>0.000000</td>\n",
              "      <td></td>\n",
              "      <td>0.0</td>\n",
              "      <td>None</td>\n",
              "      <td>None</td>\n",
              "      <td>[]</td>\n",
              "      <td>[]</td>\n",
              "      <td>[]</td>\n",
              "      <td>Toruń</td>\n",
              "      <td>0</td>\n",
              "      <td>APATOR SA</td>\n",
              "      <td>0</td>\n",
              "      <td>87-100</td>\n",
              "      <td>0</td>\n",
              "      <td>21/29</td>\n",
              "      <td>ul. Żółkiewskiego</td>\n",
              "      <td>0</td>\n",
              "      <td>0</td>\n",
              "      <td>2009-08-31</td>\n",
              "      <td>0</td>\n",
              "      <td>2009-01-01</td>\n",
              "      <td>2009-06-30</td>\n",
              "      <td>0</td>\n",
              "      <td>0</td>\n",
              "      <td>[('2009-08-31', 'Janusz Niedźwiecki', 'Prezes ...</td>\n",
              "      <td>0</td>\n",
              "    </tr>\n",
              "  </tbody>\n",
              "</table>\n",
              "</div>"
            ],
            "text/plain": [
              "      cid  ... people_match\n",
              "0  118820  ...            0\n",
              "1  118820  ...            0\n",
              "2  118820  ...            0\n",
              "3  118820  ...            0\n",
              "4  118820  ...            0\n",
              "\n",
              "[5 rows x 40 columns]"
            ]
          },
          "metadata": {
            "tags": []
          },
          "execution_count": 33
        }
      ]
    },
    {
      "cell_type": "markdown",
      "metadata": {
        "id": "hzRSM2eoJR_p",
        "colab_type": "text"
      },
      "source": [
        "## Chunk selection"
      ]
    },
    {
      "cell_type": "code",
      "metadata": {
        "id": "Kb2EouL-C6y4",
        "colab_type": "code",
        "colab": {}
      },
      "source": [
        "df_chunks = pd.read_csv('/content/drive/My Drive/poleval/model_ner_orig_res_allchunks_pp.csv')"
      ],
      "execution_count": null,
      "outputs": []
    },
    {
      "cell_type": "code",
      "metadata": {
        "id": "e9F0TIeNC65A",
        "colab_type": "code",
        "colab": {
          "base_uri": "https://localhost:8080/",
          "height": 693
        },
        "outputId": "e2765c9b-f97d-4002-9829-fb87f68f366f"
      },
      "source": [
        "#dfc: df chunks city\n",
        "dfc = df_chunks[['cid', 'city_pred', 'city_logits', 'city_match', 'company_logits', 'code_logits', 'street_number_logits', 'date_logits', 'period_logits']]\n",
        "dfc['num_chunks'] = dfc.groupby(['cid','city_pred'])['city_pred'].transform('count')\n",
        "dfc['avg_logits'] = dfc.groupby(['cid','city_pred'])['city_logits'].transform('mean')\n",
        "dfc.fillna(0, inplace=True)\n",
        "y = dfc['city_match'][dfc['city_pred'] != 0]\n",
        "X = dfc.drop(['cid', 'city_pred', 'city_match'], axis=1)[dfc['city_pred'] != 0]\n",
        "clf = RandomForestClassifier(oob_score=True)\n",
        "clf.fit(X, y)\n",
        "print(f'OOB Score: {clf.oob_score_}')\n",
        "importances = clf.feature_importances_\n",
        "std = np.std([tree.feature_importances_ for tree in clf.estimators_], axis=0)\n",
        "indices = np.argsort(importances)[::-1]\n",
        "print(\"Feature ranking:\")\n",
        "for f in range(X.shape[1]):\n",
        "    print(\"%d. feature %d : %s (%f)\" % (f + 1, indices[f], X.columns[f], importances[indices[f]]))\n",
        "plt.figure()\n",
        "plt.title(\"Feature importances\")\n",
        "plt.bar(range(X.shape[1]), importances[indices], color=\"r\", yerr=std[indices], align=\"center\")\n",
        "plt.xticks(range(X.shape[1]), indices)\n",
        "plt.xlim([-1, X.shape[1]])\n",
        "plt.show()\n",
        "log_proba = clf.predict_log_proba(X)\n",
        "dfc['city_proba'] = -1000.\n",
        "dfc['city_proba'][dfc['city_pred'] != 0] = log_proba[:,1]\n",
        "dfc['city_proba'] = dfc['city_proba'].apply(lambda x: x+random.uniform(0, 0.0001))\n",
        "idx_max = dfc.groupby(['cid'])['city_proba'].transform(max) == dfc['city_proba']\n",
        "df_city = dfc[['cid','city_pred', 'city_proba', 'city_match']][idx_max].copy()\n",
        "total = len(df_city)\n",
        "matches = df_city.city_match.sum()\n",
        "print(f'Total: {total}, matches: {matches}, accuracy: {round(matches/total, 2)}')\n",
        "city_acc = matches/total\n",
        "df_city.head()"
      ],
      "execution_count": null,
      "outputs": [
        {
          "output_type": "stream",
          "text": [
            "OOB Score: 0.9745529864310775\n",
            "Feature ranking:\n",
            "1. feature 6 : city_logits (0.378682)\n",
            "2. feature 7 : company_logits (0.335524)\n",
            "3. feature 0 : code_logits (0.129719)\n",
            "4. feature 2 : street_number_logits (0.042789)\n",
            "5. feature 3 : date_logits (0.042211)\n",
            "6. feature 5 : period_logits (0.029777)\n",
            "7. feature 4 : num_chunks (0.029514)\n",
            "8. feature 1 : avg_logits (0.011785)\n"
          ],
          "name": "stdout"
        },
        {
          "output_type": "display_data",
          "data": {
            "image/png": "[encoded data removed]",
            "text/plain": [
              "<Figure size 432x288 with 1 Axes>"
            ]
          },
          "metadata": {
            "tags": [],
            "needs_background": "light"
          }
        },
        {
          "output_type": "stream",
          "text": [
            "Total: 554, matches: 496, accuracy: 0.9\n"
          ],
          "name": "stdout"
        },
        {
          "output_type": "stream",
          "text": [
            "/usr/local/lib/python3.6/dist-packages/sklearn/ensemble/_forest.py:704: RuntimeWarning: divide by zero encountered in log\n",
            "  return np.log(proba)\n"
          ],
          "name": "stderr"
        },
        {
          "output_type": "execute_result",
          "data": {
            "text/html": [
              "<div>\n",
              "<style scoped>\n",
              "    .dataframe tbody tr th:only-of-type {\n",
              "        vertical-align: middle;\n",
              "    }\n",
              "\n",
              "    .dataframe tbody tr th {\n",
              "        vertical-align: top;\n",
              "    }\n",
              "\n",
              "    .dataframe thead th {\n",
              "        text-align: right;\n",
              "    }\n",
              "</style>\n",
              "<table border=\"1\" class=\"dataframe\">\n",
              "  <thead>\n",
              "    <tr style=\"text-align: right;\">\n",
              "      <th></th>\n",
              "      <th>cid</th>\n",
              "      <th>city_pred</th>\n",
              "      <th>city_proba</th>\n",
              "      <th>city_match</th>\n",
              "    </tr>\n",
              "  </thead>\n",
              "  <tbody>\n",
              "    <tr>\n",
              "      <th>0</th>\n",
              "      <td>118820</td>\n",
              "      <td>Toruń</td>\n",
              "      <td>-0.116487</td>\n",
              "      <td>1</td>\n",
              "    </tr>\n",
              "    <tr>\n",
              "      <th>560</th>\n",
              "      <td>366876</td>\n",
              "      <td>Chojnice</td>\n",
              "      <td>0.000057</td>\n",
              "      <td>1</td>\n",
              "    </tr>\n",
              "    <tr>\n",
              "      <th>1362</th>\n",
              "      <td>175077</td>\n",
              "      <td>Warszawa</td>\n",
              "      <td>-1.469624</td>\n",
              "      <td>0</td>\n",
              "    </tr>\n",
              "    <tr>\n",
              "      <th>1489</th>\n",
              "      <td>208309</td>\n",
              "      <td>Gliwice</td>\n",
              "      <td>0.000097</td>\n",
              "      <td>1</td>\n",
              "    </tr>\n",
              "    <tr>\n",
              "      <th>1860</th>\n",
              "      <td>394366</td>\n",
              "      <td>Pianowo</td>\n",
              "      <td>0.000092</td>\n",
              "      <td>1</td>\n",
              "    </tr>\n",
              "  </tbody>\n",
              "</table>\n",
              "</div>"
            ],
            "text/plain": [
              "         cid city_pred  city_proba  city_match\n",
              "0     118820     Toruń   -0.116487           1\n",
              "560   366876  Chojnice    0.000057           1\n",
              "1362  175077  Warszawa   -1.469624           0\n",
              "1489  208309   Gliwice    0.000097           1\n",
              "1860  394366   Pianowo    0.000092           1"
            ]
          },
          "metadata": {
            "tags": []
          },
          "execution_count": 35
        }
      ]
    },
    {
      "cell_type": "code",
      "metadata": {
        "id": "i_dMc379S1ad",
        "colab_type": "code",
        "colab": {
          "base_uri": "https://localhost:8080/",
          "height": 34
        },
        "outputId": "1a3c0682-f484-4ac5-b3a9-7b35f3ab4de8"
      },
      "source": [
        "dump(clf, '/content/drive/My Drive/poleval/clf-city-ner2.joblib')"
      ],
      "execution_count": null,
      "outputs": [
        {
          "output_type": "execute_result",
          "data": {
            "text/plain": [
              "['/content/drive/My Drive/poleval/clf-city-ner2.joblib']"
            ]
          },
          "metadata": {
            "tags": []
          },
          "execution_count": 36
        }
      ]
    },
    {
      "cell_type": "code",
      "metadata": {
        "id": "A1D9_8ggS1X8",
        "colab_type": "code",
        "colab": {
          "base_uri": "https://localhost:8080/",
          "height": 604
        },
        "outputId": "cd29f9be-792b-434e-b913-a4d12c5bf74b"
      },
      "source": [
        "#dfco: df chunks company\n",
        "dfco = df_chunks[['cid', 'company_pred', 'company_logits', 'company_match', 'city_logits', 'code_logits']]\n",
        "dfco.fillna(0, inplace=True)\n",
        "y = dfco['company_match'][dfco['company_pred'] != 0]\n",
        "X = dfco.drop(['cid', 'company_pred', 'company_match'], axis=1)[dfco['company_pred'] != 0]\n",
        "clf = RandomForestClassifier(oob_score=True)\n",
        "clf.fit(X, y)\n",
        "print(f'OOB Score: {clf.oob_score_}')\n",
        "importances = clf.feature_importances_\n",
        "std = np.std([tree.feature_importances_ for tree in clf.estimators_], axis=0)\n",
        "indices = np.argsort(importances)[::-1]\n",
        "print(\"Feature ranking:\")\n",
        "for f in range(X.shape[1]):\n",
        "    print(\"%d. feature %d : %s (%f)\" % (f + 1, indices[f], X.columns[f], importances[indices[f]]))\n",
        "plt.figure()\n",
        "plt.title(\"Feature importances\")\n",
        "plt.bar(range(X.shape[1]), importances[indices], color=\"r\", yerr=std[indices], align=\"center\")\n",
        "plt.xticks(range(X.shape[1]), indices)\n",
        "plt.xlim([-1, X.shape[1]])\n",
        "plt.show()\n",
        "log_proba = clf.predict_log_proba(X)\n",
        "dfco['company_proba'] = -1000.\n",
        "dfco['company_proba'][dfco['company_pred'] != 0] = log_proba[:,1]\n",
        "dfco['company_proba'] = dfco['company_proba'].apply(lambda x: x+random.uniform(0, 0.0001))\n",
        "idx_max = dfco.groupby(['cid'])['company_proba'].transform(max) == dfco['company_proba']\n",
        "df_company = dfco[['cid','company_pred', 'company_proba', 'company_match']][idx_max].copy()\n",
        "total = len(df_company)\n",
        "matches = df_company.company_match.sum()\n",
        "print(f'Total: {total}, matches: {matches}, accuracy: {round(matches/total, 2)}')\n",
        "company_acc = matches/total\n",
        "df_company.head()"
      ],
      "execution_count": null,
      "outputs": [
        {
          "output_type": "stream",
          "text": [
            "OOB Score: 0.7941475539487064\n",
            "Feature ranking:\n",
            "1. feature 0 : company_logits (0.939474)\n",
            "2. feature 1 : city_logits (0.046500)\n",
            "3. feature 2 : code_logits (0.014025)\n"
          ],
          "name": "stdout"
        },
        {
          "output_type": "display_data",
          "data": {
            "image/png": "[encoded data removed]",
            "text/plain": [
              "<Figure size 432x288 with 1 Axes>"
            ]
          },
          "metadata": {
            "tags": [],
            "needs_background": "light"
          }
        },
        {
          "output_type": "stream",
          "text": [
            "Total: 554, matches: 128, accuracy: 0.23\n"
          ],
          "name": "stdout"
        },
        {
          "output_type": "stream",
          "text": [
            "/usr/local/lib/python3.6/dist-packages/sklearn/ensemble/_forest.py:704: RuntimeWarning: divide by zero encountered in log\n",
            "  return np.log(proba)\n"
          ],
          "name": "stderr"
        },
        {
          "output_type": "execute_result",
          "data": {
            "text/html": [
              "<div>\n",
              "<style scoped>\n",
              "    .dataframe tbody tr th:only-of-type {\n",
              "        vertical-align: middle;\n",
              "    }\n",
              "\n",
              "    .dataframe tbody tr th {\n",
              "        vertical-align: top;\n",
              "    }\n",
              "\n",
              "    .dataframe thead th {\n",
              "        text-align: right;\n",
              "    }\n",
              "</style>\n",
              "<table border=\"1\" class=\"dataframe\">\n",
              "  <thead>\n",
              "    <tr style=\"text-align: right;\">\n",
              "      <th></th>\n",
              "      <th>cid</th>\n",
              "      <th>company_pred</th>\n",
              "      <th>company_proba</th>\n",
              "      <th>company_match</th>\n",
              "    </tr>\n",
              "  </thead>\n",
              "  <tbody>\n",
              "    <tr>\n",
              "      <th>448</th>\n",
              "      <td>118820</td>\n",
              "      <td>APATOR SA</td>\n",
              "      <td>0.000097</td>\n",
              "      <td>1</td>\n",
              "    </tr>\n",
              "    <tr>\n",
              "      <th>1041</th>\n",
              "      <td>366876</td>\n",
              "      <td>ELEKTROMONT SA</td>\n",
              "      <td>-0.967570</td>\n",
              "      <td>0</td>\n",
              "    </tr>\n",
              "    <tr>\n",
              "      <th>1419</th>\n",
              "      <td>175077</td>\n",
              "      <td>DCG SA</td>\n",
              "      <td>-0.798418</td>\n",
              "      <td>0</td>\n",
              "    </tr>\n",
              "    <tr>\n",
              "      <th>1727</th>\n",
              "      <td>208309</td>\n",
              "      <td>BRE BANK SA</td>\n",
              "      <td>-1.139409</td>\n",
              "      <td>0</td>\n",
              "    </tr>\n",
              "    <tr>\n",
              "      <th>1878</th>\n",
              "      <td>394366</td>\n",
              "      <td>0</td>\n",
              "      <td>-999.999900</td>\n",
              "      <td>0</td>\n",
              "    </tr>\n",
              "  </tbody>\n",
              "</table>\n",
              "</div>"
            ],
            "text/plain": [
              "         cid    company_pred  company_proba  company_match\n",
              "448   118820       APATOR SA       0.000097              1\n",
              "1041  366876  ELEKTROMONT SA      -0.967570              0\n",
              "1419  175077          DCG SA      -0.798418              0\n",
              "1727  208309     BRE BANK SA      -1.139409              0\n",
              "1878  394366               0    -999.999900              0"
            ]
          },
          "metadata": {
            "tags": []
          },
          "execution_count": 37
        }
      ]
    },
    {
      "cell_type": "code",
      "metadata": {
        "id": "8grYTrVpS1T0",
        "colab_type": "code",
        "colab": {
          "base_uri": "https://localhost:8080/",
          "height": 34
        },
        "outputId": "592126ea-ca97-42e2-cf57-0a3f9e55e6fd"
      },
      "source": [
        "dump(clf, '/content/drive/My Drive/poleval/clf-company-ner2.joblib')"
      ],
      "execution_count": null,
      "outputs": [
        {
          "output_type": "execute_result",
          "data": {
            "text/plain": [
              "['/content/drive/My Drive/poleval/clf-company-ner2.joblib']"
            ]
          },
          "metadata": {
            "tags": []
          },
          "execution_count": 38
        }
      ]
    },
    {
      "cell_type": "code",
      "metadata": {
        "id": "9COE6CXAaC0F",
        "colab_type": "code",
        "colab": {
          "base_uri": "https://localhost:8080/",
          "height": 640
        },
        "outputId": "0fd855fe-d9d5-4f43-9ac0-479aaa12fa01"
      },
      "source": [
        "#dfs: df chunks street\n",
        "dfs = df_chunks[['cid', 'street_pred', 'street_number_logits', 'street_match', 'company_logits', 'code_logits', 'city_logits']]\n",
        "dfs['num_chunks'] = dfs.groupby(['cid','street_pred'])['street_pred'].transform('count')\n",
        "dfs.fillna(0, inplace=True)\n",
        "y = dfs['street_match'][dfs['street_pred'] != 0]\n",
        "X = dfs.drop(['cid', 'street_pred', 'street_match'], axis=1)[dfs['street_pred'] != 0]\n",
        "clf = RandomForestClassifier(oob_score=True)\n",
        "clf.fit(X, y)\n",
        "print(f'OOB Score: {clf.oob_score_}')\n",
        "importances = clf.feature_importances_\n",
        "std = np.std([tree.feature_importances_ for tree in clf.estimators_], axis=0)\n",
        "indices = np.argsort(importances)[::-1]\n",
        "print(\"Feature ranking:\")\n",
        "for f in range(X.shape[1]):\n",
        "    print(\"%d. feature %d : %s (%f)\" % (f + 1, indices[f], X.columns[f], importances[indices[f]]))\n",
        "plt.figure()\n",
        "plt.title(\"Feature importances\")\n",
        "plt.bar(range(X.shape[1]), importances[indices], color=\"r\", yerr=std[indices], align=\"center\")\n",
        "plt.xticks(range(X.shape[1]), indices)\n",
        "plt.xlim([-1, X.shape[1]])\n",
        "plt.show()\n",
        "log_proba = clf.predict_log_proba(X)\n",
        "dfs['street_proba'] = -1000.\n",
        "dfs['street_proba'][dfs['street_pred'] != 0] = log_proba[:,1]\n",
        "dfs['street_proba'] = dfs['street_proba'].apply(lambda x: x+random.uniform(0, 0.0001))\n",
        "idx_max = dfs.groupby(['cid'])['street_proba'].transform(max) == dfs['street_proba']\n",
        "df_street = dfs[['cid','street_pred', 'street_proba', 'street_match']][idx_max].copy()\n",
        "total = len(df_street)\n",
        "matches = df_street.street_match.sum()\n",
        "print(f'Total: {total}, matches: {matches}, accuracy: {round(matches/total, 2)}')\n",
        "street_acc = matches/total\n",
        "df_street.head()"
      ],
      "execution_count": null,
      "outputs": [
        {
          "output_type": "stream",
          "text": [
            "OOB Score: 0.9176935596372936\n",
            "Feature ranking:\n",
            "1. feature 0 : street_number_logits (0.458404)\n",
            "2. feature 4 : company_logits (0.260058)\n",
            "3. feature 2 : code_logits (0.143428)\n",
            "4. feature 3 : city_logits (0.125841)\n",
            "5. feature 1 : num_chunks (0.012268)\n"
          ],
          "name": "stdout"
        },
        {
          "output_type": "display_data",
          "data": {
            "image/png": "[encoded data removed]",
            "text/plain": [
              "<Figure size 432x288 with 1 Axes>"
            ]
          },
          "metadata": {
            "tags": [],
            "needs_background": "light"
          }
        },
        {
          "output_type": "stream",
          "text": [
            "Total: 554, matches: 350, accuracy: 0.63\n"
          ],
          "name": "stdout"
        },
        {
          "output_type": "stream",
          "text": [
            "/usr/local/lib/python3.6/dist-packages/sklearn/ensemble/_forest.py:704: RuntimeWarning: divide by zero encountered in log\n",
            "  return np.log(proba)\n"
          ],
          "name": "stderr"
        },
        {
          "output_type": "execute_result",
          "data": {
            "text/html": [
              "<div>\n",
              "<style scoped>\n",
              "    .dataframe tbody tr th:only-of-type {\n",
              "        vertical-align: middle;\n",
              "    }\n",
              "\n",
              "    .dataframe tbody tr th {\n",
              "        vertical-align: top;\n",
              "    }\n",
              "\n",
              "    .dataframe thead th {\n",
              "        text-align: right;\n",
              "    }\n",
              "</style>\n",
              "<table border=\"1\" class=\"dataframe\">\n",
              "  <thead>\n",
              "    <tr style=\"text-align: right;\">\n",
              "      <th></th>\n",
              "      <th>cid</th>\n",
              "      <th>street_pred</th>\n",
              "      <th>street_proba</th>\n",
              "      <th>street_match</th>\n",
              "    </tr>\n",
              "  </thead>\n",
              "  <tbody>\n",
              "    <tr>\n",
              "      <th>112</th>\n",
              "      <td>118820</td>\n",
              "      <td>[UNK]</td>\n",
              "      <td>-2.659250</td>\n",
              "      <td>0</td>\n",
              "    </tr>\n",
              "    <tr>\n",
              "      <th>562</th>\n",
              "      <td>366876</td>\n",
              "      <td>Przemysłowa</td>\n",
              "      <td>-0.040803</td>\n",
              "      <td>1</td>\n",
              "    </tr>\n",
              "    <tr>\n",
              "      <th>1158</th>\n",
              "      <td>175077</td>\n",
              "      <td>Starowiślna</td>\n",
              "      <td>-0.020104</td>\n",
              "      <td>1</td>\n",
              "    </tr>\n",
              "    <tr>\n",
              "      <th>1475</th>\n",
              "      <td>208309</td>\n",
              "      <td>Górnych Wałów</td>\n",
              "      <td>-1.386211</td>\n",
              "      <td>0</td>\n",
              "    </tr>\n",
              "    <tr>\n",
              "      <th>1859</th>\n",
              "      <td>394366</td>\n",
              "      <td>Kwiatowa</td>\n",
              "      <td>0.000097</td>\n",
              "      <td>1</td>\n",
              "    </tr>\n",
              "  </tbody>\n",
              "</table>\n",
              "</div>"
            ],
            "text/plain": [
              "         cid    street_pred  street_proba  street_match\n",
              "112   118820          [UNK]     -2.659250             0\n",
              "562   366876    Przemysłowa     -0.040803             1\n",
              "1158  175077    Starowiślna     -0.020104             1\n",
              "1475  208309  Górnych Wałów     -1.386211             0\n",
              "1859  394366       Kwiatowa      0.000097             1"
            ]
          },
          "metadata": {
            "tags": []
          },
          "execution_count": 39
        }
      ]
    },
    {
      "cell_type": "code",
      "metadata": {
        "id": "avFGsovpaDDN",
        "colab_type": "code",
        "colab": {
          "base_uri": "https://localhost:8080/",
          "height": 34
        },
        "outputId": "db148ab3-a4bd-4817-9544-ddcfa049670a"
      },
      "source": [
        "dump(clf, '/content/drive/My Drive/poleval/clf-street-ner2.joblib')"
      ],
      "execution_count": null,
      "outputs": [
        {
          "output_type": "execute_result",
          "data": {
            "text/plain": [
              "['/content/drive/My Drive/poleval/clf-street-ner2.joblib']"
            ]
          },
          "metadata": {
            "tags": []
          },
          "execution_count": 40
        }
      ]
    },
    {
      "cell_type": "code",
      "metadata": {
        "id": "I7kRM-2saDAd",
        "colab_type": "code",
        "colab": {
          "base_uri": "https://localhost:8080/",
          "height": 640
        },
        "outputId": "64b47395-7ace-4131-d171-c78bca4aaa59"
      },
      "source": [
        "#dfn: df chunks number\n",
        "dfs = df_chunks[['cid', 'number_pred', 'street_number_logits', 'number_match', 'company_logits', 'code_logits', 'city_logits']]\n",
        "dfs['num_chunks'] = dfs.groupby(['cid','number_pred'])['number_pred'].transform('count')\n",
        "dfs.fillna(0, inplace=True)\n",
        "y = dfs['number_match'][dfs['number_pred'] != 0]\n",
        "X = dfs.drop(['cid', 'number_pred', 'number_match'], axis=1)[dfs['number_pred'] != 0]\n",
        "clf = RandomForestClassifier(oob_score=True)\n",
        "clf.fit(X, y)\n",
        "print(f'OOB Score: {clf.oob_score_}')\n",
        "importances = clf.feature_importances_\n",
        "std = np.std([tree.feature_importances_ for tree in clf.estimators_], axis=0)\n",
        "indices = np.argsort(importances)[::-1]\n",
        "print(\"Feature ranking:\")\n",
        "for f in range(X.shape[1]):\n",
        "    print(\"%d. feature %d : %s (%f)\" % (f + 1, indices[f], X.columns[f], importances[indices[f]]))\n",
        "plt.figure()\n",
        "plt.title(\"Feature importances\")\n",
        "plt.bar(range(X.shape[1]), importances[indices], color=\"r\", yerr=std[indices], align=\"center\")\n",
        "plt.xticks(range(X.shape[1]), indices)\n",
        "plt.xlim([-1, X.shape[1]])\n",
        "plt.show()\n",
        "log_proba = clf.predict_log_proba(X)\n",
        "dfs['number_proba'] = -1000.\n",
        "dfs['number_proba'][dfs['number_pred'] != 0] = log_proba[:,1]\n",
        "dfs['number_proba'] = dfs['number_proba'].apply(lambda x: x+random.uniform(0, 0.0001))\n",
        "idx_max = dfs.groupby(['cid'])['number_proba'].transform(max) == dfs['number_proba']\n",
        "df_number = dfs[['cid','number_pred', 'number_proba', 'number_match']][idx_max].copy()\n",
        "total = len(df_number)\n",
        "matches = df_number.number_match.sum()\n",
        "print(f'Total: {total}, matches: {matches}, accuracy: {round(matches/total, 2)}')\n",
        "number_acc = matches/total\n",
        "df_number.head()"
      ],
      "execution_count": null,
      "outputs": [
        {
          "output_type": "stream",
          "text": [
            "OOB Score: 0.9014334470989761\n",
            "Feature ranking:\n",
            "1. feature 4 : street_number_logits (0.398484)\n",
            "2. feature 0 : company_logits (0.313925)\n",
            "3. feature 3 : code_logits (0.143469)\n",
            "4. feature 2 : city_logits (0.125274)\n",
            "5. feature 1 : num_chunks (0.018847)\n"
          ],
          "name": "stdout"
        },
        {
          "output_type": "display_data",
          "data": {
            "image/png": "[encoded data removed]",
            "text/plain": [
              "<Figure size 432x288 with 1 Axes>"
            ]
          },
          "metadata": {
            "tags": [],
            "needs_background": "light"
          }
        },
        {
          "output_type": "stream",
          "text": [
            "Total: 554, matches: 374, accuracy: 0.68\n"
          ],
          "name": "stdout"
        },
        {
          "output_type": "stream",
          "text": [
            "/usr/local/lib/python3.6/dist-packages/sklearn/ensemble/_forest.py:704: RuntimeWarning: divide by zero encountered in log\n",
            "  return np.log(proba)\n"
          ],
          "name": "stderr"
        },
        {
          "output_type": "execute_result",
          "data": {
            "text/html": [
              "<div>\n",
              "<style scoped>\n",
              "    .dataframe tbody tr th:only-of-type {\n",
              "        vertical-align: middle;\n",
              "    }\n",
              "\n",
              "    .dataframe tbody tr th {\n",
              "        vertical-align: top;\n",
              "    }\n",
              "\n",
              "    .dataframe thead th {\n",
              "        text-align: right;\n",
              "    }\n",
              "</style>\n",
              "<table border=\"1\" class=\"dataframe\">\n",
              "  <thead>\n",
              "    <tr style=\"text-align: right;\">\n",
              "      <th></th>\n",
              "      <th>cid</th>\n",
              "      <th>number_pred</th>\n",
              "      <th>number_proba</th>\n",
              "      <th>number_match</th>\n",
              "    </tr>\n",
              "  </thead>\n",
              "  <tbody>\n",
              "    <tr>\n",
              "      <th>24</th>\n",
              "      <td>118820</td>\n",
              "      <td>0</td>\n",
              "      <td>-999.999900</td>\n",
              "      <td>0</td>\n",
              "    </tr>\n",
              "    <tr>\n",
              "      <th>560</th>\n",
              "      <td>366876</td>\n",
              "      <td>15</td>\n",
              "      <td>-0.009981</td>\n",
              "      <td>1</td>\n",
              "    </tr>\n",
              "    <tr>\n",
              "      <th>1157</th>\n",
              "      <td>175077</td>\n",
              "      <td>48</td>\n",
              "      <td>-0.030407</td>\n",
              "      <td>1</td>\n",
              "    </tr>\n",
              "    <tr>\n",
              "      <th>1680</th>\n",
              "      <td>208309</td>\n",
              "      <td>42</td>\n",
              "      <td>-0.020201</td>\n",
              "      <td>1</td>\n",
              "    </tr>\n",
              "    <tr>\n",
              "      <th>1858</th>\n",
              "      <td>394366</td>\n",
              "      <td>2</td>\n",
              "      <td>0.000093</td>\n",
              "      <td>1</td>\n",
              "    </tr>\n",
              "  </tbody>\n",
              "</table>\n",
              "</div>"
            ],
            "text/plain": [
              "         cid number_pred  number_proba  number_match\n",
              "24    118820           0   -999.999900             0\n",
              "560   366876          15     -0.009981             1\n",
              "1157  175077          48     -0.030407             1\n",
              "1680  208309          42     -0.020201             1\n",
              "1858  394366           2      0.000093             1"
            ]
          },
          "metadata": {
            "tags": []
          },
          "execution_count": 41
        }
      ]
    },
    {
      "cell_type": "code",
      "metadata": {
        "id": "Ts50aFbuaC9Y",
        "colab_type": "code",
        "colab": {
          "base_uri": "https://localhost:8080/",
          "height": 34
        },
        "outputId": "45c24fd5-2f21-46eb-8c23-f3e015f223ad"
      },
      "source": [
        "dump(clf, '/content/drive/My Drive/poleval/clf-number-ner2.joblib')"
      ],
      "execution_count": null,
      "outputs": [
        {
          "output_type": "execute_result",
          "data": {
            "text/plain": [
              "['/content/drive/My Drive/poleval/clf-number-ner2.joblib']"
            ]
          },
          "metadata": {
            "tags": []
          },
          "execution_count": 42
        }
      ]
    },
    {
      "cell_type": "code",
      "metadata": {
        "id": "amQ_cp-yaC7B",
        "colab_type": "code",
        "colab": {
          "base_uri": "https://localhost:8080/",
          "height": 640
        },
        "outputId": "88615426-e599-4d26-8dbd-0164a21d3181"
      },
      "source": [
        "#dfcd: df chunks code\n",
        "dfcd = df_chunks[['cid', 'code_pred', 'code_logits', 'code_match', 'company_logits', 'street_number_logits', 'city_logits']]\n",
        "dfcd['num_chunks'] = dfcd.groupby(['cid','code_pred'])['code_pred'].transform('count')\n",
        "dfcd.fillna(0, inplace=True)\n",
        "y = dfcd['code_match'][dfcd['code_pred'] != 0]\n",
        "X = dfcd.drop(['cid', 'code_pred', 'code_match'], axis=1)[dfcd['code_pred'] != 0]\n",
        "clf = RandomForestClassifier(oob_score=True)\n",
        "clf.fit(X, y)\n",
        "print(f'OOB Score: {clf.oob_score_}')\n",
        "importances = clf.feature_importances_\n",
        "std = np.std([tree.feature_importances_ for tree in clf.estimators_], axis=0)\n",
        "indices = np.argsort(importances)[::-1]\n",
        "print(\"Feature ranking:\")\n",
        "for f in range(X.shape[1]):\n",
        "    print(\"%d. feature %d : %s (%f)\" % (f + 1, indices[f], X.columns[f], importances[indices[f]]))\n",
        "plt.figure()\n",
        "plt.title(\"Feature importances\")\n",
        "plt.bar(range(X.shape[1]), importances[indices], color=\"r\", yerr=std[indices], align=\"center\")\n",
        "plt.xticks(range(X.shape[1]), indices)\n",
        "plt.xlim([-1, X.shape[1]])\n",
        "plt.show()\n",
        "log_proba = clf.predict_log_proba(X)\n",
        "dfcd['code_proba'] = -1000.\n",
        "dfcd['code_proba'][dfcd['code_pred'] != 0] = log_proba[:,1]\n",
        "dfcd['code_proba'] = dfcd['code_proba'].apply(lambda x: x+random.uniform(0, 0.0001))\n",
        "idx_max = dfcd.groupby(['cid'])['code_proba'].transform(max) == dfcd['code_proba']\n",
        "df_code = dfcd[['cid','code_pred', 'code_proba', 'code_match']][idx_max].copy()\n",
        "total = len(df_code)\n",
        "matches = df_code.code_match.sum()\n",
        "print(f'Total: {total}, matches: {matches}, accuracy: {round(matches/total, 2)}')\n",
        "code_acc = matches/total\n",
        "df_code.head()"
      ],
      "execution_count": null,
      "outputs": [
        {
          "output_type": "stream",
          "text": [
            "OOB Score: 0.9301380991064175\n",
            "Feature ranking:\n",
            "1. feature 4 : code_logits (0.363140)\n",
            "2. feature 0 : company_logits (0.328601)\n",
            "3. feature 2 : street_number_logits (0.146868)\n",
            "4. feature 3 : city_logits (0.141568)\n",
            "5. feature 1 : num_chunks (0.019823)\n"
          ],
          "name": "stdout"
        },
        {
          "output_type": "display_data",
          "data": {
            "image/png": "[encoded data removed]",
            "text/plain": [
              "<Figure size 432x288 with 1 Axes>"
            ]
          },
          "metadata": {
            "tags": [],
            "needs_background": "light"
          }
        },
        {
          "output_type": "stream",
          "text": [
            "Total: 554, matches: 390, accuracy: 0.7\n"
          ],
          "name": "stdout"
        },
        {
          "output_type": "stream",
          "text": [
            "/usr/local/lib/python3.6/dist-packages/sklearn/ensemble/_forest.py:704: RuntimeWarning: divide by zero encountered in log\n",
            "  return np.log(proba)\n"
          ],
          "name": "stderr"
        },
        {
          "output_type": "execute_result",
          "data": {
            "text/html": [
              "<div>\n",
              "<style scoped>\n",
              "    .dataframe tbody tr th:only-of-type {\n",
              "        vertical-align: middle;\n",
              "    }\n",
              "\n",
              "    .dataframe tbody tr th {\n",
              "        vertical-align: top;\n",
              "    }\n",
              "\n",
              "    .dataframe thead th {\n",
              "        text-align: right;\n",
              "    }\n",
              "</style>\n",
              "<table border=\"1\" class=\"dataframe\">\n",
              "  <thead>\n",
              "    <tr style=\"text-align: right;\">\n",
              "      <th></th>\n",
              "      <th>cid</th>\n",
              "      <th>code_pred</th>\n",
              "      <th>code_proba</th>\n",
              "      <th>code_match</th>\n",
              "    </tr>\n",
              "  </thead>\n",
              "  <tbody>\n",
              "    <tr>\n",
              "      <th>85</th>\n",
              "      <td>118820</td>\n",
              "      <td>0</td>\n",
              "      <td>-999.999900</td>\n",
              "      <td>0</td>\n",
              "    </tr>\n",
              "    <tr>\n",
              "      <th>564</th>\n",
              "      <td>366876</td>\n",
              "      <td>89-600</td>\n",
              "      <td>0.000036</td>\n",
              "      <td>1</td>\n",
              "    </tr>\n",
              "    <tr>\n",
              "      <th>1156</th>\n",
              "      <td>175077</td>\n",
              "      <td>31-035</td>\n",
              "      <td>0.000073</td>\n",
              "      <td>1</td>\n",
              "    </tr>\n",
              "    <tr>\n",
              "      <th>1473</th>\n",
              "      <td>208309</td>\n",
              "      <td>44-100</td>\n",
              "      <td>0.000080</td>\n",
              "      <td>1</td>\n",
              "    </tr>\n",
              "    <tr>\n",
              "      <th>1872</th>\n",
              "      <td>394366</td>\n",
              "      <td>64-000</td>\n",
              "      <td>0.000096</td>\n",
              "      <td>1</td>\n",
              "    </tr>\n",
              "  </tbody>\n",
              "</table>\n",
              "</div>"
            ],
            "text/plain": [
              "         cid code_pred  code_proba  code_match\n",
              "85    118820         0 -999.999900           0\n",
              "564   366876    89-600    0.000036           1\n",
              "1156  175077    31-035    0.000073           1\n",
              "1473  208309    44-100    0.000080           1\n",
              "1872  394366    64-000    0.000096           1"
            ]
          },
          "metadata": {
            "tags": []
          },
          "execution_count": 43
        }
      ]
    },
    {
      "cell_type": "code",
      "metadata": {
        "id": "qIGdXw1baC4d",
        "colab_type": "code",
        "colab": {
          "base_uri": "https://localhost:8080/",
          "height": 34
        },
        "outputId": "2ce159bc-22fb-4589-e587-4530756dcf92"
      },
      "source": [
        "dump(clf, '/content/drive/My Drive/poleval/clf-code-ner2.joblib')"
      ],
      "execution_count": null,
      "outputs": [
        {
          "output_type": "execute_result",
          "data": {
            "text/plain": [
              "['/content/drive/My Drive/poleval/clf-code-ner2.joblib']"
            ]
          },
          "metadata": {
            "tags": []
          },
          "execution_count": 44
        }
      ]
    },
    {
      "cell_type": "code",
      "metadata": {
        "id": "Kr6sSUrZaCxo",
        "colab_type": "code",
        "colab": {
          "base_uri": "https://localhost:8080/",
          "height": 675
        },
        "outputId": "6eea3e6e-6a41-4a2c-e949-3a4cea0cf920"
      },
      "source": [
        "#dfd: df chunks date\n",
        "dfd = df_chunks[['cid', 'date_pred', 'date_logits', 'date_match', 'company_logits', 'code_logits', 'street_number_logits', 'city_logits', 'period_logits']]\n",
        "dfd['num_chunks'] = dfd.groupby(['cid','date_pred'])['date_pred'].transform('count')\n",
        "dfd.fillna(0, inplace=True)\n",
        "y = dfd['date_match'][dfd['date_logits'] != 0]\n",
        "X = dfd.drop(['cid', 'date_pred', 'date_match'], axis=1)[dfd['date_logits'] != 0]\n",
        "clf = RandomForestClassifier(oob_score=True)\n",
        "clf.fit(X, y)\n",
        "print(f'OOB Score: {clf.oob_score_}')\n",
        "importances = clf.feature_importances_\n",
        "std = np.std([tree.feature_importances_ for tree in clf.estimators_], axis=0)\n",
        "indices = np.argsort(importances)[::-1]\n",
        "print(\"Feature ranking:\")\n",
        "for f in range(X.shape[1]):\n",
        "    print(\"%d. feature %d : %s (%f)\" % (f + 1, indices[f], X.columns[f], importances[indices[f]]))\n",
        "plt.figure()\n",
        "plt.title(\"Feature importances\")\n",
        "plt.bar(range(X.shape[1]), importances[indices], color=\"r\", yerr=std[indices], align=\"center\")\n",
        "plt.xticks(range(X.shape[1]), indices)\n",
        "plt.xlim([-1, X.shape[1]])\n",
        "plt.show()\n",
        "log_proba = clf.predict_log_proba(X)\n",
        "dfd['date_proba'] = -1000.\n",
        "dfd['date_proba'][dfd['date_logits'] != 0] = log_proba[:,1]\n",
        "dfd['date_proba'] = dfd['date_proba'].apply(lambda x: x+random.uniform(0, 0.001))\n",
        "idx_max = dfd.groupby(['cid'])['date_proba'].transform(max) == dfd['date_proba']\n",
        "df_date = dfd[['cid','date_pred', 'date_proba', 'date_match']][idx_max].copy()\n",
        "total = len(df_date)\n",
        "matches = df_date.date_match.sum()\n",
        "print(f'Total: {total}, matches: {matches}, accuracy: {round(matches/total, 2)}')\n",
        "date_acc = matches/total\n",
        "df_date.head()"
      ],
      "execution_count": null,
      "outputs": [
        {
          "output_type": "stream",
          "text": [
            "OOB Score: 0.8659335776963234\n",
            "Feature ranking:\n",
            "1. feature 6 : date_logits (0.468979)\n",
            "2. feature 0 : company_logits (0.318468)\n",
            "3. feature 4 : code_logits (0.107399)\n",
            "4. feature 5 : street_number_logits (0.077437)\n",
            "5. feature 3 : city_logits (0.011049)\n",
            "6. feature 1 : period_logits (0.010986)\n",
            "7. feature 2 : num_chunks (0.005683)\n"
          ],
          "name": "stdout"
        },
        {
          "output_type": "display_data",
          "data": {
            "image/png": "[encoded data removed]",
            "text/plain": [
              "<Figure size 432x288 with 1 Axes>"
            ]
          },
          "metadata": {
            "tags": [],
            "needs_background": "light"
          }
        },
        {
          "output_type": "stream",
          "text": [
            "Total: 554, matches: 318, accuracy: 0.57\n"
          ],
          "name": "stdout"
        },
        {
          "output_type": "stream",
          "text": [
            "/usr/local/lib/python3.6/dist-packages/sklearn/ensemble/_forest.py:704: RuntimeWarning: divide by zero encountered in log\n",
            "  return np.log(proba)\n"
          ],
          "name": "stderr"
        },
        {
          "output_type": "execute_result",
          "data": {
            "text/html": [
              "<div>\n",
              "<style scoped>\n",
              "    .dataframe tbody tr th:only-of-type {\n",
              "        vertical-align: middle;\n",
              "    }\n",
              "\n",
              "    .dataframe tbody tr th {\n",
              "        vertical-align: top;\n",
              "    }\n",
              "\n",
              "    .dataframe thead th {\n",
              "        text-align: right;\n",
              "    }\n",
              "</style>\n",
              "<table border=\"1\" class=\"dataframe\">\n",
              "  <thead>\n",
              "    <tr style=\"text-align: right;\">\n",
              "      <th></th>\n",
              "      <th>cid</th>\n",
              "      <th>date_pred</th>\n",
              "      <th>date_proba</th>\n",
              "      <th>date_match</th>\n",
              "    </tr>\n",
              "  </thead>\n",
              "  <tbody>\n",
              "    <tr>\n",
              "      <th>0</th>\n",
              "      <td>118820</td>\n",
              "      <td>[unparsed] 2009 - 08 - 24</td>\n",
              "      <td>-4.604930</td>\n",
              "      <td>0</td>\n",
              "    </tr>\n",
              "    <tr>\n",
              "      <th>712</th>\n",
              "      <td>366876</td>\n",
              "      <td>2017-09-29</td>\n",
              "      <td>0.000940</td>\n",
              "      <td>1</td>\n",
              "    </tr>\n",
              "    <tr>\n",
              "      <th>1193</th>\n",
              "      <td>175077</td>\n",
              "      <td>2011-08-31</td>\n",
              "      <td>-0.030178</td>\n",
              "      <td>1</td>\n",
              "    </tr>\n",
              "    <tr>\n",
              "      <th>1760</th>\n",
              "      <td>208309</td>\n",
              "      <td>2012-08-24</td>\n",
              "      <td>-1.108444</td>\n",
              "      <td>0</td>\n",
              "    </tr>\n",
              "    <tr>\n",
              "      <th>1813</th>\n",
              "      <td>394366</td>\n",
              "      <td>2018-08-13</td>\n",
              "      <td>-0.150021</td>\n",
              "      <td>1</td>\n",
              "    </tr>\n",
              "  </tbody>\n",
              "</table>\n",
              "</div>"
            ],
            "text/plain": [
              "         cid                  date_pred  date_proba  date_match\n",
              "0     118820  [unparsed] 2009 - 08 - 24   -4.604930           0\n",
              "712   366876                 2017-09-29    0.000940           1\n",
              "1193  175077                 2011-08-31   -0.030178           1\n",
              "1760  208309                 2012-08-24   -1.108444           0\n",
              "1813  394366                 2018-08-13   -0.150021           1"
            ]
          },
          "metadata": {
            "tags": []
          },
          "execution_count": 45
        }
      ]
    },
    {
      "cell_type": "code",
      "metadata": {
        "id": "364BvBKDaCo6",
        "colab_type": "code",
        "colab": {
          "base_uri": "https://localhost:8080/",
          "height": 34
        },
        "outputId": "7d4290b3-6d31-4b01-a011-062af1479275"
      },
      "source": [
        "dump(clf, '/content/drive/My Drive/poleval/clf-date-ner2.joblib')"
      ],
      "execution_count": null,
      "outputs": [
        {
          "output_type": "execute_result",
          "data": {
            "text/plain": [
              "['/content/drive/My Drive/poleval/clf-date-ner2.joblib']"
            ]
          },
          "metadata": {
            "tags": []
          },
          "execution_count": 46
        }
      ]
    },
    {
      "cell_type": "code",
      "metadata": {
        "id": "58M9ttYogLuL",
        "colab_type": "code",
        "colab": {
          "base_uri": "https://localhost:8080/",
          "height": 586
        },
        "outputId": "8d45d2fa-7af0-4637-975d-67fb5cbbfc2f"
      },
      "source": [
        "#dfpf: df chunks period from\n",
        "dfpf = df_chunks[['cid', 'period_from_pred', 'period_logits', 'period_from_match', 'company_logits']]\n",
        "dfpf.fillna(0, inplace=True)\n",
        "y = dfpf['period_from_match'][dfpf['period_logits'] != 0]\n",
        "X = dfpf.drop(['cid', 'period_from_pred', 'period_from_match'], axis=1)[dfpf['period_logits'] != 0]\n",
        "clf = RandomForestClassifier(oob_score=True)\n",
        "clf.fit(X, y)\n",
        "print(f'OOB Score: {clf.oob_score_}')\n",
        "importances = clf.feature_importances_\n",
        "std = np.std([tree.feature_importances_ for tree in clf.estimators_], axis=0)\n",
        "indices = np.argsort(importances)[::-1]\n",
        "print(\"Feature ranking:\")\n",
        "for f in range(X.shape[1]):\n",
        "    print(\"%d. feature %d : %s (%f)\" % (f + 1, indices[f], X.columns[f], importances[indices[f]]))\n",
        "plt.figure()\n",
        "plt.title(\"Feature importances\")\n",
        "plt.bar(range(X.shape[1]), importances[indices], color=\"r\", yerr=std[indices], align=\"center\")\n",
        "plt.xticks(range(X.shape[1]), indices)\n",
        "plt.xlim([-1, X.shape[1]])\n",
        "plt.show()\n",
        "log_proba = clf.predict_log_proba(X)\n",
        "dfpf['period_from_proba'] = -1000.\n",
        "dfpf['period_from_proba'][dfpf['period_logits'] != 0] = log_proba[:,1]\n",
        "dfpf['period_from_proba'] = dfpf['period_from_proba'].apply(lambda x: x+random.uniform(0, 0.001))\n",
        "idx_max = dfpf.groupby(['cid'])['period_from_proba'].transform(max) == dfpf['period_from_proba']\n",
        "df_period_from = dfpf[['cid','period_from_pred', 'period_from_proba', 'period_from_match']][idx_max].copy()\n",
        "total = len(df_period_from)\n",
        "matches = df_period_from.period_from_match.sum()\n",
        "print(f'Total: {total}, matches: {matches}, accuracy: {round(matches/total, 2)}')\n",
        "period_from_acc = matches/total\n",
        "df_period_from.head()"
      ],
      "execution_count": null,
      "outputs": [
        {
          "output_type": "stream",
          "text": [
            "OOB Score: 0.7484609878310666\n",
            "Feature ranking:\n",
            "1. feature 0 : period_logits (0.984582)\n",
            "2. feature 1 : company_logits (0.015418)\n"
          ],
          "name": "stdout"
        },
        {
          "output_type": "display_data",
          "data": {
            "image/png": "[encoded data removed]",
            "text/plain": [
              "<Figure size 432x288 with 1 Axes>"
            ]
          },
          "metadata": {
            "tags": [],
            "needs_background": "light"
          }
        },
        {
          "output_type": "stream",
          "text": [
            "Total: 554, matches: 432, accuracy: 0.78\n"
          ],
          "name": "stdout"
        },
        {
          "output_type": "stream",
          "text": [
            "/usr/local/lib/python3.6/dist-packages/sklearn/ensemble/_forest.py:704: RuntimeWarning: divide by zero encountered in log\n",
            "  return np.log(proba)\n"
          ],
          "name": "stderr"
        },
        {
          "output_type": "execute_result",
          "data": {
            "text/html": [
              "<div>\n",
              "<style scoped>\n",
              "    .dataframe tbody tr th:only-of-type {\n",
              "        vertical-align: middle;\n",
              "    }\n",
              "\n",
              "    .dataframe tbody tr th {\n",
              "        vertical-align: top;\n",
              "    }\n",
              "\n",
              "    .dataframe thead th {\n",
              "        text-align: right;\n",
              "    }\n",
              "</style>\n",
              "<table border=\"1\" class=\"dataframe\">\n",
              "  <thead>\n",
              "    <tr style=\"text-align: right;\">\n",
              "      <th></th>\n",
              "      <th>cid</th>\n",
              "      <th>period_from_pred</th>\n",
              "      <th>period_from_proba</th>\n",
              "      <th>period_from_match</th>\n",
              "    </tr>\n",
              "  </thead>\n",
              "  <tbody>\n",
              "    <tr>\n",
              "      <th>346</th>\n",
              "      <td>118820</td>\n",
              "      <td>2009-01-01</td>\n",
              "      <td>0.000994</td>\n",
              "      <td>1</td>\n",
              "    </tr>\n",
              "    <tr>\n",
              "      <th>644</th>\n",
              "      <td>366876</td>\n",
              "      <td>2017-01-01</td>\n",
              "      <td>0.000865</td>\n",
              "      <td>1</td>\n",
              "    </tr>\n",
              "    <tr>\n",
              "      <th>1177</th>\n",
              "      <td>175077</td>\n",
              "      <td>2011-01-01</td>\n",
              "      <td>0.000996</td>\n",
              "      <td>1</td>\n",
              "    </tr>\n",
              "    <tr>\n",
              "      <th>1672</th>\n",
              "      <td>208309</td>\n",
              "      <td>2012-01-01</td>\n",
              "      <td>0.000945</td>\n",
              "      <td>1</td>\n",
              "    </tr>\n",
              "    <tr>\n",
              "      <th>1976</th>\n",
              "      <td>394366</td>\n",
              "      <td>0</td>\n",
              "      <td>-999.999001</td>\n",
              "      <td>0</td>\n",
              "    </tr>\n",
              "  </tbody>\n",
              "</table>\n",
              "</div>"
            ],
            "text/plain": [
              "         cid period_from_pred  period_from_proba  period_from_match\n",
              "346   118820       2009-01-01           0.000994                  1\n",
              "644   366876       2017-01-01           0.000865                  1\n",
              "1177  175077       2011-01-01           0.000996                  1\n",
              "1672  208309       2012-01-01           0.000945                  1\n",
              "1976  394366                0        -999.999001                  0"
            ]
          },
          "metadata": {
            "tags": []
          },
          "execution_count": 47
        }
      ]
    },
    {
      "cell_type": "code",
      "metadata": {
        "id": "Viana-f0gLq-",
        "colab_type": "code",
        "colab": {
          "base_uri": "https://localhost:8080/",
          "height": 34
        },
        "outputId": "a9e708c0-7f93-482d-90e8-f783c9cdad8c"
      },
      "source": [
        "dump(clf, '/content/drive/My Drive/poleval/clf-periodfrom-ner2.joblib')"
      ],
      "execution_count": null,
      "outputs": [
        {
          "output_type": "execute_result",
          "data": {
            "text/plain": [
              "['/content/drive/My Drive/poleval/clf-periodfrom-ner2.joblib']"
            ]
          },
          "metadata": {
            "tags": []
          },
          "execution_count": 48
        }
      ]
    },
    {
      "cell_type": "code",
      "metadata": {
        "id": "nAIVO6FugLo4",
        "colab_type": "code",
        "colab": {
          "base_uri": "https://localhost:8080/",
          "height": 586
        },
        "outputId": "0a5ad20e-3d8b-42fc-d0c8-3e72b5dc297e"
      },
      "source": [
        "#dfpt: df chunks period to\n",
        "dfpt = df_chunks[['cid', 'period_to_pred', 'period_logits', 'period_to_match', 'company_logits']]\n",
        "dfpt.fillna(0, inplace=True)\n",
        "y = dfpt['period_to_match'][dfpt['period_logits'] != 0]\n",
        "X = dfpt.drop(['cid', 'period_to_pred', 'period_to_match'], axis=1)[dfpt['period_logits'] != 0]\n",
        "clf = RandomForestClassifier(oob_score=True)\n",
        "clf.fit(X, y)\n",
        "print(f'OOB Score: {clf.oob_score_}')\n",
        "importances = clf.feature_importances_\n",
        "std = np.std([tree.feature_importances_ for tree in clf.estimators_], axis=0)\n",
        "indices = np.argsort(importances)[::-1]\n",
        "print(\"Feature ranking:\")\n",
        "for f in range(X.shape[1]):\n",
        "    print(\"%d. feature %d : %s (%f)\" % (f + 1, indices[f], X.columns[f], importances[indices[f]]))\n",
        "plt.figure()\n",
        "plt.title(\"Feature importances\")\n",
        "plt.bar(range(X.shape[1]), importances[indices], color=\"r\", yerr=std[indices], align=\"center\")\n",
        "plt.xticks(range(X.shape[1]), indices)\n",
        "plt.xlim([-1, X.shape[1]])\n",
        "plt.show()\n",
        "log_proba = clf.predict_log_proba(X)\n",
        "dfpt['period_to_proba'] = -1000.\n",
        "dfpt['period_to_proba'][dfpt['period_logits'] != 0] = log_proba[:,1]\n",
        "dfpt['period_to_proba'] = dfpt['period_to_proba'].apply(lambda x: x+random.uniform(0, 0.001))\n",
        "idx_max = dfpt.groupby(['cid'])['period_to_proba'].transform(max) == dfpt['period_to_proba']\n",
        "df_period_to = dfpt[['cid','period_to_pred', 'period_to_proba', 'period_to_match']][idx_max].copy()\n",
        "total = len(df_period_to)\n",
        "matches = df_period_to.period_to_match.sum()\n",
        "print(f'Total: {total}, matches: {matches}, accuracy: {round(matches/total, 2)}')\n",
        "period_to_acc = matches/total\n",
        "df_period_to.head()"
      ],
      "execution_count": null,
      "outputs": [
        {
          "output_type": "stream",
          "text": [
            "OOB Score: 0.7589835361488905\n",
            "Feature ranking:\n",
            "1. feature 0 : period_logits (0.985018)\n",
            "2. feature 1 : company_logits (0.014982)\n"
          ],
          "name": "stdout"
        },
        {
          "output_type": "display_data",
          "data": {
            "image/png": "[encoded data removed]",
            "text/plain": [
              "<Figure size 432x288 with 1 Axes>"
            ]
          },
          "metadata": {
            "tags": [],
            "needs_background": "light"
          }
        },
        {
          "output_type": "stream",
          "text": [
            "Total: 554, matches: 438, accuracy: 0.79\n"
          ],
          "name": "stdout"
        },
        {
          "output_type": "stream",
          "text": [
            "/usr/local/lib/python3.6/dist-packages/sklearn/ensemble/_forest.py:704: RuntimeWarning: divide by zero encountered in log\n",
            "  return np.log(proba)\n"
          ],
          "name": "stderr"
        },
        {
          "output_type": "execute_result",
          "data": {
            "text/html": [
              "<div>\n",
              "<style scoped>\n",
              "    .dataframe tbody tr th:only-of-type {\n",
              "        vertical-align: middle;\n",
              "    }\n",
              "\n",
              "    .dataframe tbody tr th {\n",
              "        vertical-align: top;\n",
              "    }\n",
              "\n",
              "    .dataframe thead th {\n",
              "        text-align: right;\n",
              "    }\n",
              "</style>\n",
              "<table border=\"1\" class=\"dataframe\">\n",
              "  <thead>\n",
              "    <tr style=\"text-align: right;\">\n",
              "      <th></th>\n",
              "      <th>cid</th>\n",
              "      <th>period_to_pred</th>\n",
              "      <th>period_to_proba</th>\n",
              "      <th>period_to_match</th>\n",
              "    </tr>\n",
              "  </thead>\n",
              "  <tbody>\n",
              "    <tr>\n",
              "      <th>513</th>\n",
              "      <td>118820</td>\n",
              "      <td>2009-06-30</td>\n",
              "      <td>0.000984</td>\n",
              "      <td>1</td>\n",
              "    </tr>\n",
              "    <tr>\n",
              "      <th>642</th>\n",
              "      <td>366876</td>\n",
              "      <td>2017-06-30</td>\n",
              "      <td>0.000927</td>\n",
              "      <td>1</td>\n",
              "    </tr>\n",
              "    <tr>\n",
              "      <th>1169</th>\n",
              "      <td>175077</td>\n",
              "      <td>2011-06-30</td>\n",
              "      <td>0.000923</td>\n",
              "      <td>1</td>\n",
              "    </tr>\n",
              "    <tr>\n",
              "      <th>1505</th>\n",
              "      <td>208309</td>\n",
              "      <td>2012-06-30</td>\n",
              "      <td>0.000912</td>\n",
              "      <td>1</td>\n",
              "    </tr>\n",
              "    <tr>\n",
              "      <th>1880</th>\n",
              "      <td>394366</td>\n",
              "      <td>0</td>\n",
              "      <td>-999.999020</td>\n",
              "      <td>0</td>\n",
              "    </tr>\n",
              "  </tbody>\n",
              "</table>\n",
              "</div>"
            ],
            "text/plain": [
              "         cid period_to_pred  period_to_proba  period_to_match\n",
              "513   118820     2009-06-30         0.000984                1\n",
              "642   366876     2017-06-30         0.000927                1\n",
              "1169  175077     2011-06-30         0.000923                1\n",
              "1505  208309     2012-06-30         0.000912                1\n",
              "1880  394366              0      -999.999020                0"
            ]
          },
          "metadata": {
            "tags": []
          },
          "execution_count": 49
        }
      ]
    },
    {
      "cell_type": "code",
      "metadata": {
        "id": "-tts89lBgLmt",
        "colab_type": "code",
        "colab": {
          "base_uri": "https://localhost:8080/",
          "height": 34
        },
        "outputId": "658a7937-cea8-4d2b-b4be-48c2145bdfb0"
      },
      "source": [
        "dump(clf, '/content/drive/My Drive/poleval/clf-periodto-ner2.joblib')"
      ],
      "execution_count": null,
      "outputs": [
        {
          "output_type": "execute_result",
          "data": {
            "text/plain": [
              "['/content/drive/My Drive/poleval/clf-periodto-ner2.joblib']"
            ]
          },
          "metadata": {
            "tags": []
          },
          "execution_count": 50
        }
      ]
    },
    {
      "cell_type": "markdown",
      "metadata": {
        "id": "N4vOAPyzobnl",
        "colab_type": "text"
      },
      "source": [
        "### People"
      ]
    },
    {
      "cell_type": "code",
      "metadata": {
        "id": "JcCcwGo8scFY",
        "colab_type": "code",
        "colab": {
          "base_uri": "https://localhost:8080/",
          "height": 604
        },
        "outputId": "9ec15165-9823-42fe-d6f8-1df1c1f8ea59"
      },
      "source": [
        "#dfp: df chunks people\n",
        "dfp = df_chunks[['cid', 'people_pred', 'people_act', 'city_logits', 'company_logits', 'date_logits', 'period_logits']]\n",
        "dfp['len_pred'] = dfp['people_pred'].apply(lambda r: len(ast.literal_eval(r)))\n",
        "dfp['score'] = dfp[['people_act', 'people_pred']].apply(people_score, axis=1)\n",
        "dfp.fillna(0, inplace=True)\n",
        "y = dfp['score'][dfp['score'] != 0]\n",
        "X = dfp.drop(['cid', 'score', 'people_pred', 'people_act'], axis=1)[dfp['score'] != 0]\n",
        "reg = RandomForestRegressor(oob_score=True)\n",
        "reg.fit(X, y)\n",
        "print(f'OOB Score: {reg.oob_score_}')\n",
        "importances = reg.feature_importances_\n",
        "std = np.std([tree.feature_importances_ for tree in reg.estimators_], axis=0)\n",
        "indices = np.argsort(importances)[::-1]\n",
        "print(\"Feature ranking:\")\n",
        "for f in range(X.shape[1]):\n",
        "    print(\"%d. feature %d : %s (%f)\" % (f + 1, indices[f], X.columns[f], importances[indices[f]]))\n",
        "plt.figure()\n",
        "plt.title(\"Feature importances\")\n",
        "plt.bar(range(X.shape[1]), importances[indices], color=\"r\", yerr=std[indices], align=\"center\")\n",
        "plt.xticks(range(X.shape[1]), indices)\n",
        "plt.xlim([-1, X.shape[1]])\n",
        "plt.show()\n",
        "pred_score = reg.predict(X)\n",
        "dfp['pred_score'] = -1.\n",
        "dfp['pred_score'][dfp['score'] != 0] = pred_score\n",
        "dfp['pred_score'] = dfp['pred_score'].apply(lambda x: x+random.uniform(0, 0.0001))\n",
        "idx_max = dfp.groupby(['cid'])['pred_score'].transform(max) == dfp['pred_score']\n",
        "df_people = dfp[['cid', 'people_pred', 'pred_score', 'score']][idx_max].copy()\n",
        "df_people_corr = pd.merge(df_date[['cid','date_pred']], df_people[['cid', 'people_pred', 'pred_score', 'score']], on='cid')\n",
        "df_people_corr['people_corr'] = df_people_corr.apply(lambda t: str(t.people_pred).replace('[unparsed]', t.date_pred), axis=1)\n",
        "total = len(df_people)\n",
        "mean_score = df_people.score.mean()\n",
        "print(f'Total: {total}, mean score: {mean_score}')\n",
        "people_acc = mean_score\n",
        "df_people_corr.head()"
      ],
      "execution_count": null,
      "outputs": [
        {
          "output_type": "stream",
          "text": [
            "OOB Score: 0.11506425004644372\n",
            "Feature ranking:\n",
            "1. feature 0 : city_logits (0.269595)\n",
            "2. feature 4 : company_logits (0.267716)\n",
            "3. feature 3 : date_logits (0.256919)\n",
            "4. feature 2 : period_logits (0.176548)\n",
            "5. feature 1 : len_pred (0.029221)\n"
          ],
          "name": "stdout"
        },
        {
          "output_type": "display_data",
          "data": {
            "image/png": "[encoded data removed]",
            "text/plain": [
              "<Figure size 432x288 with 1 Axes>"
            ]
          },
          "metadata": {
            "tags": [],
            "needs_background": "light"
          }
        },
        {
          "output_type": "stream",
          "text": [
            "Total: 554, mean score: 0.7330744575015493\n"
          ],
          "name": "stdout"
        },
        {
          "output_type": "execute_result",
          "data": {
            "text/html": [
              "<div>\n",
              "<style scoped>\n",
              "    .dataframe tbody tr th:only-of-type {\n",
              "        vertical-align: middle;\n",
              "    }\n",
              "\n",
              "    .dataframe tbody tr th {\n",
              "        vertical-align: top;\n",
              "    }\n",
              "\n",
              "    .dataframe thead th {\n",
              "        text-align: right;\n",
              "    }\n",
              "</style>\n",
              "<table border=\"1\" class=\"dataframe\">\n",
              "  <thead>\n",
              "    <tr style=\"text-align: right;\">\n",
              "      <th></th>\n",
              "      <th>cid</th>\n",
              "      <th>date_pred</th>\n",
              "      <th>people_pred</th>\n",
              "      <th>pred_score</th>\n",
              "      <th>score</th>\n",
              "      <th>people_corr</th>\n",
              "    </tr>\n",
              "  </thead>\n",
              "  <tbody>\n",
              "    <tr>\n",
              "      <th>0</th>\n",
              "      <td>118820</td>\n",
              "      <td>[unparsed] 2009 - 08 - 24</td>\n",
              "      <td>[('[unparsed] ', 'Janusz Niedźwiecki', 'Prezes...</td>\n",
              "      <td>0.776714</td>\n",
              "      <td>0.750000</td>\n",
              "      <td>[('[unparsed] 2009 - 08 - 24 ', 'Janusz Niedźw...</td>\n",
              "    </tr>\n",
              "    <tr>\n",
              "      <th>1</th>\n",
              "      <td>366876</td>\n",
              "      <td>2017-09-29</td>\n",
              "      <td>[('2017-09-29', 'Marcin Garus', 'Prezes Zarząd...</td>\n",
              "      <td>0.493423</td>\n",
              "      <td>0.250000</td>\n",
              "      <td>[('2017-09-29', 'Marcin Garus', 'Prezes Zarząd...</td>\n",
              "    </tr>\n",
              "    <tr>\n",
              "      <th>2</th>\n",
              "      <td>175077</td>\n",
              "      <td>2011-08-31</td>\n",
              "      <td>[('[unparsed] ', 'Grzegorz Pilch', '.'), ('[un...</td>\n",
              "      <td>0.460923</td>\n",
              "      <td>0.333333</td>\n",
              "      <td>[('2011-08-31 ', 'Grzegorz Pilch', '.'), ('201...</td>\n",
              "    </tr>\n",
              "    <tr>\n",
              "      <th>3</th>\n",
              "      <td>208309</td>\n",
              "      <td>2012-08-24</td>\n",
              "      <td>[('[unparsed] ', 'Ewa Bobkowska', 'Prezes Zarz...</td>\n",
              "      <td>0.914056</td>\n",
              "      <td>1.000000</td>\n",
              "      <td>[('2012-08-24 ', 'Ewa Bobkowska', 'Prezes Zarz...</td>\n",
              "    </tr>\n",
              "    <tr>\n",
              "      <th>4</th>\n",
              "      <td>394366</td>\n",
              "      <td>2018-08-13</td>\n",
              "      <td>[('[unparsed] ', 'Marek Dworczak', 'Prezes Zar...</td>\n",
              "      <td>0.827568</td>\n",
              "      <td>1.000000</td>\n",
              "      <td>[('2018-08-13 ', 'Marek Dworczak', 'Prezes Zar...</td>\n",
              "    </tr>\n",
              "  </tbody>\n",
              "</table>\n",
              "</div>"
            ],
            "text/plain": [
              "      cid  ...                                        people_corr\n",
              "0  118820  ...  [('[unparsed] 2009 - 08 - 24 ', 'Janusz Niedźw...\n",
              "1  366876  ...  [('2017-09-29', 'Marcin Garus', 'Prezes Zarząd...\n",
              "2  175077  ...  [('2011-08-31 ', 'Grzegorz Pilch', '.'), ('201...\n",
              "3  208309  ...  [('2012-08-24 ', 'Ewa Bobkowska', 'Prezes Zarz...\n",
              "4  394366  ...  [('2018-08-13 ', 'Marek Dworczak', 'Prezes Zar...\n",
              "\n",
              "[5 rows x 6 columns]"
            ]
          },
          "metadata": {
            "tags": []
          },
          "execution_count": 51
        }
      ]
    },
    {
      "cell_type": "code",
      "metadata": {
        "id": "gULrhkxqscB5",
        "colab_type": "code",
        "colab": {
          "base_uri": "https://localhost:8080/",
          "height": 34
        },
        "outputId": "b7c79692-4082-477e-bf8b-427c58bcfb0a"
      },
      "source": [
        "dump(reg, '/content/drive/My Drive/poleval/reg-people-ner2.joblib')"
      ],
      "execution_count": null,
      "outputs": [
        {
          "output_type": "execute_result",
          "data": {
            "text/plain": [
              "['/content/drive/My Drive/poleval/reg-people-ner2.joblib']"
            ]
          },
          "metadata": {
            "tags": []
          },
          "execution_count": 52
        }
      ]
    },
    {
      "cell_type": "code",
      "metadata": {
        "id": "a6APynGJDAuB",
        "colab_type": "code",
        "colab": {}
      },
      "source": [
        ""
      ],
      "execution_count": null,
      "outputs": []
    },
    {
      "cell_type": "code",
      "metadata": {
        "id": "n6pmOzhDw0SP",
        "colab_type": "code",
        "colab": {}
      },
      "source": [
        "#TODO: remove duplicate tuples from people pred, eg:\n",
        "#dfp.loc[1775][1]\n",
        "#[('[unparsed] ', 'Ewa Bobkowska', 'Prezes Zarządu'), ('[unparsed] ', 'Stanisław Lessaer', 'Wiceprezes Zarządu'), ('[unparsed] ', 'Przemysław Żur', 'Wiceprezes Zarządu'), ('[unparsed] ', 'Jarosław Broda', 'Wiceprezes Zarządu'), ('[unparsed] ', 'Ewa Bobkowska', 'Prezes Zarządu'), ('[unparsed] ', 'Stanisław Lessaer', 'Wiceprezes Zarządu'), ('[unparsed] ', 'Przemysław Żur', 'Wiceprezes Zarządu'), ('[unparsed] ', 'Jarosław Broda', '##ceprezes Zarządu')]"
      ],
      "execution_count": null,
      "outputs": []
    },
    {
      "cell_type": "code",
      "metadata": {
        "id": "sTZ8unFwHEfd",
        "colab_type": "code",
        "colab": {}
      },
      "source": [
        "#TODO: join all scores here to track performance across experiments"
      ],
      "execution_count": null,
      "outputs": []
    },
    {
      "cell_type": "markdown",
      "metadata": {
        "id": "TYvwR7TA88Rg",
        "colab_type": "text"
      },
      "source": [
        "# Test Inference"
      ]
    },
    {
      "cell_type": "code",
      "metadata": {
        "id": "CAHPwfgSypxu",
        "colab_type": "code",
        "colab": {}
      },
      "source": [
        "valid_examples, valid_targets, valid_ids = None, None, None\n",
        "df_chunks, df_results = None, None"
      ],
      "execution_count": null,
      "outputs": []
    },
    {
      "cell_type": "code",
      "metadata": {
        "id": "8xKkYHoAypuD",
        "colab_type": "code",
        "colab": {}
      },
      "source": [
        "with open ('/content/drive/My Drive/poleval/test_data_1.pkl', 'rb') as fp:\n",
        "    [test_examples, test_ids] = pickle.load(fp)"
      ],
      "execution_count": null,
      "outputs": []
    },
    {
      "cell_type": "code",
      "metadata": {
        "id": "XwZk-QSQypoo",
        "colab_type": "code",
        "colab": {
          "base_uri": "https://localhost:8080/",
          "height": 66,
          "referenced_widgets": [
            "2c7c636118834bc49a2cc217cb85f76c",
            "7943d2eb85cc4609b1dac5c96894e486",
            "981a851e12954c278d3f2eff90addd50",
            "c8fcd7db9de746968416217693667743",
            "83fd8725ba5344c7b02ee7a193ad43f2",
            "2be3734e2d4b45df9acd4cd19dcce448",
            "b4f3c53a96d347ff898d0abb26545eff",
            "ab786c43b9e84b25a5a138e73a0a4ec1"
          ]
        },
        "outputId": "c504c6f4-3b3a-4647-fae2-bc31e3bcf3d4"
      },
      "source": [
        "test_outputs = run_eval(test_examples, model)"
      ],
      "execution_count": null,
      "outputs": [
        {
          "output_type": "display_data",
          "data": {
            "application/vnd.jupyter.widget-view+json": {
              "model_id": "2c7c636118834bc49a2cc217cb85f76c",
              "version_minor": 0,
              "version_major": 2
            },
            "text/plain": [
              "HBox(children=(FloatProgress(value=0.0, max=55907.0), HTML(value='')))"
            ]
          },
          "metadata": {
            "tags": []
          }
        },
        {
          "output_type": "stream",
          "text": [
            "\n"
          ],
          "name": "stdout"
        }
      ]
    },
    {
      "cell_type": "code",
      "metadata": {
        "id": "uHyBsqTEyplX",
        "colab_type": "code",
        "colab": {}
      },
      "source": [
        "with open('/content/drive/My Drive/poleval/test_outputs_model_ner_2.pkl', 'wb') as fp:\n",
        "    pickle.dump(test_outputs, fp)"
      ],
      "execution_count": null,
      "outputs": []
    },
    {
      "cell_type": "code",
      "metadata": {
        "id": "reozQej7CzSs",
        "colab_type": "code",
        "colab": {
          "base_uri": "https://localhost:8080/",
          "height": 84,
          "referenced_widgets": [
            "0832f7da73d5458a83b796f5872532f3",
            "cfd392060b684dd5a217f48ec7bd4ae8",
            "1acaf0a7f3b24406b1601214553bf58a",
            "310e11d23112442dbd8d8e72ff255e00",
            "d6edca3be4da402d80a3d250f761fd37",
            "f493ba6886624319b4742925870c9548",
            "b87c8c81389a436ab19af30a757b349c",
            "63ae3930ddf7405b923c36de65d66d10"
          ]
        },
        "outputId": "ba9a4bbd-a49b-444a-dbf1-0be6211f1a56"
      },
      "source": [
        "df_results = model_outputs_to_df(test_outputs, test_examples, test_ids, tokenizer)\n",
        "df_results.to_csv('/content/drive/My Drive/poleval/model_ner_2_test_res_allchunks.csv', index=False)"
      ],
      "execution_count": null,
      "outputs": [
        {
          "output_type": "display_data",
          "data": {
            "application/vnd.jupyter.widget-view+json": {
              "model_id": "0832f7da73d5458a83b796f5872532f3",
              "version_minor": 0,
              "version_major": 2
            },
            "text/plain": [
              "HBox(children=(FloatProgress(value=0.0, max=223626.0), HTML(value='')))"
            ]
          },
          "metadata": {
            "tags": []
          }
        },
        {
          "output_type": "stream",
          "text": [
            "\n",
            "Done processing 223626 chunks.\n"
          ],
          "name": "stdout"
        }
      ]
    },
    {
      "cell_type": "code",
      "metadata": {
        "id": "kdzIblIIDLSg",
        "colab_type": "code",
        "colab": {}
      },
      "source": [
        "df_results = pd.read_csv('/content/drive/My Drive/poleval/ner1_test_res_allchunks.csv')"
      ],
      "execution_count": null,
      "outputs": []
    },
    {
      "cell_type": "code",
      "metadata": {
        "id": "OfevqTymCzIv",
        "colab_type": "code",
        "colab": {}
      },
      "source": [
        "df_results['city_pred'], df_results['city_logits'] = zip(*df_results['results'].map(city_pred))\n",
        "df_results['company_pred'], df_results['company_logits'] = zip(*df_results['results'].map(company_pred))\n",
        "df_results['company_pred'] = df_results['company_pred'].apply(lambda t: normalize_company(t))\n",
        "df_results['code_pred'], df_results['code_logits'] = zip(*df_results['results'].map(code_pred))\n",
        "df_results['street_pred'], df_results['number_pred'], df_results['street_number_logits'] = zip(*df_results['results'].map(street_number_pred))\n",
        "df_results['date_pred'], df_results['date_logits'] = zip(*df_results['results'].map(date_pred))\n",
        "df_results['date_pred'] = df_results['date_pred'].apply(lambda r: date_format(r))\n",
        "df_results['period_pred'], df_results['period_logits'] = zip(*df_results['results'].map(period_pred))\n",
        "df_results['period_from_pred'], df_results['period_to_pred'] = zip(*df_results['period_pred'].map(period_format))\n",
        "df_results['person_pred'] = df_results['results'].apply(lambda r: person_pred(r))\n",
        "df_results['role_pred'] = df_results['results'].apply(lambda r: role_pred(r))\n",
        "df_results['people_pred'] = df_results.apply(lambda r: people_format(r.person_pred, r.role_pred, r.date_pred), axis=1)"
      ],
      "execution_count": null,
      "outputs": []
    },
    {
      "cell_type": "code",
      "metadata": {
        "id": "6FHWU9fVpiHW",
        "colab_type": "code",
        "colab": {}
      },
      "source": [
        "df_results.to_csv('/content/drive/My Drive/poleval/model_ner_orig_test_res_allchunks_pp.csv', index=False)"
      ],
      "execution_count": null,
      "outputs": []
    },
    {
      "cell_type": "code",
      "metadata": {
        "id": "vAvx2bcXpiEE",
        "colab_type": "code",
        "colab": {}
      },
      "source": [
        "df_chunks = pd.read_csv('/content/drive/My Drive/poleval/model_ner_orig_test_res_allchunks_pp.csv')"
      ],
      "execution_count": null,
      "outputs": []
    },
    {
      "cell_type": "code",
      "metadata": {
        "id": "9pZ3N_j6ZVss",
        "colab_type": "code",
        "colab": {
          "base_uri": "https://localhost:8080/",
          "height": 251
        },
        "outputId": "89ee0917-d45c-4c0b-a342-be8edb2409c5"
      },
      "source": [
        "# city\n",
        "clf = load('/content/drive/My Drive/poleval/clf-city-ner2.joblib')\n",
        "dfc = df_chunks[['cid', 'city_pred', 'city_logits', 'company_logits', 'code_logits', 'street_number_logits', 'date_logits', 'period_logits']]\n",
        "dfc['num_chunks'] = dfc.groupby(['cid','city_pred'])['city_pred'].transform('count')\n",
        "dfc['avg_logits'] = dfc.groupby(['cid','city_pred'])['city_logits'].transform('mean')\n",
        "dfc.fillna(0, inplace=True)\n",
        "X = dfc.drop(['cid', 'city_pred'], axis=1)[dfc['city_pred'] != 0]\n",
        "log_proba = clf.predict_log_proba(X)\n",
        "dfc['proba'] = -1000.\n",
        "dfc['proba'][dfc['city_pred'] != 0] = log_proba[:,1]\n",
        "dfc['proba'] = dfc['proba'].apply(lambda x: x+random.uniform(0, 0.0001))\n",
        "idx_max = dfc.groupby(['cid'])['proba'].transform(max) == dfc['proba']\n",
        "df_city = dfc[['cid','city_pred']][idx_max].copy()\n",
        "total = len(df_city)\n",
        "print(f'Total: {total}')\n",
        "df_city.head()"
      ],
      "execution_count": null,
      "outputs": [
        {
          "output_type": "stream",
          "text": [
            "Total: 555\n"
          ],
          "name": "stdout"
        },
        {
          "output_type": "stream",
          "text": [
            "/usr/local/lib/python3.6/dist-packages/sklearn/ensemble/_forest.py:704: RuntimeWarning: divide by zero encountered in log\n",
            "  return np.log(proba)\n"
          ],
          "name": "stderr"
        },
        {
          "output_type": "execute_result",
          "data": {
            "text/html": [
              "<div>\n",
              "<style scoped>\n",
              "    .dataframe tbody tr th:only-of-type {\n",
              "        vertical-align: middle;\n",
              "    }\n",
              "\n",
              "    .dataframe tbody tr th {\n",
              "        vertical-align: top;\n",
              "    }\n",
              "\n",
              "    .dataframe thead th {\n",
              "        text-align: right;\n",
              "    }\n",
              "</style>\n",
              "<table border=\"1\" class=\"dataframe\">\n",
              "  <thead>\n",
              "    <tr style=\"text-align: right;\">\n",
              "      <th></th>\n",
              "      <th>cid</th>\n",
              "      <th>city_pred</th>\n",
              "    </tr>\n",
              "  </thead>\n",
              "  <tbody>\n",
              "    <tr>\n",
              "      <th>367</th>\n",
              "      <td>363426</td>\n",
              "      <td>Puławy</td>\n",
              "    </tr>\n",
              "    <tr>\n",
              "      <th>665</th>\n",
              "      <td>330815</td>\n",
              "      <td>Słupsk</td>\n",
              "    </tr>\n",
              "    <tr>\n",
              "      <th>989</th>\n",
              "      <td>143701</td>\n",
              "      <td>Kęty</td>\n",
              "    </tr>\n",
              "    <tr>\n",
              "      <th>1359</th>\n",
              "      <td>395486</td>\n",
              "      <td>Wronki</td>\n",
              "    </tr>\n",
              "    <tr>\n",
              "      <th>1489</th>\n",
              "      <td>365957</td>\n",
              "      <td>Włoszczowa</td>\n",
              "    </tr>\n",
              "  </tbody>\n",
              "</table>\n",
              "</div>"
            ],
            "text/plain": [
              "         cid   city_pred\n",
              "367   363426      Puławy\n",
              "665   330815      Słupsk\n",
              "989   143701        Kęty\n",
              "1359  395486      Wronki\n",
              "1489  365957  Włoszczowa"
            ]
          },
          "metadata": {
            "tags": []
          },
          "execution_count": 57
        }
      ]
    },
    {
      "cell_type": "code",
      "metadata": {
        "id": "f5bnKraIAgWd",
        "colab_type": "code",
        "colab": {
          "base_uri": "https://localhost:8080/",
          "height": 251
        },
        "outputId": "a77c5d7e-324e-4614-991f-29b0a4270373"
      },
      "source": [
        "#company\n",
        "clf = load('/content/drive/My Drive/poleval/clf-company-ner2.joblib')\n",
        "dfco = df_chunks[['cid', 'company_pred', 'company_logits', 'city_logits', 'code_logits']]\n",
        "dfco.fillna(0, inplace=True)\n",
        "X = dfco.drop(['cid', 'company_pred'], axis=1)[dfco['company_pred'] != 0]\n",
        "log_proba = clf.predict_log_proba(X)\n",
        "dfco['company_proba'] = -1000.\n",
        "dfco['company_proba'][dfco['company_pred'] != 0] = log_proba[:,1]\n",
        "dfco['company_proba'] = dfco['company_proba'].apply(lambda x: x+random.uniform(0, 0.0001))\n",
        "idx_max = dfco.groupby(['cid'])['company_proba'].transform(max) == dfco['company_proba']\n",
        "df_company = dfco[['cid','company_pred', 'company_proba']][idx_max].copy()\n",
        "total = len(df_company)\n",
        "print(f'Total: {total}')\n",
        "df_company.head()"
      ],
      "execution_count": null,
      "outputs": [
        {
          "output_type": "stream",
          "text": [
            "Total: 555\n"
          ],
          "name": "stdout"
        },
        {
          "output_type": "stream",
          "text": [
            "/usr/local/lib/python3.6/dist-packages/sklearn/ensemble/_forest.py:704: RuntimeWarning: divide by zero encountered in log\n",
            "  return np.log(proba)\n"
          ],
          "name": "stderr"
        },
        {
          "output_type": "execute_result",
          "data": {
            "text/html": [
              "<div>\n",
              "<style scoped>\n",
              "    .dataframe tbody tr th:only-of-type {\n",
              "        vertical-align: middle;\n",
              "    }\n",
              "\n",
              "    .dataframe tbody tr th {\n",
              "        vertical-align: top;\n",
              "    }\n",
              "\n",
              "    .dataframe thead th {\n",
              "        text-align: right;\n",
              "    }\n",
              "</style>\n",
              "<table border=\"1\" class=\"dataframe\">\n",
              "  <thead>\n",
              "    <tr style=\"text-align: right;\">\n",
              "      <th></th>\n",
              "      <th>cid</th>\n",
              "      <th>company_pred</th>\n",
              "      <th>company_proba</th>\n",
              "    </tr>\n",
              "  </thead>\n",
              "  <tbody>\n",
              "    <tr>\n",
              "      <th>600</th>\n",
              "      <td>363426</td>\n",
              "      <td>0</td>\n",
              "      <td>-999.999900</td>\n",
              "    </tr>\n",
              "    <tr>\n",
              "      <th>649</th>\n",
              "      <td>330815</td>\n",
              "      <td>0</td>\n",
              "      <td>-999.999901</td>\n",
              "    </tr>\n",
              "    <tr>\n",
              "      <th>802</th>\n",
              "      <td>143701</td>\n",
              "      <td>0</td>\n",
              "      <td>-999.999900</td>\n",
              "    </tr>\n",
              "    <tr>\n",
              "      <th>1372</th>\n",
              "      <td>395486</td>\n",
              "      <td>AMICA SA</td>\n",
              "      <td>-0.579755</td>\n",
              "    </tr>\n",
              "    <tr>\n",
              "      <th>1720</th>\n",
              "      <td>365957</td>\n",
              "      <td>ZPUE SA</td>\n",
              "      <td>0.000099</td>\n",
              "    </tr>\n",
              "  </tbody>\n",
              "</table>\n",
              "</div>"
            ],
            "text/plain": [
              "         cid company_pred  company_proba\n",
              "600   363426            0    -999.999900\n",
              "649   330815            0    -999.999901\n",
              "802   143701            0    -999.999900\n",
              "1372  395486     AMICA SA      -0.579755\n",
              "1720  365957      ZPUE SA       0.000099"
            ]
          },
          "metadata": {
            "tags": []
          },
          "execution_count": 58
        }
      ]
    },
    {
      "cell_type": "code",
      "metadata": {
        "id": "NUAhZUgdG_iP",
        "colab_type": "code",
        "colab": {
          "base_uri": "https://localhost:8080/",
          "height": 251
        },
        "outputId": "25324ae5-3ca3-4390-a593-2b4cf638665d"
      },
      "source": [
        "#street\n",
        "clf = load('/content/drive/My Drive/poleval/clf-street-ner2.joblib')\n",
        "dfs = df_chunks[['cid', 'street_pred', 'street_number_logits', 'company_logits', 'code_logits', 'city_logits']]\n",
        "dfs['num_chunks'] = dfs.groupby(['cid','street_pred'])['street_pred'].transform('count')\n",
        "dfs.fillna(0, inplace=True)\n",
        "X = dfs.drop(['cid', 'street_pred'], axis=1)[dfs['street_pred'] != 0]\n",
        "log_proba = clf.predict_log_proba(X)\n",
        "dfs['street_proba'] = -1000.\n",
        "dfs['street_proba'][dfs['street_pred'] != 0] = log_proba[:,1]\n",
        "dfs['street_proba'] = dfs['street_proba'].apply(lambda x: x+random.uniform(0, 0.0001))\n",
        "idx_max = dfs.groupby(['cid'])['street_proba'].transform(max) == dfs['street_proba']\n",
        "df_street = dfs[['cid','street_pred', 'street_proba']][idx_max].copy()\n",
        "total = len(df_street)\n",
        "print(f'Total: {total}')\n",
        "df_street.head()"
      ],
      "execution_count": null,
      "outputs": [
        {
          "output_type": "stream",
          "text": [
            "Total: 555\n"
          ],
          "name": "stdout"
        },
        {
          "output_type": "stream",
          "text": [
            "/usr/local/lib/python3.6/dist-packages/sklearn/ensemble/_forest.py:704: RuntimeWarning: divide by zero encountered in log\n",
            "  return np.log(proba)\n"
          ],
          "name": "stderr"
        },
        {
          "output_type": "execute_result",
          "data": {
            "text/html": [
              "<div>\n",
              "<style scoped>\n",
              "    .dataframe tbody tr th:only-of-type {\n",
              "        vertical-align: middle;\n",
              "    }\n",
              "\n",
              "    .dataframe tbody tr th {\n",
              "        vertical-align: top;\n",
              "    }\n",
              "\n",
              "    .dataframe thead th {\n",
              "        text-align: right;\n",
              "    }\n",
              "</style>\n",
              "<table border=\"1\" class=\"dataframe\">\n",
              "  <thead>\n",
              "    <tr style=\"text-align: right;\">\n",
              "      <th></th>\n",
              "      <th>cid</th>\n",
              "      <th>street_pred</th>\n",
              "      <th>street_proba</th>\n",
              "    </tr>\n",
              "  </thead>\n",
              "  <tbody>\n",
              "    <tr>\n",
              "      <th>129</th>\n",
              "      <td>363426</td>\n",
              "      <td>Al. Tysiąclecia Państwa Polskiego</td>\n",
              "      <td>-0.562113</td>\n",
              "    </tr>\n",
              "    <tr>\n",
              "      <th>666</th>\n",
              "      <td>330815</td>\n",
              "      <td>Owocowa</td>\n",
              "      <td>-0.020149</td>\n",
              "    </tr>\n",
              "    <tr>\n",
              "      <th>1023</th>\n",
              "      <td>143701</td>\n",
              "      <td>Kościuszki</td>\n",
              "      <td>-0.385563</td>\n",
              "    </tr>\n",
              "    <tr>\n",
              "      <th>1120</th>\n",
              "      <td>395486</td>\n",
              "      <td>ul. Mickiewicza</td>\n",
              "      <td>-2.040208</td>\n",
              "    </tr>\n",
              "    <tr>\n",
              "      <th>1487</th>\n",
              "      <td>365957</td>\n",
              "      <td>Jędrzejowska</td>\n",
              "      <td>-0.356619</td>\n",
              "    </tr>\n",
              "  </tbody>\n",
              "</table>\n",
              "</div>"
            ],
            "text/plain": [
              "         cid                        street_pred  street_proba\n",
              "129   363426  Al. Tysiąclecia Państwa Polskiego     -0.562113\n",
              "666   330815                            Owocowa     -0.020149\n",
              "1023  143701                         Kościuszki     -0.385563\n",
              "1120  395486                    ul. Mickiewicza     -2.040208\n",
              "1487  365957                       Jędrzejowska     -0.356619"
            ]
          },
          "metadata": {
            "tags": []
          },
          "execution_count": 59
        }
      ]
    },
    {
      "cell_type": "code",
      "metadata": {
        "id": "MFYZVvUlG_9J",
        "colab_type": "code",
        "colab": {
          "base_uri": "https://localhost:8080/",
          "height": 251
        },
        "outputId": "8e414add-a3b7-48fb-ca02-fb6cb0511341"
      },
      "source": [
        "#number\n",
        "clf = load('/content/drive/My Drive/poleval/clf-number-ner2.joblib')\n",
        "dfs = df_chunks[['cid', 'number_pred', 'street_number_logits', 'company_logits', 'code_logits', 'city_logits']]\n",
        "dfs['num_chunks'] = dfs.groupby(['cid','number_pred'])['number_pred'].transform('count')\n",
        "dfs.fillna(0, inplace=True)\n",
        "X = dfs.drop(['cid', 'number_pred'], axis=1)[dfs['number_pred'] != 0]\n",
        "log_proba = clf.predict_log_proba(X)\n",
        "dfs['number_proba'] = -1000.\n",
        "dfs['number_proba'][dfs['number_pred'] != 0] = log_proba[:,1]\n",
        "dfs['number_proba'] = dfs['number_proba'].apply(lambda x: x+random.uniform(0, 0.0001))\n",
        "idx_max = dfs.groupby(['cid'])['number_proba'].transform(max) == dfs['number_proba']\n",
        "df_number = dfs[['cid','number_pred', 'number_proba']][idx_max].copy()\n",
        "total = len(df_number)\n",
        "print(f'Total: {total}')\n",
        "df_number.head()"
      ],
      "execution_count": null,
      "outputs": [
        {
          "output_type": "stream",
          "text": [
            "Total: 555\n"
          ],
          "name": "stdout"
        },
        {
          "output_type": "stream",
          "text": [
            "/usr/local/lib/python3.6/dist-packages/sklearn/ensemble/_forest.py:704: RuntimeWarning: divide by zero encountered in log\n",
            "  return np.log(proba)\n"
          ],
          "name": "stderr"
        },
        {
          "output_type": "execute_result",
          "data": {
            "text/html": [
              "<div>\n",
              "<style scoped>\n",
              "    .dataframe tbody tr th:only-of-type {\n",
              "        vertical-align: middle;\n",
              "    }\n",
              "\n",
              "    .dataframe tbody tr th {\n",
              "        vertical-align: top;\n",
              "    }\n",
              "\n",
              "    .dataframe thead th {\n",
              "        text-align: right;\n",
              "    }\n",
              "</style>\n",
              "<table border=\"1\" class=\"dataframe\">\n",
              "  <thead>\n",
              "    <tr style=\"text-align: right;\">\n",
              "      <th></th>\n",
              "      <th>cid</th>\n",
              "      <th>number_pred</th>\n",
              "      <th>number_proba</th>\n",
              "    </tr>\n",
              "  </thead>\n",
              "  <tbody>\n",
              "    <tr>\n",
              "      <th>129</th>\n",
              "      <td>363426</td>\n",
              "      <td>13</td>\n",
              "      <td>-0.415461</td>\n",
              "    </tr>\n",
              "    <tr>\n",
              "      <th>666</th>\n",
              "      <td>330815</td>\n",
              "      <td>24</td>\n",
              "      <td>-0.010042</td>\n",
              "    </tr>\n",
              "    <tr>\n",
              "      <th>883</th>\n",
              "      <td>143701</td>\n",
              "      <td>111</td>\n",
              "      <td>-0.186243</td>\n",
              "    </tr>\n",
              "    <tr>\n",
              "      <th>1111</th>\n",
              "      <td>395486</td>\n",
              "      <td>52</td>\n",
              "      <td>-1.771889</td>\n",
              "    </tr>\n",
              "    <tr>\n",
              "      <th>1489</th>\n",
              "      <td>365957</td>\n",
              "      <td>79c</td>\n",
              "      <td>-0.010005</td>\n",
              "    </tr>\n",
              "  </tbody>\n",
              "</table>\n",
              "</div>"
            ],
            "text/plain": [
              "         cid number_pred  number_proba\n",
              "129   363426          13     -0.415461\n",
              "666   330815          24     -0.010042\n",
              "883   143701         111     -0.186243\n",
              "1111  395486          52     -1.771889\n",
              "1489  365957         79c     -0.010005"
            ]
          },
          "metadata": {
            "tags": []
          },
          "execution_count": 60
        }
      ]
    },
    {
      "cell_type": "code",
      "metadata": {
        "id": "J0DebCEcHAZA",
        "colab_type": "code",
        "colab": {
          "base_uri": "https://localhost:8080/",
          "height": 251
        },
        "outputId": "3a52e35d-d3d6-4b20-a86c-810a6866afdd"
      },
      "source": [
        "#code \n",
        "clf = load('/content/drive/My Drive/poleval/clf-code-ner2.joblib')\n",
        "dfcd = df_chunks[['cid', 'code_pred', 'code_logits', 'company_logits', 'street_number_logits', 'city_logits']]\n",
        "dfcd['num_chunks'] = dfcd.groupby(['cid','code_pred'])['code_pred'].transform('count')\n",
        "dfcd.fillna(0, inplace=True)\n",
        "X = dfcd.drop(['cid', 'code_pred'], axis=1)[dfcd['code_pred'] != 0]\n",
        "log_proba = clf.predict_log_proba(X)\n",
        "dfcd['code_proba'] = -1000.\n",
        "dfcd['code_proba'][dfcd['code_pred'] != 0] = log_proba[:,1]\n",
        "dfcd['code_proba'] = dfcd['code_proba'].apply(lambda x: x+random.uniform(0, 0.0001))\n",
        "idx_max = dfcd.groupby(['cid'])['code_proba'].transform(max) == dfcd['code_proba']\n",
        "df_code = dfcd[['cid','code_pred', 'code_proba']][idx_max].copy()\n",
        "total = len(df_code)\n",
        "print(f'Total: {total}')\n",
        "df_code.head()"
      ],
      "execution_count": null,
      "outputs": [
        {
          "output_type": "stream",
          "text": [
            "Total: 555\n"
          ],
          "name": "stdout"
        },
        {
          "output_type": "stream",
          "text": [
            "/usr/local/lib/python3.6/dist-packages/sklearn/ensemble/_forest.py:704: RuntimeWarning: divide by zero encountered in log\n",
            "  return np.log(proba)\n"
          ],
          "name": "stderr"
        },
        {
          "output_type": "execute_result",
          "data": {
            "text/html": [
              "<div>\n",
              "<style scoped>\n",
              "    .dataframe tbody tr th:only-of-type {\n",
              "        vertical-align: middle;\n",
              "    }\n",
              "\n",
              "    .dataframe tbody tr th {\n",
              "        vertical-align: top;\n",
              "    }\n",
              "\n",
              "    .dataframe thead th {\n",
              "        text-align: right;\n",
              "    }\n",
              "</style>\n",
              "<table border=\"1\" class=\"dataframe\">\n",
              "  <thead>\n",
              "    <tr style=\"text-align: right;\">\n",
              "      <th></th>\n",
              "      <th>cid</th>\n",
              "      <th>code_pred</th>\n",
              "      <th>code_proba</th>\n",
              "    </tr>\n",
              "  </thead>\n",
              "  <tbody>\n",
              "    <tr>\n",
              "      <th>598</th>\n",
              "      <td>363426</td>\n",
              "      <td>0</td>\n",
              "      <td>-999.999900</td>\n",
              "    </tr>\n",
              "    <tr>\n",
              "      <th>667</th>\n",
              "      <td>330815</td>\n",
              "      <td>76-200</td>\n",
              "      <td>0.000079</td>\n",
              "    </tr>\n",
              "    <tr>\n",
              "      <th>827</th>\n",
              "      <td>143701</td>\n",
              "      <td>0</td>\n",
              "      <td>-999.999900</td>\n",
              "    </tr>\n",
              "    <tr>\n",
              "      <th>1116</th>\n",
              "      <td>395486</td>\n",
              "      <td>61-131</td>\n",
              "      <td>0.000089</td>\n",
              "    </tr>\n",
              "    <tr>\n",
              "      <th>1489</th>\n",
              "      <td>365957</td>\n",
              "      <td>29-100</td>\n",
              "      <td>-0.030414</td>\n",
              "    </tr>\n",
              "  </tbody>\n",
              "</table>\n",
              "</div>"
            ],
            "text/plain": [
              "         cid code_pred  code_proba\n",
              "598   363426         0 -999.999900\n",
              "667   330815    76-200    0.000079\n",
              "827   143701         0 -999.999900\n",
              "1116  395486    61-131    0.000089\n",
              "1489  365957    29-100   -0.030414"
            ]
          },
          "metadata": {
            "tags": []
          },
          "execution_count": 61
        }
      ]
    },
    {
      "cell_type": "code",
      "metadata": {
        "id": "Lp7xZvCjHAlW",
        "colab_type": "code",
        "colab": {
          "base_uri": "https://localhost:8080/",
          "height": 251
        },
        "outputId": "cbecbf70-eb2f-4749-db9d-0212a298f064"
      },
      "source": [
        "#date\n",
        "clf = load('/content/drive/My Drive/poleval/clf-date-ner2.joblib')\n",
        "dfd = df_chunks[['cid', 'date_pred', 'date_logits', 'company_logits', 'code_logits', 'street_number_logits', 'city_logits', 'period_logits']]\n",
        "dfd['num_chunks'] = dfd.groupby(['cid','date_pred'])['date_pred'].transform('count')\n",
        "dfd.fillna(0, inplace=True)\n",
        "X = dfd.drop(['cid', 'date_pred'], axis=1)[dfd['date_logits'] != 0]\n",
        "log_proba = clf.predict_log_proba(X)\n",
        "dfd['date_proba'] = -1000.\n",
        "dfd['date_proba'][dfd['date_logits'] != 0] = log_proba[:,1]\n",
        "dfd['date_proba'] = dfd['date_proba'].apply(lambda x: x+random.uniform(0, 0.001))\n",
        "idx_max = dfd.groupby(['cid'])['date_proba'].transform(max) == dfd['date_proba']\n",
        "df_date = dfd[['cid','date_pred', 'date_proba']][idx_max].copy()\n",
        "total = len(df_date)\n",
        "print(f'Total: {total}')\n",
        "df_date.head()"
      ],
      "execution_count": null,
      "outputs": [
        {
          "output_type": "stream",
          "text": [
            "Total: 555\n"
          ],
          "name": "stdout"
        },
        {
          "output_type": "stream",
          "text": [
            "/usr/local/lib/python3.6/dist-packages/sklearn/ensemble/_forest.py:704: RuntimeWarning: divide by zero encountered in log\n",
            "  return np.log(proba)\n"
          ],
          "name": "stderr"
        },
        {
          "output_type": "execute_result",
          "data": {
            "text/html": [
              "<div>\n",
              "<style scoped>\n",
              "    .dataframe tbody tr th:only-of-type {\n",
              "        vertical-align: middle;\n",
              "    }\n",
              "\n",
              "    .dataframe tbody tr th {\n",
              "        vertical-align: top;\n",
              "    }\n",
              "\n",
              "    .dataframe thead th {\n",
              "        text-align: right;\n",
              "    }\n",
              "</style>\n",
              "<table border=\"1\" class=\"dataframe\">\n",
              "  <thead>\n",
              "    <tr style=\"text-align: right;\">\n",
              "      <th></th>\n",
              "      <th>cid</th>\n",
              "      <th>date_pred</th>\n",
              "      <th>date_proba</th>\n",
              "    </tr>\n",
              "  </thead>\n",
              "  <tbody>\n",
              "    <tr>\n",
              "      <th>153</th>\n",
              "      <td>363426</td>\n",
              "      <td>2017-08-22</td>\n",
              "      <td>-0.328145</td>\n",
              "    </tr>\n",
              "    <tr>\n",
              "      <th>733</th>\n",
              "      <td>330815</td>\n",
              "      <td>2016-08-30</td>\n",
              "      <td>-0.094235</td>\n",
              "    </tr>\n",
              "    <tr>\n",
              "      <th>867</th>\n",
              "      <td>143701</td>\n",
              "      <td>2010-08-12</td>\n",
              "      <td>0.000758</td>\n",
              "    </tr>\n",
              "    <tr>\n",
              "      <th>1167</th>\n",
              "      <td>395486</td>\n",
              "      <td>2018-08-30</td>\n",
              "      <td>-0.072098</td>\n",
              "    </tr>\n",
              "    <tr>\n",
              "      <th>1652</th>\n",
              "      <td>365957</td>\n",
              "      <td>2017-09-15</td>\n",
              "      <td>-0.370795</td>\n",
              "    </tr>\n",
              "  </tbody>\n",
              "</table>\n",
              "</div>"
            ],
            "text/plain": [
              "         cid   date_pred  date_proba\n",
              "153   363426  2017-08-22   -0.328145\n",
              "733   330815  2016-08-30   -0.094235\n",
              "867   143701  2010-08-12    0.000758\n",
              "1167  395486  2018-08-30   -0.072098\n",
              "1652  365957  2017-09-15   -0.370795"
            ]
          },
          "metadata": {
            "tags": []
          },
          "execution_count": 62
        }
      ]
    },
    {
      "cell_type": "code",
      "metadata": {
        "id": "Rm92myGZHAwS",
        "colab_type": "code",
        "colab": {
          "base_uri": "https://localhost:8080/",
          "height": 251
        },
        "outputId": "97f47968-864b-4db5-c88a-25fbf44f8683"
      },
      "source": [
        "#period_from\n",
        "clf = load('/content/drive/My Drive/poleval/clf-periodfrom-ner2.joblib')\n",
        "dfpf = df_chunks[['cid', 'period_from_pred', 'period_logits', 'company_logits']]\n",
        "dfpf.fillna(0, inplace=True)\n",
        "X = dfpf.drop(['cid', 'period_from_pred'], axis=1)[dfpf['period_logits'] != 0]\n",
        "log_proba = clf.predict_log_proba(X)\n",
        "dfpf['period_from_proba'] = -1000.\n",
        "dfpf['period_from_proba'][dfpf['period_logits'] != 0] = log_proba[:,1]\n",
        "dfpf['period_from_proba'] = dfpf['period_from_proba'].apply(lambda x: x+random.uniform(0, 0.001))\n",
        "idx_max = dfpf.groupby(['cid'])['period_from_proba'].transform(max) == dfpf['period_from_proba']\n",
        "df_period_from = dfpf[['cid','period_from_pred', 'period_from_proba']][idx_max].copy()\n",
        "total = len(df_period_from)\n",
        "print(f'Total: {total}')\n",
        "df_period_from.head()"
      ],
      "execution_count": null,
      "outputs": [
        {
          "output_type": "stream",
          "text": [
            "Total: 555\n"
          ],
          "name": "stdout"
        },
        {
          "output_type": "stream",
          "text": [
            "/usr/local/lib/python3.6/dist-packages/sklearn/ensemble/_forest.py:704: RuntimeWarning: divide by zero encountered in log\n",
            "  return np.log(proba)\n"
          ],
          "name": "stderr"
        },
        {
          "output_type": "execute_result",
          "data": {
            "text/html": [
              "<div>\n",
              "<style scoped>\n",
              "    .dataframe tbody tr th:only-of-type {\n",
              "        vertical-align: middle;\n",
              "    }\n",
              "\n",
              "    .dataframe tbody tr th {\n",
              "        vertical-align: top;\n",
              "    }\n",
              "\n",
              "    .dataframe thead th {\n",
              "        text-align: right;\n",
              "    }\n",
              "</style>\n",
              "<table border=\"1\" class=\"dataframe\">\n",
              "  <thead>\n",
              "    <tr style=\"text-align: right;\">\n",
              "      <th></th>\n",
              "      <th>cid</th>\n",
              "      <th>period_from_pred</th>\n",
              "      <th>period_from_proba</th>\n",
              "    </tr>\n",
              "  </thead>\n",
              "  <tbody>\n",
              "    <tr>\n",
              "      <th>41</th>\n",
              "      <td>363426</td>\n",
              "      <td>2017-01-01</td>\n",
              "      <td>0.000730</td>\n",
              "    </tr>\n",
              "    <tr>\n",
              "      <th>746</th>\n",
              "      <td>330815</td>\n",
              "      <td>2016-01-01</td>\n",
              "      <td>0.000969</td>\n",
              "    </tr>\n",
              "    <tr>\n",
              "      <th>996</th>\n",
              "      <td>143701</td>\n",
              "      <td>2009-01-01</td>\n",
              "      <td>0.000856</td>\n",
              "    </tr>\n",
              "    <tr>\n",
              "      <th>1412</th>\n",
              "      <td>395486</td>\n",
              "      <td>2018-01-01</td>\n",
              "      <td>0.000986</td>\n",
              "    </tr>\n",
              "    <tr>\n",
              "      <th>1789</th>\n",
              "      <td>365957</td>\n",
              "      <td>2017-01-01</td>\n",
              "      <td>0.000980</td>\n",
              "    </tr>\n",
              "  </tbody>\n",
              "</table>\n",
              "</div>"
            ],
            "text/plain": [
              "         cid period_from_pred  period_from_proba\n",
              "41    363426       2017-01-01           0.000730\n",
              "746   330815       2016-01-01           0.000969\n",
              "996   143701       2009-01-01           0.000856\n",
              "1412  395486       2018-01-01           0.000986\n",
              "1789  365957       2017-01-01           0.000980"
            ]
          },
          "metadata": {
            "tags": []
          },
          "execution_count": 63
        }
      ]
    },
    {
      "cell_type": "code",
      "metadata": {
        "id": "UuB2Fz2jHBBp",
        "colab_type": "code",
        "colab": {
          "base_uri": "https://localhost:8080/",
          "height": 251
        },
        "outputId": "d298e649-7bcd-4337-a2dc-276730ad5dc1"
      },
      "source": [
        "#period_to\n",
        "clf = load('/content/drive/My Drive/poleval/clf-periodto-ner2.joblib')\n",
        "dfpt = df_chunks[['cid', 'period_to_pred', 'period_logits', 'company_logits']]\n",
        "dfpt.fillna(0, inplace=True)\n",
        "X = dfpt.drop(['cid', 'period_to_pred'], axis=1)[dfpt['period_logits'] != 0]\n",
        "log_proba = clf.predict_log_proba(X)\n",
        "dfpt['period_to_proba'] = -1000.\n",
        "dfpt['period_to_proba'][dfpt['period_logits'] != 0] = log_proba[:,1]\n",
        "dfpt['period_to_proba'] = dfpt['period_to_proba'].apply(lambda x: x+random.uniform(0, 0.001))\n",
        "idx_max = dfpt.groupby(['cid'])['period_to_proba'].transform(max) == dfpt['period_to_proba']\n",
        "df_period_to = dfpt[['cid','period_to_pred', 'period_to_proba']][idx_max].copy()\n",
        "total = len(df_period_to)\n",
        "print(f'Total: {total}')\n",
        "df_period_to.head()"
      ],
      "execution_count": null,
      "outputs": [
        {
          "output_type": "stream",
          "text": [
            "Total: 555\n"
          ],
          "name": "stdout"
        },
        {
          "output_type": "stream",
          "text": [
            "/usr/local/lib/python3.6/dist-packages/sklearn/ensemble/_forest.py:704: RuntimeWarning: divide by zero encountered in log\n",
            "  return np.log(proba)\n"
          ],
          "name": "stderr"
        },
        {
          "output_type": "execute_result",
          "data": {
            "text/html": [
              "<div>\n",
              "<style scoped>\n",
              "    .dataframe tbody tr th:only-of-type {\n",
              "        vertical-align: middle;\n",
              "    }\n",
              "\n",
              "    .dataframe tbody tr th {\n",
              "        vertical-align: top;\n",
              "    }\n",
              "\n",
              "    .dataframe thead th {\n",
              "        text-align: right;\n",
              "    }\n",
              "</style>\n",
              "<table border=\"1\" class=\"dataframe\">\n",
              "  <thead>\n",
              "    <tr style=\"text-align: right;\">\n",
              "      <th></th>\n",
              "      <th>cid</th>\n",
              "      <th>period_to_pred</th>\n",
              "      <th>period_to_proba</th>\n",
              "    </tr>\n",
              "  </thead>\n",
              "  <tbody>\n",
              "    <tr>\n",
              "      <th>41</th>\n",
              "      <td>363426</td>\n",
              "      <td>2017-06-30</td>\n",
              "      <td>0.000977</td>\n",
              "    </tr>\n",
              "    <tr>\n",
              "      <th>773</th>\n",
              "      <td>330815</td>\n",
              "      <td>2016-06-30</td>\n",
              "      <td>0.000953</td>\n",
              "    </tr>\n",
              "    <tr>\n",
              "      <th>999</th>\n",
              "      <td>143701</td>\n",
              "      <td>2010-06-30</td>\n",
              "      <td>0.000929</td>\n",
              "    </tr>\n",
              "    <tr>\n",
              "      <th>1410</th>\n",
              "      <td>395486</td>\n",
              "      <td>2018-06-30</td>\n",
              "      <td>0.000979</td>\n",
              "    </tr>\n",
              "    <tr>\n",
              "      <th>1739</th>\n",
              "      <td>365957</td>\n",
              "      <td>2017-06-30</td>\n",
              "      <td>0.000991</td>\n",
              "    </tr>\n",
              "  </tbody>\n",
              "</table>\n",
              "</div>"
            ],
            "text/plain": [
              "         cid period_to_pred  period_to_proba\n",
              "41    363426     2017-06-30         0.000977\n",
              "773   330815     2016-06-30         0.000953\n",
              "999   143701     2010-06-30         0.000929\n",
              "1410  395486     2018-06-30         0.000979\n",
              "1739  365957     2017-06-30         0.000991"
            ]
          },
          "metadata": {
            "tags": []
          },
          "execution_count": 64
        }
      ]
    },
    {
      "cell_type": "code",
      "metadata": {
        "id": "seEOyrEhHBYA",
        "colab_type": "code",
        "colab": {
          "base_uri": "https://localhost:8080/",
          "height": 215
        },
        "outputId": "e7df9dc4-0ad4-4140-ff7d-ce5688d5f830"
      },
      "source": [
        "#people\n",
        "reg = load('/content/drive/My Drive/poleval/reg-people-ner2.joblib')\n",
        "dfp = df_chunks[['cid', 'people_pred', 'city_logits', 'company_logits', 'date_logits', 'period_logits']]\n",
        "dfp['len_pred'] = dfp['people_pred'].apply(lambda r: len(ast.literal_eval(r)))\n",
        "dfp.fillna(0, inplace=True)\n",
        "X = dfp.drop(['cid', 'people_pred'], axis=1)[dfp['people_pred'] != '[]']\n",
        "pred_score = reg.predict(X)\n",
        "dfp['pred_score'] = -10\n",
        "dfp['pred_score'][dfp['people_pred'] != '[]'] = pred_score\n",
        "dfp['pred_score'] = dfp['pred_score'].apply(lambda x: x+random.uniform(0, 0.0001))\n",
        "idx_max = dfp.groupby(['cid'])['pred_score'].transform(max) == dfp['pred_score']\n",
        "df_people = dfp[['cid', 'people_pred', 'pred_score']][idx_max].copy()\n",
        "df_people_corr = pd.merge(df_date[['cid','date_pred']], df_people[['cid', 'people_pred', 'pred_score']], on='cid')\n",
        "df_people_corr['people_corr'] = df_people_corr.apply(lambda t: str(t.people_pred).replace('[unparsed]', t.date_pred), axis=1)\n",
        "total = len(df_people_corr)\n",
        "print(f'Total: {total}')\n",
        "df_people_corr.head()"
      ],
      "execution_count": null,
      "outputs": [
        {
          "output_type": "stream",
          "text": [
            "Total: 555\n"
          ],
          "name": "stdout"
        },
        {
          "output_type": "execute_result",
          "data": {
            "text/html": [
              "<div>\n",
              "<style scoped>\n",
              "    .dataframe tbody tr th:only-of-type {\n",
              "        vertical-align: middle;\n",
              "    }\n",
              "\n",
              "    .dataframe tbody tr th {\n",
              "        vertical-align: top;\n",
              "    }\n",
              "\n",
              "    .dataframe thead th {\n",
              "        text-align: right;\n",
              "    }\n",
              "</style>\n",
              "<table border=\"1\" class=\"dataframe\">\n",
              "  <thead>\n",
              "    <tr style=\"text-align: right;\">\n",
              "      <th></th>\n",
              "      <th>cid</th>\n",
              "      <th>date_pred</th>\n",
              "      <th>people_pred</th>\n",
              "      <th>pred_score</th>\n",
              "      <th>people_corr</th>\n",
              "    </tr>\n",
              "  </thead>\n",
              "  <tbody>\n",
              "    <tr>\n",
              "      <th>0</th>\n",
              "      <td>363426</td>\n",
              "      <td>2017-08-22</td>\n",
              "      <td>[('[unparsed] ', 'Jacek Janiszek', 'Prezes Zar...</td>\n",
              "      <td>0.000093</td>\n",
              "      <td>[('2017-08-22 ', 'Jacek Janiszek', 'Prezes Zar...</td>\n",
              "    </tr>\n",
              "    <tr>\n",
              "      <th>1</th>\n",
              "      <td>330815</td>\n",
              "      <td>2016-08-30</td>\n",
              "      <td>[('[unparsed] ', 'Tomasz Malicki', 'Prezes Zar...</td>\n",
              "      <td>0.000095</td>\n",
              "      <td>[('2016-08-30 ', 'Tomasz Malicki', 'Prezes Zar...</td>\n",
              "    </tr>\n",
              "    <tr>\n",
              "      <th>2</th>\n",
              "      <td>143701</td>\n",
              "      <td>2010-08-12</td>\n",
              "      <td>[('2010-08-12', 'Dariusz Mańko', 'Prezes Zarzą...</td>\n",
              "      <td>1.000053</td>\n",
              "      <td>[('2010-08-12', 'Dariusz Mańko', 'Prezes Zarzą...</td>\n",
              "    </tr>\n",
              "    <tr>\n",
              "      <th>3</th>\n",
              "      <td>395486</td>\n",
              "      <td>2018-08-30</td>\n",
              "      <td>[('2018-08-31', 'Jacek Rutkowski', 'Prezes Zar...</td>\n",
              "      <td>0.000088</td>\n",
              "      <td>[('2018-08-31', 'Jacek Rutkowski', 'Prezes Zar...</td>\n",
              "    </tr>\n",
              "    <tr>\n",
              "      <th>4</th>\n",
              "      <td>365957</td>\n",
              "      <td>2017-09-15</td>\n",
              "      <td>[('[unparsed] ', 'Andrzej Grzybek', 'Prezes Za...</td>\n",
              "      <td>0.000067</td>\n",
              "      <td>[('2017-09-15 ', 'Andrzej Grzybek', 'Prezes Za...</td>\n",
              "    </tr>\n",
              "  </tbody>\n",
              "</table>\n",
              "</div>"
            ],
            "text/plain": [
              "      cid  ...                                        people_corr\n",
              "0  363426  ...  [('2017-08-22 ', 'Jacek Janiszek', 'Prezes Zar...\n",
              "1  330815  ...  [('2016-08-30 ', 'Tomasz Malicki', 'Prezes Zar...\n",
              "2  143701  ...  [('2010-08-12', 'Dariusz Mańko', 'Prezes Zarzą...\n",
              "3  395486  ...  [('2018-08-31', 'Jacek Rutkowski', 'Prezes Zar...\n",
              "4  365957  ...  [('2017-09-15 ', 'Andrzej Grzybek', 'Prezes Za...\n",
              "\n",
              "[5 rows x 5 columns]"
            ]
          },
          "metadata": {
            "tags": []
          },
          "execution_count": 65
        }
      ]
    },
    {
      "cell_type": "code",
      "metadata": {
        "id": "WPTRE3SPHAPg",
        "colab_type": "code",
        "colab": {
          "base_uri": "https://localhost:8080/",
          "height": 197
        },
        "outputId": "ac6507ac-5b7f-4a2e-9684-512a5593e1ff"
      },
      "source": [
        "df_final = pd.merge(df_company[['cid','company_pred']], df_city[['cid', 'city_pred']], on='cid')\n",
        "df_final = df_final.merge(df_code[['cid','code_pred']], on='cid')\n",
        "df_final = df_final.merge(df_street[['cid','street_pred']], on='cid')\n",
        "df_final = df_final.merge(df_number[['cid','number_pred']], on='cid')\n",
        "df_final = df_final.merge(df_date[['cid','date_pred']], on='cid')\n",
        "df_final = df_final.merge(df_period_from[['cid','period_from_pred']], on='cid')\n",
        "df_final = df_final.merge(df_period_to[['cid','period_to_pred']], on='cid')\n",
        "df_final = df_final.merge(df_people_corr[['cid','people_corr']], on='cid')\n",
        "df_final.head()"
      ],
      "execution_count": null,
      "outputs": [
        {
          "output_type": "execute_result",
          "data": {
            "text/html": [
              "<div>\n",
              "<style scoped>\n",
              "    .dataframe tbody tr th:only-of-type {\n",
              "        vertical-align: middle;\n",
              "    }\n",
              "\n",
              "    .dataframe tbody tr th {\n",
              "        vertical-align: top;\n",
              "    }\n",
              "\n",
              "    .dataframe thead th {\n",
              "        text-align: right;\n",
              "    }\n",
              "</style>\n",
              "<table border=\"1\" class=\"dataframe\">\n",
              "  <thead>\n",
              "    <tr style=\"text-align: right;\">\n",
              "      <th></th>\n",
              "      <th>cid</th>\n",
              "      <th>company_pred</th>\n",
              "      <th>city_pred</th>\n",
              "      <th>code_pred</th>\n",
              "      <th>street_pred</th>\n",
              "      <th>number_pred</th>\n",
              "      <th>date_pred</th>\n",
              "      <th>period_from_pred</th>\n",
              "      <th>period_to_pred</th>\n",
              "      <th>people_corr</th>\n",
              "    </tr>\n",
              "  </thead>\n",
              "  <tbody>\n",
              "    <tr>\n",
              "      <th>0</th>\n",
              "      <td>363426</td>\n",
              "      <td>0</td>\n",
              "      <td>Puławy</td>\n",
              "      <td>0</td>\n",
              "      <td>Al. Tysiąclecia Państwa Polskiego</td>\n",
              "      <td>13</td>\n",
              "      <td>2017-08-22</td>\n",
              "      <td>2017-01-01</td>\n",
              "      <td>2017-06-30</td>\n",
              "      <td>[('2017-08-22 ', 'Jacek Janiszek', 'Prezes Zar...</td>\n",
              "    </tr>\n",
              "    <tr>\n",
              "      <th>1</th>\n",
              "      <td>330815</td>\n",
              "      <td>0</td>\n",
              "      <td>Słupsk</td>\n",
              "      <td>76-200</td>\n",
              "      <td>Owocowa</td>\n",
              "      <td>24</td>\n",
              "      <td>2016-08-30</td>\n",
              "      <td>2016-01-01</td>\n",
              "      <td>2016-06-30</td>\n",
              "      <td>[('2016-08-30 ', 'Tomasz Malicki', 'Prezes Zar...</td>\n",
              "    </tr>\n",
              "    <tr>\n",
              "      <th>2</th>\n",
              "      <td>143701</td>\n",
              "      <td>0</td>\n",
              "      <td>Kęty</td>\n",
              "      <td>0</td>\n",
              "      <td>Kościuszki</td>\n",
              "      <td>111</td>\n",
              "      <td>2010-08-12</td>\n",
              "      <td>2009-01-01</td>\n",
              "      <td>2010-06-30</td>\n",
              "      <td>[('2010-08-12', 'Dariusz Mańko', 'Prezes Zarzą...</td>\n",
              "    </tr>\n",
              "    <tr>\n",
              "      <th>3</th>\n",
              "      <td>395486</td>\n",
              "      <td>AMICA SA</td>\n",
              "      <td>Wronki</td>\n",
              "      <td>61-131</td>\n",
              "      <td>ul. Mickiewicza</td>\n",
              "      <td>52</td>\n",
              "      <td>2018-08-30</td>\n",
              "      <td>2018-01-01</td>\n",
              "      <td>2018-06-30</td>\n",
              "      <td>[('2018-08-31', 'Jacek Rutkowski', 'Prezes Zar...</td>\n",
              "    </tr>\n",
              "    <tr>\n",
              "      <th>4</th>\n",
              "      <td>365957</td>\n",
              "      <td>ZPUE SA</td>\n",
              "      <td>Włoszczowa</td>\n",
              "      <td>29-100</td>\n",
              "      <td>Jędrzejowska</td>\n",
              "      <td>79c</td>\n",
              "      <td>2017-09-15</td>\n",
              "      <td>2017-01-01</td>\n",
              "      <td>2017-06-30</td>\n",
              "      <td>[('2017-09-15 ', 'Andrzej Grzybek', 'Prezes Za...</td>\n",
              "    </tr>\n",
              "  </tbody>\n",
              "</table>\n",
              "</div>"
            ],
            "text/plain": [
              "      cid  ...                                        people_corr\n",
              "0  363426  ...  [('2017-08-22 ', 'Jacek Janiszek', 'Prezes Zar...\n",
              "1  330815  ...  [('2016-08-30 ', 'Tomasz Malicki', 'Prezes Zar...\n",
              "2  143701  ...  [('2010-08-12', 'Dariusz Mańko', 'Prezes Zarzą...\n",
              "3  395486  ...  [('2018-08-31', 'Jacek Rutkowski', 'Prezes Zar...\n",
              "4  365957  ...  [('2017-09-15 ', 'Andrzej Grzybek', 'Prezes Za...\n",
              "\n",
              "[5 rows x 10 columns]"
            ]
          },
          "metadata": {
            "tags": []
          },
          "execution_count": 66
        }
      ]
    },
    {
      "cell_type": "code",
      "metadata": {
        "id": "ZgyZw5nqSY3G",
        "colab_type": "code",
        "colab": {
          "base_uri": "https://localhost:8080/",
          "height": 197
        },
        "outputId": "e162b8e3-eeb8-4fbf-cd22-922f2e4e1e6e"
      },
      "source": [
        "df_final_res = df_final.copy()\n",
        "df_valid = pd.read_csv('/content/drive/My Drive/poleval/ground_truth-validate.csv', sep=';')\n",
        "df_final_res = df_final_res[['cid', 'company_pred', 'date_pred', 'period_from_pred', 'period_to_pred', 'code_pred', 'city_pred', 'street_pred', 'number_pred', 'people_corr']] \n",
        "df_final_res.columns = df_valid.columns\n",
        "df_final_res.head()"
      ],
      "execution_count": null,
      "outputs": [
        {
          "output_type": "execute_result",
          "data": {
            "text/html": [
              "<div>\n",
              "<style scoped>\n",
              "    .dataframe tbody tr th:only-of-type {\n",
              "        vertical-align: middle;\n",
              "    }\n",
              "\n",
              "    .dataframe tbody tr th {\n",
              "        vertical-align: top;\n",
              "    }\n",
              "\n",
              "    .dataframe thead th {\n",
              "        text-align: right;\n",
              "    }\n",
              "</style>\n",
              "<table border=\"1\" class=\"dataframe\">\n",
              "  <thead>\n",
              "    <tr style=\"text-align: right;\">\n",
              "      <th></th>\n",
              "      <th>id</th>\n",
              "      <th>company</th>\n",
              "      <th>drawing_date</th>\n",
              "      <th>period_from</th>\n",
              "      <th>period_to</th>\n",
              "      <th>postal_code</th>\n",
              "      <th>city</th>\n",
              "      <th>street</th>\n",
              "      <th>street_no</th>\n",
              "      <th>people</th>\n",
              "    </tr>\n",
              "  </thead>\n",
              "  <tbody>\n",
              "    <tr>\n",
              "      <th>0</th>\n",
              "      <td>363426</td>\n",
              "      <td>0</td>\n",
              "      <td>2017-08-22</td>\n",
              "      <td>2017-01-01</td>\n",
              "      <td>2017-06-30</td>\n",
              "      <td>0</td>\n",
              "      <td>Puławy</td>\n",
              "      <td>Al. Tysiąclecia Państwa Polskiego</td>\n",
              "      <td>13</td>\n",
              "      <td>[('2017-08-22 ', 'Jacek Janiszek', 'Prezes Zar...</td>\n",
              "    </tr>\n",
              "    <tr>\n",
              "      <th>1</th>\n",
              "      <td>330815</td>\n",
              "      <td>0</td>\n",
              "      <td>2016-08-30</td>\n",
              "      <td>2016-01-01</td>\n",
              "      <td>2016-06-30</td>\n",
              "      <td>76-200</td>\n",
              "      <td>Słupsk</td>\n",
              "      <td>Owocowa</td>\n",
              "      <td>24</td>\n",
              "      <td>[('2016-08-30 ', 'Tomasz Malicki', 'Prezes Zar...</td>\n",
              "    </tr>\n",
              "    <tr>\n",
              "      <th>2</th>\n",
              "      <td>143701</td>\n",
              "      <td>0</td>\n",
              "      <td>2010-08-12</td>\n",
              "      <td>2009-01-01</td>\n",
              "      <td>2010-06-30</td>\n",
              "      <td>0</td>\n",
              "      <td>Kęty</td>\n",
              "      <td>Kościuszki</td>\n",
              "      <td>111</td>\n",
              "      <td>[('2010-08-12', 'Dariusz Mańko', 'Prezes Zarzą...</td>\n",
              "    </tr>\n",
              "    <tr>\n",
              "      <th>3</th>\n",
              "      <td>395486</td>\n",
              "      <td>AMICA SA</td>\n",
              "      <td>2018-08-30</td>\n",
              "      <td>2018-01-01</td>\n",
              "      <td>2018-06-30</td>\n",
              "      <td>61-131</td>\n",
              "      <td>Wronki</td>\n",
              "      <td>ul. Mickiewicza</td>\n",
              "      <td>52</td>\n",
              "      <td>[('2018-08-31', 'Jacek Rutkowski', 'Prezes Zar...</td>\n",
              "    </tr>\n",
              "    <tr>\n",
              "      <th>4</th>\n",
              "      <td>365957</td>\n",
              "      <td>ZPUE SA</td>\n",
              "      <td>2017-09-15</td>\n",
              "      <td>2017-01-01</td>\n",
              "      <td>2017-06-30</td>\n",
              "      <td>29-100</td>\n",
              "      <td>Włoszczowa</td>\n",
              "      <td>Jędrzejowska</td>\n",
              "      <td>79c</td>\n",
              "      <td>[('2017-09-15 ', 'Andrzej Grzybek', 'Prezes Za...</td>\n",
              "    </tr>\n",
              "  </tbody>\n",
              "</table>\n",
              "</div>"
            ],
            "text/plain": [
              "       id  ...                                             people\n",
              "0  363426  ...  [('2017-08-22 ', 'Jacek Janiszek', 'Prezes Zar...\n",
              "1  330815  ...  [('2016-08-30 ', 'Tomasz Malicki', 'Prezes Zar...\n",
              "2  143701  ...  [('2010-08-12', 'Dariusz Mańko', 'Prezes Zarzą...\n",
              "3  395486  ...  [('2018-08-31', 'Jacek Rutkowski', 'Prezes Zar...\n",
              "4  365957  ...  [('2017-09-15 ', 'Andrzej Grzybek', 'Prezes Za...\n",
              "\n",
              "[5 rows x 10 columns]"
            ]
          },
          "metadata": {
            "tags": []
          },
          "execution_count": 67
        }
      ]
    },
    {
      "cell_type": "code",
      "metadata": {
        "id": "bR7BF8seSzdZ",
        "colab_type": "code",
        "colab": {}
      },
      "source": [
        "df_final_res.to_csv('/content/drive/My Drive/poleval/finresult8.csv', index=False)"
      ],
      "execution_count": null,
      "outputs": []
    },
    {
      "cell_type": "code",
      "metadata": {
        "id": "7GKlD_8qS7Cq",
        "colab_type": "code",
        "colab": {}
      },
      "source": [
        "df_final_res.to_csv('finresult8.csv', index=False, sep=';')"
      ],
      "execution_count": null,
      "outputs": []
    },
    {
      "cell_type": "markdown",
      "metadata": {
        "id": "kTupVHEZTS2Z",
        "colab_type": "text"
      },
      "source": [
        "# Convert and submit"
      ]
    },
    {
      "cell_type": "code",
      "metadata": {
        "id": "dz77EJkKS73I",
        "colab_type": "code",
        "colab": {
          "base_uri": "https://localhost:8080/",
          "height": 141
        },
        "outputId": "4a8cb08c-50d8-4ee2-d3af-cfd03ecc6076"
      },
      "source": [
        "!git clone git://gonito.net/poleval-financial-reports-pl"
      ],
      "execution_count": null,
      "outputs": [
        {
          "output_type": "stream",
          "text": [
            "Cloning into 'poleval-financial-reports-pl'...\n",
            "remote: Enumerating objects: 2768, done.\u001b[K\n",
            "remote: Counting objects: 100% (2768/2768), done.\u001b[K\n",
            "remote: Compressing objects: 100% (2753/2753), done.\u001b[K\n",
            "remote: Total 2768 (delta 19), reused 2751 (delta 11), pack-reused 0\n",
            "Receiving objects: 100% (2768/2768), 74.14 MiB | 12.94 MiB/s, done.\n",
            "Resolving deltas: 100% (19/19), done.\n"
          ],
          "name": "stdout"
        }
      ]
    },
    {
      "cell_type": "code",
      "metadata": {
        "id": "E_kgIF0ES7v6",
        "colab_type": "code",
        "colab": {}
      },
      "source": [
        "!python poleval-financial-reports-pl/out-csv-to-tsv.py --csv-file ./finresult8.csv --mapping-file poleval-financial-reports-pl/test-A/file-name-mapping.tsv --in-file poleval-financial-reports-pl/test-A/in.tsv.xz > poleval-financial-reports-pl/test-A/out8.tsv"
      ],
      "execution_count": null,
      "outputs": []
    },
    {
      "cell_type": "code",
      "metadata": {
        "id": "sLzYPFS_S7ta",
        "colab_type": "code",
        "colab": {
          "base_uri": "https://localhost:8080/",
          "height": 125
        },
        "outputId": "7df021c3-9208-420b-9b43-802702a0ff52"
      },
      "source": [
        "!head -n 5 poleval-financial-reports-pl/test-A/out8.tsv"
      ],
      "execution_count": null,
      "outputs": [
        {
          "output_type": "stream",
          "text": [
            "address__city=Kielce address__postal_code=25-528 address__street=Zagnańska address__street_no=27 company=0 drawing_date=[unparsed]_ period_from=2007-01-01 period_to=2007-06-30 person__name=Jarosław_Grodzki person__name=Piotr_Gromniak person__name=Artur_Langner person__name__position=Jarosław_Grodzki__Prezes_Zarządu person__name__position=Piotr_Gromniak__Członek_Zarządu person__name__position=Artur_Langner__Członek_Zarządu person__name__signature_date=Jarosław_Grodzki__[unparsed]__ person__name__signature_date=Piotr_Gromniak__[unparsed]__ person__name__signature_date=Artur_Langner__[unparsed]__ person__position=Prezes_Zarządu person__position=Członek_Zarządu person__position=Członek_Zarządu person__signature_date=[unparsed]__ person__signature_date=[unparsed]__ person__signature_date=[unparsed]__\n",
            "address__city=Warszawa address__postal_code=0 address__street=Pereca address__street_no=21 company=0 drawing_date=2019-08-30 period_from=2019-01-01 period_to=2019-06-30 person__name=Za person__name=##cki person__name__position=Za__Prezes_Zarządu person__name__position=##cki__Dyrektor_Na person__name__signature_date=Za__2019-08-30_ person__name__signature_date=##cki__2019-08-30_ person__position=Prezes_Zarządu person__position=Dyrektor_Na person__signature_date=2019-08-30_ person__signature_date=2019-08-30_\n",
            "address__city=Gdynia address__postal_code=81-310 address__street=Śląska_35_/ address__street_no=37 company=POLNORD_SA drawing_date=[unparsed]_2012_-_08_-_31 period_from=2012-01-01 period_to=2012-06-30 person__name=Andrzej_Podgórski person__name=Michał_Świerczyński person__name=Piotr_Wesołowski person__name__position=Andrzej_Podgórski__Prezes_Zarządu person__name__position=Michał_Świerczyński__Wiceprezes_Zarządu person__name__position=Piotr_Wesołowski__Wiceprezes_Zarządu person__name__signature_date=Andrzej_Podgórski__2012-08-31 person__name__signature_date=Michał_Świerczyński__2012-08-31 person__name__signature_date=Piotr_Wesołowski__2012-08-31 person__position=Prezes_Zarządu person__position=Wiceprezes_Zarządu person__position=Wiceprezes_Zarządu person__signature_date=2012-08-31 person__signature_date=2012-08-31 person__signature_date=2012-08-31\n",
            "address__city=Poznań address__postal_code=0 address__street=Jasielska address__street_no=16 company=PC_GUARD_SA drawing_date=[unparsed]_ period_from=2012-01-01 period_to=2012-06-30 person__name=Grześkowiak person__name__position=Grześkowiak__Prezes_Zarządu person__name__signature_date=Grześkowiak__[unparsed]__ person__position=Prezes_Zarządu person__signature_date=[unparsed]__\n",
            "address__city=Zielona_Góra address__postal_code=65-119 address__street=Sulechowska address__street_no=4a company=ZASTAL_SA drawing_date=[unparsed]_ period_from=2008-01-01 period_to=2008-06-30\n"
          ],
          "name": "stdout"
        }
      ]
    },
    {
      "cell_type": "code",
      "metadata": {
        "id": "DrCY3fooT3D-",
        "colab_type": "code",
        "colab": {}
      },
      "source": [
        "!cp poleval-financial-reports-pl/test-A/out8.tsv /content/drive/My\\ Drive/t4sub"
      ],
      "execution_count": null,
      "outputs": []
    },
    {
      "cell_type": "code",
      "metadata": {
        "id": "ySmrxS5wUQ5U",
        "colab_type": "code",
        "colab": {
          "base_uri": "https://localhost:8080/",
          "height": 16
        },
        "outputId": "c936d729-4ed1-4c7e-b190-b4060c4634b3"
      },
      "source": [
        "files.download('poleval-financial-reports-pl/test-A/out8.tsv')"
      ],
      "execution_count": null,
      "outputs": [
        {
          "output_type": "display_data",
          "data": {
            "application/javascript": [
              "\n",
              "    async function download(id, filename, size) {\n",
              "      if (!google.colab.kernel.accessAllowed) {\n",
              "        return;\n",
              "      }\n",
              "      const div = document.createElement('div');\n",
              "      const label = document.createElement('label');\n",
              "      label.textContent = `Downloading \"${filename}\": `;\n",
              "      div.appendChild(label);\n",
              "      const progress = document.createElement('progress');\n",
              "      progress.max = size;\n",
              "      div.appendChild(progress);\n",
              "      document.body.appendChild(div);\n",
              "\n",
              "      const buffers = [];\n",
              "      let downloaded = 0;\n",
              "\n",
              "      const channel = await google.colab.kernel.comms.open(id);\n",
              "      // Send a message to notify the kernel that we're ready.\n",
              "      channel.send({})\n",
              "\n",
              "      for await (const message of channel.messages) {\n",
              "        // Send a message to notify the kernel that we're ready.\n",
              "        channel.send({})\n",
              "        if (message.buffers) {\n",
              "          for (const buffer of message.buffers) {\n",
              "            buffers.push(buffer);\n",
              "            downloaded += buffer.byteLength;\n",
              "            progress.value = downloaded;\n",
              "          }\n",
              "        }\n",
              "      }\n",
              "      const blob = new Blob(buffers, {type: 'application/binary'});\n",
              "      const a = document.createElement('a');\n",
              "      a.href = window.URL.createObjectURL(blob);\n",
              "      a.download = filename;\n",
              "      div.appendChild(a);\n",
              "      a.click();\n",
              "      div.remove();\n",
              "    }\n",
              "  "
            ],
            "text/plain": [
              "<IPython.core.display.Javascript object>"
            ]
          },
          "metadata": {
            "tags": []
          }
        },
        {
          "output_type": "display_data",
          "data": {
            "application/javascript": [
              "download(\"download_c2199187-b7fe-40df-8da7-e49fb0f1b698\", \"out8.tsv\", 363486)"
            ],
            "text/plain": [
              "<IPython.core.display.Javascript object>"
            ]
          },
          "metadata": {
            "tags": []
          }
        }
      ]
    },
    {
      "cell_type": "code",
      "metadata": {
        "id": "8w-MHQeyUZJv",
        "colab_type": "code",
        "colab": {
          "base_uri": "https://localhost:8080/",
          "height": 197
        },
        "outputId": "600d5ccb-b7cd-4860-e28a-bdcf2c24ea4c"
      },
      "source": [
        "import pandas as pd\n",
        "res = pd.read_csv('/content/drive/My Drive/poleval/finresult8.csv')\n",
        "res.head()"
      ],
      "execution_count": 2,
      "outputs": [
        {
          "output_type": "execute_result",
          "data": {
            "text/html": [
              "<div>\n",
              "<style scoped>\n",
              "    .dataframe tbody tr th:only-of-type {\n",
              "        vertical-align: middle;\n",
              "    }\n",
              "\n",
              "    .dataframe tbody tr th {\n",
              "        vertical-align: top;\n",
              "    }\n",
              "\n",
              "    .dataframe thead th {\n",
              "        text-align: right;\n",
              "    }\n",
              "</style>\n",
              "<table border=\"1\" class=\"dataframe\">\n",
              "  <thead>\n",
              "    <tr style=\"text-align: right;\">\n",
              "      <th></th>\n",
              "      <th>id</th>\n",
              "      <th>company</th>\n",
              "      <th>drawing_date</th>\n",
              "      <th>period_from</th>\n",
              "      <th>period_to</th>\n",
              "      <th>postal_code</th>\n",
              "      <th>city</th>\n",
              "      <th>street</th>\n",
              "      <th>street_no</th>\n",
              "      <th>people</th>\n",
              "    </tr>\n",
              "  </thead>\n",
              "  <tbody>\n",
              "    <tr>\n",
              "      <th>0</th>\n",
              "      <td>363426</td>\n",
              "      <td>0</td>\n",
              "      <td>2017-08-22</td>\n",
              "      <td>2017-01-01</td>\n",
              "      <td>2017-06-30</td>\n",
              "      <td>0</td>\n",
              "      <td>Puławy</td>\n",
              "      <td>Al. Tysiąclecia Państwa Polskiego</td>\n",
              "      <td>13</td>\n",
              "      <td>[('2017-08-22 ', 'Jacek Janiszek', 'Prezes Zar...</td>\n",
              "    </tr>\n",
              "    <tr>\n",
              "      <th>1</th>\n",
              "      <td>330815</td>\n",
              "      <td>0</td>\n",
              "      <td>2016-08-30</td>\n",
              "      <td>2016-01-01</td>\n",
              "      <td>2016-06-30</td>\n",
              "      <td>76-200</td>\n",
              "      <td>Słupsk</td>\n",
              "      <td>Owocowa</td>\n",
              "      <td>24</td>\n",
              "      <td>[('2016-08-30 ', 'Tomasz Malicki', 'Prezes Zar...</td>\n",
              "    </tr>\n",
              "    <tr>\n",
              "      <th>2</th>\n",
              "      <td>143701</td>\n",
              "      <td>0</td>\n",
              "      <td>2010-08-12</td>\n",
              "      <td>2009-01-01</td>\n",
              "      <td>2010-06-30</td>\n",
              "      <td>0</td>\n",
              "      <td>Kęty</td>\n",
              "      <td>Kościuszki</td>\n",
              "      <td>111</td>\n",
              "      <td>[('2010-08-12', 'Dariusz Mańko', 'Prezes Zarzą...</td>\n",
              "    </tr>\n",
              "    <tr>\n",
              "      <th>3</th>\n",
              "      <td>395486</td>\n",
              "      <td>AMICA SA</td>\n",
              "      <td>2018-08-30</td>\n",
              "      <td>2018-01-01</td>\n",
              "      <td>2018-06-30</td>\n",
              "      <td>61-131</td>\n",
              "      <td>Wronki</td>\n",
              "      <td>ul. Mickiewicza</td>\n",
              "      <td>52</td>\n",
              "      <td>[('2018-08-31', 'Jacek Rutkowski', 'Prezes Zar...</td>\n",
              "    </tr>\n",
              "    <tr>\n",
              "      <th>4</th>\n",
              "      <td>365957</td>\n",
              "      <td>ZPUE SA</td>\n",
              "      <td>2017-09-15</td>\n",
              "      <td>2017-01-01</td>\n",
              "      <td>2017-06-30</td>\n",
              "      <td>29-100</td>\n",
              "      <td>Włoszczowa</td>\n",
              "      <td>Jędrzejowska</td>\n",
              "      <td>79c</td>\n",
              "      <td>[('2017-09-15 ', 'Andrzej Grzybek', 'Prezes Za...</td>\n",
              "    </tr>\n",
              "  </tbody>\n",
              "</table>\n",
              "</div>"
            ],
            "text/plain": [
              "       id  ...                                             people\n",
              "0  363426  ...  [('2017-08-22 ', 'Jacek Janiszek', 'Prezes Zar...\n",
              "1  330815  ...  [('2016-08-30 ', 'Tomasz Malicki', 'Prezes Zar...\n",
              "2  143701  ...  [('2010-08-12', 'Dariusz Mańko', 'Prezes Zarzą...\n",
              "3  395486  ...  [('2018-08-31', 'Jacek Rutkowski', 'Prezes Zar...\n",
              "4  365957  ...  [('2017-09-15 ', 'Andrzej Grzybek', 'Prezes Za...\n",
              "\n",
              "[5 rows x 10 columns]"
            ]
          },
          "metadata": {
            "tags": []
          },
          "execution_count": 2
        }
      ]
    },
    {
      "cell_type": "code",
      "metadata": {
        "id": "UVaUQOJTQ7UN",
        "colab_type": "code",
        "colab": {}
      },
      "source": [
        "res.to_csv('/content/drive/My Drive/poleval/final_mbert.csv', index=False, sep=';')"
      ],
      "execution_count": 3,
      "outputs": []
    },
    {
      "cell_type": "code",
      "metadata": {
        "id": "cp4uuzusRaGk",
        "colab_type": "code",
        "colab": {}
      },
      "source": [
        "res.to_csv('final_mbert.csv', index=False, sep=';')"
      ],
      "execution_count": 4,
      "outputs": []
    },
    {
      "cell_type": "code",
      "metadata": {
        "id": "IEfTIqedRNVI",
        "colab_type": "code",
        "colab": {
          "base_uri": "https://localhost:8080/",
          "height": 16
        },
        "outputId": "cf78329d-6e9e-46cd-c9d8-fa1212d7d56a"
      },
      "source": [
        "from google.colab import files\n",
        "files.download('final_mbert.csv')"
      ],
      "execution_count": 6,
      "outputs": [
        {
          "output_type": "display_data",
          "data": {
            "application/javascript": [
              "\n",
              "    async function download(id, filename, size) {\n",
              "      if (!google.colab.kernel.accessAllowed) {\n",
              "        return;\n",
              "      }\n",
              "      const div = document.createElement('div');\n",
              "      const label = document.createElement('label');\n",
              "      label.textContent = `Downloading \"${filename}\": `;\n",
              "      div.appendChild(label);\n",
              "      const progress = document.createElement('progress');\n",
              "      progress.max = size;\n",
              "      div.appendChild(progress);\n",
              "      document.body.appendChild(div);\n",
              "\n",
              "      const buffers = [];\n",
              "      let downloaded = 0;\n",
              "\n",
              "      const channel = await google.colab.kernel.comms.open(id);\n",
              "      // Send a message to notify the kernel that we're ready.\n",
              "      channel.send({})\n",
              "\n",
              "      for await (const message of channel.messages) {\n",
              "        // Send a message to notify the kernel that we're ready.\n",
              "        channel.send({})\n",
              "        if (message.buffers) {\n",
              "          for (const buffer of message.buffers) {\n",
              "            buffers.push(buffer);\n",
              "            downloaded += buffer.byteLength;\n",
              "            progress.value = downloaded;\n",
              "          }\n",
              "        }\n",
              "      }\n",
              "      const blob = new Blob(buffers, {type: 'application/binary'});\n",
              "      const a = document.createElement('a');\n",
              "      a.href = window.URL.createObjectURL(blob);\n",
              "      a.download = filename;\n",
              "      div.appendChild(a);\n",
              "      a.click();\n",
              "      div.remove();\n",
              "    }\n",
              "  "
            ],
            "text/plain": [
              "<IPython.core.display.Javascript object>"
            ]
          },
          "metadata": {
            "tags": []
          }
        },
        {
          "output_type": "display_data",
          "data": {
            "application/javascript": [
              "download(\"download_8235871e-ee5c-4d81-8625-616a4d6d40f6\", \"final_mbert.csv\", 112438)"
            ],
            "text/plain": [
              "<IPython.core.display.Javascript object>"
            ]
          },
          "metadata": {
            "tags": []
          }
        }
      ]
    },
    {
      "cell_type": "code",
      "metadata": {
        "id": "mtY-3VbZRglh",
        "colab_type": "code",
        "colab": {}
      },
      "source": [
        ""
      ],
      "execution_count": null,
      "outputs": []
    }
  ]
}